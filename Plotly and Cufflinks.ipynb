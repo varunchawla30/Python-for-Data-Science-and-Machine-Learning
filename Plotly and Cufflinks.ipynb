{
 "cells": [
  {
   "cell_type": "markdown",
   "metadata": {},
   "source": [
    "### Plotly and Cufflinks"
   ]
  },
  {
   "cell_type": "markdown",
   "metadata": {},
   "source": [
    "Plotly is an interactive visualization library. Cufflinks connects Plotly with Pandas."
   ]
  },
  {
   "cell_type": "code",
   "execution_count": 13,
   "metadata": {},
   "outputs": [],
   "source": [
    "import numpy as np\n",
    "import pandas as pd\n",
    "%matplotlib inline"
   ]
  },
  {
   "cell_type": "code",
   "execution_count": 2,
   "metadata": {},
   "outputs": [],
   "source": [
    "from plotly import __version__"
   ]
  },
  {
   "cell_type": "code",
   "execution_count": 3,
   "metadata": {},
   "outputs": [
    {
     "name": "stdout",
     "output_type": "stream",
     "text": [
      "4.6.0\n"
     ]
    }
   ],
   "source": [
    "print(__version__)"
   ]
  },
  {
   "cell_type": "code",
   "execution_count": 4,
   "metadata": {},
   "outputs": [],
   "source": [
    "import cufflinks as cf"
   ]
  },
  {
   "cell_type": "code",
   "execution_count": 5,
   "metadata": {},
   "outputs": [],
   "source": [
    "from plotly.offline import download_plotlyjs,init_notebook_mode,plot,iplot"
   ]
  },
  {
   "cell_type": "code",
   "execution_count": 6,
   "metadata": {},
   "outputs": [
    {
     "data": {
      "text/html": [
       "        <script type=\"text/javascript\">\n",
       "        window.PlotlyConfig = {MathJaxConfig: 'local'};\n",
       "        if (window.MathJax) {MathJax.Hub.Config({SVG: {font: \"STIX-Web\"}});}\n",
       "        if (typeof require !== 'undefined') {\n",
       "        require.undef(\"plotly\");\n",
       "        requirejs.config({\n",
       "            paths: {\n",
       "                'plotly': ['https://cdn.plot.ly/plotly-latest.min']\n",
       "            }\n",
       "        });\n",
       "        require(['plotly'], function(Plotly) {\n",
       "            window._Plotly = Plotly;\n",
       "        });\n",
       "        }\n",
       "        </script>\n",
       "        "
      ]
     },
     "metadata": {},
     "output_type": "display_data"
    }
   ],
   "source": [
    "init_notebook_mode(connected=True) # This will connect JavaScript to the notebook"
   ]
  },
  {
   "cell_type": "code",
   "execution_count": 7,
   "metadata": {},
   "outputs": [
    {
     "data": {
      "text/html": [
       "        <script type=\"text/javascript\">\n",
       "        window.PlotlyConfig = {MathJaxConfig: 'local'};\n",
       "        if (window.MathJax) {MathJax.Hub.Config({SVG: {font: \"STIX-Web\"}});}\n",
       "        if (typeof require !== 'undefined') {\n",
       "        require.undef(\"plotly\");\n",
       "        requirejs.config({\n",
       "            paths: {\n",
       "                'plotly': ['https://cdn.plot.ly/plotly-latest.min']\n",
       "            }\n",
       "        });\n",
       "        require(['plotly'], function(Plotly) {\n",
       "            window._Plotly = Plotly;\n",
       "        });\n",
       "        }\n",
       "        </script>\n",
       "        "
      ]
     },
     "metadata": {},
     "output_type": "display_data"
    }
   ],
   "source": [
    "cf.go_offline()"
   ]
  },
  {
   "cell_type": "code",
   "execution_count": 8,
   "metadata": {},
   "outputs": [],
   "source": [
    "df1 = pd.DataFrame(np.random.randn(100,4),columns=['A','B','C','D'])"
   ]
  },
  {
   "cell_type": "code",
   "execution_count": 9,
   "metadata": {},
   "outputs": [
    {
     "data": {
      "text/html": [
       "<div>\n",
       "<style scoped>\n",
       "    .dataframe tbody tr th:only-of-type {\n",
       "        vertical-align: middle;\n",
       "    }\n",
       "\n",
       "    .dataframe tbody tr th {\n",
       "        vertical-align: top;\n",
       "    }\n",
       "\n",
       "    .dataframe thead th {\n",
       "        text-align: right;\n",
       "    }\n",
       "</style>\n",
       "<table border=\"1\" class=\"dataframe\">\n",
       "  <thead>\n",
       "    <tr style=\"text-align: right;\">\n",
       "      <th></th>\n",
       "      <th>A</th>\n",
       "      <th>B</th>\n",
       "      <th>C</th>\n",
       "      <th>D</th>\n",
       "    </tr>\n",
       "  </thead>\n",
       "  <tbody>\n",
       "    <tr>\n",
       "      <th>0</th>\n",
       "      <td>1.035504</td>\n",
       "      <td>1.896012</td>\n",
       "      <td>-0.312353</td>\n",
       "      <td>1.050185</td>\n",
       "    </tr>\n",
       "    <tr>\n",
       "      <th>1</th>\n",
       "      <td>1.088445</td>\n",
       "      <td>-0.901389</td>\n",
       "      <td>-0.779291</td>\n",
       "      <td>-0.263162</td>\n",
       "    </tr>\n",
       "    <tr>\n",
       "      <th>2</th>\n",
       "      <td>-0.823822</td>\n",
       "      <td>-1.317933</td>\n",
       "      <td>-0.338238</td>\n",
       "      <td>-1.740304</td>\n",
       "    </tr>\n",
       "    <tr>\n",
       "      <th>3</th>\n",
       "      <td>-1.165409</td>\n",
       "      <td>0.509331</td>\n",
       "      <td>1.542148</td>\n",
       "      <td>-0.492701</td>\n",
       "    </tr>\n",
       "    <tr>\n",
       "      <th>4</th>\n",
       "      <td>0.063142</td>\n",
       "      <td>0.068638</td>\n",
       "      <td>-1.355162</td>\n",
       "      <td>-1.266096</td>\n",
       "    </tr>\n",
       "  </tbody>\n",
       "</table>\n",
       "</div>"
      ],
      "text/plain": [
       "          A         B         C         D\n",
       "0  1.035504  1.896012 -0.312353  1.050185\n",
       "1  1.088445 -0.901389 -0.779291 -0.263162\n",
       "2 -0.823822 -1.317933 -0.338238 -1.740304\n",
       "3 -1.165409  0.509331  1.542148 -0.492701\n",
       "4  0.063142  0.068638 -1.355162 -1.266096"
      ]
     },
     "execution_count": 9,
     "metadata": {},
     "output_type": "execute_result"
    }
   ],
   "source": [
    "df1.head()"
   ]
  },
  {
   "cell_type": "code",
   "execution_count": 10,
   "metadata": {},
   "outputs": [],
   "source": [
    "df2 = pd.DataFrame({'Category':['A','B','C'],'Values':[32,43,50]})"
   ]
  },
  {
   "cell_type": "code",
   "execution_count": 12,
   "metadata": {},
   "outputs": [
    {
     "data": {
      "text/html": [
       "<div>\n",
       "<style scoped>\n",
       "    .dataframe tbody tr th:only-of-type {\n",
       "        vertical-align: middle;\n",
       "    }\n",
       "\n",
       "    .dataframe tbody tr th {\n",
       "        vertical-align: top;\n",
       "    }\n",
       "\n",
       "    .dataframe thead th {\n",
       "        text-align: right;\n",
       "    }\n",
       "</style>\n",
       "<table border=\"1\" class=\"dataframe\">\n",
       "  <thead>\n",
       "    <tr style=\"text-align: right;\">\n",
       "      <th></th>\n",
       "      <th>Category</th>\n",
       "      <th>Values</th>\n",
       "    </tr>\n",
       "  </thead>\n",
       "  <tbody>\n",
       "    <tr>\n",
       "      <th>0</th>\n",
       "      <td>A</td>\n",
       "      <td>32</td>\n",
       "    </tr>\n",
       "    <tr>\n",
       "      <th>1</th>\n",
       "      <td>B</td>\n",
       "      <td>43</td>\n",
       "    </tr>\n",
       "    <tr>\n",
       "      <th>2</th>\n",
       "      <td>C</td>\n",
       "      <td>50</td>\n",
       "    </tr>\n",
       "  </tbody>\n",
       "</table>\n",
       "</div>"
      ],
      "text/plain": [
       "  Category  Values\n",
       "0        A      32\n",
       "1        B      43\n",
       "2        C      50"
      ]
     },
     "execution_count": 12,
     "metadata": {},
     "output_type": "execute_result"
    }
   ],
   "source": [
    "df2"
   ]
  },
  {
   "cell_type": "code",
   "execution_count": 14,
   "metadata": {},
   "outputs": [
    {
     "data": {
      "text/plain": [
       "<matplotlib.axes._subplots.AxesSubplot at 0x227156d99c8>"
      ]
     },
     "execution_count": 14,
     "metadata": {},
     "output_type": "execute_result"
    },
    {
     "data": {
      "image/png": "[encoded data removed]",
      "text/plain": [
       "<Figure size 432x288 with 1 Axes>"
      ]
     },
     "metadata": {
      "needs_background": "light"
     },
     "output_type": "display_data"
    }
   ],
   "source": [
    "df1.plot()"
   ]
  },
  {
   "cell_type": "code",
   "execution_count": 24,
   "metadata": {},
   "outputs": [],
   "source": [
    "# Now, we will make some plots using Plotly"
   ]
  },
  {
   "cell_type": "code",
   "execution_count": 28,
   "metadata": {},
   "outputs": [
    {
     "data": {
      "application/vnd.plotly.v1+json": {
       "config": {
        "linkText": "Export to plot.ly",
        "plotlyServerURL": "https://plot.ly",
        "showLink": true
       },
       "data": [
        {
         "line": {
          "color": "rgba(255, 153, 51, 1.0)",
          "dash": "solid",
          "shape": "linear",
          "width": 1.3
         },
         "mode": "lines",
         "name": "A",
         "text": "",
         "type": "scatter",
         "x": [
          0,
          1,
          2,
          3,
          4,
          5,
          6,
          7,
          8,
          9,
          10,
          11,
          12,
          13,
          14,
          15,
          16,
          17,
          18,
          19,
          20,
          21,
          22,
          23,
          24,
          25,
          26,
          27,
          28,
          29,
          30,
          31,
          32,
          33,
          34,
          35,
          36,
          37,
          38,
          39,
          40,
          41,
          42,
          43,
          44,
          45,
          46,
          47,
          48,
          49,
          50,
          51,
          52,
          53,
          54,
          55,
          56,
          57,
          58,
          59,
          60,
          61,
          62,
          63,
          64,
          65,
          66,
          67,
          68,
          69,
          70,
          71,
          72,
          73,
          74,
          75,
          76,
          77,
          78,
          79,
          80,
          81,
          82,
          83,
          84,
          85,
          86,
          87,
          88,
          89,
          90,
          91,
          92,
          93,
          94,
          95,
          96,
          97,
          98,
          99
         ],
         "y": [
          1.03550403305365,
          1.0884452472323425,
          -0.8238221561084681,
          -1.165409106210997,
          0.06314234757509121,
          0.28403331754428096,
          1.3031142849283257,
          -0.5330006379394974,
          0.9239955720458833,
          -0.3404308950020115,
          0.49705351026645744,
          0.11995406868417582,
          2.8763886700822554,
          0.9193262205319692,
          0.3949826146380539,
          0.1398009361049872,
          -0.2389551947409717,
          1.7631889811772778,
          0.9423296126061489,
          0.6967921196412008,
          -0.5414352907350243,
          -2.036531823296873,
          -0.24433216283716166,
          -0.6095837637269612,
          -0.8657030628068533,
          -1.3290908432224944,
          0.12455980476667877,
          1.0184694806034515,
          -1.183099026560509,
          -1.9117478241953998,
          1.5901480473509917,
          0.036261728019634634,
          -1.4686201375953223,
          0.23850038429899692,
          0.9850551573259738,
          0.2343911390852982,
          1.6218946767897775,
          0.6092426949738955,
          0.4316571530869879,
          -0.3497700989320226,
          0.0630769975004216,
          -1.7473220089492396,
          0.9992032559911043,
          -0.46947268822447513,
          -1.5169497942671446,
          -0.83250174584291,
          -0.4968973159748692,
          -0.961293262106367,
          1.57489946216533,
          0.12352962553924367,
          1.1956965136368198,
          0.2622356680889761,
          -1.3592917794393795,
          -1.3888127276879452,
          -0.4192232294633762,
          0.2162221432499591,
          2.3852910763547004,
          -1.3123647706286883,
          0.2612934369110763,
          0.8613442539868962,
          -2.199294295056723,
          0.586695375572083,
          -0.49651894860239854,
          -0.06531819539664627,
          -1.8735956634836917,
          -0.922282193523706,
          -0.1390551342534496,
          -2.07229926650626,
          -0.3136402802450524,
          1.2721102467999612,
          1.2212916123327877,
          0.4263336106747266,
          -1.3278513626090733,
          -1.4901785369107048,
          0.3370979010819831,
          1.1609741420348372,
          -1.4052615141974583,
          -1.675537604560082,
          -0.8470611330808606,
          0.846711142348439,
          1.6207509512727276,
          0.9628774645331151,
          0.08415610063834954,
          2.0515464720858776,
          0.3989174309260779,
          0.5284312945429028,
          1.316248220757381,
          0.07911639704636868,
          0.5625901301013624,
          0.10809718712260306,
          0.05558043354838223,
          1.653387809021809,
          0.19613717511683407,
          -1.0636425270979382,
          -2.3361375217663913,
          1.170649467749388,
          -1.1175819973708243,
          -0.9877716720625392,
          1.1344780752246988,
          2.753133920603948
         ]
        },
        {
         "line": {
          "color": "rgba(55, 128, 191, 1.0)",
          "dash": "solid",
          "shape": "linear",
          "width": 1.3
         },
         "mode": "lines",
         "name": "B",
         "text": "",
         "type": "scatter",
         "x": [
          0,
          1,
          2,
          3,
          4,
          5,
          6,
          7,
          8,
          9,
          10,
          11,
          12,
          13,
          14,
          15,
          16,
          17,
          18,
          19,
          20,
          21,
          22,
          23,
          24,
          25,
          26,
          27,
          28,
          29,
          30,
          31,
          32,
          33,
          34,
          35,
          36,
          37,
          38,
          39,
          40,
          41,
          42,
          43,
          44,
          45,
          46,
          47,
          48,
          49,
          50,
          51,
          52,
          53,
          54,
          55,
          56,
          57,
          58,
          59,
          60,
          61,
          62,
          63,
          64,
          65,
          66,
          67,
          68,
          69,
          70,
          71,
          72,
          73,
          74,
          75,
          76,
          77,
          78,
          79,
          80,
          81,
          82,
          83,
          84,
          85,
          86,
          87,
          88,
          89,
          90,
          91,
          92,
          93,
          94,
          95,
          96,
          97,
          98,
          99
         ],
         "y": [
          1.8960119593872942,
          -0.9013887599486713,
          -1.3179328495735878,
          0.5093309293244226,
          0.0686381546170349,
          -2.0476722168076367,
          -1.2434170473032558,
          0.3917194929936394,
          0.08754198693204741,
          1.8742193519276948,
          -0.34000427728927657,
          0.5808930813656673,
          -0.9185932288750916,
          -0.4370652175550562,
          0.1615291650092262,
          -0.5573801868161586,
          0.20872127272273155,
          1.5038452901928197,
          0.3810687629989386,
          0.7531014416401095,
          0.47515844401649343,
          -1.3117037828849436,
          -1.1128339786035324,
          1.029572365045059,
          -0.6998734664959823,
          0.38491468084915426,
          -0.851322628406908,
          0.20712468604181208,
          -1.0443583025142498,
          -0.5585025465631798,
          1.6133603060244144,
          0.6650436363899097,
          0.43497836743006446,
          -0.3135901937525547,
          -1.035819537740092,
          0.16500645542112155,
          -0.9797413668441683,
          1.1709202821872366,
          -0.3720340472186027,
          1.2875124895895487,
          -0.5342416459509143,
          0.8652415097498334,
          1.5787699931065844,
          0.801559529330312,
          1.808507607789963,
          0.8574514261933185,
          -2.4147665891905423,
          1.7264760801920465,
          -0.06502278632303127,
          0.3525427456543032,
          0.012552047667873876,
          -0.6432254433376144,
          -0.4677216910558781,
          0.3088421925727908,
          -0.24516716396534866,
          -1.0028937338811257,
          -0.11281611748353859,
          -0.21130491670513085,
          1.1809298727624613,
          -1.3801349160393888,
          0.6649025414857689,
          0.07020479167028694,
          1.740029943416659,
          0.11709800890149423,
          -0.5814226348171162,
          -1.0019165405279373,
          -0.21731413282882847,
          0.32370671894003944,
          0.9948776149290441,
          1.4343455034837274,
          1.230642479260398,
          0.4407683249017293,
          1.1008062320678353,
          -0.5268935998638822,
          -0.19239595695956105,
          0.6351734409776926,
          0.694340808578521,
          -0.5603554691124976,
          -1.6720568576003965,
          2.1469145635682256,
          2.114961913817211,
          0.6233672076422256,
          -0.3462142582361224,
          -2.4139182337762866,
          -2.126184965333488,
          0.6670682066566681,
          0.5925052023824063,
          -0.2640307238259685,
          0.98890415493091,
          0.31990550123503214,
          1.116614817349527,
          0.6146447422037827,
          0.23811295524611592,
          -0.7621631571903236,
          0.0005562339163062913,
          0.3056800154965565,
          -0.7646734494718713,
          0.7956242619405267,
          1.1363915737491685,
          0.5870292601155663
         ]
        },
        {
         "line": {
          "color": "rgba(50, 171, 96, 1.0)",
          "dash": "solid",
          "shape": "linear",
          "width": 1.3
         },
         "mode": "lines",
         "name": "C",
         "text": "",
         "type": "scatter",
         "x": [
          0,
          1,
          2,
          3,
          4,
          5,
          6,
          7,
          8,
          9,
          10,
          11,
          12,
          13,
          14,
          15,
          16,
          17,
          18,
          19,
          20,
          21,
          22,
          23,
          24,
          25,
          26,
          27,
          28,
          29,
          30,
          31,
          32,
          33,
          34,
          35,
          36,
          37,
          38,
          39,
          40,
          41,
          42,
          43,
          44,
          45,
          46,
          47,
          48,
          49,
          50,
          51,
          52,
          53,
          54,
          55,
          56,
          57,
          58,
          59,
          60,
          61,
          62,
          63,
          64,
          65,
          66,
          67,
          68,
          69,
          70,
          71,
          72,
          73,
          74,
          75,
          76,
          77,
          78,
          79,
          80,
          81,
          82,
          83,
          84,
          85,
          86,
          87,
          88,
          89,
          90,
          91,
          92,
          93,
          94,
          95,
          96,
          97,
          98,
          99
         ],
         "y": [
          -0.31235344268957305,
          -0.779291184008495,
          -0.3382378313641103,
          1.5421481134590849,
          -1.3551621221442123,
          -0.33340180454056784,
          1.665296944513379,
          -0.32763611518520985,
          0.2609174602920684,
          1.6395212351276283,
          0.9912710012311396,
          -1.4019081191169263,
          -1.458481412138232,
          -0.07304151076635769,
          0.1221095950313633,
          -2.2286451162858807,
          0.08237034692735798,
          1.7750430436973565,
          -0.7511221498733812,
          -0.01841886398274809,
          0.3509648204240912,
          -0.4678989936030183,
          -0.07150780483206723,
          -1.3762431724055342,
          1.5326017377318464,
          0.4983811025203121,
          -0.6795782051592428,
          -1.2656471093840016,
          0.392297234389132,
          0.24799131200879226,
          -1.0526228366086938,
          0.5235704896437962,
          -2.1105760386913204,
          -0.9241436610842272,
          1.7332599843659915,
          -0.9370479961582932,
          0.8263952807279571,
          -0.9208933905587741,
          -0.1538715791291248,
          0.4013805447984194,
          -0.8438962555943664,
          0.2840391365053848,
          0.7233997398011442,
          1.2509113718825278,
          -0.4222341192657711,
          0.2547359853722564,
          1.1865136808993528,
          0.01875822993183538,
          -0.021890938217392852,
          0.3308619824488176,
          0.5302273579361191,
          0.5715254621147243,
          0.9531877249301393,
          -0.86812801411079,
          -0.003632374883951981,
          -1.0424190239275244,
          -0.06131038034819389,
          -0.7235001630887572,
          -0.6740685444674551,
          -0.15891045604359477,
          1.3402898073715057,
          0.958617214426853,
          -0.6958427995651298,
          -0.5815808665306819,
          -0.39845785266202827,
          -0.39936376026592535,
          0.04125767678413521,
          0.24907653795296583,
          -0.9311076163727938,
          0.5572243135699384,
          0.46838393501357034,
          0.5760126083194442,
          -0.5688066170943136,
          -0.12984686598054374,
          -1.8368011291388542,
          -1.8362250489634662,
          -0.31162448112682783,
          0.2351904211051621,
          -1.2303712522426633,
          0.803472556092731,
          1.416412724412486,
          1.0460389280210196,
          -1.7284715283664749,
          -0.9265549820848047,
          -1.0629618896047572,
          0.5134434439148944,
          -0.8814579803703178,
          -0.22978633789459266,
          2.3553289181892407,
          -0.07690735215068391,
          -0.848160029587419,
          -0.5875614140450401,
          0.3113488458077335,
          -0.31003966124401394,
          1.4804871534955693,
          -1.3732313567546572,
          0.902320280180013,
          0.7244150084856815,
          0.8314704704799247,
          -0.21398466359923993
         ]
        },
        {
         "line": {
          "color": "rgba(128, 0, 128, 1.0)",
          "dash": "solid",
          "shape": "linear",
          "width": 1.3
         },
         "mode": "lines",
         "name": "D",
         "text": "",
         "type": "scatter",
         "x": [
          0,
          1,
          2,
          3,
          4,
          5,
          6,
          7,
          8,
          9,
          10,
          11,
          12,
          13,
          14,
          15,
          16,
          17,
          18,
          19,
          20,
          21,
          22,
          23,
          24,
          25,
          26,
          27,
          28,
          29,
          30,
          31,
          32,
          33,
          34,
          35,
          36,
          37,
          38,
          39,
          40,
          41,
          42,
          43,
          44,
          45,
          46,
          47,
          48,
          49,
          50,
          51,
          52,
          53,
          54,
          55,
          56,
          57,
          58,
          59,
          60,
          61,
          62,
          63,
          64,
          65,
          66,
          67,
          68,
          69,
          70,
          71,
          72,
          73,
          74,
          75,
          76,
          77,
          78,
          79,
          80,
          81,
          82,
          83,
          84,
          85,
          86,
          87,
          88,
          89,
          90,
          91,
          92,
          93,
          94,
          95,
          96,
          97,
          98,
          99
         ],
         "y": [
          1.0501846747475807,
          -0.2631622600665042,
          -1.7403044791255877,
          -0.49270096000479324,
          -1.266095965737075,
          -0.79041828917442,
          -2.9077287476812814,
          0.5162476509677758,
          -0.7174430378950274,
          0.2706549456708596,
          1.0573039873448888,
          -0.5600414520013582,
          0.9754910522734861,
          0.692212074791335,
          -0.2668207194598693,
          -1.1770830167086077,
          0.4966582090084445,
          0.30526131642048454,
          0.9160256136980789,
          -1.5918295650442957,
          0.02977026538641927,
          -1.7172731979615743,
          -0.16174746327733458,
          1.8427204049825525,
          -0.7070357286280311,
          -1.5063320055032123,
          -0.6975635973077675,
          1.2139295569562687,
          0.2673960751229431,
          -0.783315246893848,
          -0.5072663992950421,
          0.5870448767884239,
          0.5601074508584243,
          -0.2637481454065867,
          -0.7719795045926394,
          0.8886942146784562,
          -0.180650310216546,
          -0.5381770917545685,
          -1.4051286558709084,
          -0.15570765448750165,
          0.09307128198913218,
          -0.18151631488798683,
          0.310787850486599,
          0.4918763947131808,
          0.6905827746980921,
          0.16693538146178163,
          1.4122462316005135,
          1.016677403837887,
          -0.6854839792266426,
          -0.5809831911943966,
          -2.184806133330967,
          -0.3688091129235744,
          -0.40548108117032877,
          1.339731057473646,
          -0.9428106033223824,
          0.6613579874430183,
          0.9202754253501984,
          2.4143459436610955,
          0.29157535161896586,
          1.293398970613332,
          -1.9738145496888437,
          0.19483371940869532,
          -0.7898763563357196,
          -1.1159067513199046,
          0.8634416674887178,
          1.8087502331064784,
          -0.1873966626930624,
          -0.02902665910273575,
          0.20943796269246906,
          1.094678799697476,
          0.20675945704454388,
          -0.9283200224952756,
          1.9189085221682376,
          -0.6738438434566502,
          0.950432788311642,
          0.2683051509918545,
          0.5269430013778346,
          -0.8311589580073511,
          -0.08979753977451058,
          -0.28135666411071003,
          -0.36891736319069823,
          -0.6351896533405529,
          1.725810775721876,
          -1.2370318338049597,
          -0.21501903771022107,
          0.2069549912563331,
          -1.4782321340741926,
          -2.0347856211560686,
          1.1417074936945315,
          0.13726081355615155,
          -1.0568924133839583,
          0.6840980919865118,
          -1.5722044419324286,
          0.300415657494318,
          1.3111348856256066,
          1.7505717975611537,
          -0.8078893163791052,
          -0.8247084630691421,
          1.5035738332033604,
          0.05881221943485587
         ]
        }
       ],
       "layout": {
        "legend": {
         "bgcolor": "#F5F6F9",
         "font": {
          "color": "#4D5663"
         }
        },
        "paper_bgcolor": "#F5F6F9",
        "plot_bgcolor": "#F5F6F9",
        "template": {
         "data": {
          "bar": [
           {
            "error_x": {
             "color": "#2a3f5f"
            },
            "error_y": {
             "color": "#2a3f5f"
            },
            "marker": {
             "line": {
              "color": "#E5ECF6",
              "width": 0.5
             }
            },
            "type": "bar"
           }
          ],
          "barpolar": [
           {
            "marker": {
             "line": {
              "color": "#E5ECF6",
              "width": 0.5
             }
            },
            "type": "barpolar"
           }
          ],
          "carpet": [
           {
            "aaxis": {
             "endlinecolor": "#2a3f5f",
             "gridcolor": "white",
             "linecolor": "white",
             "minorgridcolor": "white",
             "startlinecolor": "#2a3f5f"
            },
            "baxis": {
             "endlinecolor": "#2a3f5f",
             "gridcolor": "white",
             "linecolor": "white",
             "minorgridcolor": "white",
             "startlinecolor": "#2a3f5f"
            },
            "type": "carpet"
           }
          ],
          "choropleth": [
           {
            "colorbar": {
             "outlinewidth": 0,
             "ticks": ""
            },
            "type": "choropleth"
           }
          ],
          "contour": [
           {
            "colorbar": {
             "outlinewidth": 0,
             "ticks": ""
            },
            "colorscale": [
             [
              0,
              "#0d0887"
             ],
             [
              0.1111111111111111,
              "#46039f"
             ],
             [
              0.2222222222222222,
              "#7201a8"
             ],
             [
              0.3333333333333333,
              "#9c179e"
             ],
             [
              0.4444444444444444,
              "#bd3786"
             ],
             [
              0.5555555555555556,
              "#d8576b"
             ],
             [
              0.6666666666666666,
              "#ed7953"
             ],
             [
              0.7777777777777778,
              "#fb9f3a"
             ],
             [
              0.8888888888888888,
              "#fdca26"
             ],
             [
              1,
              "#f0f921"
             ]
            ],
            "type": "contour"
           }
          ],
          "contourcarpet": [
           {
            "colorbar": {
             "outlinewidth": 0,
             "ticks": ""
            },
            "type": "contourcarpet"
           }
          ],
          "heatmap": [
           {
            "colorbar": {
             "outlinewidth": 0,
             "ticks": ""
            },
            "colorscale": [
             [
              0,
              "#0d0887"
             ],
             [
              0.1111111111111111,
              "#46039f"
             ],
             [
              0.2222222222222222,
              "#7201a8"
             ],
             [
              0.3333333333333333,
              "#9c179e"
             ],
             [
              0.4444444444444444,
              "#bd3786"
             ],
             [
              0.5555555555555556,
              "#d8576b"
             ],
             [
              0.6666666666666666,
              "#ed7953"
             ],
             [
              0.7777777777777778,
              "#fb9f3a"
             ],
             [
              0.8888888888888888,
              "#fdca26"
             ],
             [
              1,
              "#f0f921"
             ]
            ],
            "type": "heatmap"
           }
          ],
          "heatmapgl": [
           {
            "colorbar": {
             "outlinewidth": 0,
             "ticks": ""
            },
            "colorscale": [
             [
              0,
              "#0d0887"
             ],
             [
              0.1111111111111111,
              "#46039f"
             ],
             [
              0.2222222222222222,
              "#7201a8"
             ],
             [
              0.3333333333333333,
              "#9c179e"
             ],
             [
              0.4444444444444444,
              "#bd3786"
             ],
             [
              0.5555555555555556,
              "#d8576b"
             ],
             [
              0.6666666666666666,
              "#ed7953"
             ],
             [
              0.7777777777777778,
              "#fb9f3a"
             ],
             [
              0.8888888888888888,
              "#fdca26"
             ],
             [
              1,
              "#f0f921"
             ]
            ],
            "type": "heatmapgl"
           }
          ],
          "histogram": [
           {
            "marker": {
             "colorbar": {
              "outlinewidth": 0,
              "ticks": ""
             }
            },
            "type": "histogram"
           }
          ],
          "histogram2d": [
           {
            "colorbar": {
             "outlinewidth": 0,
             "ticks": ""
            },
            "colorscale": [
             [
              0,
              "#0d0887"
             ],
             [
              0.1111111111111111,
              "#46039f"
             ],
             [
              0.2222222222222222,
              "#7201a8"
             ],
             [
              0.3333333333333333,
              "#9c179e"
             ],
             [
              0.4444444444444444,
              "#bd3786"
             ],
             [
              0.5555555555555556,
              "#d8576b"
             ],
             [
              0.6666666666666666,
              "#ed7953"
             ],
             [
              0.7777777777777778,
              "#fb9f3a"
             ],
             [
              0.8888888888888888,
              "#fdca26"
             ],
             [
              1,
              "#f0f921"
             ]
            ],
            "type": "histogram2d"
           }
          ],
          "histogram2dcontour": [
           {
            "colorbar": {
             "outlinewidth": 0,
             "ticks": ""
            },
            "colorscale": [
             [
              0,
              "#0d0887"
             ],
             [
              0.1111111111111111,
              "#46039f"
             ],
             [
              0.2222222222222222,
              "#7201a8"
             ],
             [
              0.3333333333333333,
              "#9c179e"
             ],
             [
              0.4444444444444444,
              "#bd3786"
             ],
             [
              0.5555555555555556,
              "#d8576b"
             ],
             [
              0.6666666666666666,
              "#ed7953"
             ],
             [
              0.7777777777777778,
              "#fb9f3a"
             ],
             [
              0.8888888888888888,
              "#fdca26"
             ],
             [
              1,
              "#f0f921"
             ]
            ],
            "type": "histogram2dcontour"
           }
          ],
          "mesh3d": [
           {
            "colorbar": {
             "outlinewidth": 0,
             "ticks": ""
            },
            "type": "mesh3d"
           }
          ],
          "parcoords": [
           {
            "line": {
             "colorbar": {
              "outlinewidth": 0,
              "ticks": ""
             }
            },
            "type": "parcoords"
           }
          ],
          "pie": [
           {
            "automargin": true,
            "type": "pie"
           }
          ],
          "scatter": [
           {
            "marker": {
             "colorbar": {
              "outlinewidth": 0,
              "ticks": ""
             }
            },
            "type": "scatter"
           }
          ],
          "scatter3d": [
           {
            "line": {
             "colorbar": {
              "outlinewidth": 0,
              "ticks": ""
             }
            },
            "marker": {
             "colorbar": {
              "outlinewidth": 0,
              "ticks": ""
             }
            },
            "type": "scatter3d"
           }
          ],
          "scattercarpet": [
           {
            "marker": {
             "colorbar": {
              "outlinewidth": 0,
              "ticks": ""
             }
            },
            "type": "scattercarpet"
           }
          ],
          "scattergeo": [
           {
            "marker": {
             "colorbar": {
              "outlinewidth": 0,
              "ticks": ""
             }
            },
            "type": "scattergeo"
           }
          ],
          "scattergl": [
           {
            "marker": {
             "colorbar": {
              "outlinewidth": 0,
              "ticks": ""
             }
            },
            "type": "scattergl"
           }
          ],
          "scattermapbox": [
           {
            "marker": {
             "colorbar": {
              "outlinewidth": 0,
              "ticks": ""
             }
            },
            "type": "scattermapbox"
           }
          ],
          "scatterpolar": [
           {
            "marker": {
             "colorbar": {
              "outlinewidth": 0,
              "ticks": ""
             }
            },
            "type": "scatterpolar"
           }
          ],
          "scatterpolargl": [
           {
            "marker": {
             "colorbar": {
              "outlinewidth": 0,
              "ticks": ""
             }
            },
            "type": "scatterpolargl"
           }
          ],
          "scatterternary": [
           {
            "marker": {
             "colorbar": {
              "outlinewidth": 0,
              "ticks": ""
             }
            },
            "type": "scatterternary"
           }
          ],
          "surface": [
           {
            "colorbar": {
             "outlinewidth": 0,
             "ticks": ""
            },
            "colorscale": [
             [
              0,
              "#0d0887"
             ],
             [
              0.1111111111111111,
              "#46039f"
             ],
             [
              0.2222222222222222,
              "#7201a8"
             ],
             [
              0.3333333333333333,
              "#9c179e"
             ],
             [
              0.4444444444444444,
              "#bd3786"
             ],
             [
              0.5555555555555556,
              "#d8576b"
             ],
             [
              0.6666666666666666,
              "#ed7953"
             ],
             [
              0.7777777777777778,
              "#fb9f3a"
             ],
             [
              0.8888888888888888,
              "#fdca26"
             ],
             [
              1,
              "#f0f921"
             ]
            ],
            "type": "surface"
           }
          ],
          "table": [
           {
            "cells": {
             "fill": {
              "color": "#EBF0F8"
             },
             "line": {
              "color": "white"
             }
            },
            "header": {
             "fill": {
              "color": "#C8D4E3"
             },
             "line": {
              "color": "white"
             }
            },
            "type": "table"
           }
          ]
         },
         "layout": {
          "annotationdefaults": {
           "arrowcolor": "#2a3f5f",
           "arrowhead": 0,
           "arrowwidth": 1
          },
          "coloraxis": {
           "colorbar": {
            "outlinewidth": 0,
            "ticks": ""
           }
          },
          "colorscale": {
           "diverging": [
            [
             0,
             "#8e0152"
            ],
            [
             0.1,
             "#c51b7d"
            ],
            [
             0.2,
             "#de77ae"
            ],
            [
             0.3,
             "#f1b6da"
            ],
            [
             0.4,
             "#fde0ef"
            ],
            [
             0.5,
             "#f7f7f7"
            ],
            [
             0.6,
             "#e6f5d0"
            ],
            [
             0.7,
             "#b8e186"
            ],
            [
             0.8,
             "#7fbc41"
            ],
            [
             0.9,
             "#4d9221"
            ],
            [
             1,
             "#276419"
            ]
           ],
           "sequential": [
            [
             0,
             "#0d0887"
            ],
            [
             0.1111111111111111,
             "#46039f"
            ],
            [
             0.2222222222222222,
             "#7201a8"
            ],
            [
             0.3333333333333333,
             "#9c179e"
            ],
            [
             0.4444444444444444,
             "#bd3786"
            ],
            [
             0.5555555555555556,
             "#d8576b"
            ],
            [
             0.6666666666666666,
             "#ed7953"
            ],
            [
             0.7777777777777778,
             "#fb9f3a"
            ],
            [
             0.8888888888888888,
             "#fdca26"
            ],
            [
             1,
             "#f0f921"
            ]
           ],
           "sequentialminus": [
            [
             0,
             "#0d0887"
            ],
            [
             0.1111111111111111,
             "#46039f"
            ],
            [
             0.2222222222222222,
             "#7201a8"
            ],
            [
             0.3333333333333333,
             "#9c179e"
            ],
            [
             0.4444444444444444,
             "#bd3786"
            ],
            [
             0.5555555555555556,
             "#d8576b"
            ],
            [
             0.6666666666666666,
             "#ed7953"
            ],
            [
             0.7777777777777778,
             "#fb9f3a"
            ],
            [
             0.8888888888888888,
             "#fdca26"
            ],
            [
             1,
             "#f0f921"
            ]
           ]
          },
          "colorway": [
           "#636efa",
           "#EF553B",
           "#00cc96",
           "#ab63fa",
           "#FFA15A",
           "#19d3f3",
           "#FF6692",
           "#B6E880",
           "#FF97FF",
           "#FECB52"
          ],
          "font": {
           "color": "#2a3f5f"
          },
          "geo": {
           "bgcolor": "white",
           "lakecolor": "white",
           "landcolor": "#E5ECF6",
           "showlakes": true,
           "showland": true,
           "subunitcolor": "white"
          },
          "hoverlabel": {
           "align": "left"
          },
          "hovermode": "closest",
          "mapbox": {
           "style": "light"
          },
          "paper_bgcolor": "white",
          "plot_bgcolor": "#E5ECF6",
          "polar": {
           "angularaxis": {
            "gridcolor": "white",
            "linecolor": "white",
            "ticks": ""
           },
           "bgcolor": "#E5ECF6",
           "radialaxis": {
            "gridcolor": "white",
            "linecolor": "white",
            "ticks": ""
           }
          },
          "scene": {
           "xaxis": {
            "backgroundcolor": "#E5ECF6",
            "gridcolor": "white",
            "gridwidth": 2,
            "linecolor": "white",
            "showbackground": true,
            "ticks": "",
            "zerolinecolor": "white"
           },
           "yaxis": {
            "backgroundcolor": "#E5ECF6",
            "gridcolor": "white",
            "gridwidth": 2,
            "linecolor": "white",
            "showbackground": true,
            "ticks": "",
            "zerolinecolor": "white"
           },
           "zaxis": {
            "backgroundcolor": "#E5ECF6",
            "gridcolor": "white",
            "gridwidth": 2,
            "linecolor": "white",
            "showbackground": true,
            "ticks": "",
            "zerolinecolor": "white"
           }
          },
          "shapedefaults": {
           "line": {
            "color": "#2a3f5f"
           }
          },
          "ternary": {
           "aaxis": {
            "gridcolor": "white",
            "linecolor": "white",
            "ticks": ""
           },
           "baxis": {
            "gridcolor": "white",
            "linecolor": "white",
            "ticks": ""
           },
           "bgcolor": "#E5ECF6",
           "caxis": {
            "gridcolor": "white",
            "linecolor": "white",
            "ticks": ""
           }
          },
          "title": {
           "x": 0.05
          },
          "xaxis": {
           "automargin": true,
           "gridcolor": "white",
           "linecolor": "white",
           "ticks": "",
           "title": {
            "standoff": 15
           },
           "zerolinecolor": "white",
           "zerolinewidth": 2
          },
          "yaxis": {
           "automargin": true,
           "gridcolor": "white",
           "linecolor": "white",
           "ticks": "",
           "title": {
            "standoff": 15
           },
           "zerolinecolor": "white",
           "zerolinewidth": 2
          }
         }
        },
        "title": {
         "font": {
          "color": "#4D5663"
         }
        },
        "xaxis": {
         "gridcolor": "#E1E5ED",
         "showgrid": true,
         "tickfont": {
          "color": "#4D5663"
         },
         "title": {
          "font": {
           "color": "#4D5663"
          },
          "text": ""
         },
         "zerolinecolor": "#E1E5ED"
        },
        "yaxis": {
         "gridcolor": "#E1E5ED",
         "showgrid": true,
         "tickfont": {
          "color": "#4D5663"
         },
         "title": {
          "font": {
           "color": "#4D5663"
          },
          "text": ""
         },
         "zerolinecolor": "#E1E5ED"
        }
       }
      },
      "text/html": [
       "<div>\n",
       "        \n",
       "        \n",
       "            <div id=\"3861d8cb-0e57-42e2-b6b5-3ced531efb97\" class=\"plotly-graph-div\" style=\"height:525px; width:100%;\"></div>\n",
       "            <script type=\"text/javascript\">\n",
       "                require([\"plotly\"], function(Plotly) {\n",
       "                    window.PLOTLYENV=window.PLOTLYENV || {};\n",
       "                    window.PLOTLYENV.BASE_URL='https://plot.ly';\n",
       "                    \n",
       "                if (document.getElementById(\"3861d8cb-0e57-42e2-b6b5-3ced531efb97\")) {\n",
       "                    Plotly.newPlot(\n",
       "                        '3861d8cb-0e57-42e2-b6b5-3ced531efb97',\n",
       "                        [{\"line\": {\"color\": \"rgba(255, 153, 51, 1.0)\", \"dash\": \"solid\", \"shape\": \"linear\", \"width\": 1.3}, \"mode\": \"lines\", \"name\": \"A\", \"text\": \"\", \"type\": \"scatter\", \"x\": [0, 1, 2, 3, 4, 5, 6, 7, 8, 9, 10, 11, 12, 13, 14, 15, 16, 17, 18, 19, 20, 21, 22, 23, 24, 25, 26, 27, 28, 29, 30, 31, 32, 33, 34, 35, 36, 37, 38, 39, 40, 41, 42, 43, 44, 45, 46, 47, 48, 49, 50, 51, 52, 53, 54, 55, 56, 57, 58, 59, 60, 61, 62, 63, 64, 65, 66, 67, 68, 69, 70, 71, 72, 73, 74, 75, 76, 77, 78, 79, 80, 81, 82, 83, 84, 85, 86, 87, 88, 89, 90, 91, 92, 93, 94, 95, 96, 97, 98, 99], \"y\": [1.03550403305365, 1.0884452472323425, -0.8238221561084681, -1.165409106210997, 0.06314234757509121, 0.28403331754428096, 1.3031142849283257, -0.5330006379394974, 0.9239955720458833, -0.3404308950020115, 0.49705351026645744, 0.11995406868417582, 2.8763886700822554, 0.9193262205319692, 0.3949826146380539, 0.1398009361049872, -0.2389551947409717, 1.7631889811772778, 0.9423296126061489, 0.6967921196412008, -0.5414352907350243, -2.036531823296873, -0.24433216283716166, -0.6095837637269612, -0.8657030628068533, -1.3290908432224944, 0.12455980476667877, 1.0184694806034515, -1.183099026560509, -1.9117478241953998, 1.5901480473509917, 0.036261728019634634, -1.4686201375953223, 0.23850038429899692, 0.9850551573259738, 0.2343911390852982, 1.6218946767897775, 0.6092426949738955, 0.4316571530869879, -0.3497700989320226, 0.0630769975004216, -1.7473220089492396, 0.9992032559911043, -0.46947268822447513, -1.5169497942671446, -0.83250174584291, -0.4968973159748692, -0.961293262106367, 1.57489946216533, 0.12352962553924367, 1.1956965136368198, 0.2622356680889761, -1.3592917794393795, -1.3888127276879452, -0.4192232294633762, 0.2162221432499591, 2.3852910763547004, -1.3123647706286883, 0.2612934369110763, 0.8613442539868962, -2.199294295056723, 0.586695375572083, -0.49651894860239854, -0.06531819539664627, -1.8735956634836917, -0.922282193523706, -0.1390551342534496, -2.07229926650626, -0.3136402802450524, 1.2721102467999612, 1.2212916123327877, 0.4263336106747266, -1.3278513626090733, -1.4901785369107048, 0.3370979010819831, 1.1609741420348372, -1.4052615141974583, -1.675537604560082, -0.8470611330808606, 0.846711142348439, 1.6207509512727276, 0.9628774645331151, 0.08415610063834954, 2.0515464720858776, 0.3989174309260779, 0.5284312945429028, 1.316248220757381, 0.07911639704636868, 0.5625901301013624, 0.10809718712260306, 0.05558043354838223, 1.653387809021809, 0.19613717511683407, -1.0636425270979382, -2.3361375217663913, 1.170649467749388, -1.1175819973708243, -0.9877716720625392, 1.1344780752246988, 2.753133920603948]}, {\"line\": {\"color\": \"rgba(55, 128, 191, 1.0)\", \"dash\": \"solid\", \"shape\": \"linear\", \"width\": 1.3}, \"mode\": \"lines\", \"name\": \"B\", \"text\": \"\", \"type\": \"scatter\", \"x\": [0, 1, 2, 3, 4, 5, 6, 7, 8, 9, 10, 11, 12, 13, 14, 15, 16, 17, 18, 19, 20, 21, 22, 23, 24, 25, 26, 27, 28, 29, 30, 31, 32, 33, 34, 35, 36, 37, 38, 39, 40, 41, 42, 43, 44, 45, 46, 47, 48, 49, 50, 51, 52, 53, 54, 55, 56, 57, 58, 59, 60, 61, 62, 63, 64, 65, 66, 67, 68, 69, 70, 71, 72, 73, 74, 75, 76, 77, 78, 79, 80, 81, 82, 83, 84, 85, 86, 87, 88, 89, 90, 91, 92, 93, 94, 95, 96, 97, 98, 99], \"y\": [1.8960119593872942, -0.9013887599486713, -1.3179328495735878, 0.5093309293244226, 0.0686381546170349, -2.0476722168076367, -1.2434170473032558, 0.3917194929936394, 0.08754198693204741, 1.8742193519276948, -0.34000427728927657, 0.5808930813656673, -0.9185932288750916, -0.4370652175550562, 0.1615291650092262, -0.5573801868161586, 0.20872127272273155, 1.5038452901928197, 0.3810687629989386, 0.7531014416401095, 0.47515844401649343, -1.3117037828849436, -1.1128339786035324, 1.029572365045059, -0.6998734664959823, 0.38491468084915426, -0.851322628406908, 0.20712468604181208, -1.0443583025142498, -0.5585025465631798, 1.6133603060244144, 0.6650436363899097, 0.43497836743006446, -0.3135901937525547, -1.035819537740092, 0.16500645542112155, -0.9797413668441683, 1.1709202821872366, -0.3720340472186027, 1.2875124895895487, -0.5342416459509143, 0.8652415097498334, 1.5787699931065844, 0.801559529330312, 1.808507607789963, 0.8574514261933185, -2.4147665891905423, 1.7264760801920465, -0.06502278632303127, 0.3525427456543032, 0.012552047667873876, -0.6432254433376144, -0.4677216910558781, 0.3088421925727908, -0.24516716396534866, -1.0028937338811257, -0.11281611748353859, -0.21130491670513085, 1.1809298727624613, -1.3801349160393888, 0.6649025414857689, 0.07020479167028694, 1.740029943416659, 0.11709800890149423, -0.5814226348171162, -1.0019165405279373, -0.21731413282882847, 0.32370671894003944, 0.9948776149290441, 1.4343455034837274, 1.230642479260398, 0.4407683249017293, 1.1008062320678353, -0.5268935998638822, -0.19239595695956105, 0.6351734409776926, 0.694340808578521, -0.5603554691124976, -1.6720568576003965, 2.1469145635682256, 2.114961913817211, 0.6233672076422256, -0.3462142582361224, -2.4139182337762866, -2.126184965333488, 0.6670682066566681, 0.5925052023824063, -0.2640307238259685, 0.98890415493091, 0.31990550123503214, 1.116614817349527, 0.6146447422037827, 0.23811295524611592, -0.7621631571903236, 0.0005562339163062913, 0.3056800154965565, -0.7646734494718713, 0.7956242619405267, 1.1363915737491685, 0.5870292601155663]}, {\"line\": {\"color\": \"rgba(50, 171, 96, 1.0)\", \"dash\": \"solid\", \"shape\": \"linear\", \"width\": 1.3}, \"mode\": \"lines\", \"name\": \"C\", \"text\": \"\", \"type\": \"scatter\", \"x\": [0, 1, 2, 3, 4, 5, 6, 7, 8, 9, 10, 11, 12, 13, 14, 15, 16, 17, 18, 19, 20, 21, 22, 23, 24, 25, 26, 27, 28, 29, 30, 31, 32, 33, 34, 35, 36, 37, 38, 39, 40, 41, 42, 43, 44, 45, 46, 47, 48, 49, 50, 51, 52, 53, 54, 55, 56, 57, 58, 59, 60, 61, 62, 63, 64, 65, 66, 67, 68, 69, 70, 71, 72, 73, 74, 75, 76, 77, 78, 79, 80, 81, 82, 83, 84, 85, 86, 87, 88, 89, 90, 91, 92, 93, 94, 95, 96, 97, 98, 99], \"y\": [-0.31235344268957305, -0.779291184008495, -0.3382378313641103, 1.5421481134590849, -1.3551621221442123, -0.33340180454056784, 1.665296944513379, -0.32763611518520985, 0.2609174602920684, 1.6395212351276283, 0.9912710012311396, -1.4019081191169263, -1.458481412138232, -0.07304151076635769, 0.1221095950313633, -2.2286451162858807, 0.08237034692735798, 1.7750430436973565, -0.7511221498733812, -0.01841886398274809, 0.3509648204240912, -0.4678989936030183, -0.07150780483206723, -1.3762431724055342, 1.5326017377318464, 0.4983811025203121, -0.6795782051592428, -1.2656471093840016, 0.392297234389132, 0.24799131200879226, -1.0526228366086938, 0.5235704896437962, -2.1105760386913204, -0.9241436610842272, 1.7332599843659915, -0.9370479961582932, 0.8263952807279571, -0.9208933905587741, -0.1538715791291248, 0.4013805447984194, -0.8438962555943664, 0.2840391365053848, 0.7233997398011442, 1.2509113718825278, -0.4222341192657711, 0.2547359853722564, 1.1865136808993528, 0.01875822993183538, -0.021890938217392852, 0.3308619824488176, 0.5302273579361191, 0.5715254621147243, 0.9531877249301393, -0.86812801411079, -0.003632374883951981, -1.0424190239275244, -0.06131038034819389, -0.7235001630887572, -0.6740685444674551, -0.15891045604359477, 1.3402898073715057, 0.958617214426853, -0.6958427995651298, -0.5815808665306819, -0.39845785266202827, -0.39936376026592535, 0.04125767678413521, 0.24907653795296583, -0.9311076163727938, 0.5572243135699384, 0.46838393501357034, 0.5760126083194442, -0.5688066170943136, -0.12984686598054374, -1.8368011291388542, -1.8362250489634662, -0.31162448112682783, 0.2351904211051621, -1.2303712522426633, 0.803472556092731, 1.416412724412486, 1.0460389280210196, -1.7284715283664749, -0.9265549820848047, -1.0629618896047572, 0.5134434439148944, -0.8814579803703178, -0.22978633789459266, 2.3553289181892407, -0.07690735215068391, -0.848160029587419, -0.5875614140450401, 0.3113488458077335, -0.31003966124401394, 1.4804871534955693, -1.3732313567546572, 0.902320280180013, 0.7244150084856815, 0.8314704704799247, -0.21398466359923993]}, {\"line\": {\"color\": \"rgba(128, 0, 128, 1.0)\", \"dash\": \"solid\", \"shape\": \"linear\", \"width\": 1.3}, \"mode\": \"lines\", \"name\": \"D\", \"text\": \"\", \"type\": \"scatter\", \"x\": [0, 1, 2, 3, 4, 5, 6, 7, 8, 9, 10, 11, 12, 13, 14, 15, 16, 17, 18, 19, 20, 21, 22, 23, 24, 25, 26, 27, 28, 29, 30, 31, 32, 33, 34, 35, 36, 37, 38, 39, 40, 41, 42, 43, 44, 45, 46, 47, 48, 49, 50, 51, 52, 53, 54, 55, 56, 57, 58, 59, 60, 61, 62, 63, 64, 65, 66, 67, 68, 69, 70, 71, 72, 73, 74, 75, 76, 77, 78, 79, 80, 81, 82, 83, 84, 85, 86, 87, 88, 89, 90, 91, 92, 93, 94, 95, 96, 97, 98, 99], \"y\": [1.0501846747475807, -0.2631622600665042, -1.7403044791255877, -0.49270096000479324, -1.266095965737075, -0.79041828917442, -2.9077287476812814, 0.5162476509677758, -0.7174430378950274, 0.2706549456708596, 1.0573039873448888, -0.5600414520013582, 0.9754910522734861, 0.692212074791335, -0.2668207194598693, -1.1770830167086077, 0.4966582090084445, 0.30526131642048454, 0.9160256136980789, -1.5918295650442957, 0.02977026538641927, -1.7172731979615743, -0.16174746327733458, 1.8427204049825525, -0.7070357286280311, -1.5063320055032123, -0.6975635973077675, 1.2139295569562687, 0.2673960751229431, -0.783315246893848, -0.5072663992950421, 0.5870448767884239, 0.5601074508584243, -0.2637481454065867, -0.7719795045926394, 0.8886942146784562, -0.180650310216546, -0.5381770917545685, -1.4051286558709084, -0.15570765448750165, 0.09307128198913218, -0.18151631488798683, 0.310787850486599, 0.4918763947131808, 0.6905827746980921, 0.16693538146178163, 1.4122462316005135, 1.016677403837887, -0.6854839792266426, -0.5809831911943966, -2.184806133330967, -0.3688091129235744, -0.40548108117032877, 1.339731057473646, -0.9428106033223824, 0.6613579874430183, 0.9202754253501984, 2.4143459436610955, 0.29157535161896586, 1.293398970613332, -1.9738145496888437, 0.19483371940869532, -0.7898763563357196, -1.1159067513199046, 0.8634416674887178, 1.8087502331064784, -0.1873966626930624, -0.02902665910273575, 0.20943796269246906, 1.094678799697476, 0.20675945704454388, -0.9283200224952756, 1.9189085221682376, -0.6738438434566502, 0.950432788311642, 0.2683051509918545, 0.5269430013778346, -0.8311589580073511, -0.08979753977451058, -0.28135666411071003, -0.36891736319069823, -0.6351896533405529, 1.725810775721876, -1.2370318338049597, -0.21501903771022107, 0.2069549912563331, -1.4782321340741926, -2.0347856211560686, 1.1417074936945315, 0.13726081355615155, -1.0568924133839583, 0.6840980919865118, -1.5722044419324286, 0.300415657494318, 1.3111348856256066, 1.7505717975611537, -0.8078893163791052, -0.8247084630691421, 1.5035738332033604, 0.05881221943485587]}],\n",
       "                        {\"legend\": {\"bgcolor\": \"#F5F6F9\", \"font\": {\"color\": \"#4D5663\"}}, \"paper_bgcolor\": \"#F5F6F9\", \"plot_bgcolor\": \"#F5F6F9\", \"template\": {\"data\": {\"bar\": [{\"error_x\": {\"color\": \"#2a3f5f\"}, \"error_y\": {\"color\": \"#2a3f5f\"}, \"marker\": {\"line\": {\"color\": \"#E5ECF6\", \"width\": 0.5}}, \"type\": \"bar\"}], \"barpolar\": [{\"marker\": {\"line\": {\"color\": \"#E5ECF6\", \"width\": 0.5}}, \"type\": \"barpolar\"}], \"carpet\": [{\"aaxis\": {\"endlinecolor\": \"#2a3f5f\", \"gridcolor\": \"white\", \"linecolor\": \"white\", \"minorgridcolor\": \"white\", \"startlinecolor\": \"#2a3f5f\"}, \"baxis\": {\"endlinecolor\": \"#2a3f5f\", \"gridcolor\": \"white\", \"linecolor\": \"white\", \"minorgridcolor\": \"white\", \"startlinecolor\": \"#2a3f5f\"}, \"type\": \"carpet\"}], \"choropleth\": [{\"colorbar\": {\"outlinewidth\": 0, \"ticks\": \"\"}, \"type\": \"choropleth\"}], \"contour\": [{\"colorbar\": {\"outlinewidth\": 0, \"ticks\": \"\"}, \"colorscale\": [[0.0, \"#0d0887\"], [0.1111111111111111, \"#46039f\"], [0.2222222222222222, \"#7201a8\"], [0.3333333333333333, \"#9c179e\"], [0.4444444444444444, \"#bd3786\"], [0.5555555555555556, \"#d8576b\"], [0.6666666666666666, \"#ed7953\"], [0.7777777777777778, \"#fb9f3a\"], [0.8888888888888888, \"#fdca26\"], [1.0, \"#f0f921\"]], \"type\": \"contour\"}], \"contourcarpet\": [{\"colorbar\": {\"outlinewidth\": 0, \"ticks\": \"\"}, \"type\": \"contourcarpet\"}], \"heatmap\": [{\"colorbar\": {\"outlinewidth\": 0, \"ticks\": \"\"}, \"colorscale\": [[0.0, \"#0d0887\"], [0.1111111111111111, \"#46039f\"], [0.2222222222222222, \"#7201a8\"], [0.3333333333333333, \"#9c179e\"], [0.4444444444444444, \"#bd3786\"], [0.5555555555555556, \"#d8576b\"], [0.6666666666666666, \"#ed7953\"], [0.7777777777777778, \"#fb9f3a\"], [0.8888888888888888, \"#fdca26\"], [1.0, \"#f0f921\"]], \"type\": \"heatmap\"}], \"heatmapgl\": [{\"colorbar\": {\"outlinewidth\": 0, \"ticks\": \"\"}, \"colorscale\": [[0.0, \"#0d0887\"], [0.1111111111111111, \"#46039f\"], [0.2222222222222222, \"#7201a8\"], [0.3333333333333333, \"#9c179e\"], [0.4444444444444444, \"#bd3786\"], [0.5555555555555556, \"#d8576b\"], [0.6666666666666666, \"#ed7953\"], [0.7777777777777778, \"#fb9f3a\"], [0.8888888888888888, \"#fdca26\"], [1.0, \"#f0f921\"]], \"type\": \"heatmapgl\"}], \"histogram\": [{\"marker\": {\"colorbar\": {\"outlinewidth\": 0, \"ticks\": \"\"}}, \"type\": \"histogram\"}], \"histogram2d\": [{\"colorbar\": {\"outlinewidth\": 0, \"ticks\": \"\"}, \"colorscale\": [[0.0, \"#0d0887\"], [0.1111111111111111, \"#46039f\"], [0.2222222222222222, \"#7201a8\"], [0.3333333333333333, \"#9c179e\"], [0.4444444444444444, \"#bd3786\"], [0.5555555555555556, \"#d8576b\"], [0.6666666666666666, \"#ed7953\"], [0.7777777777777778, \"#fb9f3a\"], [0.8888888888888888, \"#fdca26\"], [1.0, \"#f0f921\"]], \"type\": \"histogram2d\"}], \"histogram2dcontour\": [{\"colorbar\": {\"outlinewidth\": 0, \"ticks\": \"\"}, \"colorscale\": [[0.0, \"#0d0887\"], [0.1111111111111111, \"#46039f\"], [0.2222222222222222, \"#7201a8\"], [0.3333333333333333, \"#9c179e\"], [0.4444444444444444, \"#bd3786\"], [0.5555555555555556, \"#d8576b\"], [0.6666666666666666, \"#ed7953\"], [0.7777777777777778, \"#fb9f3a\"], [0.8888888888888888, \"#fdca26\"], [1.0, \"#f0f921\"]], \"type\": \"histogram2dcontour\"}], \"mesh3d\": [{\"colorbar\": {\"outlinewidth\": 0, \"ticks\": \"\"}, \"type\": \"mesh3d\"}], \"parcoords\": [{\"line\": {\"colorbar\": {\"outlinewidth\": 0, \"ticks\": \"\"}}, \"type\": \"parcoords\"}], \"pie\": [{\"automargin\": true, \"type\": \"pie\"}], \"scatter\": [{\"marker\": {\"colorbar\": {\"outlinewidth\": 0, \"ticks\": \"\"}}, \"type\": \"scatter\"}], \"scatter3d\": [{\"line\": {\"colorbar\": {\"outlinewidth\": 0, \"ticks\": \"\"}}, \"marker\": {\"colorbar\": {\"outlinewidth\": 0, \"ticks\": \"\"}}, \"type\": \"scatter3d\"}], \"scattercarpet\": [{\"marker\": {\"colorbar\": {\"outlinewidth\": 0, \"ticks\": \"\"}}, \"type\": \"scattercarpet\"}], \"scattergeo\": [{\"marker\": {\"colorbar\": {\"outlinewidth\": 0, \"ticks\": \"\"}}, \"type\": \"scattergeo\"}], \"scattergl\": [{\"marker\": {\"colorbar\": {\"outlinewidth\": 0, \"ticks\": \"\"}}, \"type\": \"scattergl\"}], \"scattermapbox\": [{\"marker\": {\"colorbar\": {\"outlinewidth\": 0, \"ticks\": \"\"}}, \"type\": \"scattermapbox\"}], \"scatterpolar\": [{\"marker\": {\"colorbar\": {\"outlinewidth\": 0, \"ticks\": \"\"}}, \"type\": \"scatterpolar\"}], \"scatterpolargl\": [{\"marker\": {\"colorbar\": {\"outlinewidth\": 0, \"ticks\": \"\"}}, \"type\": \"scatterpolargl\"}], \"scatterternary\": [{\"marker\": {\"colorbar\": {\"outlinewidth\": 0, \"ticks\": \"\"}}, \"type\": \"scatterternary\"}], \"surface\": [{\"colorbar\": {\"outlinewidth\": 0, \"ticks\": \"\"}, \"colorscale\": [[0.0, \"#0d0887\"], [0.1111111111111111, \"#46039f\"], [0.2222222222222222, \"#7201a8\"], [0.3333333333333333, \"#9c179e\"], [0.4444444444444444, \"#bd3786\"], [0.5555555555555556, \"#d8576b\"], [0.6666666666666666, \"#ed7953\"], [0.7777777777777778, \"#fb9f3a\"], [0.8888888888888888, \"#fdca26\"], [1.0, \"#f0f921\"]], \"type\": \"surface\"}], \"table\": [{\"cells\": {\"fill\": {\"color\": \"#EBF0F8\"}, \"line\": {\"color\": \"white\"}}, \"header\": {\"fill\": {\"color\": \"#C8D4E3\"}, \"line\": {\"color\": \"white\"}}, \"type\": \"table\"}]}, \"layout\": {\"annotationdefaults\": {\"arrowcolor\": \"#2a3f5f\", \"arrowhead\": 0, \"arrowwidth\": 1}, \"coloraxis\": {\"colorbar\": {\"outlinewidth\": 0, \"ticks\": \"\"}}, \"colorscale\": {\"diverging\": [[0, \"#8e0152\"], [0.1, \"#c51b7d\"], [0.2, \"#de77ae\"], [0.3, \"#f1b6da\"], [0.4, \"#fde0ef\"], [0.5, \"#f7f7f7\"], [0.6, \"#e6f5d0\"], [0.7, \"#b8e186\"], [0.8, \"#7fbc41\"], [0.9, \"#4d9221\"], [1, \"#276419\"]], \"sequential\": [[0.0, \"#0d0887\"], [0.1111111111111111, \"#46039f\"], [0.2222222222222222, \"#7201a8\"], [0.3333333333333333, \"#9c179e\"], [0.4444444444444444, \"#bd3786\"], [0.5555555555555556, \"#d8576b\"], [0.6666666666666666, \"#ed7953\"], [0.7777777777777778, \"#fb9f3a\"], [0.8888888888888888, \"#fdca26\"], [1.0, \"#f0f921\"]], \"sequentialminus\": [[0.0, \"#0d0887\"], [0.1111111111111111, \"#46039f\"], [0.2222222222222222, \"#7201a8\"], [0.3333333333333333, \"#9c179e\"], [0.4444444444444444, \"#bd3786\"], [0.5555555555555556, \"#d8576b\"], [0.6666666666666666, \"#ed7953\"], [0.7777777777777778, \"#fb9f3a\"], [0.8888888888888888, \"#fdca26\"], [1.0, \"#f0f921\"]]}, \"colorway\": [\"#636efa\", \"#EF553B\", \"#00cc96\", \"#ab63fa\", \"#FFA15A\", \"#19d3f3\", \"#FF6692\", \"#B6E880\", \"#FF97FF\", \"#FECB52\"], \"font\": {\"color\": \"#2a3f5f\"}, \"geo\": {\"bgcolor\": \"white\", \"lakecolor\": \"white\", \"landcolor\": \"#E5ECF6\", \"showlakes\": true, \"showland\": true, \"subunitcolor\": \"white\"}, \"hoverlabel\": {\"align\": \"left\"}, \"hovermode\": \"closest\", \"mapbox\": {\"style\": \"light\"}, \"paper_bgcolor\": \"white\", \"plot_bgcolor\": \"#E5ECF6\", \"polar\": {\"angularaxis\": {\"gridcolor\": \"white\", \"linecolor\": \"white\", \"ticks\": \"\"}, \"bgcolor\": \"#E5ECF6\", \"radialaxis\": {\"gridcolor\": \"white\", \"linecolor\": \"white\", \"ticks\": \"\"}}, \"scene\": {\"xaxis\": {\"backgroundcolor\": \"#E5ECF6\", \"gridcolor\": \"white\", \"gridwidth\": 2, \"linecolor\": \"white\", \"showbackground\": true, \"ticks\": \"\", \"zerolinecolor\": \"white\"}, \"yaxis\": {\"backgroundcolor\": \"#E5ECF6\", \"gridcolor\": \"white\", \"gridwidth\": 2, \"linecolor\": \"white\", \"showbackground\": true, \"ticks\": \"\", \"zerolinecolor\": \"white\"}, \"zaxis\": {\"backgroundcolor\": \"#E5ECF6\", \"gridcolor\": \"white\", \"gridwidth\": 2, \"linecolor\": \"white\", \"showbackground\": true, \"ticks\": \"\", \"zerolinecolor\": \"white\"}}, \"shapedefaults\": {\"line\": {\"color\": \"#2a3f5f\"}}, \"ternary\": {\"aaxis\": {\"gridcolor\": \"white\", \"linecolor\": \"white\", \"ticks\": \"\"}, \"baxis\": {\"gridcolor\": \"white\", \"linecolor\": \"white\", \"ticks\": \"\"}, \"bgcolor\": \"#E5ECF6\", \"caxis\": {\"gridcolor\": \"white\", \"linecolor\": \"white\", \"ticks\": \"\"}}, \"title\": {\"x\": 0.05}, \"xaxis\": {\"automargin\": true, \"gridcolor\": \"white\", \"linecolor\": \"white\", \"ticks\": \"\", \"title\": {\"standoff\": 15}, \"zerolinecolor\": \"white\", \"zerolinewidth\": 2}, \"yaxis\": {\"automargin\": true, \"gridcolor\": \"white\", \"linecolor\": \"white\", \"ticks\": \"\", \"title\": {\"standoff\": 15}, \"zerolinecolor\": \"white\", \"zerolinewidth\": 2}}}, \"title\": {\"font\": {\"color\": \"#4D5663\"}}, \"xaxis\": {\"gridcolor\": \"#E1E5ED\", \"showgrid\": true, \"tickfont\": {\"color\": \"#4D5663\"}, \"title\": {\"font\": {\"color\": \"#4D5663\"}, \"text\": \"\"}, \"zerolinecolor\": \"#E1E5ED\"}, \"yaxis\": {\"gridcolor\": \"#E1E5ED\", \"showgrid\": true, \"tickfont\": {\"color\": \"#4D5663\"}, \"title\": {\"font\": {\"color\": \"#4D5663\"}, \"text\": \"\"}, \"zerolinecolor\": \"#E1E5ED\"}},\n",
       "                        {\"showLink\": true, \"linkText\": \"Export to plot.ly\", \"plotlyServerURL\": \"https://plot.ly\", \"responsive\": true}\n",
       "                    ).then(function(){\n",
       "                            \n",
       "var gd = document.getElementById('3861d8cb-0e57-42e2-b6b5-3ced531efb97');\n",
       "var x = new MutationObserver(function (mutations, observer) {{\n",
       "        var display = window.getComputedStyle(gd).display;\n",
       "        if (!display || display === 'none') {{\n",
       "            console.log([gd, 'removed!']);\n",
       "            Plotly.purge(gd);\n",
       "            observer.disconnect();\n",
       "        }}\n",
       "}});\n",
       "\n",
       "// Listen for the removal of the full notebook cells\n",
       "var notebookContainer = gd.closest('#notebook-container');\n",
       "if (notebookContainer) {{\n",
       "    x.observe(notebookContainer, {childList: true});\n",
       "}}\n",
       "\n",
       "// Listen for the clearing of the current output cell\n",
       "var outputEl = gd.closest('.output');\n",
       "if (outputEl) {{\n",
       "    x.observe(outputEl, {childList: true});\n",
       "}}\n",
       "\n",
       "                        })\n",
       "                };\n",
       "                });\n",
       "            </script>\n",
       "        </div>"
      ]
     },
     "metadata": {},
     "output_type": "display_data"
    }
   ],
   "source": [
    "df1.iplot() # By default, it shows a line plot and here 'i' stands for interactive"
   ]
  },
  {
   "cell_type": "markdown",
   "metadata": {},
   "source": [
    "#### Scatter Plot"
   ]
  },
  {
   "cell_type": "code",
   "execution_count": 34,
   "metadata": {},
   "outputs": [
    {
     "data": {
      "application/vnd.plotly.v1+json": {
       "config": {
        "linkText": "Export to plot.ly",
        "plotlyServerURL": "https://plot.ly",
        "showLink": true
       },
       "data": [
        {
         "line": {
          "color": "rgba(255, 153, 51, 1.0)",
          "dash": "solid",
          "shape": "linear",
          "width": 1.3
         },
         "marker": {
          "size": 10,
          "symbol": "circle"
         },
         "mode": "markers",
         "name": "B",
         "text": "",
         "type": "scatter",
         "x": [
          1.03550403305365,
          1.0884452472323425,
          -0.8238221561084681,
          -1.165409106210997,
          0.06314234757509121,
          0.28403331754428096,
          1.3031142849283257,
          -0.5330006379394974,
          0.9239955720458833,
          -0.3404308950020115,
          0.49705351026645744,
          0.11995406868417582,
          2.8763886700822554,
          0.9193262205319692,
          0.3949826146380539,
          0.1398009361049872,
          -0.2389551947409717,
          1.7631889811772778,
          0.9423296126061489,
          0.6967921196412008,
          -0.5414352907350243,
          -2.036531823296873,
          -0.24433216283716166,
          -0.6095837637269612,
          -0.8657030628068533,
          -1.3290908432224944,
          0.12455980476667877,
          1.0184694806034515,
          -1.183099026560509,
          -1.9117478241953998,
          1.5901480473509917,
          0.036261728019634634,
          -1.4686201375953223,
          0.23850038429899692,
          0.9850551573259738,
          0.2343911390852982,
          1.6218946767897775,
          0.6092426949738955,
          0.4316571530869879,
          -0.3497700989320226,
          0.0630769975004216,
          -1.7473220089492396,
          0.9992032559911043,
          -0.46947268822447513,
          -1.5169497942671446,
          -0.83250174584291,
          -0.4968973159748692,
          -0.961293262106367,
          1.57489946216533,
          0.12352962553924367,
          1.1956965136368198,
          0.2622356680889761,
          -1.3592917794393795,
          -1.3888127276879452,
          -0.4192232294633762,
          0.2162221432499591,
          2.3852910763547004,
          -1.3123647706286883,
          0.2612934369110763,
          0.8613442539868962,
          -2.199294295056723,
          0.586695375572083,
          -0.49651894860239854,
          -0.06531819539664627,
          -1.8735956634836917,
          -0.922282193523706,
          -0.1390551342534496,
          -2.07229926650626,
          -0.3136402802450524,
          1.2721102467999612,
          1.2212916123327877,
          0.4263336106747266,
          -1.3278513626090733,
          -1.4901785369107048,
          0.3370979010819831,
          1.1609741420348372,
          -1.4052615141974583,
          -1.675537604560082,
          -0.8470611330808606,
          0.846711142348439,
          1.6207509512727276,
          0.9628774645331151,
          0.08415610063834954,
          2.0515464720858776,
          0.3989174309260779,
          0.5284312945429028,
          1.316248220757381,
          0.07911639704636868,
          0.5625901301013624,
          0.10809718712260306,
          0.05558043354838223,
          1.653387809021809,
          0.19613717511683407,
          -1.0636425270979382,
          -2.3361375217663913,
          1.170649467749388,
          -1.1175819973708243,
          -0.9877716720625392,
          1.1344780752246988,
          2.753133920603948
         ],
         "y": [
          1.8960119593872942,
          -0.9013887599486713,
          -1.3179328495735878,
          0.5093309293244226,
          0.0686381546170349,
          -2.0476722168076367,
          -1.2434170473032558,
          0.3917194929936394,
          0.08754198693204741,
          1.8742193519276948,
          -0.34000427728927657,
          0.5808930813656673,
          -0.9185932288750916,
          -0.4370652175550562,
          0.1615291650092262,
          -0.5573801868161586,
          0.20872127272273155,
          1.5038452901928197,
          0.3810687629989386,
          0.7531014416401095,
          0.47515844401649343,
          -1.3117037828849436,
          -1.1128339786035324,
          1.029572365045059,
          -0.6998734664959823,
          0.38491468084915426,
          -0.851322628406908,
          0.20712468604181208,
          -1.0443583025142498,
          -0.5585025465631798,
          1.6133603060244144,
          0.6650436363899097,
          0.43497836743006446,
          -0.3135901937525547,
          -1.035819537740092,
          0.16500645542112155,
          -0.9797413668441683,
          1.1709202821872366,
          -0.3720340472186027,
          1.2875124895895487,
          -0.5342416459509143,
          0.8652415097498334,
          1.5787699931065844,
          0.801559529330312,
          1.808507607789963,
          0.8574514261933185,
          -2.4147665891905423,
          1.7264760801920465,
          -0.06502278632303127,
          0.3525427456543032,
          0.012552047667873876,
          -0.6432254433376144,
          -0.4677216910558781,
          0.3088421925727908,
          -0.24516716396534866,
          -1.0028937338811257,
          -0.11281611748353859,
          -0.21130491670513085,
          1.1809298727624613,
          -1.3801349160393888,
          0.6649025414857689,
          0.07020479167028694,
          1.740029943416659,
          0.11709800890149423,
          -0.5814226348171162,
          -1.0019165405279373,
          -0.21731413282882847,
          0.32370671894003944,
          0.9948776149290441,
          1.4343455034837274,
          1.230642479260398,
          0.4407683249017293,
          1.1008062320678353,
          -0.5268935998638822,
          -0.19239595695956105,
          0.6351734409776926,
          0.694340808578521,
          -0.5603554691124976,
          -1.6720568576003965,
          2.1469145635682256,
          2.114961913817211,
          0.6233672076422256,
          -0.3462142582361224,
          -2.4139182337762866,
          -2.126184965333488,
          0.6670682066566681,
          0.5925052023824063,
          -0.2640307238259685,
          0.98890415493091,
          0.31990550123503214,
          1.116614817349527,
          0.6146447422037827,
          0.23811295524611592,
          -0.7621631571903236,
          0.0005562339163062913,
          0.3056800154965565,
          -0.7646734494718713,
          0.7956242619405267,
          1.1363915737491685,
          0.5870292601155663
         ]
        }
       ],
       "layout": {
        "legend": {
         "bgcolor": "#F5F6F9",
         "font": {
          "color": "#4D5663"
         }
        },
        "paper_bgcolor": "#F5F6F9",
        "plot_bgcolor": "#F5F6F9",
        "template": {
         "data": {
          "bar": [
           {
            "error_x": {
             "color": "#2a3f5f"
            },
            "error_y": {
             "color": "#2a3f5f"
            },
            "marker": {
             "line": {
              "color": "#E5ECF6",
              "width": 0.5
             }
            },
            "type": "bar"
           }
          ],
          "barpolar": [
           {
            "marker": {
             "line": {
              "color": "#E5ECF6",
              "width": 0.5
             }
            },
            "type": "barpolar"
           }
          ],
          "carpet": [
           {
            "aaxis": {
             "endlinecolor": "#2a3f5f",
             "gridcolor": "white",
             "linecolor": "white",
             "minorgridcolor": "white",
             "startlinecolor": "#2a3f5f"
            },
            "baxis": {
             "endlinecolor": "#2a3f5f",
             "gridcolor": "white",
             "linecolor": "white",
             "minorgridcolor": "white",
             "startlinecolor": "#2a3f5f"
            },
            "type": "carpet"
           }
          ],
          "choropleth": [
           {
            "colorbar": {
             "outlinewidth": 0,
             "ticks": ""
            },
            "type": "choropleth"
           }
          ],
          "contour": [
           {
            "colorbar": {
             "outlinewidth": 0,
             "ticks": ""
            },
            "colorscale": [
             [
              0,
              "#0d0887"
             ],
             [
              0.1111111111111111,
              "#46039f"
             ],
             [
              0.2222222222222222,
              "#7201a8"
             ],
             [
              0.3333333333333333,
              "#9c179e"
             ],
             [
              0.4444444444444444,
              "#bd3786"
             ],
             [
              0.5555555555555556,
              "#d8576b"
             ],
             [
              0.6666666666666666,
              "#ed7953"
             ],
             [
              0.7777777777777778,
              "#fb9f3a"
             ],
             [
              0.8888888888888888,
              "#fdca26"
             ],
             [
              1,
              "#f0f921"
             ]
            ],
            "type": "contour"
           }
          ],
          "contourcarpet": [
           {
            "colorbar": {
             "outlinewidth": 0,
             "ticks": ""
            },
            "type": "contourcarpet"
           }
          ],
          "heatmap": [
           {
            "colorbar": {
             "outlinewidth": 0,
             "ticks": ""
            },
            "colorscale": [
             [
              0,
              "#0d0887"
             ],
             [
              0.1111111111111111,
              "#46039f"
             ],
             [
              0.2222222222222222,
              "#7201a8"
             ],
             [
              0.3333333333333333,
              "#9c179e"
             ],
             [
              0.4444444444444444,
              "#bd3786"
             ],
             [
              0.5555555555555556,
              "#d8576b"
             ],
             [
              0.6666666666666666,
              "#ed7953"
             ],
             [
              0.7777777777777778,
              "#fb9f3a"
             ],
             [
              0.8888888888888888,
              "#fdca26"
             ],
             [
              1,
              "#f0f921"
             ]
            ],
            "type": "heatmap"
           }
          ],
          "heatmapgl": [
           {
            "colorbar": {
             "outlinewidth": 0,
             "ticks": ""
            },
            "colorscale": [
             [
              0,
              "#0d0887"
             ],
             [
              0.1111111111111111,
              "#46039f"
             ],
             [
              0.2222222222222222,
              "#7201a8"
             ],
             [
              0.3333333333333333,
              "#9c179e"
             ],
             [
              0.4444444444444444,
              "#bd3786"
             ],
             [
              0.5555555555555556,
              "#d8576b"
             ],
             [
              0.6666666666666666,
              "#ed7953"
             ],
             [
              0.7777777777777778,
              "#fb9f3a"
             ],
             [
              0.8888888888888888,
              "#fdca26"
             ],
             [
              1,
              "#f0f921"
             ]
            ],
            "type": "heatmapgl"
           }
          ],
          "histogram": [
           {
            "marker": {
             "colorbar": {
              "outlinewidth": 0,
              "ticks": ""
             }
            },
            "type": "histogram"
           }
          ],
          "histogram2d": [
           {
            "colorbar": {
             "outlinewidth": 0,
             "ticks": ""
            },
            "colorscale": [
             [
              0,
              "#0d0887"
             ],
             [
              0.1111111111111111,
              "#46039f"
             ],
             [
              0.2222222222222222,
              "#7201a8"
             ],
             [
              0.3333333333333333,
              "#9c179e"
             ],
             [
              0.4444444444444444,
              "#bd3786"
             ],
             [
              0.5555555555555556,
              "#d8576b"
             ],
             [
              0.6666666666666666,
              "#ed7953"
             ],
             [
              0.7777777777777778,
              "#fb9f3a"
             ],
             [
              0.8888888888888888,
              "#fdca26"
             ],
             [
              1,
              "#f0f921"
             ]
            ],
            "type": "histogram2d"
           }
          ],
          "histogram2dcontour": [
           {
            "colorbar": {
             "outlinewidth": 0,
             "ticks": ""
            },
            "colorscale": [
             [
              0,
              "#0d0887"
             ],
             [
              0.1111111111111111,
              "#46039f"
             ],
             [
              0.2222222222222222,
              "#7201a8"
             ],
             [
              0.3333333333333333,
              "#9c179e"
             ],
             [
              0.4444444444444444,
              "#bd3786"
             ],
             [
              0.5555555555555556,
              "#d8576b"
             ],
             [
              0.6666666666666666,
              "#ed7953"
             ],
             [
              0.7777777777777778,
              "#fb9f3a"
             ],
             [
              0.8888888888888888,
              "#fdca26"
             ],
             [
              1,
              "#f0f921"
             ]
            ],
            "type": "histogram2dcontour"
           }
          ],
          "mesh3d": [
           {
            "colorbar": {
             "outlinewidth": 0,
             "ticks": ""
            },
            "type": "mesh3d"
           }
          ],
          "parcoords": [
           {
            "line": {
             "colorbar": {
              "outlinewidth": 0,
              "ticks": ""
             }
            },
            "type": "parcoords"
           }
          ],
          "pie": [
           {
            "automargin": true,
            "type": "pie"
           }
          ],
          "scatter": [
           {
            "marker": {
             "colorbar": {
              "outlinewidth": 0,
              "ticks": ""
             }
            },
            "type": "scatter"
           }
          ],
          "scatter3d": [
           {
            "line": {
             "colorbar": {
              "outlinewidth": 0,
              "ticks": ""
             }
            },
            "marker": {
             "colorbar": {
              "outlinewidth": 0,
              "ticks": ""
             }
            },
            "type": "scatter3d"
           }
          ],
          "scattercarpet": [
           {
            "marker": {
             "colorbar": {
              "outlinewidth": 0,
              "ticks": ""
             }
            },
            "type": "scattercarpet"
           }
          ],
          "scattergeo": [
           {
            "marker": {
             "colorbar": {
              "outlinewidth": 0,
              "ticks": ""
             }
            },
            "type": "scattergeo"
           }
          ],
          "scattergl": [
           {
            "marker": {
             "colorbar": {
              "outlinewidth": 0,
              "ticks": ""
             }
            },
            "type": "scattergl"
           }
          ],
          "scattermapbox": [
           {
            "marker": {
             "colorbar": {
              "outlinewidth": 0,
              "ticks": ""
             }
            },
            "type": "scattermapbox"
           }
          ],
          "scatterpolar": [
           {
            "marker": {
             "colorbar": {
              "outlinewidth": 0,
              "ticks": ""
             }
            },
            "type": "scatterpolar"
           }
          ],
          "scatterpolargl": [
           {
            "marker": {
             "colorbar": {
              "outlinewidth": 0,
              "ticks": ""
             }
            },
            "type": "scatterpolargl"
           }
          ],
          "scatterternary": [
           {
            "marker": {
             "colorbar": {
              "outlinewidth": 0,
              "ticks": ""
             }
            },
            "type": "scatterternary"
           }
          ],
          "surface": [
           {
            "colorbar": {
             "outlinewidth": 0,
             "ticks": ""
            },
            "colorscale": [
             [
              0,
              "#0d0887"
             ],
             [
              0.1111111111111111,
              "#46039f"
             ],
             [
              0.2222222222222222,
              "#7201a8"
             ],
             [
              0.3333333333333333,
              "#9c179e"
             ],
             [
              0.4444444444444444,
              "#bd3786"
             ],
             [
              0.5555555555555556,
              "#d8576b"
             ],
             [
              0.6666666666666666,
              "#ed7953"
             ],
             [
              0.7777777777777778,
              "#fb9f3a"
             ],
             [
              0.8888888888888888,
              "#fdca26"
             ],
             [
              1,
              "#f0f921"
             ]
            ],
            "type": "surface"
           }
          ],
          "table": [
           {
            "cells": {
             "fill": {
              "color": "#EBF0F8"
             },
             "line": {
              "color": "white"
             }
            },
            "header": {
             "fill": {
              "color": "#C8D4E3"
             },
             "line": {
              "color": "white"
             }
            },
            "type": "table"
           }
          ]
         },
         "layout": {
          "annotationdefaults": {
           "arrowcolor": "#2a3f5f",
           "arrowhead": 0,
           "arrowwidth": 1
          },
          "coloraxis": {
           "colorbar": {
            "outlinewidth": 0,
            "ticks": ""
           }
          },
          "colorscale": {
           "diverging": [
            [
             0,
             "#8e0152"
            ],
            [
             0.1,
             "#c51b7d"
            ],
            [
             0.2,
             "#de77ae"
            ],
            [
             0.3,
             "#f1b6da"
            ],
            [
             0.4,
             "#fde0ef"
            ],
            [
             0.5,
             "#f7f7f7"
            ],
            [
             0.6,
             "#e6f5d0"
            ],
            [
             0.7,
             "#b8e186"
            ],
            [
             0.8,
             "#7fbc41"
            ],
            [
             0.9,
             "#4d9221"
            ],
            [
             1,
             "#276419"
            ]
           ],
           "sequential": [
            [
             0,
             "#0d0887"
            ],
            [
             0.1111111111111111,
             "#46039f"
            ],
            [
             0.2222222222222222,
             "#7201a8"
            ],
            [
             0.3333333333333333,
             "#9c179e"
            ],
            [
             0.4444444444444444,
             "#bd3786"
            ],
            [
             0.5555555555555556,
             "#d8576b"
            ],
            [
             0.6666666666666666,
             "#ed7953"
            ],
            [
             0.7777777777777778,
             "#fb9f3a"
            ],
            [
             0.8888888888888888,
             "#fdca26"
            ],
            [
             1,
             "#f0f921"
            ]
           ],
           "sequentialminus": [
            [
             0,
             "#0d0887"
            ],
            [
             0.1111111111111111,
             "#46039f"
            ],
            [
             0.2222222222222222,
             "#7201a8"
            ],
            [
             0.3333333333333333,
             "#9c179e"
            ],
            [
             0.4444444444444444,
             "#bd3786"
            ],
            [
             0.5555555555555556,
             "#d8576b"
            ],
            [
             0.6666666666666666,
             "#ed7953"
            ],
            [
             0.7777777777777778,
             "#fb9f3a"
            ],
            [
             0.8888888888888888,
             "#fdca26"
            ],
            [
             1,
             "#f0f921"
            ]
           ]
          },
          "colorway": [
           "#636efa",
           "#EF553B",
           "#00cc96",
           "#ab63fa",
           "#FFA15A",
           "#19d3f3",
           "#FF6692",
           "#B6E880",
           "#FF97FF",
           "#FECB52"
          ],
          "font": {
           "color": "#2a3f5f"
          },
          "geo": {
           "bgcolor": "white",
           "lakecolor": "white",
           "landcolor": "#E5ECF6",
           "showlakes": true,
           "showland": true,
           "subunitcolor": "white"
          },
          "hoverlabel": {
           "align": "left"
          },
          "hovermode": "closest",
          "mapbox": {
           "style": "light"
          },
          "paper_bgcolor": "white",
          "plot_bgcolor": "#E5ECF6",
          "polar": {
           "angularaxis": {
            "gridcolor": "white",
            "linecolor": "white",
            "ticks": ""
           },
           "bgcolor": "#E5ECF6",
           "radialaxis": {
            "gridcolor": "white",
            "linecolor": "white",
            "ticks": ""
           }
          },
          "scene": {
           "xaxis": {
            "backgroundcolor": "#E5ECF6",
            "gridcolor": "white",
            "gridwidth": 2,
            "linecolor": "white",
            "showbackground": true,
            "ticks": "",
            "zerolinecolor": "white"
           },
           "yaxis": {
            "backgroundcolor": "#E5ECF6",
            "gridcolor": "white",
            "gridwidth": 2,
            "linecolor": "white",
            "showbackground": true,
            "ticks": "",
            "zerolinecolor": "white"
           },
           "zaxis": {
            "backgroundcolor": "#E5ECF6",
            "gridcolor": "white",
            "gridwidth": 2,
            "linecolor": "white",
            "showbackground": true,
            "ticks": "",
            "zerolinecolor": "white"
           }
          },
          "shapedefaults": {
           "line": {
            "color": "#2a3f5f"
           }
          },
          "ternary": {
           "aaxis": {
            "gridcolor": "white",
            "linecolor": "white",
            "ticks": ""
           },
           "baxis": {
            "gridcolor": "white",
            "linecolor": "white",
            "ticks": ""
           },
           "bgcolor": "#E5ECF6",
           "caxis": {
            "gridcolor": "white",
            "linecolor": "white",
            "ticks": ""
           }
          },
          "title": {
           "x": 0.05
          },
          "xaxis": {
           "automargin": true,
           "gridcolor": "white",
           "linecolor": "white",
           "ticks": "",
           "title": {
            "standoff": 15
           },
           "zerolinecolor": "white",
           "zerolinewidth": 2
          },
          "yaxis": {
           "automargin": true,
           "gridcolor": "white",
           "linecolor": "white",
           "ticks": "",
           "title": {
            "standoff": 15
           },
           "zerolinecolor": "white",
           "zerolinewidth": 2
          }
         }
        },
        "title": {
         "font": {
          "color": "#4D5663"
         }
        },
        "xaxis": {
         "gridcolor": "#E1E5ED",
         "showgrid": true,
         "tickfont": {
          "color": "#4D5663"
         },
         "title": {
          "font": {
           "color": "#4D5663"
          },
          "text": ""
         },
         "zerolinecolor": "#E1E5ED"
        },
        "yaxis": {
         "gridcolor": "#E1E5ED",
         "showgrid": true,
         "tickfont": {
          "color": "#4D5663"
         },
         "title": {
          "font": {
           "color": "#4D5663"
          },
          "text": ""
         },
         "zerolinecolor": "#E1E5ED"
        }
       }
      },
      "text/html": [
       "<div>\n",
       "        \n",
       "        \n",
       "            <div id=\"71719e9d-106d-4a7a-aa8a-f463bc69e090\" class=\"plotly-graph-div\" style=\"height:525px; width:100%;\"></div>\n",
       "            <script type=\"text/javascript\">\n",
       "                require([\"plotly\"], function(Plotly) {\n",
       "                    window.PLOTLYENV=window.PLOTLYENV || {};\n",
       "                    window.PLOTLYENV.BASE_URL='https://plot.ly';\n",
       "                    \n",
       "                if (document.getElementById(\"71719e9d-106d-4a7a-aa8a-f463bc69e090\")) {\n",
       "                    Plotly.newPlot(\n",
       "                        '71719e9d-106d-4a7a-aa8a-f463bc69e090',\n",
       "                        [{\"line\": {\"color\": \"rgba(255, 153, 51, 1.0)\", \"dash\": \"solid\", \"shape\": \"linear\", \"width\": 1.3}, \"marker\": {\"size\": 10, \"symbol\": \"circle\"}, \"mode\": \"markers\", \"name\": \"B\", \"text\": \"\", \"type\": \"scatter\", \"x\": [1.03550403305365, 1.0884452472323425, -0.8238221561084681, -1.165409106210997, 0.06314234757509121, 0.28403331754428096, 1.3031142849283257, -0.5330006379394974, 0.9239955720458833, -0.3404308950020115, 0.49705351026645744, 0.11995406868417582, 2.8763886700822554, 0.9193262205319692, 0.3949826146380539, 0.1398009361049872, -0.2389551947409717, 1.7631889811772778, 0.9423296126061489, 0.6967921196412008, -0.5414352907350243, -2.036531823296873, -0.24433216283716166, -0.6095837637269612, -0.8657030628068533, -1.3290908432224944, 0.12455980476667877, 1.0184694806034515, -1.183099026560509, -1.9117478241953998, 1.5901480473509917, 0.036261728019634634, -1.4686201375953223, 0.23850038429899692, 0.9850551573259738, 0.2343911390852982, 1.6218946767897775, 0.6092426949738955, 0.4316571530869879, -0.3497700989320226, 0.0630769975004216, -1.7473220089492396, 0.9992032559911043, -0.46947268822447513, -1.5169497942671446, -0.83250174584291, -0.4968973159748692, -0.961293262106367, 1.57489946216533, 0.12352962553924367, 1.1956965136368198, 0.2622356680889761, -1.3592917794393795, -1.3888127276879452, -0.4192232294633762, 0.2162221432499591, 2.3852910763547004, -1.3123647706286883, 0.2612934369110763, 0.8613442539868962, -2.199294295056723, 0.586695375572083, -0.49651894860239854, -0.06531819539664627, -1.8735956634836917, -0.922282193523706, -0.1390551342534496, -2.07229926650626, -0.3136402802450524, 1.2721102467999612, 1.2212916123327877, 0.4263336106747266, -1.3278513626090733, -1.4901785369107048, 0.3370979010819831, 1.1609741420348372, -1.4052615141974583, -1.675537604560082, -0.8470611330808606, 0.846711142348439, 1.6207509512727276, 0.9628774645331151, 0.08415610063834954, 2.0515464720858776, 0.3989174309260779, 0.5284312945429028, 1.316248220757381, 0.07911639704636868, 0.5625901301013624, 0.10809718712260306, 0.05558043354838223, 1.653387809021809, 0.19613717511683407, -1.0636425270979382, -2.3361375217663913, 1.170649467749388, -1.1175819973708243, -0.9877716720625392, 1.1344780752246988, 2.753133920603948], \"y\": [1.8960119593872942, -0.9013887599486713, -1.3179328495735878, 0.5093309293244226, 0.0686381546170349, -2.0476722168076367, -1.2434170473032558, 0.3917194929936394, 0.08754198693204741, 1.8742193519276948, -0.34000427728927657, 0.5808930813656673, -0.9185932288750916, -0.4370652175550562, 0.1615291650092262, -0.5573801868161586, 0.20872127272273155, 1.5038452901928197, 0.3810687629989386, 0.7531014416401095, 0.47515844401649343, -1.3117037828849436, -1.1128339786035324, 1.029572365045059, -0.6998734664959823, 0.38491468084915426, -0.851322628406908, 0.20712468604181208, -1.0443583025142498, -0.5585025465631798, 1.6133603060244144, 0.6650436363899097, 0.43497836743006446, -0.3135901937525547, -1.035819537740092, 0.16500645542112155, -0.9797413668441683, 1.1709202821872366, -0.3720340472186027, 1.2875124895895487, -0.5342416459509143, 0.8652415097498334, 1.5787699931065844, 0.801559529330312, 1.808507607789963, 0.8574514261933185, -2.4147665891905423, 1.7264760801920465, -0.06502278632303127, 0.3525427456543032, 0.012552047667873876, -0.6432254433376144, -0.4677216910558781, 0.3088421925727908, -0.24516716396534866, -1.0028937338811257, -0.11281611748353859, -0.21130491670513085, 1.1809298727624613, -1.3801349160393888, 0.6649025414857689, 0.07020479167028694, 1.740029943416659, 0.11709800890149423, -0.5814226348171162, -1.0019165405279373, -0.21731413282882847, 0.32370671894003944, 0.9948776149290441, 1.4343455034837274, 1.230642479260398, 0.4407683249017293, 1.1008062320678353, -0.5268935998638822, -0.19239595695956105, 0.6351734409776926, 0.694340808578521, -0.5603554691124976, -1.6720568576003965, 2.1469145635682256, 2.114961913817211, 0.6233672076422256, -0.3462142582361224, -2.4139182337762866, -2.126184965333488, 0.6670682066566681, 0.5925052023824063, -0.2640307238259685, 0.98890415493091, 0.31990550123503214, 1.116614817349527, 0.6146447422037827, 0.23811295524611592, -0.7621631571903236, 0.0005562339163062913, 0.3056800154965565, -0.7646734494718713, 0.7956242619405267, 1.1363915737491685, 0.5870292601155663]}],\n",
       "                        {\"legend\": {\"bgcolor\": \"#F5F6F9\", \"font\": {\"color\": \"#4D5663\"}}, \"paper_bgcolor\": \"#F5F6F9\", \"plot_bgcolor\": \"#F5F6F9\", \"template\": {\"data\": {\"bar\": [{\"error_x\": {\"color\": \"#2a3f5f\"}, \"error_y\": {\"color\": \"#2a3f5f\"}, \"marker\": {\"line\": {\"color\": \"#E5ECF6\", \"width\": 0.5}}, \"type\": \"bar\"}], \"barpolar\": [{\"marker\": {\"line\": {\"color\": \"#E5ECF6\", \"width\": 0.5}}, \"type\": \"barpolar\"}], \"carpet\": [{\"aaxis\": {\"endlinecolor\": \"#2a3f5f\", \"gridcolor\": \"white\", \"linecolor\": \"white\", \"minorgridcolor\": \"white\", \"startlinecolor\": \"#2a3f5f\"}, \"baxis\": {\"endlinecolor\": \"#2a3f5f\", \"gridcolor\": \"white\", \"linecolor\": \"white\", \"minorgridcolor\": \"white\", \"startlinecolor\": \"#2a3f5f\"}, \"type\": \"carpet\"}], \"choropleth\": [{\"colorbar\": {\"outlinewidth\": 0, \"ticks\": \"\"}, \"type\": \"choropleth\"}], \"contour\": [{\"colorbar\": {\"outlinewidth\": 0, \"ticks\": \"\"}, \"colorscale\": [[0.0, \"#0d0887\"], [0.1111111111111111, \"#46039f\"], [0.2222222222222222, \"#7201a8\"], [0.3333333333333333, \"#9c179e\"], [0.4444444444444444, \"#bd3786\"], [0.5555555555555556, \"#d8576b\"], [0.6666666666666666, \"#ed7953\"], [0.7777777777777778, \"#fb9f3a\"], [0.8888888888888888, \"#fdca26\"], [1.0, \"#f0f921\"]], \"type\": \"contour\"}], \"contourcarpet\": [{\"colorbar\": {\"outlinewidth\": 0, \"ticks\": \"\"}, \"type\": \"contourcarpet\"}], \"heatmap\": [{\"colorbar\": {\"outlinewidth\": 0, \"ticks\": \"\"}, \"colorscale\": [[0.0, \"#0d0887\"], [0.1111111111111111, \"#46039f\"], [0.2222222222222222, \"#7201a8\"], [0.3333333333333333, \"#9c179e\"], [0.4444444444444444, \"#bd3786\"], [0.5555555555555556, \"#d8576b\"], [0.6666666666666666, \"#ed7953\"], [0.7777777777777778, \"#fb9f3a\"], [0.8888888888888888, \"#fdca26\"], [1.0, \"#f0f921\"]], \"type\": \"heatmap\"}], \"heatmapgl\": [{\"colorbar\": {\"outlinewidth\": 0, \"ticks\": \"\"}, \"colorscale\": [[0.0, \"#0d0887\"], [0.1111111111111111, \"#46039f\"], [0.2222222222222222, \"#7201a8\"], [0.3333333333333333, \"#9c179e\"], [0.4444444444444444, \"#bd3786\"], [0.5555555555555556, \"#d8576b\"], [0.6666666666666666, \"#ed7953\"], [0.7777777777777778, \"#fb9f3a\"], [0.8888888888888888, \"#fdca26\"], [1.0, \"#f0f921\"]], \"type\": \"heatmapgl\"}], \"histogram\": [{\"marker\": {\"colorbar\": {\"outlinewidth\": 0, \"ticks\": \"\"}}, \"type\": \"histogram\"}], \"histogram2d\": [{\"colorbar\": {\"outlinewidth\": 0, \"ticks\": \"\"}, \"colorscale\": [[0.0, \"#0d0887\"], [0.1111111111111111, \"#46039f\"], [0.2222222222222222, \"#7201a8\"], [0.3333333333333333, \"#9c179e\"], [0.4444444444444444, \"#bd3786\"], [0.5555555555555556, \"#d8576b\"], [0.6666666666666666, \"#ed7953\"], [0.7777777777777778, \"#fb9f3a\"], [0.8888888888888888, \"#fdca26\"], [1.0, \"#f0f921\"]], \"type\": \"histogram2d\"}], \"histogram2dcontour\": [{\"colorbar\": {\"outlinewidth\": 0, \"ticks\": \"\"}, \"colorscale\": [[0.0, \"#0d0887\"], [0.1111111111111111, \"#46039f\"], [0.2222222222222222, \"#7201a8\"], [0.3333333333333333, \"#9c179e\"], [0.4444444444444444, \"#bd3786\"], [0.5555555555555556, \"#d8576b\"], [0.6666666666666666, \"#ed7953\"], [0.7777777777777778, \"#fb9f3a\"], [0.8888888888888888, \"#fdca26\"], [1.0, \"#f0f921\"]], \"type\": \"histogram2dcontour\"}], \"mesh3d\": [{\"colorbar\": {\"outlinewidth\": 0, \"ticks\": \"\"}, \"type\": \"mesh3d\"}], \"parcoords\": [{\"line\": {\"colorbar\": {\"outlinewidth\": 0, \"ticks\": \"\"}}, \"type\": \"parcoords\"}], \"pie\": [{\"automargin\": true, \"type\": \"pie\"}], \"scatter\": [{\"marker\": {\"colorbar\": {\"outlinewidth\": 0, \"ticks\": \"\"}}, \"type\": \"scatter\"}], \"scatter3d\": [{\"line\": {\"colorbar\": {\"outlinewidth\": 0, \"ticks\": \"\"}}, \"marker\": {\"colorbar\": {\"outlinewidth\": 0, \"ticks\": \"\"}}, \"type\": \"scatter3d\"}], \"scattercarpet\": [{\"marker\": {\"colorbar\": {\"outlinewidth\": 0, \"ticks\": \"\"}}, \"type\": \"scattercarpet\"}], \"scattergeo\": [{\"marker\": {\"colorbar\": {\"outlinewidth\": 0, \"ticks\": \"\"}}, \"type\": \"scattergeo\"}], \"scattergl\": [{\"marker\": {\"colorbar\": {\"outlinewidth\": 0, \"ticks\": \"\"}}, \"type\": \"scattergl\"}], \"scattermapbox\": [{\"marker\": {\"colorbar\": {\"outlinewidth\": 0, \"ticks\": \"\"}}, \"type\": \"scattermapbox\"}], \"scatterpolar\": [{\"marker\": {\"colorbar\": {\"outlinewidth\": 0, \"ticks\": \"\"}}, \"type\": \"scatterpolar\"}], \"scatterpolargl\": [{\"marker\": {\"colorbar\": {\"outlinewidth\": 0, \"ticks\": \"\"}}, \"type\": \"scatterpolargl\"}], \"scatterternary\": [{\"marker\": {\"colorbar\": {\"outlinewidth\": 0, \"ticks\": \"\"}}, \"type\": \"scatterternary\"}], \"surface\": [{\"colorbar\": {\"outlinewidth\": 0, \"ticks\": \"\"}, \"colorscale\": [[0.0, \"#0d0887\"], [0.1111111111111111, \"#46039f\"], [0.2222222222222222, \"#7201a8\"], [0.3333333333333333, \"#9c179e\"], [0.4444444444444444, \"#bd3786\"], [0.5555555555555556, \"#d8576b\"], [0.6666666666666666, \"#ed7953\"], [0.7777777777777778, \"#fb9f3a\"], [0.8888888888888888, \"#fdca26\"], [1.0, \"#f0f921\"]], \"type\": \"surface\"}], \"table\": [{\"cells\": {\"fill\": {\"color\": \"#EBF0F8\"}, \"line\": {\"color\": \"white\"}}, \"header\": {\"fill\": {\"color\": \"#C8D4E3\"}, \"line\": {\"color\": \"white\"}}, \"type\": \"table\"}]}, \"layout\": {\"annotationdefaults\": {\"arrowcolor\": \"#2a3f5f\", \"arrowhead\": 0, \"arrowwidth\": 1}, \"coloraxis\": {\"colorbar\": {\"outlinewidth\": 0, \"ticks\": \"\"}}, \"colorscale\": {\"diverging\": [[0, \"#8e0152\"], [0.1, \"#c51b7d\"], [0.2, \"#de77ae\"], [0.3, \"#f1b6da\"], [0.4, \"#fde0ef\"], [0.5, \"#f7f7f7\"], [0.6, \"#e6f5d0\"], [0.7, \"#b8e186\"], [0.8, \"#7fbc41\"], [0.9, \"#4d9221\"], [1, \"#276419\"]], \"sequential\": [[0.0, \"#0d0887\"], [0.1111111111111111, \"#46039f\"], [0.2222222222222222, \"#7201a8\"], [0.3333333333333333, \"#9c179e\"], [0.4444444444444444, \"#bd3786\"], [0.5555555555555556, \"#d8576b\"], [0.6666666666666666, \"#ed7953\"], [0.7777777777777778, \"#fb9f3a\"], [0.8888888888888888, \"#fdca26\"], [1.0, \"#f0f921\"]], \"sequentialminus\": [[0.0, \"#0d0887\"], [0.1111111111111111, \"#46039f\"], [0.2222222222222222, \"#7201a8\"], [0.3333333333333333, \"#9c179e\"], [0.4444444444444444, \"#bd3786\"], [0.5555555555555556, \"#d8576b\"], [0.6666666666666666, \"#ed7953\"], [0.7777777777777778, \"#fb9f3a\"], [0.8888888888888888, \"#fdca26\"], [1.0, \"#f0f921\"]]}, \"colorway\": [\"#636efa\", \"#EF553B\", \"#00cc96\", \"#ab63fa\", \"#FFA15A\", \"#19d3f3\", \"#FF6692\", \"#B6E880\", \"#FF97FF\", \"#FECB52\"], \"font\": {\"color\": \"#2a3f5f\"}, \"geo\": {\"bgcolor\": \"white\", \"lakecolor\": \"white\", \"landcolor\": \"#E5ECF6\", \"showlakes\": true, \"showland\": true, \"subunitcolor\": \"white\"}, \"hoverlabel\": {\"align\": \"left\"}, \"hovermode\": \"closest\", \"mapbox\": {\"style\": \"light\"}, \"paper_bgcolor\": \"white\", \"plot_bgcolor\": \"#E5ECF6\", \"polar\": {\"angularaxis\": {\"gridcolor\": \"white\", \"linecolor\": \"white\", \"ticks\": \"\"}, \"bgcolor\": \"#E5ECF6\", \"radialaxis\": {\"gridcolor\": \"white\", \"linecolor\": \"white\", \"ticks\": \"\"}}, \"scene\": {\"xaxis\": {\"backgroundcolor\": \"#E5ECF6\", \"gridcolor\": \"white\", \"gridwidth\": 2, \"linecolor\": \"white\", \"showbackground\": true, \"ticks\": \"\", \"zerolinecolor\": \"white\"}, \"yaxis\": {\"backgroundcolor\": \"#E5ECF6\", \"gridcolor\": \"white\", \"gridwidth\": 2, \"linecolor\": \"white\", \"showbackground\": true, \"ticks\": \"\", \"zerolinecolor\": \"white\"}, \"zaxis\": {\"backgroundcolor\": \"#E5ECF6\", \"gridcolor\": \"white\", \"gridwidth\": 2, \"linecolor\": \"white\", \"showbackground\": true, \"ticks\": \"\", \"zerolinecolor\": \"white\"}}, \"shapedefaults\": {\"line\": {\"color\": \"#2a3f5f\"}}, \"ternary\": {\"aaxis\": {\"gridcolor\": \"white\", \"linecolor\": \"white\", \"ticks\": \"\"}, \"baxis\": {\"gridcolor\": \"white\", \"linecolor\": \"white\", \"ticks\": \"\"}, \"bgcolor\": \"#E5ECF6\", \"caxis\": {\"gridcolor\": \"white\", \"linecolor\": \"white\", \"ticks\": \"\"}}, \"title\": {\"x\": 0.05}, \"xaxis\": {\"automargin\": true, \"gridcolor\": \"white\", \"linecolor\": \"white\", \"ticks\": \"\", \"title\": {\"standoff\": 15}, \"zerolinecolor\": \"white\", \"zerolinewidth\": 2}, \"yaxis\": {\"automargin\": true, \"gridcolor\": \"white\", \"linecolor\": \"white\", \"ticks\": \"\", \"title\": {\"standoff\": 15}, \"zerolinecolor\": \"white\", \"zerolinewidth\": 2}}}, \"title\": {\"font\": {\"color\": \"#4D5663\"}}, \"xaxis\": {\"gridcolor\": \"#E1E5ED\", \"showgrid\": true, \"tickfont\": {\"color\": \"#4D5663\"}, \"title\": {\"font\": {\"color\": \"#4D5663\"}, \"text\": \"\"}, \"zerolinecolor\": \"#E1E5ED\"}, \"yaxis\": {\"gridcolor\": \"#E1E5ED\", \"showgrid\": true, \"tickfont\": {\"color\": \"#4D5663\"}, \"title\": {\"font\": {\"color\": \"#4D5663\"}, \"text\": \"\"}, \"zerolinecolor\": \"#E1E5ED\"}},\n",
       "                        {\"showLink\": true, \"linkText\": \"Export to plot.ly\", \"plotlyServerURL\": \"https://plot.ly\", \"responsive\": true}\n",
       "                    ).then(function(){\n",
       "                            \n",
       "var gd = document.getElementById('71719e9d-106d-4a7a-aa8a-f463bc69e090');\n",
       "var x = new MutationObserver(function (mutations, observer) {{\n",
       "        var display = window.getComputedStyle(gd).display;\n",
       "        if (!display || display === 'none') {{\n",
       "            console.log([gd, 'removed!']);\n",
       "            Plotly.purge(gd);\n",
       "            observer.disconnect();\n",
       "        }}\n",
       "}});\n",
       "\n",
       "// Listen for the removal of the full notebook cells\n",
       "var notebookContainer = gd.closest('#notebook-container');\n",
       "if (notebookContainer) {{\n",
       "    x.observe(notebookContainer, {childList: true});\n",
       "}}\n",
       "\n",
       "// Listen for the clearing of the current output cell\n",
       "var outputEl = gd.closest('.output');\n",
       "if (outputEl) {{\n",
       "    x.observe(outputEl, {childList: true});\n",
       "}}\n",
       "\n",
       "                        })\n",
       "                };\n",
       "                });\n",
       "            </script>\n",
       "        </div>"
      ]
     },
     "metadata": {},
     "output_type": "display_data"
    }
   ],
   "source": [
    "df1.iplot(kind='scatter',x='A',y='B',mode='markers',size=10)"
   ]
  },
  {
   "cell_type": "markdown",
   "metadata": {},
   "source": [
    "#### Bar Plot"
   ]
  },
  {
   "cell_type": "code",
   "execution_count": 25,
   "metadata": {},
   "outputs": [],
   "source": [
    "# For bar plots, we know that for x-axis, we use categorical column and for y-Axis, we use numerical column"
   ]
  },
  {
   "cell_type": "code",
   "execution_count": 26,
   "metadata": {},
   "outputs": [
    {
     "data": {
      "text/html": [
       "<div>\n",
       "<style scoped>\n",
       "    .dataframe tbody tr th:only-of-type {\n",
       "        vertical-align: middle;\n",
       "    }\n",
       "\n",
       "    .dataframe tbody tr th {\n",
       "        vertical-align: top;\n",
       "    }\n",
       "\n",
       "    .dataframe thead th {\n",
       "        text-align: right;\n",
       "    }\n",
       "</style>\n",
       "<table border=\"1\" class=\"dataframe\">\n",
       "  <thead>\n",
       "    <tr style=\"text-align: right;\">\n",
       "      <th></th>\n",
       "      <th>Category</th>\n",
       "      <th>Values</th>\n",
       "    </tr>\n",
       "  </thead>\n",
       "  <tbody>\n",
       "    <tr>\n",
       "      <th>0</th>\n",
       "      <td>A</td>\n",
       "      <td>32</td>\n",
       "    </tr>\n",
       "    <tr>\n",
       "      <th>1</th>\n",
       "      <td>B</td>\n",
       "      <td>43</td>\n",
       "    </tr>\n",
       "    <tr>\n",
       "      <th>2</th>\n",
       "      <td>C</td>\n",
       "      <td>50</td>\n",
       "    </tr>\n",
       "  </tbody>\n",
       "</table>\n",
       "</div>"
      ],
      "text/plain": [
       "  Category  Values\n",
       "0        A      32\n",
       "1        B      43\n",
       "2        C      50"
      ]
     },
     "execution_count": 26,
     "metadata": {},
     "output_type": "execute_result"
    }
   ],
   "source": [
    "df2"
   ]
  },
  {
   "cell_type": "code",
   "execution_count": 39,
   "metadata": {},
   "outputs": [
    {
     "data": {
      "application/vnd.plotly.v1+json": {
       "config": {
        "linkText": "Export to plot.ly",
        "plotlyServerURL": "https://plot.ly",
        "showLink": true
       },
       "data": [
        {
         "marker": {
          "color": "rgba(255, 153, 51, 0.6)",
          "line": {
           "color": "rgba(255, 153, 51, 1.0)",
           "width": 1
          }
         },
         "name": "Values",
         "orientation": "v",
         "text": "",
         "type": "bar",
         "x": [
          "A",
          "B",
          "C"
         ],
         "y": [
          32,
          43,
          50
         ]
        }
       ],
       "layout": {
        "legend": {
         "bgcolor": "#F5F6F9",
         "font": {
          "color": "#4D5663"
         }
        },
        "paper_bgcolor": "#F5F6F9",
        "plot_bgcolor": "#F5F6F9",
        "template": {
         "data": {
          "bar": [
           {
            "error_x": {
             "color": "#2a3f5f"
            },
            "error_y": {
             "color": "#2a3f5f"
            },
            "marker": {
             "line": {
              "color": "#E5ECF6",
              "width": 0.5
             }
            },
            "type": "bar"
           }
          ],
          "barpolar": [
           {
            "marker": {
             "line": {
              "color": "#E5ECF6",
              "width": 0.5
             }
            },
            "type": "barpolar"
           }
          ],
          "carpet": [
           {
            "aaxis": {
             "endlinecolor": "#2a3f5f",
             "gridcolor": "white",
             "linecolor": "white",
             "minorgridcolor": "white",
             "startlinecolor": "#2a3f5f"
            },
            "baxis": {
             "endlinecolor": "#2a3f5f",
             "gridcolor": "white",
             "linecolor": "white",
             "minorgridcolor": "white",
             "startlinecolor": "#2a3f5f"
            },
            "type": "carpet"
           }
          ],
          "choropleth": [
           {
            "colorbar": {
             "outlinewidth": 0,
             "ticks": ""
            },
            "type": "choropleth"
           }
          ],
          "contour": [
           {
            "colorbar": {
             "outlinewidth": 0,
             "ticks": ""
            },
            "colorscale": [
             [
              0,
              "#0d0887"
             ],
             [
              0.1111111111111111,
              "#46039f"
             ],
             [
              0.2222222222222222,
              "#7201a8"
             ],
             [
              0.3333333333333333,
              "#9c179e"
             ],
             [
              0.4444444444444444,
              "#bd3786"
             ],
             [
              0.5555555555555556,
              "#d8576b"
             ],
             [
              0.6666666666666666,
              "#ed7953"
             ],
             [
              0.7777777777777778,
              "#fb9f3a"
             ],
             [
              0.8888888888888888,
              "#fdca26"
             ],
             [
              1,
              "#f0f921"
             ]
            ],
            "type": "contour"
           }
          ],
          "contourcarpet": [
           {
            "colorbar": {
             "outlinewidth": 0,
             "ticks": ""
            },
            "type": "contourcarpet"
           }
          ],
          "heatmap": [
           {
            "colorbar": {
             "outlinewidth": 0,
             "ticks": ""
            },
            "colorscale": [
             [
              0,
              "#0d0887"
             ],
             [
              0.1111111111111111,
              "#46039f"
             ],
             [
              0.2222222222222222,
              "#7201a8"
             ],
             [
              0.3333333333333333,
              "#9c179e"
             ],
             [
              0.4444444444444444,
              "#bd3786"
             ],
             [
              0.5555555555555556,
              "#d8576b"
             ],
             [
              0.6666666666666666,
              "#ed7953"
             ],
             [
              0.7777777777777778,
              "#fb9f3a"
             ],
             [
              0.8888888888888888,
              "#fdca26"
             ],
             [
              1,
              "#f0f921"
             ]
            ],
            "type": "heatmap"
           }
          ],
          "heatmapgl": [
           {
            "colorbar": {
             "outlinewidth": 0,
             "ticks": ""
            },
            "colorscale": [
             [
              0,
              "#0d0887"
             ],
             [
              0.1111111111111111,
              "#46039f"
             ],
             [
              0.2222222222222222,
              "#7201a8"
             ],
             [
              0.3333333333333333,
              "#9c179e"
             ],
             [
              0.4444444444444444,
              "#bd3786"
             ],
             [
              0.5555555555555556,
              "#d8576b"
             ],
             [
              0.6666666666666666,
              "#ed7953"
             ],
             [
              0.7777777777777778,
              "#fb9f3a"
             ],
             [
              0.8888888888888888,
              "#fdca26"
             ],
             [
              1,
              "#f0f921"
             ]
            ],
            "type": "heatmapgl"
           }
          ],
          "histogram": [
           {
            "marker": {
             "colorbar": {
              "outlinewidth": 0,
              "ticks": ""
             }
            },
            "type": "histogram"
           }
          ],
          "histogram2d": [
           {
            "colorbar": {
             "outlinewidth": 0,
             "ticks": ""
            },
            "colorscale": [
             [
              0,
              "#0d0887"
             ],
             [
              0.1111111111111111,
              "#46039f"
             ],
             [
              0.2222222222222222,
              "#7201a8"
             ],
             [
              0.3333333333333333,
              "#9c179e"
             ],
             [
              0.4444444444444444,
              "#bd3786"
             ],
             [
              0.5555555555555556,
              "#d8576b"
             ],
             [
              0.6666666666666666,
              "#ed7953"
             ],
             [
              0.7777777777777778,
              "#fb9f3a"
             ],
             [
              0.8888888888888888,
              "#fdca26"
             ],
             [
              1,
              "#f0f921"
             ]
            ],
            "type": "histogram2d"
           }
          ],
          "histogram2dcontour": [
           {
            "colorbar": {
             "outlinewidth": 0,
             "ticks": ""
            },
            "colorscale": [
             [
              0,
              "#0d0887"
             ],
             [
              0.1111111111111111,
              "#46039f"
             ],
             [
              0.2222222222222222,
              "#7201a8"
             ],
             [
              0.3333333333333333,
              "#9c179e"
             ],
             [
              0.4444444444444444,
              "#bd3786"
             ],
             [
              0.5555555555555556,
              "#d8576b"
             ],
             [
              0.6666666666666666,
              "#ed7953"
             ],
             [
              0.7777777777777778,
              "#fb9f3a"
             ],
             [
              0.8888888888888888,
              "#fdca26"
             ],
             [
              1,
              "#f0f921"
             ]
            ],
            "type": "histogram2dcontour"
           }
          ],
          "mesh3d": [
           {
            "colorbar": {
             "outlinewidth": 0,
             "ticks": ""
            },
            "type": "mesh3d"
           }
          ],
          "parcoords": [
           {
            "line": {
             "colorbar": {
              "outlinewidth": 0,
              "ticks": ""
             }
            },
            "type": "parcoords"
           }
          ],
          "pie": [
           {
            "automargin": true,
            "type": "pie"
           }
          ],
          "scatter": [
           {
            "marker": {
             "colorbar": {
              "outlinewidth": 0,
              "ticks": ""
             }
            },
            "type": "scatter"
           }
          ],
          "scatter3d": [
           {
            "line": {
             "colorbar": {
              "outlinewidth": 0,
              "ticks": ""
             }
            },
            "marker": {
             "colorbar": {
              "outlinewidth": 0,
              "ticks": ""
             }
            },
            "type": "scatter3d"
           }
          ],
          "scattercarpet": [
           {
            "marker": {
             "colorbar": {
              "outlinewidth": 0,
              "ticks": ""
             }
            },
            "type": "scattercarpet"
           }
          ],
          "scattergeo": [
           {
            "marker": {
             "colorbar": {
              "outlinewidth": 0,
              "ticks": ""
             }
            },
            "type": "scattergeo"
           }
          ],
          "scattergl": [
           {
            "marker": {
             "colorbar": {
              "outlinewidth": 0,
              "ticks": ""
             }
            },
            "type": "scattergl"
           }
          ],
          "scattermapbox": [
           {
            "marker": {
             "colorbar": {
              "outlinewidth": 0,
              "ticks": ""
             }
            },
            "type": "scattermapbox"
           }
          ],
          "scatterpolar": [
           {
            "marker": {
             "colorbar": {
              "outlinewidth": 0,
              "ticks": ""
             }
            },
            "type": "scatterpolar"
           }
          ],
          "scatterpolargl": [
           {
            "marker": {
             "colorbar": {
              "outlinewidth": 0,
              "ticks": ""
             }
            },
            "type": "scatterpolargl"
           }
          ],
          "scatterternary": [
           {
            "marker": {
             "colorbar": {
              "outlinewidth": 0,
              "ticks": ""
             }
            },
            "type": "scatterternary"
           }
          ],
          "surface": [
           {
            "colorbar": {
             "outlinewidth": 0,
             "ticks": ""
            },
            "colorscale": [
             [
              0,
              "#0d0887"
             ],
             [
              0.1111111111111111,
              "#46039f"
             ],
             [
              0.2222222222222222,
              "#7201a8"
             ],
             [
              0.3333333333333333,
              "#9c179e"
             ],
             [
              0.4444444444444444,
              "#bd3786"
             ],
             [
              0.5555555555555556,
              "#d8576b"
             ],
             [
              0.6666666666666666,
              "#ed7953"
             ],
             [
              0.7777777777777778,
              "#fb9f3a"
             ],
             [
              0.8888888888888888,
              "#fdca26"
             ],
             [
              1,
              "#f0f921"
             ]
            ],
            "type": "surface"
           }
          ],
          "table": [
           {
            "cells": {
             "fill": {
              "color": "#EBF0F8"
             },
             "line": {
              "color": "white"
             }
            },
            "header": {
             "fill": {
              "color": "#C8D4E3"
             },
             "line": {
              "color": "white"
             }
            },
            "type": "table"
           }
          ]
         },
         "layout": {
          "annotationdefaults": {
           "arrowcolor": "#2a3f5f",
           "arrowhead": 0,
           "arrowwidth": 1
          },
          "coloraxis": {
           "colorbar": {
            "outlinewidth": 0,
            "ticks": ""
           }
          },
          "colorscale": {
           "diverging": [
            [
             0,
             "#8e0152"
            ],
            [
             0.1,
             "#c51b7d"
            ],
            [
             0.2,
             "#de77ae"
            ],
            [
             0.3,
             "#f1b6da"
            ],
            [
             0.4,
             "#fde0ef"
            ],
            [
             0.5,
             "#f7f7f7"
            ],
            [
             0.6,
             "#e6f5d0"
            ],
            [
             0.7,
             "#b8e186"
            ],
            [
             0.8,
             "#7fbc41"
            ],
            [
             0.9,
             "#4d9221"
            ],
            [
             1,
             "#276419"
            ]
           ],
           "sequential": [
            [
             0,
             "#0d0887"
            ],
            [
             0.1111111111111111,
             "#46039f"
            ],
            [
             0.2222222222222222,
             "#7201a8"
            ],
            [
             0.3333333333333333,
             "#9c179e"
            ],
            [
             0.4444444444444444,
             "#bd3786"
            ],
            [
             0.5555555555555556,
             "#d8576b"
            ],
            [
             0.6666666666666666,
             "#ed7953"
            ],
            [
             0.7777777777777778,
             "#fb9f3a"
            ],
            [
             0.8888888888888888,
             "#fdca26"
            ],
            [
             1,
             "#f0f921"
            ]
           ],
           "sequentialminus": [
            [
             0,
             "#0d0887"
            ],
            [
             0.1111111111111111,
             "#46039f"
            ],
            [
             0.2222222222222222,
             "#7201a8"
            ],
            [
             0.3333333333333333,
             "#9c179e"
            ],
            [
             0.4444444444444444,
             "#bd3786"
            ],
            [
             0.5555555555555556,
             "#d8576b"
            ],
            [
             0.6666666666666666,
             "#ed7953"
            ],
            [
             0.7777777777777778,
             "#fb9f3a"
            ],
            [
             0.8888888888888888,
             "#fdca26"
            ],
            [
             1,
             "#f0f921"
            ]
           ]
          },
          "colorway": [
           "#636efa",
           "#EF553B",
           "#00cc96",
           "#ab63fa",
           "#FFA15A",
           "#19d3f3",
           "#FF6692",
           "#B6E880",
           "#FF97FF",
           "#FECB52"
          ],
          "font": {
           "color": "#2a3f5f"
          },
          "geo": {
           "bgcolor": "white",
           "lakecolor": "white",
           "landcolor": "#E5ECF6",
           "showlakes": true,
           "showland": true,
           "subunitcolor": "white"
          },
          "hoverlabel": {
           "align": "left"
          },
          "hovermode": "closest",
          "mapbox": {
           "style": "light"
          },
          "paper_bgcolor": "white",
          "plot_bgcolor": "#E5ECF6",
          "polar": {
           "angularaxis": {
            "gridcolor": "white",
            "linecolor": "white",
            "ticks": ""
           },
           "bgcolor": "#E5ECF6",
           "radialaxis": {
            "gridcolor": "white",
            "linecolor": "white",
            "ticks": ""
           }
          },
          "scene": {
           "xaxis": {
            "backgroundcolor": "#E5ECF6",
            "gridcolor": "white",
            "gridwidth": 2,
            "linecolor": "white",
            "showbackground": true,
            "ticks": "",
            "zerolinecolor": "white"
           },
           "yaxis": {
            "backgroundcolor": "#E5ECF6",
            "gridcolor": "white",
            "gridwidth": 2,
            "linecolor": "white",
            "showbackground": true,
            "ticks": "",
            "zerolinecolor": "white"
           },
           "zaxis": {
            "backgroundcolor": "#E5ECF6",
            "gridcolor": "white",
            "gridwidth": 2,
            "linecolor": "white",
            "showbackground": true,
            "ticks": "",
            "zerolinecolor": "white"
           }
          },
          "shapedefaults": {
           "line": {
            "color": "#2a3f5f"
           }
          },
          "ternary": {
           "aaxis": {
            "gridcolor": "white",
            "linecolor": "white",
            "ticks": ""
           },
           "baxis": {
            "gridcolor": "white",
            "linecolor": "white",
            "ticks": ""
           },
           "bgcolor": "#E5ECF6",
           "caxis": {
            "gridcolor": "white",
            "linecolor": "white",
            "ticks": ""
           }
          },
          "title": {
           "x": 0.05
          },
          "xaxis": {
           "automargin": true,
           "gridcolor": "white",
           "linecolor": "white",
           "ticks": "",
           "title": {
            "standoff": 15
           },
           "zerolinecolor": "white",
           "zerolinewidth": 2
          },
          "yaxis": {
           "automargin": true,
           "gridcolor": "white",
           "linecolor": "white",
           "ticks": "",
           "title": {
            "standoff": 15
           },
           "zerolinecolor": "white",
           "zerolinewidth": 2
          }
         }
        },
        "title": {
         "font": {
          "color": "#4D5663"
         }
        },
        "xaxis": {
         "gridcolor": "#E1E5ED",
         "showgrid": true,
         "tickfont": {
          "color": "#4D5663"
         },
         "title": {
          "font": {
           "color": "#4D5663"
          },
          "text": ""
         },
         "zerolinecolor": "#E1E5ED"
        },
        "yaxis": {
         "gridcolor": "#E1E5ED",
         "showgrid": true,
         "tickfont": {
          "color": "#4D5663"
         },
         "title": {
          "font": {
           "color": "#4D5663"
          },
          "text": ""
         },
         "zerolinecolor": "#E1E5ED"
        }
       }
      },
      "text/html": [
       "<div>\n",
       "        \n",
       "        \n",
       "            <div id=\"f5574e5a-bd5c-4651-9be1-b0197106f68e\" class=\"plotly-graph-div\" style=\"height:525px; width:100%;\"></div>\n",
       "            <script type=\"text/javascript\">\n",
       "                require([\"plotly\"], function(Plotly) {\n",
       "                    window.PLOTLYENV=window.PLOTLYENV || {};\n",
       "                    window.PLOTLYENV.BASE_URL='https://plot.ly';\n",
       "                    \n",
       "                if (document.getElementById(\"f5574e5a-bd5c-4651-9be1-b0197106f68e\")) {\n",
       "                    Plotly.newPlot(\n",
       "                        'f5574e5a-bd5c-4651-9be1-b0197106f68e',\n",
       "                        [{\"marker\": {\"color\": \"rgba(255, 153, 51, 0.6)\", \"line\": {\"color\": \"rgba(255, 153, 51, 1.0)\", \"width\": 1}}, \"name\": \"Values\", \"orientation\": \"v\", \"text\": \"\", \"type\": \"bar\", \"x\": [\"A\", \"B\", \"C\"], \"y\": [32, 43, 50]}],\n",
       "                        {\"legend\": {\"bgcolor\": \"#F5F6F9\", \"font\": {\"color\": \"#4D5663\"}}, \"paper_bgcolor\": \"#F5F6F9\", \"plot_bgcolor\": \"#F5F6F9\", \"template\": {\"data\": {\"bar\": [{\"error_x\": {\"color\": \"#2a3f5f\"}, \"error_y\": {\"color\": \"#2a3f5f\"}, \"marker\": {\"line\": {\"color\": \"#E5ECF6\", \"width\": 0.5}}, \"type\": \"bar\"}], \"barpolar\": [{\"marker\": {\"line\": {\"color\": \"#E5ECF6\", \"width\": 0.5}}, \"type\": \"barpolar\"}], \"carpet\": [{\"aaxis\": {\"endlinecolor\": \"#2a3f5f\", \"gridcolor\": \"white\", \"linecolor\": \"white\", \"minorgridcolor\": \"white\", \"startlinecolor\": \"#2a3f5f\"}, \"baxis\": {\"endlinecolor\": \"#2a3f5f\", \"gridcolor\": \"white\", \"linecolor\": \"white\", \"minorgridcolor\": \"white\", \"startlinecolor\": \"#2a3f5f\"}, \"type\": \"carpet\"}], \"choropleth\": [{\"colorbar\": {\"outlinewidth\": 0, \"ticks\": \"\"}, \"type\": \"choropleth\"}], \"contour\": [{\"colorbar\": {\"outlinewidth\": 0, \"ticks\": \"\"}, \"colorscale\": [[0.0, \"#0d0887\"], [0.1111111111111111, \"#46039f\"], [0.2222222222222222, \"#7201a8\"], [0.3333333333333333, \"#9c179e\"], [0.4444444444444444, \"#bd3786\"], [0.5555555555555556, \"#d8576b\"], [0.6666666666666666, \"#ed7953\"], [0.7777777777777778, \"#fb9f3a\"], [0.8888888888888888, \"#fdca26\"], [1.0, \"#f0f921\"]], \"type\": \"contour\"}], \"contourcarpet\": [{\"colorbar\": {\"outlinewidth\": 0, \"ticks\": \"\"}, \"type\": \"contourcarpet\"}], \"heatmap\": [{\"colorbar\": {\"outlinewidth\": 0, \"ticks\": \"\"}, \"colorscale\": [[0.0, \"#0d0887\"], [0.1111111111111111, \"#46039f\"], [0.2222222222222222, \"#7201a8\"], [0.3333333333333333, \"#9c179e\"], [0.4444444444444444, \"#bd3786\"], [0.5555555555555556, \"#d8576b\"], [0.6666666666666666, \"#ed7953\"], [0.7777777777777778, \"#fb9f3a\"], [0.8888888888888888, \"#fdca26\"], [1.0, \"#f0f921\"]], \"type\": \"heatmap\"}], \"heatmapgl\": [{\"colorbar\": {\"outlinewidth\": 0, \"ticks\": \"\"}, \"colorscale\": [[0.0, \"#0d0887\"], [0.1111111111111111, \"#46039f\"], [0.2222222222222222, \"#7201a8\"], [0.3333333333333333, \"#9c179e\"], [0.4444444444444444, \"#bd3786\"], [0.5555555555555556, \"#d8576b\"], [0.6666666666666666, \"#ed7953\"], [0.7777777777777778, \"#fb9f3a\"], [0.8888888888888888, \"#fdca26\"], [1.0, \"#f0f921\"]], \"type\": \"heatmapgl\"}], \"histogram\": [{\"marker\": {\"colorbar\": {\"outlinewidth\": 0, \"ticks\": \"\"}}, \"type\": \"histogram\"}], \"histogram2d\": [{\"colorbar\": {\"outlinewidth\": 0, \"ticks\": \"\"}, \"colorscale\": [[0.0, \"#0d0887\"], [0.1111111111111111, \"#46039f\"], [0.2222222222222222, \"#7201a8\"], [0.3333333333333333, \"#9c179e\"], [0.4444444444444444, \"#bd3786\"], [0.5555555555555556, \"#d8576b\"], [0.6666666666666666, \"#ed7953\"], [0.7777777777777778, \"#fb9f3a\"], [0.8888888888888888, \"#fdca26\"], [1.0, \"#f0f921\"]], \"type\": \"histogram2d\"}], \"histogram2dcontour\": [{\"colorbar\": {\"outlinewidth\": 0, \"ticks\": \"\"}, \"colorscale\": [[0.0, \"#0d0887\"], [0.1111111111111111, \"#46039f\"], [0.2222222222222222, \"#7201a8\"], [0.3333333333333333, \"#9c179e\"], [0.4444444444444444, \"#bd3786\"], [0.5555555555555556, \"#d8576b\"], [0.6666666666666666, \"#ed7953\"], [0.7777777777777778, \"#fb9f3a\"], [0.8888888888888888, \"#fdca26\"], [1.0, \"#f0f921\"]], \"type\": \"histogram2dcontour\"}], \"mesh3d\": [{\"colorbar\": {\"outlinewidth\": 0, \"ticks\": \"\"}, \"type\": \"mesh3d\"}], \"parcoords\": [{\"line\": {\"colorbar\": {\"outlinewidth\": 0, \"ticks\": \"\"}}, \"type\": \"parcoords\"}], \"pie\": [{\"automargin\": true, \"type\": \"pie\"}], \"scatter\": [{\"marker\": {\"colorbar\": {\"outlinewidth\": 0, \"ticks\": \"\"}}, \"type\": \"scatter\"}], \"scatter3d\": [{\"line\": {\"colorbar\": {\"outlinewidth\": 0, \"ticks\": \"\"}}, \"marker\": {\"colorbar\": {\"outlinewidth\": 0, \"ticks\": \"\"}}, \"type\": \"scatter3d\"}], \"scattercarpet\": [{\"marker\": {\"colorbar\": {\"outlinewidth\": 0, \"ticks\": \"\"}}, \"type\": \"scattercarpet\"}], \"scattergeo\": [{\"marker\": {\"colorbar\": {\"outlinewidth\": 0, \"ticks\": \"\"}}, \"type\": \"scattergeo\"}], \"scattergl\": [{\"marker\": {\"colorbar\": {\"outlinewidth\": 0, \"ticks\": \"\"}}, \"type\": \"scattergl\"}], \"scattermapbox\": [{\"marker\": {\"colorbar\": {\"outlinewidth\": 0, \"ticks\": \"\"}}, \"type\": \"scattermapbox\"}], \"scatterpolar\": [{\"marker\": {\"colorbar\": {\"outlinewidth\": 0, \"ticks\": \"\"}}, \"type\": \"scatterpolar\"}], \"scatterpolargl\": [{\"marker\": {\"colorbar\": {\"outlinewidth\": 0, \"ticks\": \"\"}}, \"type\": \"scatterpolargl\"}], \"scatterternary\": [{\"marker\": {\"colorbar\": {\"outlinewidth\": 0, \"ticks\": \"\"}}, \"type\": \"scatterternary\"}], \"surface\": [{\"colorbar\": {\"outlinewidth\": 0, \"ticks\": \"\"}, \"colorscale\": [[0.0, \"#0d0887\"], [0.1111111111111111, \"#46039f\"], [0.2222222222222222, \"#7201a8\"], [0.3333333333333333, \"#9c179e\"], [0.4444444444444444, \"#bd3786\"], [0.5555555555555556, \"#d8576b\"], [0.6666666666666666, \"#ed7953\"], [0.7777777777777778, \"#fb9f3a\"], [0.8888888888888888, \"#fdca26\"], [1.0, \"#f0f921\"]], \"type\": \"surface\"}], \"table\": [{\"cells\": {\"fill\": {\"color\": \"#EBF0F8\"}, \"line\": {\"color\": \"white\"}}, \"header\": {\"fill\": {\"color\": \"#C8D4E3\"}, \"line\": {\"color\": \"white\"}}, \"type\": \"table\"}]}, \"layout\": {\"annotationdefaults\": {\"arrowcolor\": \"#2a3f5f\", \"arrowhead\": 0, \"arrowwidth\": 1}, \"coloraxis\": {\"colorbar\": {\"outlinewidth\": 0, \"ticks\": \"\"}}, \"colorscale\": {\"diverging\": [[0, \"#8e0152\"], [0.1, \"#c51b7d\"], [0.2, \"#de77ae\"], [0.3, \"#f1b6da\"], [0.4, \"#fde0ef\"], [0.5, \"#f7f7f7\"], [0.6, \"#e6f5d0\"], [0.7, \"#b8e186\"], [0.8, \"#7fbc41\"], [0.9, \"#4d9221\"], [1, \"#276419\"]], \"sequential\": [[0.0, \"#0d0887\"], [0.1111111111111111, \"#46039f\"], [0.2222222222222222, \"#7201a8\"], [0.3333333333333333, \"#9c179e\"], [0.4444444444444444, \"#bd3786\"], [0.5555555555555556, \"#d8576b\"], [0.6666666666666666, \"#ed7953\"], [0.7777777777777778, \"#fb9f3a\"], [0.8888888888888888, \"#fdca26\"], [1.0, \"#f0f921\"]], \"sequentialminus\": [[0.0, \"#0d0887\"], [0.1111111111111111, \"#46039f\"], [0.2222222222222222, \"#7201a8\"], [0.3333333333333333, \"#9c179e\"], [0.4444444444444444, \"#bd3786\"], [0.5555555555555556, \"#d8576b\"], [0.6666666666666666, \"#ed7953\"], [0.7777777777777778, \"#fb9f3a\"], [0.8888888888888888, \"#fdca26\"], [1.0, \"#f0f921\"]]}, \"colorway\": [\"#636efa\", \"#EF553B\", \"#00cc96\", \"#ab63fa\", \"#FFA15A\", \"#19d3f3\", \"#FF6692\", \"#B6E880\", \"#FF97FF\", \"#FECB52\"], \"font\": {\"color\": \"#2a3f5f\"}, \"geo\": {\"bgcolor\": \"white\", \"lakecolor\": \"white\", \"landcolor\": \"#E5ECF6\", \"showlakes\": true, \"showland\": true, \"subunitcolor\": \"white\"}, \"hoverlabel\": {\"align\": \"left\"}, \"hovermode\": \"closest\", \"mapbox\": {\"style\": \"light\"}, \"paper_bgcolor\": \"white\", \"plot_bgcolor\": \"#E5ECF6\", \"polar\": {\"angularaxis\": {\"gridcolor\": \"white\", \"linecolor\": \"white\", \"ticks\": \"\"}, \"bgcolor\": \"#E5ECF6\", \"radialaxis\": {\"gridcolor\": \"white\", \"linecolor\": \"white\", \"ticks\": \"\"}}, \"scene\": {\"xaxis\": {\"backgroundcolor\": \"#E5ECF6\", \"gridcolor\": \"white\", \"gridwidth\": 2, \"linecolor\": \"white\", \"showbackground\": true, \"ticks\": \"\", \"zerolinecolor\": \"white\"}, \"yaxis\": {\"backgroundcolor\": \"#E5ECF6\", \"gridcolor\": \"white\", \"gridwidth\": 2, \"linecolor\": \"white\", \"showbackground\": true, \"ticks\": \"\", \"zerolinecolor\": \"white\"}, \"zaxis\": {\"backgroundcolor\": \"#E5ECF6\", \"gridcolor\": \"white\", \"gridwidth\": 2, \"linecolor\": \"white\", \"showbackground\": true, \"ticks\": \"\", \"zerolinecolor\": \"white\"}}, \"shapedefaults\": {\"line\": {\"color\": \"#2a3f5f\"}}, \"ternary\": {\"aaxis\": {\"gridcolor\": \"white\", \"linecolor\": \"white\", \"ticks\": \"\"}, \"baxis\": {\"gridcolor\": \"white\", \"linecolor\": \"white\", \"ticks\": \"\"}, \"bgcolor\": \"#E5ECF6\", \"caxis\": {\"gridcolor\": \"white\", \"linecolor\": \"white\", \"ticks\": \"\"}}, \"title\": {\"x\": 0.05}, \"xaxis\": {\"automargin\": true, \"gridcolor\": \"white\", \"linecolor\": \"white\", \"ticks\": \"\", \"title\": {\"standoff\": 15}, \"zerolinecolor\": \"white\", \"zerolinewidth\": 2}, \"yaxis\": {\"automargin\": true, \"gridcolor\": \"white\", \"linecolor\": \"white\", \"ticks\": \"\", \"title\": {\"standoff\": 15}, \"zerolinecolor\": \"white\", \"zerolinewidth\": 2}}}, \"title\": {\"font\": {\"color\": \"#4D5663\"}}, \"xaxis\": {\"gridcolor\": \"#E1E5ED\", \"showgrid\": true, \"tickfont\": {\"color\": \"#4D5663\"}, \"title\": {\"font\": {\"color\": \"#4D5663\"}, \"text\": \"\"}, \"zerolinecolor\": \"#E1E5ED\"}, \"yaxis\": {\"gridcolor\": \"#E1E5ED\", \"showgrid\": true, \"tickfont\": {\"color\": \"#4D5663\"}, \"title\": {\"font\": {\"color\": \"#4D5663\"}, \"text\": \"\"}, \"zerolinecolor\": \"#E1E5ED\"}},\n",
       "                        {\"showLink\": true, \"linkText\": \"Export to plot.ly\", \"plotlyServerURL\": \"https://plot.ly\", \"responsive\": true}\n",
       "                    ).then(function(){\n",
       "                            \n",
       "var gd = document.getElementById('f5574e5a-bd5c-4651-9be1-b0197106f68e');\n",
       "var x = new MutationObserver(function (mutations, observer) {{\n",
       "        var display = window.getComputedStyle(gd).display;\n",
       "        if (!display || display === 'none') {{\n",
       "            console.log([gd, 'removed!']);\n",
       "            Plotly.purge(gd);\n",
       "            observer.disconnect();\n",
       "        }}\n",
       "}});\n",
       "\n",
       "// Listen for the removal of the full notebook cells\n",
       "var notebookContainer = gd.closest('#notebook-container');\n",
       "if (notebookContainer) {{\n",
       "    x.observe(notebookContainer, {childList: true});\n",
       "}}\n",
       "\n",
       "// Listen for the clearing of the current output cell\n",
       "var outputEl = gd.closest('.output');\n",
       "if (outputEl) {{\n",
       "    x.observe(outputEl, {childList: true});\n",
       "}}\n",
       "\n",
       "                        })\n",
       "                };\n",
       "                });\n",
       "            </script>\n",
       "        </div>"
      ]
     },
     "metadata": {},
     "output_type": "display_data"
    }
   ],
   "source": [
    "df2.iplot(kind='bar',x='Category',y='Values')"
   ]
  },
  {
   "cell_type": "code",
   "execution_count": 40,
   "metadata": {},
   "outputs": [
    {
     "data": {
      "text/html": [
       "<div>\n",
       "<style scoped>\n",
       "    .dataframe tbody tr th:only-of-type {\n",
       "        vertical-align: middle;\n",
       "    }\n",
       "\n",
       "    .dataframe tbody tr th {\n",
       "        vertical-align: top;\n",
       "    }\n",
       "\n",
       "    .dataframe thead th {\n",
       "        text-align: right;\n",
       "    }\n",
       "</style>\n",
       "<table border=\"1\" class=\"dataframe\">\n",
       "  <thead>\n",
       "    <tr style=\"text-align: right;\">\n",
       "      <th></th>\n",
       "      <th>A</th>\n",
       "      <th>B</th>\n",
       "      <th>C</th>\n",
       "      <th>D</th>\n",
       "    </tr>\n",
       "  </thead>\n",
       "  <tbody>\n",
       "    <tr>\n",
       "      <th>0</th>\n",
       "      <td>1.035504</td>\n",
       "      <td>1.896012</td>\n",
       "      <td>-0.312353</td>\n",
       "      <td>1.050185</td>\n",
       "    </tr>\n",
       "    <tr>\n",
       "      <th>1</th>\n",
       "      <td>1.088445</td>\n",
       "      <td>-0.901389</td>\n",
       "      <td>-0.779291</td>\n",
       "      <td>-0.263162</td>\n",
       "    </tr>\n",
       "    <tr>\n",
       "      <th>2</th>\n",
       "      <td>-0.823822</td>\n",
       "      <td>-1.317933</td>\n",
       "      <td>-0.338238</td>\n",
       "      <td>-1.740304</td>\n",
       "    </tr>\n",
       "    <tr>\n",
       "      <th>3</th>\n",
       "      <td>-1.165409</td>\n",
       "      <td>0.509331</td>\n",
       "      <td>1.542148</td>\n",
       "      <td>-0.492701</td>\n",
       "    </tr>\n",
       "    <tr>\n",
       "      <th>4</th>\n",
       "      <td>0.063142</td>\n",
       "      <td>0.068638</td>\n",
       "      <td>-1.355162</td>\n",
       "      <td>-1.266096</td>\n",
       "    </tr>\n",
       "  </tbody>\n",
       "</table>\n",
       "</div>"
      ],
      "text/plain": [
       "          A         B         C         D\n",
       "0  1.035504  1.896012 -0.312353  1.050185\n",
       "1  1.088445 -0.901389 -0.779291 -0.263162\n",
       "2 -0.823822 -1.317933 -0.338238 -1.740304\n",
       "3 -1.165409  0.509331  1.542148 -0.492701\n",
       "4  0.063142  0.068638 -1.355162 -1.266096"
      ]
     },
     "execution_count": 40,
     "metadata": {},
     "output_type": "execute_result"
    }
   ],
   "source": [
    "df1.head()"
   ]
  },
  {
   "cell_type": "code",
   "execution_count": 47,
   "metadata": {},
   "outputs": [
    {
     "data": {
      "text/plain": [
       "A     3.929648\n",
       "B    12.488194\n",
       "C    -5.816394\n",
       "D    -4.015416\n",
       "dtype: float64"
      ]
     },
     "execution_count": 47,
     "metadata": {},
     "output_type": "execute_result"
    }
   ],
   "source": [
    "df1.sum()"
   ]
  },
  {
   "cell_type": "code",
   "execution_count": 46,
   "metadata": {},
   "outputs": [
    {
     "data": {
      "application/vnd.plotly.v1+json": {
       "config": {
        "linkText": "Export to plot.ly",
        "plotlyServerURL": "https://plot.ly",
        "showLink": true
       },
       "data": [
        {
         "marker": {
          "color": "rgba(255, 153, 51, 0.6)",
          "line": {
           "color": "rgba(255, 153, 51, 1.0)",
           "width": 1
          }
         },
         "name": "None",
         "orientation": "v",
         "text": "",
         "type": "bar",
         "x": [
          "A",
          "B",
          "C",
          "D"
         ],
         "y": [
          3.9296476037561963,
          12.488194007319608,
          -5.816394452968133,
          -4.01541590871024
         ]
        }
       ],
       "layout": {
        "legend": {
         "bgcolor": "#F5F6F9",
         "font": {
          "color": "#4D5663"
         }
        },
        "paper_bgcolor": "#F5F6F9",
        "plot_bgcolor": "#F5F6F9",
        "template": {
         "data": {
          "bar": [
           {
            "error_x": {
             "color": "#2a3f5f"
            },
            "error_y": {
             "color": "#2a3f5f"
            },
            "marker": {
             "line": {
              "color": "#E5ECF6",
              "width": 0.5
             }
            },
            "type": "bar"
           }
          ],
          "barpolar": [
           {
            "marker": {
             "line": {
              "color": "#E5ECF6",
              "width": 0.5
             }
            },
            "type": "barpolar"
           }
          ],
          "carpet": [
           {
            "aaxis": {
             "endlinecolor": "#2a3f5f",
             "gridcolor": "white",
             "linecolor": "white",
             "minorgridcolor": "white",
             "startlinecolor": "#2a3f5f"
            },
            "baxis": {
             "endlinecolor": "#2a3f5f",
             "gridcolor": "white",
             "linecolor": "white",
             "minorgridcolor": "white",
             "startlinecolor": "#2a3f5f"
            },
            "type": "carpet"
           }
          ],
          "choropleth": [
           {
            "colorbar": {
             "outlinewidth": 0,
             "ticks": ""
            },
            "type": "choropleth"
           }
          ],
          "contour": [
           {
            "colorbar": {
             "outlinewidth": 0,
             "ticks": ""
            },
            "colorscale": [
             [
              0,
              "#0d0887"
             ],
             [
              0.1111111111111111,
              "#46039f"
             ],
             [
              0.2222222222222222,
              "#7201a8"
             ],
             [
              0.3333333333333333,
              "#9c179e"
             ],
             [
              0.4444444444444444,
              "#bd3786"
             ],
             [
              0.5555555555555556,
              "#d8576b"
             ],
             [
              0.6666666666666666,
              "#ed7953"
             ],
             [
              0.7777777777777778,
              "#fb9f3a"
             ],
             [
              0.8888888888888888,
              "#fdca26"
             ],
             [
              1,
              "#f0f921"
             ]
            ],
            "type": "contour"
           }
          ],
          "contourcarpet": [
           {
            "colorbar": {
             "outlinewidth": 0,
             "ticks": ""
            },
            "type": "contourcarpet"
           }
          ],
          "heatmap": [
           {
            "colorbar": {
             "outlinewidth": 0,
             "ticks": ""
            },
            "colorscale": [
             [
              0,
              "#0d0887"
             ],
             [
              0.1111111111111111,
              "#46039f"
             ],
             [
              0.2222222222222222,
              "#7201a8"
             ],
             [
              0.3333333333333333,
              "#9c179e"
             ],
             [
              0.4444444444444444,
              "#bd3786"
             ],
             [
              0.5555555555555556,
              "#d8576b"
             ],
             [
              0.6666666666666666,
              "#ed7953"
             ],
             [
              0.7777777777777778,
              "#fb9f3a"
             ],
             [
              0.8888888888888888,
              "#fdca26"
             ],
             [
              1,
              "#f0f921"
             ]
            ],
            "type": "heatmap"
           }
          ],
          "heatmapgl": [
           {
            "colorbar": {
             "outlinewidth": 0,
             "ticks": ""
            },
            "colorscale": [
             [
              0,
              "#0d0887"
             ],
             [
              0.1111111111111111,
              "#46039f"
             ],
             [
              0.2222222222222222,
              "#7201a8"
             ],
             [
              0.3333333333333333,
              "#9c179e"
             ],
             [
              0.4444444444444444,
              "#bd3786"
             ],
             [
              0.5555555555555556,
              "#d8576b"
             ],
             [
              0.6666666666666666,
              "#ed7953"
             ],
             [
              0.7777777777777778,
              "#fb9f3a"
             ],
             [
              0.8888888888888888,
              "#fdca26"
             ],
             [
              1,
              "#f0f921"
             ]
            ],
            "type": "heatmapgl"
           }
          ],
          "histogram": [
           {
            "marker": {
             "colorbar": {
              "outlinewidth": 0,
              "ticks": ""
             }
            },
            "type": "histogram"
           }
          ],
          "histogram2d": [
           {
            "colorbar": {
             "outlinewidth": 0,
             "ticks": ""
            },
            "colorscale": [
             [
              0,
              "#0d0887"
             ],
             [
              0.1111111111111111,
              "#46039f"
             ],
             [
              0.2222222222222222,
              "#7201a8"
             ],
             [
              0.3333333333333333,
              "#9c179e"
             ],
             [
              0.4444444444444444,
              "#bd3786"
             ],
             [
              0.5555555555555556,
              "#d8576b"
             ],
             [
              0.6666666666666666,
              "#ed7953"
             ],
             [
              0.7777777777777778,
              "#fb9f3a"
             ],
             [
              0.8888888888888888,
              "#fdca26"
             ],
             [
              1,
              "#f0f921"
             ]
            ],
            "type": "histogram2d"
           }
          ],
          "histogram2dcontour": [
           {
            "colorbar": {
             "outlinewidth": 0,
             "ticks": ""
            },
            "colorscale": [
             [
              0,
              "#0d0887"
             ],
             [
              0.1111111111111111,
              "#46039f"
             ],
             [
              0.2222222222222222,
              "#7201a8"
             ],
             [
              0.3333333333333333,
              "#9c179e"
             ],
             [
              0.4444444444444444,
              "#bd3786"
             ],
             [
              0.5555555555555556,
              "#d8576b"
             ],
             [
              0.6666666666666666,
              "#ed7953"
             ],
             [
              0.7777777777777778,
              "#fb9f3a"
             ],
             [
              0.8888888888888888,
              "#fdca26"
             ],
             [
              1,
              "#f0f921"
             ]
            ],
            "type": "histogram2dcontour"
           }
          ],
          "mesh3d": [
           {
            "colorbar": {
             "outlinewidth": 0,
             "ticks": ""
            },
            "type": "mesh3d"
           }
          ],
          "parcoords": [
           {
            "line": {
             "colorbar": {
              "outlinewidth": 0,
              "ticks": ""
             }
            },
            "type": "parcoords"
           }
          ],
          "pie": [
           {
            "automargin": true,
            "type": "pie"
           }
          ],
          "scatter": [
           {
            "marker": {
             "colorbar": {
              "outlinewidth": 0,
              "ticks": ""
             }
            },
            "type": "scatter"
           }
          ],
          "scatter3d": [
           {
            "line": {
             "colorbar": {
              "outlinewidth": 0,
              "ticks": ""
             }
            },
            "marker": {
             "colorbar": {
              "outlinewidth": 0,
              "ticks": ""
             }
            },
            "type": "scatter3d"
           }
          ],
          "scattercarpet": [
           {
            "marker": {
             "colorbar": {
              "outlinewidth": 0,
              "ticks": ""
             }
            },
            "type": "scattercarpet"
           }
          ],
          "scattergeo": [
           {
            "marker": {
             "colorbar": {
              "outlinewidth": 0,
              "ticks": ""
             }
            },
            "type": "scattergeo"
           }
          ],
          "scattergl": [
           {
            "marker": {
             "colorbar": {
              "outlinewidth": 0,
              "ticks": ""
             }
            },
            "type": "scattergl"
           }
          ],
          "scattermapbox": [
           {
            "marker": {
             "colorbar": {
              "outlinewidth": 0,
              "ticks": ""
             }
            },
            "type": "scattermapbox"
           }
          ],
          "scatterpolar": [
           {
            "marker": {
             "colorbar": {
              "outlinewidth": 0,
              "ticks": ""
             }
            },
            "type": "scatterpolar"
           }
          ],
          "scatterpolargl": [
           {
            "marker": {
             "colorbar": {
              "outlinewidth": 0,
              "ticks": ""
             }
            },
            "type": "scatterpolargl"
           }
          ],
          "scatterternary": [
           {
            "marker": {
             "colorbar": {
              "outlinewidth": 0,
              "ticks": ""
             }
            },
            "type": "scatterternary"
           }
          ],
          "surface": [
           {
            "colorbar": {
             "outlinewidth": 0,
             "ticks": ""
            },
            "colorscale": [
             [
              0,
              "#0d0887"
             ],
             [
              0.1111111111111111,
              "#46039f"
             ],
             [
              0.2222222222222222,
              "#7201a8"
             ],
             [
              0.3333333333333333,
              "#9c179e"
             ],
             [
              0.4444444444444444,
              "#bd3786"
             ],
             [
              0.5555555555555556,
              "#d8576b"
             ],
             [
              0.6666666666666666,
              "#ed7953"
             ],
             [
              0.7777777777777778,
              "#fb9f3a"
             ],
             [
              0.8888888888888888,
              "#fdca26"
             ],
             [
              1,
              "#f0f921"
             ]
            ],
            "type": "surface"
           }
          ],
          "table": [
           {
            "cells": {
             "fill": {
              "color": "#EBF0F8"
             },
             "line": {
              "color": "white"
             }
            },
            "header": {
             "fill": {
              "color": "#C8D4E3"
             },
             "line": {
              "color": "white"
             }
            },
            "type": "table"
           }
          ]
         },
         "layout": {
          "annotationdefaults": {
           "arrowcolor": "#2a3f5f",
           "arrowhead": 0,
           "arrowwidth": 1
          },
          "coloraxis": {
           "colorbar": {
            "outlinewidth": 0,
            "ticks": ""
           }
          },
          "colorscale": {
           "diverging": [
            [
             0,
             "#8e0152"
            ],
            [
             0.1,
             "#c51b7d"
            ],
            [
             0.2,
             "#de77ae"
            ],
            [
             0.3,
             "#f1b6da"
            ],
            [
             0.4,
             "#fde0ef"
            ],
            [
             0.5,
             "#f7f7f7"
            ],
            [
             0.6,
             "#e6f5d0"
            ],
            [
             0.7,
             "#b8e186"
            ],
            [
             0.8,
             "#7fbc41"
            ],
            [
             0.9,
             "#4d9221"
            ],
            [
             1,
             "#276419"
            ]
           ],
           "sequential": [
            [
             0,
             "#0d0887"
            ],
            [
             0.1111111111111111,
             "#46039f"
            ],
            [
             0.2222222222222222,
             "#7201a8"
            ],
            [
             0.3333333333333333,
             "#9c179e"
            ],
            [
             0.4444444444444444,
             "#bd3786"
            ],
            [
             0.5555555555555556,
             "#d8576b"
            ],
            [
             0.6666666666666666,
             "#ed7953"
            ],
            [
             0.7777777777777778,
             "#fb9f3a"
            ],
            [
             0.8888888888888888,
             "#fdca26"
            ],
            [
             1,
             "#f0f921"
            ]
           ],
           "sequentialminus": [
            [
             0,
             "#0d0887"
            ],
            [
             0.1111111111111111,
             "#46039f"
            ],
            [
             0.2222222222222222,
             "#7201a8"
            ],
            [
             0.3333333333333333,
             "#9c179e"
            ],
            [
             0.4444444444444444,
             "#bd3786"
            ],
            [
             0.5555555555555556,
             "#d8576b"
            ],
            [
             0.6666666666666666,
             "#ed7953"
            ],
            [
             0.7777777777777778,
             "#fb9f3a"
            ],
            [
             0.8888888888888888,
             "#fdca26"
            ],
            [
             1,
             "#f0f921"
            ]
           ]
          },
          "colorway": [
           "#636efa",
           "#EF553B",
           "#00cc96",
           "#ab63fa",
           "#FFA15A",
           "#19d3f3",
           "#FF6692",
           "#B6E880",
           "#FF97FF",
           "#FECB52"
          ],
          "font": {
           "color": "#2a3f5f"
          },
          "geo": {
           "bgcolor": "white",
           "lakecolor": "white",
           "landcolor": "#E5ECF6",
           "showlakes": true,
           "showland": true,
           "subunitcolor": "white"
          },
          "hoverlabel": {
           "align": "left"
          },
          "hovermode": "closest",
          "mapbox": {
           "style": "light"
          },
          "paper_bgcolor": "white",
          "plot_bgcolor": "#E5ECF6",
          "polar": {
           "angularaxis": {
            "gridcolor": "white",
            "linecolor": "white",
            "ticks": ""
           },
           "bgcolor": "#E5ECF6",
           "radialaxis": {
            "gridcolor": "white",
            "linecolor": "white",
            "ticks": ""
           }
          },
          "scene": {
           "xaxis": {
            "backgroundcolor": "#E5ECF6",
            "gridcolor": "white",
            "gridwidth": 2,
            "linecolor": "white",
            "showbackground": true,
            "ticks": "",
            "zerolinecolor": "white"
           },
           "yaxis": {
            "backgroundcolor": "#E5ECF6",
            "gridcolor": "white",
            "gridwidth": 2,
            "linecolor": "white",
            "showbackground": true,
            "ticks": "",
            "zerolinecolor": "white"
           },
           "zaxis": {
            "backgroundcolor": "#E5ECF6",
            "gridcolor": "white",
            "gridwidth": 2,
            "linecolor": "white",
            "showbackground": true,
            "ticks": "",
            "zerolinecolor": "white"
           }
          },
          "shapedefaults": {
           "line": {
            "color": "#2a3f5f"
           }
          },
          "ternary": {
           "aaxis": {
            "gridcolor": "white",
            "linecolor": "white",
            "ticks": ""
           },
           "baxis": {
            "gridcolor": "white",
            "linecolor": "white",
            "ticks": ""
           },
           "bgcolor": "#E5ECF6",
           "caxis": {
            "gridcolor": "white",
            "linecolor": "white",
            "ticks": ""
           }
          },
          "title": {
           "x": 0.05
          },
          "xaxis": {
           "automargin": true,
           "gridcolor": "white",
           "linecolor": "white",
           "ticks": "",
           "title": {
            "standoff": 15
           },
           "zerolinecolor": "white",
           "zerolinewidth": 2
          },
          "yaxis": {
           "automargin": true,
           "gridcolor": "white",
           "linecolor": "white",
           "ticks": "",
           "title": {
            "standoff": 15
           },
           "zerolinecolor": "white",
           "zerolinewidth": 2
          }
         }
        },
        "title": {
         "font": {
          "color": "#4D5663"
         }
        },
        "xaxis": {
         "gridcolor": "#E1E5ED",
         "showgrid": true,
         "tickfont": {
          "color": "#4D5663"
         },
         "title": {
          "font": {
           "color": "#4D5663"
          },
          "text": ""
         },
         "zerolinecolor": "#E1E5ED"
        },
        "yaxis": {
         "gridcolor": "#E1E5ED",
         "showgrid": true,
         "tickfont": {
          "color": "#4D5663"
         },
         "title": {
          "font": {
           "color": "#4D5663"
          },
          "text": ""
         },
         "zerolinecolor": "#E1E5ED"
        }
       }
      },
      "text/html": [
       "<div>\n",
       "        \n",
       "        \n",
       "            <div id=\"d9a1c6d3-085f-4729-a33b-c42432d7291e\" class=\"plotly-graph-div\" style=\"height:525px; width:100%;\"></div>\n",
       "            <script type=\"text/javascript\">\n",
       "                require([\"plotly\"], function(Plotly) {\n",
       "                    window.PLOTLYENV=window.PLOTLYENV || {};\n",
       "                    window.PLOTLYENV.BASE_URL='https://plot.ly';\n",
       "                    \n",
       "                if (document.getElementById(\"d9a1c6d3-085f-4729-a33b-c42432d7291e\")) {\n",
       "                    Plotly.newPlot(\n",
       "                        'd9a1c6d3-085f-4729-a33b-c42432d7291e',\n",
       "                        [{\"marker\": {\"color\": \"rgba(255, 153, 51, 0.6)\", \"line\": {\"color\": \"rgba(255, 153, 51, 1.0)\", \"width\": 1}}, \"name\": \"None\", \"orientation\": \"v\", \"text\": \"\", \"type\": \"bar\", \"x\": [\"A\", \"B\", \"C\", \"D\"], \"y\": [3.9296476037561963, 12.488194007319608, -5.816394452968133, -4.01541590871024]}],\n",
       "                        {\"legend\": {\"bgcolor\": \"#F5F6F9\", \"font\": {\"color\": \"#4D5663\"}}, \"paper_bgcolor\": \"#F5F6F9\", \"plot_bgcolor\": \"#F5F6F9\", \"template\": {\"data\": {\"bar\": [{\"error_x\": {\"color\": \"#2a3f5f\"}, \"error_y\": {\"color\": \"#2a3f5f\"}, \"marker\": {\"line\": {\"color\": \"#E5ECF6\", \"width\": 0.5}}, \"type\": \"bar\"}], \"barpolar\": [{\"marker\": {\"line\": {\"color\": \"#E5ECF6\", \"width\": 0.5}}, \"type\": \"barpolar\"}], \"carpet\": [{\"aaxis\": {\"endlinecolor\": \"#2a3f5f\", \"gridcolor\": \"white\", \"linecolor\": \"white\", \"minorgridcolor\": \"white\", \"startlinecolor\": \"#2a3f5f\"}, \"baxis\": {\"endlinecolor\": \"#2a3f5f\", \"gridcolor\": \"white\", \"linecolor\": \"white\", \"minorgridcolor\": \"white\", \"startlinecolor\": \"#2a3f5f\"}, \"type\": \"carpet\"}], \"choropleth\": [{\"colorbar\": {\"outlinewidth\": 0, \"ticks\": \"\"}, \"type\": \"choropleth\"}], \"contour\": [{\"colorbar\": {\"outlinewidth\": 0, \"ticks\": \"\"}, \"colorscale\": [[0.0, \"#0d0887\"], [0.1111111111111111, \"#46039f\"], [0.2222222222222222, \"#7201a8\"], [0.3333333333333333, \"#9c179e\"], [0.4444444444444444, \"#bd3786\"], [0.5555555555555556, \"#d8576b\"], [0.6666666666666666, \"#ed7953\"], [0.7777777777777778, \"#fb9f3a\"], [0.8888888888888888, \"#fdca26\"], [1.0, \"#f0f921\"]], \"type\": \"contour\"}], \"contourcarpet\": [{\"colorbar\": {\"outlinewidth\": 0, \"ticks\": \"\"}, \"type\": \"contourcarpet\"}], \"heatmap\": [{\"colorbar\": {\"outlinewidth\": 0, \"ticks\": \"\"}, \"colorscale\": [[0.0, \"#0d0887\"], [0.1111111111111111, \"#46039f\"], [0.2222222222222222, \"#7201a8\"], [0.3333333333333333, \"#9c179e\"], [0.4444444444444444, \"#bd3786\"], [0.5555555555555556, \"#d8576b\"], [0.6666666666666666, \"#ed7953\"], [0.7777777777777778, \"#fb9f3a\"], [0.8888888888888888, \"#fdca26\"], [1.0, \"#f0f921\"]], \"type\": \"heatmap\"}], \"heatmapgl\": [{\"colorbar\": {\"outlinewidth\": 0, \"ticks\": \"\"}, \"colorscale\": [[0.0, \"#0d0887\"], [0.1111111111111111, \"#46039f\"], [0.2222222222222222, \"#7201a8\"], [0.3333333333333333, \"#9c179e\"], [0.4444444444444444, \"#bd3786\"], [0.5555555555555556, \"#d8576b\"], [0.6666666666666666, \"#ed7953\"], [0.7777777777777778, \"#fb9f3a\"], [0.8888888888888888, \"#fdca26\"], [1.0, \"#f0f921\"]], \"type\": \"heatmapgl\"}], \"histogram\": [{\"marker\": {\"colorbar\": {\"outlinewidth\": 0, \"ticks\": \"\"}}, \"type\": \"histogram\"}], \"histogram2d\": [{\"colorbar\": {\"outlinewidth\": 0, \"ticks\": \"\"}, \"colorscale\": [[0.0, \"#0d0887\"], [0.1111111111111111, \"#46039f\"], [0.2222222222222222, \"#7201a8\"], [0.3333333333333333, \"#9c179e\"], [0.4444444444444444, \"#bd3786\"], [0.5555555555555556, \"#d8576b\"], [0.6666666666666666, \"#ed7953\"], [0.7777777777777778, \"#fb9f3a\"], [0.8888888888888888, \"#fdca26\"], [1.0, \"#f0f921\"]], \"type\": \"histogram2d\"}], \"histogram2dcontour\": [{\"colorbar\": {\"outlinewidth\": 0, \"ticks\": \"\"}, \"colorscale\": [[0.0, \"#0d0887\"], [0.1111111111111111, \"#46039f\"], [0.2222222222222222, \"#7201a8\"], [0.3333333333333333, \"#9c179e\"], [0.4444444444444444, \"#bd3786\"], [0.5555555555555556, \"#d8576b\"], [0.6666666666666666, \"#ed7953\"], [0.7777777777777778, \"#fb9f3a\"], [0.8888888888888888, \"#fdca26\"], [1.0, \"#f0f921\"]], \"type\": \"histogram2dcontour\"}], \"mesh3d\": [{\"colorbar\": {\"outlinewidth\": 0, \"ticks\": \"\"}, \"type\": \"mesh3d\"}], \"parcoords\": [{\"line\": {\"colorbar\": {\"outlinewidth\": 0, \"ticks\": \"\"}}, \"type\": \"parcoords\"}], \"pie\": [{\"automargin\": true, \"type\": \"pie\"}], \"scatter\": [{\"marker\": {\"colorbar\": {\"outlinewidth\": 0, \"ticks\": \"\"}}, \"type\": \"scatter\"}], \"scatter3d\": [{\"line\": {\"colorbar\": {\"outlinewidth\": 0, \"ticks\": \"\"}}, \"marker\": {\"colorbar\": {\"outlinewidth\": 0, \"ticks\": \"\"}}, \"type\": \"scatter3d\"}], \"scattercarpet\": [{\"marker\": {\"colorbar\": {\"outlinewidth\": 0, \"ticks\": \"\"}}, \"type\": \"scattercarpet\"}], \"scattergeo\": [{\"marker\": {\"colorbar\": {\"outlinewidth\": 0, \"ticks\": \"\"}}, \"type\": \"scattergeo\"}], \"scattergl\": [{\"marker\": {\"colorbar\": {\"outlinewidth\": 0, \"ticks\": \"\"}}, \"type\": \"scattergl\"}], \"scattermapbox\": [{\"marker\": {\"colorbar\": {\"outlinewidth\": 0, \"ticks\": \"\"}}, \"type\": \"scattermapbox\"}], \"scatterpolar\": [{\"marker\": {\"colorbar\": {\"outlinewidth\": 0, \"ticks\": \"\"}}, \"type\": \"scatterpolar\"}], \"scatterpolargl\": [{\"marker\": {\"colorbar\": {\"outlinewidth\": 0, \"ticks\": \"\"}}, \"type\": \"scatterpolargl\"}], \"scatterternary\": [{\"marker\": {\"colorbar\": {\"outlinewidth\": 0, \"ticks\": \"\"}}, \"type\": \"scatterternary\"}], \"surface\": [{\"colorbar\": {\"outlinewidth\": 0, \"ticks\": \"\"}, \"colorscale\": [[0.0, \"#0d0887\"], [0.1111111111111111, \"#46039f\"], [0.2222222222222222, \"#7201a8\"], [0.3333333333333333, \"#9c179e\"], [0.4444444444444444, \"#bd3786\"], [0.5555555555555556, \"#d8576b\"], [0.6666666666666666, \"#ed7953\"], [0.7777777777777778, \"#fb9f3a\"], [0.8888888888888888, \"#fdca26\"], [1.0, \"#f0f921\"]], \"type\": \"surface\"}], \"table\": [{\"cells\": {\"fill\": {\"color\": \"#EBF0F8\"}, \"line\": {\"color\": \"white\"}}, \"header\": {\"fill\": {\"color\": \"#C8D4E3\"}, \"line\": {\"color\": \"white\"}}, \"type\": \"table\"}]}, \"layout\": {\"annotationdefaults\": {\"arrowcolor\": \"#2a3f5f\", \"arrowhead\": 0, \"arrowwidth\": 1}, \"coloraxis\": {\"colorbar\": {\"outlinewidth\": 0, \"ticks\": \"\"}}, \"colorscale\": {\"diverging\": [[0, \"#8e0152\"], [0.1, \"#c51b7d\"], [0.2, \"#de77ae\"], [0.3, \"#f1b6da\"], [0.4, \"#fde0ef\"], [0.5, \"#f7f7f7\"], [0.6, \"#e6f5d0\"], [0.7, \"#b8e186\"], [0.8, \"#7fbc41\"], [0.9, \"#4d9221\"], [1, \"#276419\"]], \"sequential\": [[0.0, \"#0d0887\"], [0.1111111111111111, \"#46039f\"], [0.2222222222222222, \"#7201a8\"], [0.3333333333333333, \"#9c179e\"], [0.4444444444444444, \"#bd3786\"], [0.5555555555555556, \"#d8576b\"], [0.6666666666666666, \"#ed7953\"], [0.7777777777777778, \"#fb9f3a\"], [0.8888888888888888, \"#fdca26\"], [1.0, \"#f0f921\"]], \"sequentialminus\": [[0.0, \"#0d0887\"], [0.1111111111111111, \"#46039f\"], [0.2222222222222222, \"#7201a8\"], [0.3333333333333333, \"#9c179e\"], [0.4444444444444444, \"#bd3786\"], [0.5555555555555556, \"#d8576b\"], [0.6666666666666666, \"#ed7953\"], [0.7777777777777778, \"#fb9f3a\"], [0.8888888888888888, \"#fdca26\"], [1.0, \"#f0f921\"]]}, \"colorway\": [\"#636efa\", \"#EF553B\", \"#00cc96\", \"#ab63fa\", \"#FFA15A\", \"#19d3f3\", \"#FF6692\", \"#B6E880\", \"#FF97FF\", \"#FECB52\"], \"font\": {\"color\": \"#2a3f5f\"}, \"geo\": {\"bgcolor\": \"white\", \"lakecolor\": \"white\", \"landcolor\": \"#E5ECF6\", \"showlakes\": true, \"showland\": true, \"subunitcolor\": \"white\"}, \"hoverlabel\": {\"align\": \"left\"}, \"hovermode\": \"closest\", \"mapbox\": {\"style\": \"light\"}, \"paper_bgcolor\": \"white\", \"plot_bgcolor\": \"#E5ECF6\", \"polar\": {\"angularaxis\": {\"gridcolor\": \"white\", \"linecolor\": \"white\", \"ticks\": \"\"}, \"bgcolor\": \"#E5ECF6\", \"radialaxis\": {\"gridcolor\": \"white\", \"linecolor\": \"white\", \"ticks\": \"\"}}, \"scene\": {\"xaxis\": {\"backgroundcolor\": \"#E5ECF6\", \"gridcolor\": \"white\", \"gridwidth\": 2, \"linecolor\": \"white\", \"showbackground\": true, \"ticks\": \"\", \"zerolinecolor\": \"white\"}, \"yaxis\": {\"backgroundcolor\": \"#E5ECF6\", \"gridcolor\": \"white\", \"gridwidth\": 2, \"linecolor\": \"white\", \"showbackground\": true, \"ticks\": \"\", \"zerolinecolor\": \"white\"}, \"zaxis\": {\"backgroundcolor\": \"#E5ECF6\", \"gridcolor\": \"white\", \"gridwidth\": 2, \"linecolor\": \"white\", \"showbackground\": true, \"ticks\": \"\", \"zerolinecolor\": \"white\"}}, \"shapedefaults\": {\"line\": {\"color\": \"#2a3f5f\"}}, \"ternary\": {\"aaxis\": {\"gridcolor\": \"white\", \"linecolor\": \"white\", \"ticks\": \"\"}, \"baxis\": {\"gridcolor\": \"white\", \"linecolor\": \"white\", \"ticks\": \"\"}, \"bgcolor\": \"#E5ECF6\", \"caxis\": {\"gridcolor\": \"white\", \"linecolor\": \"white\", \"ticks\": \"\"}}, \"title\": {\"x\": 0.05}, \"xaxis\": {\"automargin\": true, \"gridcolor\": \"white\", \"linecolor\": \"white\", \"ticks\": \"\", \"title\": {\"standoff\": 15}, \"zerolinecolor\": \"white\", \"zerolinewidth\": 2}, \"yaxis\": {\"automargin\": true, \"gridcolor\": \"white\", \"linecolor\": \"white\", \"ticks\": \"\", \"title\": {\"standoff\": 15}, \"zerolinecolor\": \"white\", \"zerolinewidth\": 2}}}, \"title\": {\"font\": {\"color\": \"#4D5663\"}}, \"xaxis\": {\"gridcolor\": \"#E1E5ED\", \"showgrid\": true, \"tickfont\": {\"color\": \"#4D5663\"}, \"title\": {\"font\": {\"color\": \"#4D5663\"}, \"text\": \"\"}, \"zerolinecolor\": \"#E1E5ED\"}, \"yaxis\": {\"gridcolor\": \"#E1E5ED\", \"showgrid\": true, \"tickfont\": {\"color\": \"#4D5663\"}, \"title\": {\"font\": {\"color\": \"#4D5663\"}, \"text\": \"\"}, \"zerolinecolor\": \"#E1E5ED\"}},\n",
       "                        {\"showLink\": true, \"linkText\": \"Export to plot.ly\", \"plotlyServerURL\": \"https://plot.ly\", \"responsive\": true}\n",
       "                    ).then(function(){\n",
       "                            \n",
       "var gd = document.getElementById('d9a1c6d3-085f-4729-a33b-c42432d7291e');\n",
       "var x = new MutationObserver(function (mutations, observer) {{\n",
       "        var display = window.getComputedStyle(gd).display;\n",
       "        if (!display || display === 'none') {{\n",
       "            console.log([gd, 'removed!']);\n",
       "            Plotly.purge(gd);\n",
       "            observer.disconnect();\n",
       "        }}\n",
       "}});\n",
       "\n",
       "// Listen for the removal of the full notebook cells\n",
       "var notebookContainer = gd.closest('#notebook-container');\n",
       "if (notebookContainer) {{\n",
       "    x.observe(notebookContainer, {childList: true});\n",
       "}}\n",
       "\n",
       "// Listen for the clearing of the current output cell\n",
       "var outputEl = gd.closest('.output');\n",
       "if (outputEl) {{\n",
       "    x.observe(outputEl, {childList: true});\n",
       "}}\n",
       "\n",
       "                        })\n",
       "                };\n",
       "                });\n",
       "            </script>\n",
       "        </div>"
      ]
     },
     "metadata": {},
     "output_type": "display_data"
    }
   ],
   "source": [
    "df1.sum().iplot(kind='bar')"
   ]
  },
  {
   "cell_type": "markdown",
   "metadata": {},
   "source": [
    "#### Box Plot"
   ]
  },
  {
   "cell_type": "code",
   "execution_count": 50,
   "metadata": {},
   "outputs": [
    {
     "data": {
      "application/vnd.plotly.v1+json": {
       "config": {
        "linkText": "Export to plot.ly",
        "plotlyServerURL": "https://plot.ly",
        "showLink": true
       },
       "data": [
        {
         "boxpoints": false,
         "line": {
          "width": 1.3
         },
         "marker": {
          "color": "rgba(255, 153, 51, 1.0)"
         },
         "name": "A",
         "orientation": "v",
         "type": "box",
         "y": [
          1.03550403305365,
          1.0884452472323425,
          -0.8238221561084681,
          -1.165409106210997,
          0.06314234757509121,
          0.28403331754428096,
          1.3031142849283257,
          -0.5330006379394974,
          0.9239955720458833,
          -0.3404308950020115,
          0.49705351026645744,
          0.11995406868417582,
          2.8763886700822554,
          0.9193262205319692,
          0.3949826146380539,
          0.1398009361049872,
          -0.2389551947409717,
          1.7631889811772778,
          0.9423296126061489,
          0.6967921196412008,
          -0.5414352907350243,
          -2.036531823296873,
          -0.24433216283716166,
          -0.6095837637269612,
          -0.8657030628068533,
          -1.3290908432224944,
          0.12455980476667877,
          1.0184694806034515,
          -1.183099026560509,
          -1.9117478241953998,
          1.5901480473509917,
          0.036261728019634634,
          -1.4686201375953223,
          0.23850038429899692,
          0.9850551573259738,
          0.2343911390852982,
          1.6218946767897775,
          0.6092426949738955,
          0.4316571530869879,
          -0.3497700989320226,
          0.0630769975004216,
          -1.7473220089492396,
          0.9992032559911043,
          -0.46947268822447513,
          -1.5169497942671446,
          -0.83250174584291,
          -0.4968973159748692,
          -0.961293262106367,
          1.57489946216533,
          0.12352962553924367,
          1.1956965136368198,
          0.2622356680889761,
          -1.3592917794393795,
          -1.3888127276879452,
          -0.4192232294633762,
          0.2162221432499591,
          2.3852910763547004,
          -1.3123647706286883,
          0.2612934369110763,
          0.8613442539868962,
          -2.199294295056723,
          0.586695375572083,
          -0.49651894860239854,
          -0.06531819539664627,
          -1.8735956634836917,
          -0.922282193523706,
          -0.1390551342534496,
          -2.07229926650626,
          -0.3136402802450524,
          1.2721102467999612,
          1.2212916123327877,
          0.4263336106747266,
          -1.3278513626090733,
          -1.4901785369107048,
          0.3370979010819831,
          1.1609741420348372,
          -1.4052615141974583,
          -1.675537604560082,
          -0.8470611330808606,
          0.846711142348439,
          1.6207509512727276,
          0.9628774645331151,
          0.08415610063834954,
          2.0515464720858776,
          0.3989174309260779,
          0.5284312945429028,
          1.316248220757381,
          0.07911639704636868,
          0.5625901301013624,
          0.10809718712260306,
          0.05558043354838223,
          1.653387809021809,
          0.19613717511683407,
          -1.0636425270979382,
          -2.3361375217663913,
          1.170649467749388,
          -1.1175819973708243,
          -0.9877716720625392,
          1.1344780752246988,
          2.753133920603948
         ]
        },
        {
         "boxpoints": false,
         "line": {
          "width": 1.3
         },
         "marker": {
          "color": "rgba(55, 128, 191, 1.0)"
         },
         "name": "B",
         "orientation": "v",
         "type": "box",
         "y": [
          1.8960119593872942,
          -0.9013887599486713,
          -1.3179328495735878,
          0.5093309293244226,
          0.0686381546170349,
          -2.0476722168076367,
          -1.2434170473032558,
          0.3917194929936394,
          0.08754198693204741,
          1.8742193519276948,
          -0.34000427728927657,
          0.5808930813656673,
          -0.9185932288750916,
          -0.4370652175550562,
          0.1615291650092262,
          -0.5573801868161586,
          0.20872127272273155,
          1.5038452901928197,
          0.3810687629989386,
          0.7531014416401095,
          0.47515844401649343,
          -1.3117037828849436,
          -1.1128339786035324,
          1.029572365045059,
          -0.6998734664959823,
          0.38491468084915426,
          -0.851322628406908,
          0.20712468604181208,
          -1.0443583025142498,
          -0.5585025465631798,
          1.6133603060244144,
          0.6650436363899097,
          0.43497836743006446,
          -0.3135901937525547,
          -1.035819537740092,
          0.16500645542112155,
          -0.9797413668441683,
          1.1709202821872366,
          -0.3720340472186027,
          1.2875124895895487,
          -0.5342416459509143,
          0.8652415097498334,
          1.5787699931065844,
          0.801559529330312,
          1.808507607789963,
          0.8574514261933185,
          -2.4147665891905423,
          1.7264760801920465,
          -0.06502278632303127,
          0.3525427456543032,
          0.012552047667873876,
          -0.6432254433376144,
          -0.4677216910558781,
          0.3088421925727908,
          -0.24516716396534866,
          -1.0028937338811257,
          -0.11281611748353859,
          -0.21130491670513085,
          1.1809298727624613,
          -1.3801349160393888,
          0.6649025414857689,
          0.07020479167028694,
          1.740029943416659,
          0.11709800890149423,
          -0.5814226348171162,
          -1.0019165405279373,
          -0.21731413282882847,
          0.32370671894003944,
          0.9948776149290441,
          1.4343455034837274,
          1.230642479260398,
          0.4407683249017293,
          1.1008062320678353,
          -0.5268935998638822,
          -0.19239595695956105,
          0.6351734409776926,
          0.694340808578521,
          -0.5603554691124976,
          -1.6720568576003965,
          2.1469145635682256,
          2.114961913817211,
          0.6233672076422256,
          -0.3462142582361224,
          -2.4139182337762866,
          -2.126184965333488,
          0.6670682066566681,
          0.5925052023824063,
          -0.2640307238259685,
          0.98890415493091,
          0.31990550123503214,
          1.116614817349527,
          0.6146447422037827,
          0.23811295524611592,
          -0.7621631571903236,
          0.0005562339163062913,
          0.3056800154965565,
          -0.7646734494718713,
          0.7956242619405267,
          1.1363915737491685,
          0.5870292601155663
         ]
        },
        {
         "boxpoints": false,
         "line": {
          "width": 1.3
         },
         "marker": {
          "color": "rgba(50, 171, 96, 1.0)"
         },
         "name": "C",
         "orientation": "v",
         "type": "box",
         "y": [
          -0.31235344268957305,
          -0.779291184008495,
          -0.3382378313641103,
          1.5421481134590849,
          -1.3551621221442123,
          -0.33340180454056784,
          1.665296944513379,
          -0.32763611518520985,
          0.2609174602920684,
          1.6395212351276283,
          0.9912710012311396,
          -1.4019081191169263,
          -1.458481412138232,
          -0.07304151076635769,
          0.1221095950313633,
          -2.2286451162858807,
          0.08237034692735798,
          1.7750430436973565,
          -0.7511221498733812,
          -0.01841886398274809,
          0.3509648204240912,
          -0.4678989936030183,
          -0.07150780483206723,
          -1.3762431724055342,
          1.5326017377318464,
          0.4983811025203121,
          -0.6795782051592428,
          -1.2656471093840016,
          0.392297234389132,
          0.24799131200879226,
          -1.0526228366086938,
          0.5235704896437962,
          -2.1105760386913204,
          -0.9241436610842272,
          1.7332599843659915,
          -0.9370479961582932,
          0.8263952807279571,
          -0.9208933905587741,
          -0.1538715791291248,
          0.4013805447984194,
          -0.8438962555943664,
          0.2840391365053848,
          0.7233997398011442,
          1.2509113718825278,
          -0.4222341192657711,
          0.2547359853722564,
          1.1865136808993528,
          0.01875822993183538,
          -0.021890938217392852,
          0.3308619824488176,
          0.5302273579361191,
          0.5715254621147243,
          0.9531877249301393,
          -0.86812801411079,
          -0.003632374883951981,
          -1.0424190239275244,
          -0.06131038034819389,
          -0.7235001630887572,
          -0.6740685444674551,
          -0.15891045604359477,
          1.3402898073715057,
          0.958617214426853,
          -0.6958427995651298,
          -0.5815808665306819,
          -0.39845785266202827,
          -0.39936376026592535,
          0.04125767678413521,
          0.24907653795296583,
          -0.9311076163727938,
          0.5572243135699384,
          0.46838393501357034,
          0.5760126083194442,
          -0.5688066170943136,
          -0.12984686598054374,
          -1.8368011291388542,
          -1.8362250489634662,
          -0.31162448112682783,
          0.2351904211051621,
          -1.2303712522426633,
          0.803472556092731,
          1.416412724412486,
          1.0460389280210196,
          -1.7284715283664749,
          -0.9265549820848047,
          -1.0629618896047572,
          0.5134434439148944,
          -0.8814579803703178,
          -0.22978633789459266,
          2.3553289181892407,
          -0.07690735215068391,
          -0.848160029587419,
          -0.5875614140450401,
          0.3113488458077335,
          -0.31003966124401394,
          1.4804871534955693,
          -1.3732313567546572,
          0.902320280180013,
          0.7244150084856815,
          0.8314704704799247,
          -0.21398466359923993
         ]
        },
        {
         "boxpoints": false,
         "line": {
          "width": 1.3
         },
         "marker": {
          "color": "rgba(128, 0, 128, 1.0)"
         },
         "name": "D",
         "orientation": "v",
         "type": "box",
         "y": [
          1.0501846747475807,
          -0.2631622600665042,
          -1.7403044791255877,
          -0.49270096000479324,
          -1.266095965737075,
          -0.79041828917442,
          -2.9077287476812814,
          0.5162476509677758,
          -0.7174430378950274,
          0.2706549456708596,
          1.0573039873448888,
          -0.5600414520013582,
          0.9754910522734861,
          0.692212074791335,
          -0.2668207194598693,
          -1.1770830167086077,
          0.4966582090084445,
          0.30526131642048454,
          0.9160256136980789,
          -1.5918295650442957,
          0.02977026538641927,
          -1.7172731979615743,
          -0.16174746327733458,
          1.8427204049825525,
          -0.7070357286280311,
          -1.5063320055032123,
          -0.6975635973077675,
          1.2139295569562687,
          0.2673960751229431,
          -0.783315246893848,
          -0.5072663992950421,
          0.5870448767884239,
          0.5601074508584243,
          -0.2637481454065867,
          -0.7719795045926394,
          0.8886942146784562,
          -0.180650310216546,
          -0.5381770917545685,
          -1.4051286558709084,
          -0.15570765448750165,
          0.09307128198913218,
          -0.18151631488798683,
          0.310787850486599,
          0.4918763947131808,
          0.6905827746980921,
          0.16693538146178163,
          1.4122462316005135,
          1.016677403837887,
          -0.6854839792266426,
          -0.5809831911943966,
          -2.184806133330967,
          -0.3688091129235744,
          -0.40548108117032877,
          1.339731057473646,
          -0.9428106033223824,
          0.6613579874430183,
          0.9202754253501984,
          2.4143459436610955,
          0.29157535161896586,
          1.293398970613332,
          -1.9738145496888437,
          0.19483371940869532,
          -0.7898763563357196,
          -1.1159067513199046,
          0.8634416674887178,
          1.8087502331064784,
          -0.1873966626930624,
          -0.02902665910273575,
          0.20943796269246906,
          1.094678799697476,
          0.20675945704454388,
          -0.9283200224952756,
          1.9189085221682376,
          -0.6738438434566502,
          0.950432788311642,
          0.2683051509918545,
          0.5269430013778346,
          -0.8311589580073511,
          -0.08979753977451058,
          -0.28135666411071003,
          -0.36891736319069823,
          -0.6351896533405529,
          1.725810775721876,
          -1.2370318338049597,
          -0.21501903771022107,
          0.2069549912563331,
          -1.4782321340741926,
          -2.0347856211560686,
          1.1417074936945315,
          0.13726081355615155,
          -1.0568924133839583,
          0.6840980919865118,
          -1.5722044419324286,
          0.300415657494318,
          1.3111348856256066,
          1.7505717975611537,
          -0.8078893163791052,
          -0.8247084630691421,
          1.5035738332033604,
          0.05881221943485587
         ]
        }
       ],
       "layout": {
        "legend": {
         "bgcolor": "#F5F6F9",
         "font": {
          "color": "#4D5663"
         }
        },
        "paper_bgcolor": "#F5F6F9",
        "plot_bgcolor": "#F5F6F9",
        "template": {
         "data": {
          "bar": [
           {
            "error_x": {
             "color": "#2a3f5f"
            },
            "error_y": {
             "color": "#2a3f5f"
            },
            "marker": {
             "line": {
              "color": "#E5ECF6",
              "width": 0.5
             }
            },
            "type": "bar"
           }
          ],
          "barpolar": [
           {
            "marker": {
             "line": {
              "color": "#E5ECF6",
              "width": 0.5
             }
            },
            "type": "barpolar"
           }
          ],
          "carpet": [
           {
            "aaxis": {
             "endlinecolor": "#2a3f5f",
             "gridcolor": "white",
             "linecolor": "white",
             "minorgridcolor": "white",
             "startlinecolor": "#2a3f5f"
            },
            "baxis": {
             "endlinecolor": "#2a3f5f",
             "gridcolor": "white",
             "linecolor": "white",
             "minorgridcolor": "white",
             "startlinecolor": "#2a3f5f"
            },
            "type": "carpet"
           }
          ],
          "choropleth": [
           {
            "colorbar": {
             "outlinewidth": 0,
             "ticks": ""
            },
            "type": "choropleth"
           }
          ],
          "contour": [
           {
            "colorbar": {
             "outlinewidth": 0,
             "ticks": ""
            },
            "colorscale": [
             [
              0,
              "#0d0887"
             ],
             [
              0.1111111111111111,
              "#46039f"
             ],
             [
              0.2222222222222222,
              "#7201a8"
             ],
             [
              0.3333333333333333,
              "#9c179e"
             ],
             [
              0.4444444444444444,
              "#bd3786"
             ],
             [
              0.5555555555555556,
              "#d8576b"
             ],
             [
              0.6666666666666666,
              "#ed7953"
             ],
             [
              0.7777777777777778,
              "#fb9f3a"
             ],
             [
              0.8888888888888888,
              "#fdca26"
             ],
             [
              1,
              "#f0f921"
             ]
            ],
            "type": "contour"
           }
          ],
          "contourcarpet": [
           {
            "colorbar": {
             "outlinewidth": 0,
             "ticks": ""
            },
            "type": "contourcarpet"
           }
          ],
          "heatmap": [
           {
            "colorbar": {
             "outlinewidth": 0,
             "ticks": ""
            },
            "colorscale": [
             [
              0,
              "#0d0887"
             ],
             [
              0.1111111111111111,
              "#46039f"
             ],
             [
              0.2222222222222222,
              "#7201a8"
             ],
             [
              0.3333333333333333,
              "#9c179e"
             ],
             [
              0.4444444444444444,
              "#bd3786"
             ],
             [
              0.5555555555555556,
              "#d8576b"
             ],
             [
              0.6666666666666666,
              "#ed7953"
             ],
             [
              0.7777777777777778,
              "#fb9f3a"
             ],
             [
              0.8888888888888888,
              "#fdca26"
             ],
             [
              1,
              "#f0f921"
             ]
            ],
            "type": "heatmap"
           }
          ],
          "heatmapgl": [
           {
            "colorbar": {
             "outlinewidth": 0,
             "ticks": ""
            },
            "colorscale": [
             [
              0,
              "#0d0887"
             ],
             [
              0.1111111111111111,
              "#46039f"
             ],
             [
              0.2222222222222222,
              "#7201a8"
             ],
             [
              0.3333333333333333,
              "#9c179e"
             ],
             [
              0.4444444444444444,
              "#bd3786"
             ],
             [
              0.5555555555555556,
              "#d8576b"
             ],
             [
              0.6666666666666666,
              "#ed7953"
             ],
             [
              0.7777777777777778,
              "#fb9f3a"
             ],
             [
              0.8888888888888888,
              "#fdca26"
             ],
             [
              1,
              "#f0f921"
             ]
            ],
            "type": "heatmapgl"
           }
          ],
          "histogram": [
           {
            "marker": {
             "colorbar": {
              "outlinewidth": 0,
              "ticks": ""
             }
            },
            "type": "histogram"
           }
          ],
          "histogram2d": [
           {
            "colorbar": {
             "outlinewidth": 0,
             "ticks": ""
            },
            "colorscale": [
             [
              0,
              "#0d0887"
             ],
             [
              0.1111111111111111,
              "#46039f"
             ],
             [
              0.2222222222222222,
              "#7201a8"
             ],
             [
              0.3333333333333333,
              "#9c179e"
             ],
             [
              0.4444444444444444,
              "#bd3786"
             ],
             [
              0.5555555555555556,
              "#d8576b"
             ],
             [
              0.6666666666666666,
              "#ed7953"
             ],
             [
              0.7777777777777778,
              "#fb9f3a"
             ],
             [
              0.8888888888888888,
              "#fdca26"
             ],
             [
              1,
              "#f0f921"
             ]
            ],
            "type": "histogram2d"
           }
          ],
          "histogram2dcontour": [
           {
            "colorbar": {
             "outlinewidth": 0,
             "ticks": ""
            },
            "colorscale": [
             [
              0,
              "#0d0887"
             ],
             [
              0.1111111111111111,
              "#46039f"
             ],
             [
              0.2222222222222222,
              "#7201a8"
             ],
             [
              0.3333333333333333,
              "#9c179e"
             ],
             [
              0.4444444444444444,
              "#bd3786"
             ],
             [
              0.5555555555555556,
              "#d8576b"
             ],
             [
              0.6666666666666666,
              "#ed7953"
             ],
             [
              0.7777777777777778,
              "#fb9f3a"
             ],
             [
              0.8888888888888888,
              "#fdca26"
             ],
             [
              1,
              "#f0f921"
             ]
            ],
            "type": "histogram2dcontour"
           }
          ],
          "mesh3d": [
           {
            "colorbar": {
             "outlinewidth": 0,
             "ticks": ""
            },
            "type": "mesh3d"
           }
          ],
          "parcoords": [
           {
            "line": {
             "colorbar": {
              "outlinewidth": 0,
              "ticks": ""
             }
            },
            "type": "parcoords"
           }
          ],
          "pie": [
           {
            "automargin": true,
            "type": "pie"
           }
          ],
          "scatter": [
           {
            "marker": {
             "colorbar": {
              "outlinewidth": 0,
              "ticks": ""
             }
            },
            "type": "scatter"
           }
          ],
          "scatter3d": [
           {
            "line": {
             "colorbar": {
              "outlinewidth": 0,
              "ticks": ""
             }
            },
            "marker": {
             "colorbar": {
              "outlinewidth": 0,
              "ticks": ""
             }
            },
            "type": "scatter3d"
           }
          ],
          "scattercarpet": [
           {
            "marker": {
             "colorbar": {
              "outlinewidth": 0,
              "ticks": ""
             }
            },
            "type": "scattercarpet"
           }
          ],
          "scattergeo": [
           {
            "marker": {
             "colorbar": {
              "outlinewidth": 0,
              "ticks": ""
             }
            },
            "type": "scattergeo"
           }
          ],
          "scattergl": [
           {
            "marker": {
             "colorbar": {
              "outlinewidth": 0,
              "ticks": ""
             }
            },
            "type": "scattergl"
           }
          ],
          "scattermapbox": [
           {
            "marker": {
             "colorbar": {
              "outlinewidth": 0,
              "ticks": ""
             }
            },
            "type": "scattermapbox"
           }
          ],
          "scatterpolar": [
           {
            "marker": {
             "colorbar": {
              "outlinewidth": 0,
              "ticks": ""
             }
            },
            "type": "scatterpolar"
           }
          ],
          "scatterpolargl": [
           {
            "marker": {
             "colorbar": {
              "outlinewidth": 0,
              "ticks": ""
             }
            },
            "type": "scatterpolargl"
           }
          ],
          "scatterternary": [
           {
            "marker": {
             "colorbar": {
              "outlinewidth": 0,
              "ticks": ""
             }
            },
            "type": "scatterternary"
           }
          ],
          "surface": [
           {
            "colorbar": {
             "outlinewidth": 0,
             "ticks": ""
            },
            "colorscale": [
             [
              0,
              "#0d0887"
             ],
             [
              0.1111111111111111,
              "#46039f"
             ],
             [
              0.2222222222222222,
              "#7201a8"
             ],
             [
              0.3333333333333333,
              "#9c179e"
             ],
             [
              0.4444444444444444,
              "#bd3786"
             ],
             [
              0.5555555555555556,
              "#d8576b"
             ],
             [
              0.6666666666666666,
              "#ed7953"
             ],
             [
              0.7777777777777778,
              "#fb9f3a"
             ],
             [
              0.8888888888888888,
              "#fdca26"
             ],
             [
              1,
              "#f0f921"
             ]
            ],
            "type": "surface"
           }
          ],
          "table": [
           {
            "cells": {
             "fill": {
              "color": "#EBF0F8"
             },
             "line": {
              "color": "white"
             }
            },
            "header": {
             "fill": {
              "color": "#C8D4E3"
             },
             "line": {
              "color": "white"
             }
            },
            "type": "table"
           }
          ]
         },
         "layout": {
          "annotationdefaults": {
           "arrowcolor": "#2a3f5f",
           "arrowhead": 0,
           "arrowwidth": 1
          },
          "coloraxis": {
           "colorbar": {
            "outlinewidth": 0,
            "ticks": ""
           }
          },
          "colorscale": {
           "diverging": [
            [
             0,
             "#8e0152"
            ],
            [
             0.1,
             "#c51b7d"
            ],
            [
             0.2,
             "#de77ae"
            ],
            [
             0.3,
             "#f1b6da"
            ],
            [
             0.4,
             "#fde0ef"
            ],
            [
             0.5,
             "#f7f7f7"
            ],
            [
             0.6,
             "#e6f5d0"
            ],
            [
             0.7,
             "#b8e186"
            ],
            [
             0.8,
             "#7fbc41"
            ],
            [
             0.9,
             "#4d9221"
            ],
            [
             1,
             "#276419"
            ]
           ],
           "sequential": [
            [
             0,
             "#0d0887"
            ],
            [
             0.1111111111111111,
             "#46039f"
            ],
            [
             0.2222222222222222,
             "#7201a8"
            ],
            [
             0.3333333333333333,
             "#9c179e"
            ],
            [
             0.4444444444444444,
             "#bd3786"
            ],
            [
             0.5555555555555556,
             "#d8576b"
            ],
            [
             0.6666666666666666,
             "#ed7953"
            ],
            [
             0.7777777777777778,
             "#fb9f3a"
            ],
            [
             0.8888888888888888,
             "#fdca26"
            ],
            [
             1,
             "#f0f921"
            ]
           ],
           "sequentialminus": [
            [
             0,
             "#0d0887"
            ],
            [
             0.1111111111111111,
             "#46039f"
            ],
            [
             0.2222222222222222,
             "#7201a8"
            ],
            [
             0.3333333333333333,
             "#9c179e"
            ],
            [
             0.4444444444444444,
             "#bd3786"
            ],
            [
             0.5555555555555556,
             "#d8576b"
            ],
            [
             0.6666666666666666,
             "#ed7953"
            ],
            [
             0.7777777777777778,
             "#fb9f3a"
            ],
            [
             0.8888888888888888,
             "#fdca26"
            ],
            [
             1,
             "#f0f921"
            ]
           ]
          },
          "colorway": [
           "#636efa",
           "#EF553B",
           "#00cc96",
           "#ab63fa",
           "#FFA15A",
           "#19d3f3",
           "#FF6692",
           "#B6E880",
           "#FF97FF",
           "#FECB52"
          ],
          "font": {
           "color": "#2a3f5f"
          },
          "geo": {
           "bgcolor": "white",
           "lakecolor": "white",
           "landcolor": "#E5ECF6",
           "showlakes": true,
           "showland": true,
           "subunitcolor": "white"
          },
          "hoverlabel": {
           "align": "left"
          },
          "hovermode": "closest",
          "mapbox": {
           "style": "light"
          },
          "paper_bgcolor": "white",
          "plot_bgcolor": "#E5ECF6",
          "polar": {
           "angularaxis": {
            "gridcolor": "white",
            "linecolor": "white",
            "ticks": ""
           },
           "bgcolor": "#E5ECF6",
           "radialaxis": {
            "gridcolor": "white",
            "linecolor": "white",
            "ticks": ""
           }
          },
          "scene": {
           "xaxis": {
            "backgroundcolor": "#E5ECF6",
            "gridcolor": "white",
            "gridwidth": 2,
            "linecolor": "white",
            "showbackground": true,
            "ticks": "",
            "zerolinecolor": "white"
           },
           "yaxis": {
            "backgroundcolor": "#E5ECF6",
            "gridcolor": "white",
            "gridwidth": 2,
            "linecolor": "white",
            "showbackground": true,
            "ticks": "",
            "zerolinecolor": "white"
           },
           "zaxis": {
            "backgroundcolor": "#E5ECF6",
            "gridcolor": "white",
            "gridwidth": 2,
            "linecolor": "white",
            "showbackground": true,
            "ticks": "",
            "zerolinecolor": "white"
           }
          },
          "shapedefaults": {
           "line": {
            "color": "#2a3f5f"
           }
          },
          "ternary": {
           "aaxis": {
            "gridcolor": "white",
            "linecolor": "white",
            "ticks": ""
           },
           "baxis": {
            "gridcolor": "white",
            "linecolor": "white",
            "ticks": ""
           },
           "bgcolor": "#E5ECF6",
           "caxis": {
            "gridcolor": "white",
            "linecolor": "white",
            "ticks": ""
           }
          },
          "title": {
           "x": 0.05
          },
          "xaxis": {
           "automargin": true,
           "gridcolor": "white",
           "linecolor": "white",
           "ticks": "",
           "title": {
            "standoff": 15
           },
           "zerolinecolor": "white",
           "zerolinewidth": 2
          },
          "yaxis": {
           "automargin": true,
           "gridcolor": "white",
           "linecolor": "white",
           "ticks": "",
           "title": {
            "standoff": 15
           },
           "zerolinecolor": "white",
           "zerolinewidth": 2
          }
         }
        },
        "title": {
         "font": {
          "color": "#4D5663"
         }
        },
        "xaxis": {
         "gridcolor": "#E1E5ED",
         "showgrid": true,
         "tickfont": {
          "color": "#4D5663"
         },
         "title": {
          "font": {
           "color": "#4D5663"
          },
          "text": ""
         },
         "zerolinecolor": "#E1E5ED"
        },
        "yaxis": {
         "gridcolor": "#E1E5ED",
         "showgrid": true,
         "tickfont": {
          "color": "#4D5663"
         },
         "title": {
          "font": {
           "color": "#4D5663"
          },
          "text": ""
         },
         "zerolinecolor": "#E1E5ED"
        }
       }
      },
      "text/html": [
       "<div>\n",
       "        \n",
       "        \n",
       "            <div id=\"571aa17f-1b0e-41f1-81e2-7bd4db70147e\" class=\"plotly-graph-div\" style=\"height:525px; width:100%;\"></div>\n",
       "            <script type=\"text/javascript\">\n",
       "                require([\"plotly\"], function(Plotly) {\n",
       "                    window.PLOTLYENV=window.PLOTLYENV || {};\n",
       "                    window.PLOTLYENV.BASE_URL='https://plot.ly';\n",
       "                    \n",
       "                if (document.getElementById(\"571aa17f-1b0e-41f1-81e2-7bd4db70147e\")) {\n",
       "                    Plotly.newPlot(\n",
       "                        '571aa17f-1b0e-41f1-81e2-7bd4db70147e',\n",
       "                        [{\"boxpoints\": false, \"line\": {\"width\": 1.3}, \"marker\": {\"color\": \"rgba(255, 153, 51, 1.0)\"}, \"name\": \"A\", \"orientation\": \"v\", \"type\": \"box\", \"y\": [1.03550403305365, 1.0884452472323425, -0.8238221561084681, -1.165409106210997, 0.06314234757509121, 0.28403331754428096, 1.3031142849283257, -0.5330006379394974, 0.9239955720458833, -0.3404308950020115, 0.49705351026645744, 0.11995406868417582, 2.8763886700822554, 0.9193262205319692, 0.3949826146380539, 0.1398009361049872, -0.2389551947409717, 1.7631889811772778, 0.9423296126061489, 0.6967921196412008, -0.5414352907350243, -2.036531823296873, -0.24433216283716166, -0.6095837637269612, -0.8657030628068533, -1.3290908432224944, 0.12455980476667877, 1.0184694806034515, -1.183099026560509, -1.9117478241953998, 1.5901480473509917, 0.036261728019634634, -1.4686201375953223, 0.23850038429899692, 0.9850551573259738, 0.2343911390852982, 1.6218946767897775, 0.6092426949738955, 0.4316571530869879, -0.3497700989320226, 0.0630769975004216, -1.7473220089492396, 0.9992032559911043, -0.46947268822447513, -1.5169497942671446, -0.83250174584291, -0.4968973159748692, -0.961293262106367, 1.57489946216533, 0.12352962553924367, 1.1956965136368198, 0.2622356680889761, -1.3592917794393795, -1.3888127276879452, -0.4192232294633762, 0.2162221432499591, 2.3852910763547004, -1.3123647706286883, 0.2612934369110763, 0.8613442539868962, -2.199294295056723, 0.586695375572083, -0.49651894860239854, -0.06531819539664627, -1.8735956634836917, -0.922282193523706, -0.1390551342534496, -2.07229926650626, -0.3136402802450524, 1.2721102467999612, 1.2212916123327877, 0.4263336106747266, -1.3278513626090733, -1.4901785369107048, 0.3370979010819831, 1.1609741420348372, -1.4052615141974583, -1.675537604560082, -0.8470611330808606, 0.846711142348439, 1.6207509512727276, 0.9628774645331151, 0.08415610063834954, 2.0515464720858776, 0.3989174309260779, 0.5284312945429028, 1.316248220757381, 0.07911639704636868, 0.5625901301013624, 0.10809718712260306, 0.05558043354838223, 1.653387809021809, 0.19613717511683407, -1.0636425270979382, -2.3361375217663913, 1.170649467749388, -1.1175819973708243, -0.9877716720625392, 1.1344780752246988, 2.753133920603948]}, {\"boxpoints\": false, \"line\": {\"width\": 1.3}, \"marker\": {\"color\": \"rgba(55, 128, 191, 1.0)\"}, \"name\": \"B\", \"orientation\": \"v\", \"type\": \"box\", \"y\": [1.8960119593872942, -0.9013887599486713, -1.3179328495735878, 0.5093309293244226, 0.0686381546170349, -2.0476722168076367, -1.2434170473032558, 0.3917194929936394, 0.08754198693204741, 1.8742193519276948, -0.34000427728927657, 0.5808930813656673, -0.9185932288750916, -0.4370652175550562, 0.1615291650092262, -0.5573801868161586, 0.20872127272273155, 1.5038452901928197, 0.3810687629989386, 0.7531014416401095, 0.47515844401649343, -1.3117037828849436, -1.1128339786035324, 1.029572365045059, -0.6998734664959823, 0.38491468084915426, -0.851322628406908, 0.20712468604181208, -1.0443583025142498, -0.5585025465631798, 1.6133603060244144, 0.6650436363899097, 0.43497836743006446, -0.3135901937525547, -1.035819537740092, 0.16500645542112155, -0.9797413668441683, 1.1709202821872366, -0.3720340472186027, 1.2875124895895487, -0.5342416459509143, 0.8652415097498334, 1.5787699931065844, 0.801559529330312, 1.808507607789963, 0.8574514261933185, -2.4147665891905423, 1.7264760801920465, -0.06502278632303127, 0.3525427456543032, 0.012552047667873876, -0.6432254433376144, -0.4677216910558781, 0.3088421925727908, -0.24516716396534866, -1.0028937338811257, -0.11281611748353859, -0.21130491670513085, 1.1809298727624613, -1.3801349160393888, 0.6649025414857689, 0.07020479167028694, 1.740029943416659, 0.11709800890149423, -0.5814226348171162, -1.0019165405279373, -0.21731413282882847, 0.32370671894003944, 0.9948776149290441, 1.4343455034837274, 1.230642479260398, 0.4407683249017293, 1.1008062320678353, -0.5268935998638822, -0.19239595695956105, 0.6351734409776926, 0.694340808578521, -0.5603554691124976, -1.6720568576003965, 2.1469145635682256, 2.114961913817211, 0.6233672076422256, -0.3462142582361224, -2.4139182337762866, -2.126184965333488, 0.6670682066566681, 0.5925052023824063, -0.2640307238259685, 0.98890415493091, 0.31990550123503214, 1.116614817349527, 0.6146447422037827, 0.23811295524611592, -0.7621631571903236, 0.0005562339163062913, 0.3056800154965565, -0.7646734494718713, 0.7956242619405267, 1.1363915737491685, 0.5870292601155663]}, {\"boxpoints\": false, \"line\": {\"width\": 1.3}, \"marker\": {\"color\": \"rgba(50, 171, 96, 1.0)\"}, \"name\": \"C\", \"orientation\": \"v\", \"type\": \"box\", \"y\": [-0.31235344268957305, -0.779291184008495, -0.3382378313641103, 1.5421481134590849, -1.3551621221442123, -0.33340180454056784, 1.665296944513379, -0.32763611518520985, 0.2609174602920684, 1.6395212351276283, 0.9912710012311396, -1.4019081191169263, -1.458481412138232, -0.07304151076635769, 0.1221095950313633, -2.2286451162858807, 0.08237034692735798, 1.7750430436973565, -0.7511221498733812, -0.01841886398274809, 0.3509648204240912, -0.4678989936030183, -0.07150780483206723, -1.3762431724055342, 1.5326017377318464, 0.4983811025203121, -0.6795782051592428, -1.2656471093840016, 0.392297234389132, 0.24799131200879226, -1.0526228366086938, 0.5235704896437962, -2.1105760386913204, -0.9241436610842272, 1.7332599843659915, -0.9370479961582932, 0.8263952807279571, -0.9208933905587741, -0.1538715791291248, 0.4013805447984194, -0.8438962555943664, 0.2840391365053848, 0.7233997398011442, 1.2509113718825278, -0.4222341192657711, 0.2547359853722564, 1.1865136808993528, 0.01875822993183538, -0.021890938217392852, 0.3308619824488176, 0.5302273579361191, 0.5715254621147243, 0.9531877249301393, -0.86812801411079, -0.003632374883951981, -1.0424190239275244, -0.06131038034819389, -0.7235001630887572, -0.6740685444674551, -0.15891045604359477, 1.3402898073715057, 0.958617214426853, -0.6958427995651298, -0.5815808665306819, -0.39845785266202827, -0.39936376026592535, 0.04125767678413521, 0.24907653795296583, -0.9311076163727938, 0.5572243135699384, 0.46838393501357034, 0.5760126083194442, -0.5688066170943136, -0.12984686598054374, -1.8368011291388542, -1.8362250489634662, -0.31162448112682783, 0.2351904211051621, -1.2303712522426633, 0.803472556092731, 1.416412724412486, 1.0460389280210196, -1.7284715283664749, -0.9265549820848047, -1.0629618896047572, 0.5134434439148944, -0.8814579803703178, -0.22978633789459266, 2.3553289181892407, -0.07690735215068391, -0.848160029587419, -0.5875614140450401, 0.3113488458077335, -0.31003966124401394, 1.4804871534955693, -1.3732313567546572, 0.902320280180013, 0.7244150084856815, 0.8314704704799247, -0.21398466359923993]}, {\"boxpoints\": false, \"line\": {\"width\": 1.3}, \"marker\": {\"color\": \"rgba(128, 0, 128, 1.0)\"}, \"name\": \"D\", \"orientation\": \"v\", \"type\": \"box\", \"y\": [1.0501846747475807, -0.2631622600665042, -1.7403044791255877, -0.49270096000479324, -1.266095965737075, -0.79041828917442, -2.9077287476812814, 0.5162476509677758, -0.7174430378950274, 0.2706549456708596, 1.0573039873448888, -0.5600414520013582, 0.9754910522734861, 0.692212074791335, -0.2668207194598693, -1.1770830167086077, 0.4966582090084445, 0.30526131642048454, 0.9160256136980789, -1.5918295650442957, 0.02977026538641927, -1.7172731979615743, -0.16174746327733458, 1.8427204049825525, -0.7070357286280311, -1.5063320055032123, -0.6975635973077675, 1.2139295569562687, 0.2673960751229431, -0.783315246893848, -0.5072663992950421, 0.5870448767884239, 0.5601074508584243, -0.2637481454065867, -0.7719795045926394, 0.8886942146784562, -0.180650310216546, -0.5381770917545685, -1.4051286558709084, -0.15570765448750165, 0.09307128198913218, -0.18151631488798683, 0.310787850486599, 0.4918763947131808, 0.6905827746980921, 0.16693538146178163, 1.4122462316005135, 1.016677403837887, -0.6854839792266426, -0.5809831911943966, -2.184806133330967, -0.3688091129235744, -0.40548108117032877, 1.339731057473646, -0.9428106033223824, 0.6613579874430183, 0.9202754253501984, 2.4143459436610955, 0.29157535161896586, 1.293398970613332, -1.9738145496888437, 0.19483371940869532, -0.7898763563357196, -1.1159067513199046, 0.8634416674887178, 1.8087502331064784, -0.1873966626930624, -0.02902665910273575, 0.20943796269246906, 1.094678799697476, 0.20675945704454388, -0.9283200224952756, 1.9189085221682376, -0.6738438434566502, 0.950432788311642, 0.2683051509918545, 0.5269430013778346, -0.8311589580073511, -0.08979753977451058, -0.28135666411071003, -0.36891736319069823, -0.6351896533405529, 1.725810775721876, -1.2370318338049597, -0.21501903771022107, 0.2069549912563331, -1.4782321340741926, -2.0347856211560686, 1.1417074936945315, 0.13726081355615155, -1.0568924133839583, 0.6840980919865118, -1.5722044419324286, 0.300415657494318, 1.3111348856256066, 1.7505717975611537, -0.8078893163791052, -0.8247084630691421, 1.5035738332033604, 0.05881221943485587]}],\n",
       "                        {\"legend\": {\"bgcolor\": \"#F5F6F9\", \"font\": {\"color\": \"#4D5663\"}}, \"paper_bgcolor\": \"#F5F6F9\", \"plot_bgcolor\": \"#F5F6F9\", \"template\": {\"data\": {\"bar\": [{\"error_x\": {\"color\": \"#2a3f5f\"}, \"error_y\": {\"color\": \"#2a3f5f\"}, \"marker\": {\"line\": {\"color\": \"#E5ECF6\", \"width\": 0.5}}, \"type\": \"bar\"}], \"barpolar\": [{\"marker\": {\"line\": {\"color\": \"#E5ECF6\", \"width\": 0.5}}, \"type\": \"barpolar\"}], \"carpet\": [{\"aaxis\": {\"endlinecolor\": \"#2a3f5f\", \"gridcolor\": \"white\", \"linecolor\": \"white\", \"minorgridcolor\": \"white\", \"startlinecolor\": \"#2a3f5f\"}, \"baxis\": {\"endlinecolor\": \"#2a3f5f\", \"gridcolor\": \"white\", \"linecolor\": \"white\", \"minorgridcolor\": \"white\", \"startlinecolor\": \"#2a3f5f\"}, \"type\": \"carpet\"}], \"choropleth\": [{\"colorbar\": {\"outlinewidth\": 0, \"ticks\": \"\"}, \"type\": \"choropleth\"}], \"contour\": [{\"colorbar\": {\"outlinewidth\": 0, \"ticks\": \"\"}, \"colorscale\": [[0.0, \"#0d0887\"], [0.1111111111111111, \"#46039f\"], [0.2222222222222222, \"#7201a8\"], [0.3333333333333333, \"#9c179e\"], [0.4444444444444444, \"#bd3786\"], [0.5555555555555556, \"#d8576b\"], [0.6666666666666666, \"#ed7953\"], [0.7777777777777778, \"#fb9f3a\"], [0.8888888888888888, \"#fdca26\"], [1.0, \"#f0f921\"]], \"type\": \"contour\"}], \"contourcarpet\": [{\"colorbar\": {\"outlinewidth\": 0, \"ticks\": \"\"}, \"type\": \"contourcarpet\"}], \"heatmap\": [{\"colorbar\": {\"outlinewidth\": 0, \"ticks\": \"\"}, \"colorscale\": [[0.0, \"#0d0887\"], [0.1111111111111111, \"#46039f\"], [0.2222222222222222, \"#7201a8\"], [0.3333333333333333, \"#9c179e\"], [0.4444444444444444, \"#bd3786\"], [0.5555555555555556, \"#d8576b\"], [0.6666666666666666, \"#ed7953\"], [0.7777777777777778, \"#fb9f3a\"], [0.8888888888888888, \"#fdca26\"], [1.0, \"#f0f921\"]], \"type\": \"heatmap\"}], \"heatmapgl\": [{\"colorbar\": {\"outlinewidth\": 0, \"ticks\": \"\"}, \"colorscale\": [[0.0, \"#0d0887\"], [0.1111111111111111, \"#46039f\"], [0.2222222222222222, \"#7201a8\"], [0.3333333333333333, \"#9c179e\"], [0.4444444444444444, \"#bd3786\"], [0.5555555555555556, \"#d8576b\"], [0.6666666666666666, \"#ed7953\"], [0.7777777777777778, \"#fb9f3a\"], [0.8888888888888888, \"#fdca26\"], [1.0, \"#f0f921\"]], \"type\": \"heatmapgl\"}], \"histogram\": [{\"marker\": {\"colorbar\": {\"outlinewidth\": 0, \"ticks\": \"\"}}, \"type\": \"histogram\"}], \"histogram2d\": [{\"colorbar\": {\"outlinewidth\": 0, \"ticks\": \"\"}, \"colorscale\": [[0.0, \"#0d0887\"], [0.1111111111111111, \"#46039f\"], [0.2222222222222222, \"#7201a8\"], [0.3333333333333333, \"#9c179e\"], [0.4444444444444444, \"#bd3786\"], [0.5555555555555556, \"#d8576b\"], [0.6666666666666666, \"#ed7953\"], [0.7777777777777778, \"#fb9f3a\"], [0.8888888888888888, \"#fdca26\"], [1.0, \"#f0f921\"]], \"type\": \"histogram2d\"}], \"histogram2dcontour\": [{\"colorbar\": {\"outlinewidth\": 0, \"ticks\": \"\"}, \"colorscale\": [[0.0, \"#0d0887\"], [0.1111111111111111, \"#46039f\"], [0.2222222222222222, \"#7201a8\"], [0.3333333333333333, \"#9c179e\"], [0.4444444444444444, \"#bd3786\"], [0.5555555555555556, \"#d8576b\"], [0.6666666666666666, \"#ed7953\"], [0.7777777777777778, \"#fb9f3a\"], [0.8888888888888888, \"#fdca26\"], [1.0, \"#f0f921\"]], \"type\": \"histogram2dcontour\"}], \"mesh3d\": [{\"colorbar\": {\"outlinewidth\": 0, \"ticks\": \"\"}, \"type\": \"mesh3d\"}], \"parcoords\": [{\"line\": {\"colorbar\": {\"outlinewidth\": 0, \"ticks\": \"\"}}, \"type\": \"parcoords\"}], \"pie\": [{\"automargin\": true, \"type\": \"pie\"}], \"scatter\": [{\"marker\": {\"colorbar\": {\"outlinewidth\": 0, \"ticks\": \"\"}}, \"type\": \"scatter\"}], \"scatter3d\": [{\"line\": {\"colorbar\": {\"outlinewidth\": 0, \"ticks\": \"\"}}, \"marker\": {\"colorbar\": {\"outlinewidth\": 0, \"ticks\": \"\"}}, \"type\": \"scatter3d\"}], \"scattercarpet\": [{\"marker\": {\"colorbar\": {\"outlinewidth\": 0, \"ticks\": \"\"}}, \"type\": \"scattercarpet\"}], \"scattergeo\": [{\"marker\": {\"colorbar\": {\"outlinewidth\": 0, \"ticks\": \"\"}}, \"type\": \"scattergeo\"}], \"scattergl\": [{\"marker\": {\"colorbar\": {\"outlinewidth\": 0, \"ticks\": \"\"}}, \"type\": \"scattergl\"}], \"scattermapbox\": [{\"marker\": {\"colorbar\": {\"outlinewidth\": 0, \"ticks\": \"\"}}, \"type\": \"scattermapbox\"}], \"scatterpolar\": [{\"marker\": {\"colorbar\": {\"outlinewidth\": 0, \"ticks\": \"\"}}, \"type\": \"scatterpolar\"}], \"scatterpolargl\": [{\"marker\": {\"colorbar\": {\"outlinewidth\": 0, \"ticks\": \"\"}}, \"type\": \"scatterpolargl\"}], \"scatterternary\": [{\"marker\": {\"colorbar\": {\"outlinewidth\": 0, \"ticks\": \"\"}}, \"type\": \"scatterternary\"}], \"surface\": [{\"colorbar\": {\"outlinewidth\": 0, \"ticks\": \"\"}, \"colorscale\": [[0.0, \"#0d0887\"], [0.1111111111111111, \"#46039f\"], [0.2222222222222222, \"#7201a8\"], [0.3333333333333333, \"#9c179e\"], [0.4444444444444444, \"#bd3786\"], [0.5555555555555556, \"#d8576b\"], [0.6666666666666666, \"#ed7953\"], [0.7777777777777778, \"#fb9f3a\"], [0.8888888888888888, \"#fdca26\"], [1.0, \"#f0f921\"]], \"type\": \"surface\"}], \"table\": [{\"cells\": {\"fill\": {\"color\": \"#EBF0F8\"}, \"line\": {\"color\": \"white\"}}, \"header\": {\"fill\": {\"color\": \"#C8D4E3\"}, \"line\": {\"color\": \"white\"}}, \"type\": \"table\"}]}, \"layout\": {\"annotationdefaults\": {\"arrowcolor\": \"#2a3f5f\", \"arrowhead\": 0, \"arrowwidth\": 1}, \"coloraxis\": {\"colorbar\": {\"outlinewidth\": 0, \"ticks\": \"\"}}, \"colorscale\": {\"diverging\": [[0, \"#8e0152\"], [0.1, \"#c51b7d\"], [0.2, \"#de77ae\"], [0.3, \"#f1b6da\"], [0.4, \"#fde0ef\"], [0.5, \"#f7f7f7\"], [0.6, \"#e6f5d0\"], [0.7, \"#b8e186\"], [0.8, \"#7fbc41\"], [0.9, \"#4d9221\"], [1, \"#276419\"]], \"sequential\": [[0.0, \"#0d0887\"], [0.1111111111111111, \"#46039f\"], [0.2222222222222222, \"#7201a8\"], [0.3333333333333333, \"#9c179e\"], [0.4444444444444444, \"#bd3786\"], [0.5555555555555556, \"#d8576b\"], [0.6666666666666666, \"#ed7953\"], [0.7777777777777778, \"#fb9f3a\"], [0.8888888888888888, \"#fdca26\"], [1.0, \"#f0f921\"]], \"sequentialminus\": [[0.0, \"#0d0887\"], [0.1111111111111111, \"#46039f\"], [0.2222222222222222, \"#7201a8\"], [0.3333333333333333, \"#9c179e\"], [0.4444444444444444, \"#bd3786\"], [0.5555555555555556, \"#d8576b\"], [0.6666666666666666, \"#ed7953\"], [0.7777777777777778, \"#fb9f3a\"], [0.8888888888888888, \"#fdca26\"], [1.0, \"#f0f921\"]]}, \"colorway\": [\"#636efa\", \"#EF553B\", \"#00cc96\", \"#ab63fa\", \"#FFA15A\", \"#19d3f3\", \"#FF6692\", \"#B6E880\", \"#FF97FF\", \"#FECB52\"], \"font\": {\"color\": \"#2a3f5f\"}, \"geo\": {\"bgcolor\": \"white\", \"lakecolor\": \"white\", \"landcolor\": \"#E5ECF6\", \"showlakes\": true, \"showland\": true, \"subunitcolor\": \"white\"}, \"hoverlabel\": {\"align\": \"left\"}, \"hovermode\": \"closest\", \"mapbox\": {\"style\": \"light\"}, \"paper_bgcolor\": \"white\", \"plot_bgcolor\": \"#E5ECF6\", \"polar\": {\"angularaxis\": {\"gridcolor\": \"white\", \"linecolor\": \"white\", \"ticks\": \"\"}, \"bgcolor\": \"#E5ECF6\", \"radialaxis\": {\"gridcolor\": \"white\", \"linecolor\": \"white\", \"ticks\": \"\"}}, \"scene\": {\"xaxis\": {\"backgroundcolor\": \"#E5ECF6\", \"gridcolor\": \"white\", \"gridwidth\": 2, \"linecolor\": \"white\", \"showbackground\": true, \"ticks\": \"\", \"zerolinecolor\": \"white\"}, \"yaxis\": {\"backgroundcolor\": \"#E5ECF6\", \"gridcolor\": \"white\", \"gridwidth\": 2, \"linecolor\": \"white\", \"showbackground\": true, \"ticks\": \"\", \"zerolinecolor\": \"white\"}, \"zaxis\": {\"backgroundcolor\": \"#E5ECF6\", \"gridcolor\": \"white\", \"gridwidth\": 2, \"linecolor\": \"white\", \"showbackground\": true, \"ticks\": \"\", \"zerolinecolor\": \"white\"}}, \"shapedefaults\": {\"line\": {\"color\": \"#2a3f5f\"}}, \"ternary\": {\"aaxis\": {\"gridcolor\": \"white\", \"linecolor\": \"white\", \"ticks\": \"\"}, \"baxis\": {\"gridcolor\": \"white\", \"linecolor\": \"white\", \"ticks\": \"\"}, \"bgcolor\": \"#E5ECF6\", \"caxis\": {\"gridcolor\": \"white\", \"linecolor\": \"white\", \"ticks\": \"\"}}, \"title\": {\"x\": 0.05}, \"xaxis\": {\"automargin\": true, \"gridcolor\": \"white\", \"linecolor\": \"white\", \"ticks\": \"\", \"title\": {\"standoff\": 15}, \"zerolinecolor\": \"white\", \"zerolinewidth\": 2}, \"yaxis\": {\"automargin\": true, \"gridcolor\": \"white\", \"linecolor\": \"white\", \"ticks\": \"\", \"title\": {\"standoff\": 15}, \"zerolinecolor\": \"white\", \"zerolinewidth\": 2}}}, \"title\": {\"font\": {\"color\": \"#4D5663\"}}, \"xaxis\": {\"gridcolor\": \"#E1E5ED\", \"showgrid\": true, \"tickfont\": {\"color\": \"#4D5663\"}, \"title\": {\"font\": {\"color\": \"#4D5663\"}, \"text\": \"\"}, \"zerolinecolor\": \"#E1E5ED\"}, \"yaxis\": {\"gridcolor\": \"#E1E5ED\", \"showgrid\": true, \"tickfont\": {\"color\": \"#4D5663\"}, \"title\": {\"font\": {\"color\": \"#4D5663\"}, \"text\": \"\"}, \"zerolinecolor\": \"#E1E5ED\"}},\n",
       "                        {\"showLink\": true, \"linkText\": \"Export to plot.ly\", \"plotlyServerURL\": \"https://plot.ly\", \"responsive\": true}\n",
       "                    ).then(function(){\n",
       "                            \n",
       "var gd = document.getElementById('571aa17f-1b0e-41f1-81e2-7bd4db70147e');\n",
       "var x = new MutationObserver(function (mutations, observer) {{\n",
       "        var display = window.getComputedStyle(gd).display;\n",
       "        if (!display || display === 'none') {{\n",
       "            console.log([gd, 'removed!']);\n",
       "            Plotly.purge(gd);\n",
       "            observer.disconnect();\n",
       "        }}\n",
       "}});\n",
       "\n",
       "// Listen for the removal of the full notebook cells\n",
       "var notebookContainer = gd.closest('#notebook-container');\n",
       "if (notebookContainer) {{\n",
       "    x.observe(notebookContainer, {childList: true});\n",
       "}}\n",
       "\n",
       "// Listen for the clearing of the current output cell\n",
       "var outputEl = gd.closest('.output');\n",
       "if (outputEl) {{\n",
       "    x.observe(outputEl, {childList: true});\n",
       "}}\n",
       "\n",
       "                        })\n",
       "                };\n",
       "                });\n",
       "            </script>\n",
       "        </div>"
      ]
     },
     "metadata": {},
     "output_type": "display_data"
    }
   ],
   "source": [
    "df1.iplot(kind='box')"
   ]
  },
  {
   "cell_type": "markdown",
   "metadata": {},
   "source": [
    "#### Surface Plot (3D Plot)"
   ]
  },
  {
   "cell_type": "code",
   "execution_count": 52,
   "metadata": {},
   "outputs": [],
   "source": [
    "df3 = pd.DataFrame({'x':[1,2,3,4,5],'y':[10,20,30,20,10],'z':[5,4,3,2,1]})"
   ]
  },
  {
   "cell_type": "code",
   "execution_count": 53,
   "metadata": {},
   "outputs": [
    {
     "data": {
      "text/html": [
       "<div>\n",
       "<style scoped>\n",
       "    .dataframe tbody tr th:only-of-type {\n",
       "        vertical-align: middle;\n",
       "    }\n",
       "\n",
       "    .dataframe tbody tr th {\n",
       "        vertical-align: top;\n",
       "    }\n",
       "\n",
       "    .dataframe thead th {\n",
       "        text-align: right;\n",
       "    }\n",
       "</style>\n",
       "<table border=\"1\" class=\"dataframe\">\n",
       "  <thead>\n",
       "    <tr style=\"text-align: right;\">\n",
       "      <th></th>\n",
       "      <th>x</th>\n",
       "      <th>y</th>\n",
       "      <th>z</th>\n",
       "    </tr>\n",
       "  </thead>\n",
       "  <tbody>\n",
       "    <tr>\n",
       "      <th>0</th>\n",
       "      <td>1</td>\n",
       "      <td>10</td>\n",
       "      <td>5</td>\n",
       "    </tr>\n",
       "    <tr>\n",
       "      <th>1</th>\n",
       "      <td>2</td>\n",
       "      <td>20</td>\n",
       "      <td>4</td>\n",
       "    </tr>\n",
       "    <tr>\n",
       "      <th>2</th>\n",
       "      <td>3</td>\n",
       "      <td>30</td>\n",
       "      <td>3</td>\n",
       "    </tr>\n",
       "    <tr>\n",
       "      <th>3</th>\n",
       "      <td>4</td>\n",
       "      <td>20</td>\n",
       "      <td>2</td>\n",
       "    </tr>\n",
       "    <tr>\n",
       "      <th>4</th>\n",
       "      <td>5</td>\n",
       "      <td>10</td>\n",
       "      <td>1</td>\n",
       "    </tr>\n",
       "  </tbody>\n",
       "</table>\n",
       "</div>"
      ],
      "text/plain": [
       "   x   y  z\n",
       "0  1  10  5\n",
       "1  2  20  4\n",
       "2  3  30  3\n",
       "3  4  20  2\n",
       "4  5  10  1"
      ]
     },
     "execution_count": 53,
     "metadata": {},
     "output_type": "execute_result"
    }
   ],
   "source": [
    "df3"
   ]
  },
  {
   "cell_type": "code",
   "execution_count": 56,
   "metadata": {},
   "outputs": [
    {
     "data": {
      "application/vnd.plotly.v1+json": {
       "config": {
        "linkText": "Export to plot.ly",
        "plotlyServerURL": "https://plot.ly",
        "showLink": true
       },
       "data": [
        {
         "colorscale": [
          [
           0,
           "rgb(255, 153, 51)"
          ],
          [
           0.1111111111111111,
           "rgb(55, 128, 191)"
          ],
          [
           0.2222222222222222,
           "rgb(50, 171, 96)"
          ],
          [
           0.3333333333333333,
           "rgb(128, 0, 128)"
          ],
          [
           0.4444444444444444,
           "rgb(219, 64, 82)"
          ],
          [
           0.5555555555555556,
           "rgb(0, 128, 128)"
          ],
          [
           0.6666666666666666,
           "rgb(255, 255, 51)"
          ],
          [
           0.7777777777777778,
           "rgb(128, 128, 0)"
          ],
          [
           0.8888888888888888,
           "rgb(251, 128, 114)"
          ],
          [
           1,
           "rgb(128, 177, 211)"
          ]
         ],
         "type": "surface",
         "x": [
          0,
          1,
          2,
          3,
          4
         ],
         "y": [
          "x",
          "y",
          "z"
         ],
         "z": [
          [
           1,
           2,
           3,
           4,
           5
          ],
          [
           10,
           20,
           30,
           20,
           10
          ],
          [
           5,
           4,
           3,
           2,
           1
          ]
         ]
        }
       ],
       "layout": {
        "legend": {
         "bgcolor": "#F5F6F9",
         "font": {
          "color": "#4D5663"
         }
        },
        "paper_bgcolor": "#F5F6F9",
        "plot_bgcolor": "#F5F6F9",
        "template": {
         "data": {
          "bar": [
           {
            "error_x": {
             "color": "#2a3f5f"
            },
            "error_y": {
             "color": "#2a3f5f"
            },
            "marker": {
             "line": {
              "color": "#E5ECF6",
              "width": 0.5
             }
            },
            "type": "bar"
           }
          ],
          "barpolar": [
           {
            "marker": {
             "line": {
              "color": "#E5ECF6",
              "width": 0.5
             }
            },
            "type": "barpolar"
           }
          ],
          "carpet": [
           {
            "aaxis": {
             "endlinecolor": "#2a3f5f",
             "gridcolor": "white",
             "linecolor": "white",
             "minorgridcolor": "white",
             "startlinecolor": "#2a3f5f"
            },
            "baxis": {
             "endlinecolor": "#2a3f5f",
             "gridcolor": "white",
             "linecolor": "white",
             "minorgridcolor": "white",
             "startlinecolor": "#2a3f5f"
            },
            "type": "carpet"
           }
          ],
          "choropleth": [
           {
            "colorbar": {
             "outlinewidth": 0,
             "ticks": ""
            },
            "type": "choropleth"
           }
          ],
          "contour": [
           {
            "colorbar": {
             "outlinewidth": 0,
             "ticks": ""
            },
            "colorscale": [
             [
              0,
              "#0d0887"
             ],
             [
              0.1111111111111111,
              "#46039f"
             ],
             [
              0.2222222222222222,
              "#7201a8"
             ],
             [
              0.3333333333333333,
              "#9c179e"
             ],
             [
              0.4444444444444444,
              "#bd3786"
             ],
             [
              0.5555555555555556,
              "#d8576b"
             ],
             [
              0.6666666666666666,
              "#ed7953"
             ],
             [
              0.7777777777777778,
              "#fb9f3a"
             ],
             [
              0.8888888888888888,
              "#fdca26"
             ],
             [
              1,
              "#f0f921"
             ]
            ],
            "type": "contour"
           }
          ],
          "contourcarpet": [
           {
            "colorbar": {
             "outlinewidth": 0,
             "ticks": ""
            },
            "type": "contourcarpet"
           }
          ],
          "heatmap": [
           {
            "colorbar": {
             "outlinewidth": 0,
             "ticks": ""
            },
            "colorscale": [
             [
              0,
              "#0d0887"
             ],
             [
              0.1111111111111111,
              "#46039f"
             ],
             [
              0.2222222222222222,
              "#7201a8"
             ],
             [
              0.3333333333333333,
              "#9c179e"
             ],
             [
              0.4444444444444444,
              "#bd3786"
             ],
             [
              0.5555555555555556,
              "#d8576b"
             ],
             [
              0.6666666666666666,
              "#ed7953"
             ],
             [
              0.7777777777777778,
              "#fb9f3a"
             ],
             [
              0.8888888888888888,
              "#fdca26"
             ],
             [
              1,
              "#f0f921"
             ]
            ],
            "type": "heatmap"
           }
          ],
          "heatmapgl": [
           {
            "colorbar": {
             "outlinewidth": 0,
             "ticks": ""
            },
            "colorscale": [
             [
              0,
              "#0d0887"
             ],
             [
              0.1111111111111111,
              "#46039f"
             ],
             [
              0.2222222222222222,
              "#7201a8"
             ],
             [
              0.3333333333333333,
              "#9c179e"
             ],
             [
              0.4444444444444444,
              "#bd3786"
             ],
             [
              0.5555555555555556,
              "#d8576b"
             ],
             [
              0.6666666666666666,
              "#ed7953"
             ],
             [
              0.7777777777777778,
              "#fb9f3a"
             ],
             [
              0.8888888888888888,
              "#fdca26"
             ],
             [
              1,
              "#f0f921"
             ]
            ],
            "type": "heatmapgl"
           }
          ],
          "histogram": [
           {
            "marker": {
             "colorbar": {
              "outlinewidth": 0,
              "ticks": ""
             }
            },
            "type": "histogram"
           }
          ],
          "histogram2d": [
           {
            "colorbar": {
             "outlinewidth": 0,
             "ticks": ""
            },
            "colorscale": [
             [
              0,
              "#0d0887"
             ],
             [
              0.1111111111111111,
              "#46039f"
             ],
             [
              0.2222222222222222,
              "#7201a8"
             ],
             [
              0.3333333333333333,
              "#9c179e"
             ],
             [
              0.4444444444444444,
              "#bd3786"
             ],
             [
              0.5555555555555556,
              "#d8576b"
             ],
             [
              0.6666666666666666,
              "#ed7953"
             ],
             [
              0.7777777777777778,
              "#fb9f3a"
             ],
             [
              0.8888888888888888,
              "#fdca26"
             ],
             [
              1,
              "#f0f921"
             ]
            ],
            "type": "histogram2d"
           }
          ],
          "histogram2dcontour": [
           {
            "colorbar": {
             "outlinewidth": 0,
             "ticks": ""
            },
            "colorscale": [
             [
              0,
              "#0d0887"
             ],
             [
              0.1111111111111111,
              "#46039f"
             ],
             [
              0.2222222222222222,
              "#7201a8"
             ],
             [
              0.3333333333333333,
              "#9c179e"
             ],
             [
              0.4444444444444444,
              "#bd3786"
             ],
             [
              0.5555555555555556,
              "#d8576b"
             ],
             [
              0.6666666666666666,
              "#ed7953"
             ],
             [
              0.7777777777777778,
              "#fb9f3a"
             ],
             [
              0.8888888888888888,
              "#fdca26"
             ],
             [
              1,
              "#f0f921"
             ]
            ],
            "type": "histogram2dcontour"
           }
          ],
          "mesh3d": [
           {
            "colorbar": {
             "outlinewidth": 0,
             "ticks": ""
            },
            "type": "mesh3d"
           }
          ],
          "parcoords": [
           {
            "line": {
             "colorbar": {
              "outlinewidth": 0,
              "ticks": ""
             }
            },
            "type": "parcoords"
           }
          ],
          "pie": [
           {
            "automargin": true,
            "type": "pie"
           }
          ],
          "scatter": [
           {
            "marker": {
             "colorbar": {
              "outlinewidth": 0,
              "ticks": ""
             }
            },
            "type": "scatter"
           }
          ],
          "scatter3d": [
           {
            "line": {
             "colorbar": {
              "outlinewidth": 0,
              "ticks": ""
             }
            },
            "marker": {
             "colorbar": {
              "outlinewidth": 0,
              "ticks": ""
             }
            },
            "type": "scatter3d"
           }
          ],
          "scattercarpet": [
           {
            "marker": {
             "colorbar": {
              "outlinewidth": 0,
              "ticks": ""
             }
            },
            "type": "scattercarpet"
           }
          ],
          "scattergeo": [
           {
            "marker": {
             "colorbar": {
              "outlinewidth": 0,
              "ticks": ""
             }
            },
            "type": "scattergeo"
           }
          ],
          "scattergl": [
           {
            "marker": {
             "colorbar": {
              "outlinewidth": 0,
              "ticks": ""
             }
            },
            "type": "scattergl"
           }
          ],
          "scattermapbox": [
           {
            "marker": {
             "colorbar": {
              "outlinewidth": 0,
              "ticks": ""
             }
            },
            "type": "scattermapbox"
           }
          ],
          "scatterpolar": [
           {
            "marker": {
             "colorbar": {
              "outlinewidth": 0,
              "ticks": ""
             }
            },
            "type": "scatterpolar"
           }
          ],
          "scatterpolargl": [
           {
            "marker": {
             "colorbar": {
              "outlinewidth": 0,
              "ticks": ""
             }
            },
            "type": "scatterpolargl"
           }
          ],
          "scatterternary": [
           {
            "marker": {
             "colorbar": {
              "outlinewidth": 0,
              "ticks": ""
             }
            },
            "type": "scatterternary"
           }
          ],
          "surface": [
           {
            "colorbar": {
             "outlinewidth": 0,
             "ticks": ""
            },
            "colorscale": [
             [
              0,
              "#0d0887"
             ],
             [
              0.1111111111111111,
              "#46039f"
             ],
             [
              0.2222222222222222,
              "#7201a8"
             ],
             [
              0.3333333333333333,
              "#9c179e"
             ],
             [
              0.4444444444444444,
              "#bd3786"
             ],
             [
              0.5555555555555556,
              "#d8576b"
             ],
             [
              0.6666666666666666,
              "#ed7953"
             ],
             [
              0.7777777777777778,
              "#fb9f3a"
             ],
             [
              0.8888888888888888,
              "#fdca26"
             ],
             [
              1,
              "#f0f921"
             ]
            ],
            "type": "surface"
           }
          ],
          "table": [
           {
            "cells": {
             "fill": {
              "color": "#EBF0F8"
             },
             "line": {
              "color": "white"
             }
            },
            "header": {
             "fill": {
              "color": "#C8D4E3"
             },
             "line": {
              "color": "white"
             }
            },
            "type": "table"
           }
          ]
         },
         "layout": {
          "annotationdefaults": {
           "arrowcolor": "#2a3f5f",
           "arrowhead": 0,
           "arrowwidth": 1
          },
          "coloraxis": {
           "colorbar": {
            "outlinewidth": 0,
            "ticks": ""
           }
          },
          "colorscale": {
           "diverging": [
            [
             0,
             "#8e0152"
            ],
            [
             0.1,
             "#c51b7d"
            ],
            [
             0.2,
             "#de77ae"
            ],
            [
             0.3,
             "#f1b6da"
            ],
            [
             0.4,
             "#fde0ef"
            ],
            [
             0.5,
             "#f7f7f7"
            ],
            [
             0.6,
             "#e6f5d0"
            ],
            [
             0.7,
             "#b8e186"
            ],
            [
             0.8,
             "#7fbc41"
            ],
            [
             0.9,
             "#4d9221"
            ],
            [
             1,
             "#276419"
            ]
           ],
           "sequential": [
            [
             0,
             "#0d0887"
            ],
            [
             0.1111111111111111,
             "#46039f"
            ],
            [
             0.2222222222222222,
             "#7201a8"
            ],
            [
             0.3333333333333333,
             "#9c179e"
            ],
            [
             0.4444444444444444,
             "#bd3786"
            ],
            [
             0.5555555555555556,
             "#d8576b"
            ],
            [
             0.6666666666666666,
             "#ed7953"
            ],
            [
             0.7777777777777778,
             "#fb9f3a"
            ],
            [
             0.8888888888888888,
             "#fdca26"
            ],
            [
             1,
             "#f0f921"
            ]
           ],
           "sequentialminus": [
            [
             0,
             "#0d0887"
            ],
            [
             0.1111111111111111,
             "#46039f"
            ],
            [
             0.2222222222222222,
             "#7201a8"
            ],
            [
             0.3333333333333333,
             "#9c179e"
            ],
            [
             0.4444444444444444,
             "#bd3786"
            ],
            [
             0.5555555555555556,
             "#d8576b"
            ],
            [
             0.6666666666666666,
             "#ed7953"
            ],
            [
             0.7777777777777778,
             "#fb9f3a"
            ],
            [
             0.8888888888888888,
             "#fdca26"
            ],
            [
             1,
             "#f0f921"
            ]
           ]
          },
          "colorway": [
           "#636efa",
           "#EF553B",
           "#00cc96",
           "#ab63fa",
           "#FFA15A",
           "#19d3f3",
           "#FF6692",
           "#B6E880",
           "#FF97FF",
           "#FECB52"
          ],
          "font": {
           "color": "#2a3f5f"
          },
          "geo": {
           "bgcolor": "white",
           "lakecolor": "white",
           "landcolor": "#E5ECF6",
           "showlakes": true,
           "showland": true,
           "subunitcolor": "white"
          },
          "hoverlabel": {
           "align": "left"
          },
          "hovermode": "closest",
          "mapbox": {
           "style": "light"
          },
          "paper_bgcolor": "white",
          "plot_bgcolor": "#E5ECF6",
          "polar": {
           "angularaxis": {
            "gridcolor": "white",
            "linecolor": "white",
            "ticks": ""
           },
           "bgcolor": "#E5ECF6",
           "radialaxis": {
            "gridcolor": "white",
            "linecolor": "white",
            "ticks": ""
           }
          },
          "scene": {
           "xaxis": {
            "backgroundcolor": "#E5ECF6",
            "gridcolor": "white",
            "gridwidth": 2,
            "linecolor": "white",
            "showbackground": true,
            "ticks": "",
            "zerolinecolor": "white"
           },
           "yaxis": {
            "backgroundcolor": "#E5ECF6",
            "gridcolor": "white",
            "gridwidth": 2,
            "linecolor": "white",
            "showbackground": true,
            "ticks": "",
            "zerolinecolor": "white"
           },
           "zaxis": {
            "backgroundcolor": "#E5ECF6",
            "gridcolor": "white",
            "gridwidth": 2,
            "linecolor": "white",
            "showbackground": true,
            "ticks": "",
            "zerolinecolor": "white"
           }
          },
          "shapedefaults": {
           "line": {
            "color": "#2a3f5f"
           }
          },
          "ternary": {
           "aaxis": {
            "gridcolor": "white",
            "linecolor": "white",
            "ticks": ""
           },
           "baxis": {
            "gridcolor": "white",
            "linecolor": "white",
            "ticks": ""
           },
           "bgcolor": "#E5ECF6",
           "caxis": {
            "gridcolor": "white",
            "linecolor": "white",
            "ticks": ""
           }
          },
          "title": {
           "x": 0.05
          },
          "xaxis": {
           "automargin": true,
           "gridcolor": "white",
           "linecolor": "white",
           "ticks": "",
           "title": {
            "standoff": 15
           },
           "zerolinecolor": "white",
           "zerolinewidth": 2
          },
          "yaxis": {
           "automargin": true,
           "gridcolor": "white",
           "linecolor": "white",
           "ticks": "",
           "title": {
            "standoff": 15
           },
           "zerolinecolor": "white",
           "zerolinewidth": 2
          }
         }
        },
        "title": {
         "font": {
          "color": "#4D5663"
         }
        },
        "xaxis": {
         "gridcolor": "#E1E5ED",
         "showgrid": true,
         "tickfont": {
          "color": "#4D5663"
         },
         "title": {
          "font": {
           "color": "#4D5663"
          },
          "text": ""
         },
         "zerolinecolor": "#E1E5ED"
        },
        "yaxis": {
         "gridcolor": "#E1E5ED",
         "showgrid": true,
         "tickfont": {
          "color": "#4D5663"
         },
         "title": {
          "font": {
           "color": "#4D5663"
          },
          "text": ""
         },
         "zerolinecolor": "#E1E5ED"
        }
       }
      },
      "text/html": [
       "<div>\n",
       "        \n",
       "        \n",
       "            <div id=\"29509e07-c342-48d8-be90-7358054b692f\" class=\"plotly-graph-div\" style=\"height:525px; width:100%;\"></div>\n",
       "            <script type=\"text/javascript\">\n",
       "                require([\"plotly\"], function(Plotly) {\n",
       "                    window.PLOTLYENV=window.PLOTLYENV || {};\n",
       "                    window.PLOTLYENV.BASE_URL='https://plot.ly';\n",
       "                    \n",
       "                if (document.getElementById(\"29509e07-c342-48d8-be90-7358054b692f\")) {\n",
       "                    Plotly.newPlot(\n",
       "                        '29509e07-c342-48d8-be90-7358054b692f',\n",
       "                        [{\"colorscale\": [[0.0, \"rgb(255, 153, 51)\"], [0.1111111111111111, \"rgb(55, 128, 191)\"], [0.2222222222222222, \"rgb(50, 171, 96)\"], [0.3333333333333333, \"rgb(128, 0, 128)\"], [0.4444444444444444, \"rgb(219, 64, 82)\"], [0.5555555555555556, \"rgb(0, 128, 128)\"], [0.6666666666666666, \"rgb(255, 255, 51)\"], [0.7777777777777778, \"rgb(128, 128, 0)\"], [0.8888888888888888, \"rgb(251, 128, 114)\"], [1.0, \"rgb(128, 177, 211)\"]], \"type\": \"surface\", \"x\": [0, 1, 2, 3, 4], \"y\": [\"x\", \"y\", \"z\"], \"z\": [[1, 2, 3, 4, 5], [10, 20, 30, 20, 10], [5, 4, 3, 2, 1]]}],\n",
       "                        {\"legend\": {\"bgcolor\": \"#F5F6F9\", \"font\": {\"color\": \"#4D5663\"}}, \"paper_bgcolor\": \"#F5F6F9\", \"plot_bgcolor\": \"#F5F6F9\", \"template\": {\"data\": {\"bar\": [{\"error_x\": {\"color\": \"#2a3f5f\"}, \"error_y\": {\"color\": \"#2a3f5f\"}, \"marker\": {\"line\": {\"color\": \"#E5ECF6\", \"width\": 0.5}}, \"type\": \"bar\"}], \"barpolar\": [{\"marker\": {\"line\": {\"color\": \"#E5ECF6\", \"width\": 0.5}}, \"type\": \"barpolar\"}], \"carpet\": [{\"aaxis\": {\"endlinecolor\": \"#2a3f5f\", \"gridcolor\": \"white\", \"linecolor\": \"white\", \"minorgridcolor\": \"white\", \"startlinecolor\": \"#2a3f5f\"}, \"baxis\": {\"endlinecolor\": \"#2a3f5f\", \"gridcolor\": \"white\", \"linecolor\": \"white\", \"minorgridcolor\": \"white\", \"startlinecolor\": \"#2a3f5f\"}, \"type\": \"carpet\"}], \"choropleth\": [{\"colorbar\": {\"outlinewidth\": 0, \"ticks\": \"\"}, \"type\": \"choropleth\"}], \"contour\": [{\"colorbar\": {\"outlinewidth\": 0, \"ticks\": \"\"}, \"colorscale\": [[0.0, \"#0d0887\"], [0.1111111111111111, \"#46039f\"], [0.2222222222222222, \"#7201a8\"], [0.3333333333333333, \"#9c179e\"], [0.4444444444444444, \"#bd3786\"], [0.5555555555555556, \"#d8576b\"], [0.6666666666666666, \"#ed7953\"], [0.7777777777777778, \"#fb9f3a\"], [0.8888888888888888, \"#fdca26\"], [1.0, \"#f0f921\"]], \"type\": \"contour\"}], \"contourcarpet\": [{\"colorbar\": {\"outlinewidth\": 0, \"ticks\": \"\"}, \"type\": \"contourcarpet\"}], \"heatmap\": [{\"colorbar\": {\"outlinewidth\": 0, \"ticks\": \"\"}, \"colorscale\": [[0.0, \"#0d0887\"], [0.1111111111111111, \"#46039f\"], [0.2222222222222222, \"#7201a8\"], [0.3333333333333333, \"#9c179e\"], [0.4444444444444444, \"#bd3786\"], [0.5555555555555556, \"#d8576b\"], [0.6666666666666666, \"#ed7953\"], [0.7777777777777778, \"#fb9f3a\"], [0.8888888888888888, \"#fdca26\"], [1.0, \"#f0f921\"]], \"type\": \"heatmap\"}], \"heatmapgl\": [{\"colorbar\": {\"outlinewidth\": 0, \"ticks\": \"\"}, \"colorscale\": [[0.0, \"#0d0887\"], [0.1111111111111111, \"#46039f\"], [0.2222222222222222, \"#7201a8\"], [0.3333333333333333, \"#9c179e\"], [0.4444444444444444, \"#bd3786\"], [0.5555555555555556, \"#d8576b\"], [0.6666666666666666, \"#ed7953\"], [0.7777777777777778, \"#fb9f3a\"], [0.8888888888888888, \"#fdca26\"], [1.0, \"#f0f921\"]], \"type\": \"heatmapgl\"}], \"histogram\": [{\"marker\": {\"colorbar\": {\"outlinewidth\": 0, \"ticks\": \"\"}}, \"type\": \"histogram\"}], \"histogram2d\": [{\"colorbar\": {\"outlinewidth\": 0, \"ticks\": \"\"}, \"colorscale\": [[0.0, \"#0d0887\"], [0.1111111111111111, \"#46039f\"], [0.2222222222222222, \"#7201a8\"], [0.3333333333333333, \"#9c179e\"], [0.4444444444444444, \"#bd3786\"], [0.5555555555555556, \"#d8576b\"], [0.6666666666666666, \"#ed7953\"], [0.7777777777777778, \"#fb9f3a\"], [0.8888888888888888, \"#fdca26\"], [1.0, \"#f0f921\"]], \"type\": \"histogram2d\"}], \"histogram2dcontour\": [{\"colorbar\": {\"outlinewidth\": 0, \"ticks\": \"\"}, \"colorscale\": [[0.0, \"#0d0887\"], [0.1111111111111111, \"#46039f\"], [0.2222222222222222, \"#7201a8\"], [0.3333333333333333, \"#9c179e\"], [0.4444444444444444, \"#bd3786\"], [0.5555555555555556, \"#d8576b\"], [0.6666666666666666, \"#ed7953\"], [0.7777777777777778, \"#fb9f3a\"], [0.8888888888888888, \"#fdca26\"], [1.0, \"#f0f921\"]], \"type\": \"histogram2dcontour\"}], \"mesh3d\": [{\"colorbar\": {\"outlinewidth\": 0, \"ticks\": \"\"}, \"type\": \"mesh3d\"}], \"parcoords\": [{\"line\": {\"colorbar\": {\"outlinewidth\": 0, \"ticks\": \"\"}}, \"type\": \"parcoords\"}], \"pie\": [{\"automargin\": true, \"type\": \"pie\"}], \"scatter\": [{\"marker\": {\"colorbar\": {\"outlinewidth\": 0, \"ticks\": \"\"}}, \"type\": \"scatter\"}], \"scatter3d\": [{\"line\": {\"colorbar\": {\"outlinewidth\": 0, \"ticks\": \"\"}}, \"marker\": {\"colorbar\": {\"outlinewidth\": 0, \"ticks\": \"\"}}, \"type\": \"scatter3d\"}], \"scattercarpet\": [{\"marker\": {\"colorbar\": {\"outlinewidth\": 0, \"ticks\": \"\"}}, \"type\": \"scattercarpet\"}], \"scattergeo\": [{\"marker\": {\"colorbar\": {\"outlinewidth\": 0, \"ticks\": \"\"}}, \"type\": \"scattergeo\"}], \"scattergl\": [{\"marker\": {\"colorbar\": {\"outlinewidth\": 0, \"ticks\": \"\"}}, \"type\": \"scattergl\"}], \"scattermapbox\": [{\"marker\": {\"colorbar\": {\"outlinewidth\": 0, \"ticks\": \"\"}}, \"type\": \"scattermapbox\"}], \"scatterpolar\": [{\"marker\": {\"colorbar\": {\"outlinewidth\": 0, \"ticks\": \"\"}}, \"type\": \"scatterpolar\"}], \"scatterpolargl\": [{\"marker\": {\"colorbar\": {\"outlinewidth\": 0, \"ticks\": \"\"}}, \"type\": \"scatterpolargl\"}], \"scatterternary\": [{\"marker\": {\"colorbar\": {\"outlinewidth\": 0, \"ticks\": \"\"}}, \"type\": \"scatterternary\"}], \"surface\": [{\"colorbar\": {\"outlinewidth\": 0, \"ticks\": \"\"}, \"colorscale\": [[0.0, \"#0d0887\"], [0.1111111111111111, \"#46039f\"], [0.2222222222222222, \"#7201a8\"], [0.3333333333333333, \"#9c179e\"], [0.4444444444444444, \"#bd3786\"], [0.5555555555555556, \"#d8576b\"], [0.6666666666666666, \"#ed7953\"], [0.7777777777777778, \"#fb9f3a\"], [0.8888888888888888, \"#fdca26\"], [1.0, \"#f0f921\"]], \"type\": \"surface\"}], \"table\": [{\"cells\": {\"fill\": {\"color\": \"#EBF0F8\"}, \"line\": {\"color\": \"white\"}}, \"header\": {\"fill\": {\"color\": \"#C8D4E3\"}, \"line\": {\"color\": \"white\"}}, \"type\": \"table\"}]}, \"layout\": {\"annotationdefaults\": {\"arrowcolor\": \"#2a3f5f\", \"arrowhead\": 0, \"arrowwidth\": 1}, \"coloraxis\": {\"colorbar\": {\"outlinewidth\": 0, \"ticks\": \"\"}}, \"colorscale\": {\"diverging\": [[0, \"#8e0152\"], [0.1, \"#c51b7d\"], [0.2, \"#de77ae\"], [0.3, \"#f1b6da\"], [0.4, \"#fde0ef\"], [0.5, \"#f7f7f7\"], [0.6, \"#e6f5d0\"], [0.7, \"#b8e186\"], [0.8, \"#7fbc41\"], [0.9, \"#4d9221\"], [1, \"#276419\"]], \"sequential\": [[0.0, \"#0d0887\"], [0.1111111111111111, \"#46039f\"], [0.2222222222222222, \"#7201a8\"], [0.3333333333333333, \"#9c179e\"], [0.4444444444444444, \"#bd3786\"], [0.5555555555555556, \"#d8576b\"], [0.6666666666666666, \"#ed7953\"], [0.7777777777777778, \"#fb9f3a\"], [0.8888888888888888, \"#fdca26\"], [1.0, \"#f0f921\"]], \"sequentialminus\": [[0.0, \"#0d0887\"], [0.1111111111111111, \"#46039f\"], [0.2222222222222222, \"#7201a8\"], [0.3333333333333333, \"#9c179e\"], [0.4444444444444444, \"#bd3786\"], [0.5555555555555556, \"#d8576b\"], [0.6666666666666666, \"#ed7953\"], [0.7777777777777778, \"#fb9f3a\"], [0.8888888888888888, \"#fdca26\"], [1.0, \"#f0f921\"]]}, \"colorway\": [\"#636efa\", \"#EF553B\", \"#00cc96\", \"#ab63fa\", \"#FFA15A\", \"#19d3f3\", \"#FF6692\", \"#B6E880\", \"#FF97FF\", \"#FECB52\"], \"font\": {\"color\": \"#2a3f5f\"}, \"geo\": {\"bgcolor\": \"white\", \"lakecolor\": \"white\", \"landcolor\": \"#E5ECF6\", \"showlakes\": true, \"showland\": true, \"subunitcolor\": \"white\"}, \"hoverlabel\": {\"align\": \"left\"}, \"hovermode\": \"closest\", \"mapbox\": {\"style\": \"light\"}, \"paper_bgcolor\": \"white\", \"plot_bgcolor\": \"#E5ECF6\", \"polar\": {\"angularaxis\": {\"gridcolor\": \"white\", \"linecolor\": \"white\", \"ticks\": \"\"}, \"bgcolor\": \"#E5ECF6\", \"radialaxis\": {\"gridcolor\": \"white\", \"linecolor\": \"white\", \"ticks\": \"\"}}, \"scene\": {\"xaxis\": {\"backgroundcolor\": \"#E5ECF6\", \"gridcolor\": \"white\", \"gridwidth\": 2, \"linecolor\": \"white\", \"showbackground\": true, \"ticks\": \"\", \"zerolinecolor\": \"white\"}, \"yaxis\": {\"backgroundcolor\": \"#E5ECF6\", \"gridcolor\": \"white\", \"gridwidth\": 2, \"linecolor\": \"white\", \"showbackground\": true, \"ticks\": \"\", \"zerolinecolor\": \"white\"}, \"zaxis\": {\"backgroundcolor\": \"#E5ECF6\", \"gridcolor\": \"white\", \"gridwidth\": 2, \"linecolor\": \"white\", \"showbackground\": true, \"ticks\": \"\", \"zerolinecolor\": \"white\"}}, \"shapedefaults\": {\"line\": {\"color\": \"#2a3f5f\"}}, \"ternary\": {\"aaxis\": {\"gridcolor\": \"white\", \"linecolor\": \"white\", \"ticks\": \"\"}, \"baxis\": {\"gridcolor\": \"white\", \"linecolor\": \"white\", \"ticks\": \"\"}, \"bgcolor\": \"#E5ECF6\", \"caxis\": {\"gridcolor\": \"white\", \"linecolor\": \"white\", \"ticks\": \"\"}}, \"title\": {\"x\": 0.05}, \"xaxis\": {\"automargin\": true, \"gridcolor\": \"white\", \"linecolor\": \"white\", \"ticks\": \"\", \"title\": {\"standoff\": 15}, \"zerolinecolor\": \"white\", \"zerolinewidth\": 2}, \"yaxis\": {\"automargin\": true, \"gridcolor\": \"white\", \"linecolor\": \"white\", \"ticks\": \"\", \"title\": {\"standoff\": 15}, \"zerolinecolor\": \"white\", \"zerolinewidth\": 2}}}, \"title\": {\"font\": {\"color\": \"#4D5663\"}}, \"xaxis\": {\"gridcolor\": \"#E1E5ED\", \"showgrid\": true, \"tickfont\": {\"color\": \"#4D5663\"}, \"title\": {\"font\": {\"color\": \"#4D5663\"}, \"text\": \"\"}, \"zerolinecolor\": \"#E1E5ED\"}, \"yaxis\": {\"gridcolor\": \"#E1E5ED\", \"showgrid\": true, \"tickfont\": {\"color\": \"#4D5663\"}, \"title\": {\"font\": {\"color\": \"#4D5663\"}, \"text\": \"\"}, \"zerolinecolor\": \"#E1E5ED\"}},\n",
       "                        {\"showLink\": true, \"linkText\": \"Export to plot.ly\", \"plotlyServerURL\": \"https://plot.ly\", \"responsive\": true}\n",
       "                    ).then(function(){\n",
       "                            \n",
       "var gd = document.getElementById('29509e07-c342-48d8-be90-7358054b692f');\n",
       "var x = new MutationObserver(function (mutations, observer) {{\n",
       "        var display = window.getComputedStyle(gd).display;\n",
       "        if (!display || display === 'none') {{\n",
       "            console.log([gd, 'removed!']);\n",
       "            Plotly.purge(gd);\n",
       "            observer.disconnect();\n",
       "        }}\n",
       "}});\n",
       "\n",
       "// Listen for the removal of the full notebook cells\n",
       "var notebookContainer = gd.closest('#notebook-container');\n",
       "if (notebookContainer) {{\n",
       "    x.observe(notebookContainer, {childList: true});\n",
       "}}\n",
       "\n",
       "// Listen for the clearing of the current output cell\n",
       "var outputEl = gd.closest('.output');\n",
       "if (outputEl) {{\n",
       "    x.observe(outputEl, {childList: true});\n",
       "}}\n",
       "\n",
       "                        })\n",
       "                };\n",
       "                });\n",
       "            </script>\n",
       "        </div>"
      ]
     },
     "metadata": {},
     "output_type": "display_data"
    }
   ],
   "source": [
    "df3.iplot(kind='surface')"
   ]
  },
  {
   "cell_type": "code",
   "execution_count": 55,
   "metadata": {},
   "outputs": [
    {
     "data": {
      "application/vnd.plotly.v1+json": {
       "config": {
        "linkText": "Export to plot.ly",
        "plotlyServerURL": "https://plot.ly",
        "showLink": true
       },
       "data": [
        {
         "colorscale": [
          [
           0,
           "rgb(165,0,38)"
          ],
          [
           0.1,
           "rgb(215,48,39)"
          ],
          [
           0.2,
           "rgb(244,109,67)"
          ],
          [
           0.3,
           "rgb(253,174,97)"
          ],
          [
           0.4,
           "rgb(254,224,144)"
          ],
          [
           0.5,
           "rgb(255,255,191)"
          ],
          [
           0.6,
           "rgb(224,243,248)"
          ],
          [
           0.7,
           "rgb(171,217,233)"
          ],
          [
           0.8,
           "rgb(116,173,209)"
          ],
          [
           0.9,
           "rgb(69,117,180)"
          ],
          [
           1,
           "rgb(49,54,149)"
          ]
         ],
         "type": "surface",
         "x": [
          0,
          1,
          2,
          3,
          4
         ],
         "y": [
          "x",
          "y",
          "z"
         ],
         "z": [
          [
           1,
           2,
           3,
           4,
           5
          ],
          [
           10,
           20,
           30,
           20,
           10
          ],
          [
           5,
           4,
           3,
           2,
           1
          ]
         ]
        }
       ],
       "layout": {
        "legend": {
         "bgcolor": "#F5F6F9",
         "font": {
          "color": "#4D5663"
         }
        },
        "paper_bgcolor": "#F5F6F9",
        "plot_bgcolor": "#F5F6F9",
        "template": {
         "data": {
          "bar": [
           {
            "error_x": {
             "color": "#2a3f5f"
            },
            "error_y": {
             "color": "#2a3f5f"
            },
            "marker": {
             "line": {
              "color": "#E5ECF6",
              "width": 0.5
             }
            },
            "type": "bar"
           }
          ],
          "barpolar": [
           {
            "marker": {
             "line": {
              "color": "#E5ECF6",
              "width": 0.5
             }
            },
            "type": "barpolar"
           }
          ],
          "carpet": [
           {
            "aaxis": {
             "endlinecolor": "#2a3f5f",
             "gridcolor": "white",
             "linecolor": "white",
             "minorgridcolor": "white",
             "startlinecolor": "#2a3f5f"
            },
            "baxis": {
             "endlinecolor": "#2a3f5f",
             "gridcolor": "white",
             "linecolor": "white",
             "minorgridcolor": "white",
             "startlinecolor": "#2a3f5f"
            },
            "type": "carpet"
           }
          ],
          "choropleth": [
           {
            "colorbar": {
             "outlinewidth": 0,
             "ticks": ""
            },
            "type": "choropleth"
           }
          ],
          "contour": [
           {
            "colorbar": {
             "outlinewidth": 0,
             "ticks": ""
            },
            "colorscale": [
             [
              0,
              "#0d0887"
             ],
             [
              0.1111111111111111,
              "#46039f"
             ],
             [
              0.2222222222222222,
              "#7201a8"
             ],
             [
              0.3333333333333333,
              "#9c179e"
             ],
             [
              0.4444444444444444,
              "#bd3786"
             ],
             [
              0.5555555555555556,
              "#d8576b"
             ],
             [
              0.6666666666666666,
              "#ed7953"
             ],
             [
              0.7777777777777778,
              "#fb9f3a"
             ],
             [
              0.8888888888888888,
              "#fdca26"
             ],
             [
              1,
              "#f0f921"
             ]
            ],
            "type": "contour"
           }
          ],
          "contourcarpet": [
           {
            "colorbar": {
             "outlinewidth": 0,
             "ticks": ""
            },
            "type": "contourcarpet"
           }
          ],
          "heatmap": [
           {
            "colorbar": {
             "outlinewidth": 0,
             "ticks": ""
            },
            "colorscale": [
             [
              0,
              "#0d0887"
             ],
             [
              0.1111111111111111,
              "#46039f"
             ],
             [
              0.2222222222222222,
              "#7201a8"
             ],
             [
              0.3333333333333333,
              "#9c179e"
             ],
             [
              0.4444444444444444,
              "#bd3786"
             ],
             [
              0.5555555555555556,
              "#d8576b"
             ],
             [
              0.6666666666666666,
              "#ed7953"
             ],
             [
              0.7777777777777778,
              "#fb9f3a"
             ],
             [
              0.8888888888888888,
              "#fdca26"
             ],
             [
              1,
              "#f0f921"
             ]
            ],
            "type": "heatmap"
           }
          ],
          "heatmapgl": [
           {
            "colorbar": {
             "outlinewidth": 0,
             "ticks": ""
            },
            "colorscale": [
             [
              0,
              "#0d0887"
             ],
             [
              0.1111111111111111,
              "#46039f"
             ],
             [
              0.2222222222222222,
              "#7201a8"
             ],
             [
              0.3333333333333333,
              "#9c179e"
             ],
             [
              0.4444444444444444,
              "#bd3786"
             ],
             [
              0.5555555555555556,
              "#d8576b"
             ],
             [
              0.6666666666666666,
              "#ed7953"
             ],
             [
              0.7777777777777778,
              "#fb9f3a"
             ],
             [
              0.8888888888888888,
              "#fdca26"
             ],
             [
              1,
              "#f0f921"
             ]
            ],
            "type": "heatmapgl"
           }
          ],
          "histogram": [
           {
            "marker": {
             "colorbar": {
              "outlinewidth": 0,
              "ticks": ""
             }
            },
            "type": "histogram"
           }
          ],
          "histogram2d": [
           {
            "colorbar": {
             "outlinewidth": 0,
             "ticks": ""
            },
            "colorscale": [
             [
              0,
              "#0d0887"
             ],
             [
              0.1111111111111111,
              "#46039f"
             ],
             [
              0.2222222222222222,
              "#7201a8"
             ],
             [
              0.3333333333333333,
              "#9c179e"
             ],
             [
              0.4444444444444444,
              "#bd3786"
             ],
             [
              0.5555555555555556,
              "#d8576b"
             ],
             [
              0.6666666666666666,
              "#ed7953"
             ],
             [
              0.7777777777777778,
              "#fb9f3a"
             ],
             [
              0.8888888888888888,
              "#fdca26"
             ],
             [
              1,
              "#f0f921"
             ]
            ],
            "type": "histogram2d"
           }
          ],
          "histogram2dcontour": [
           {
            "colorbar": {
             "outlinewidth": 0,
             "ticks": ""
            },
            "colorscale": [
             [
              0,
              "#0d0887"
             ],
             [
              0.1111111111111111,
              "#46039f"
             ],
             [
              0.2222222222222222,
              "#7201a8"
             ],
             [
              0.3333333333333333,
              "#9c179e"
             ],
             [
              0.4444444444444444,
              "#bd3786"
             ],
             [
              0.5555555555555556,
              "#d8576b"
             ],
             [
              0.6666666666666666,
              "#ed7953"
             ],
             [
              0.7777777777777778,
              "#fb9f3a"
             ],
             [
              0.8888888888888888,
              "#fdca26"
             ],
             [
              1,
              "#f0f921"
             ]
            ],
            "type": "histogram2dcontour"
           }
          ],
          "mesh3d": [
           {
            "colorbar": {
             "outlinewidth": 0,
             "ticks": ""
            },
            "type": "mesh3d"
           }
          ],
          "parcoords": [
           {
            "line": {
             "colorbar": {
              "outlinewidth": 0,
              "ticks": ""
             }
            },
            "type": "parcoords"
           }
          ],
          "pie": [
           {
            "automargin": true,
            "type": "pie"
           }
          ],
          "scatter": [
           {
            "marker": {
             "colorbar": {
              "outlinewidth": 0,
              "ticks": ""
             }
            },
            "type": "scatter"
           }
          ],
          "scatter3d": [
           {
            "line": {
             "colorbar": {
              "outlinewidth": 0,
              "ticks": ""
             }
            },
            "marker": {
             "colorbar": {
              "outlinewidth": 0,
              "ticks": ""
             }
            },
            "type": "scatter3d"
           }
          ],
          "scattercarpet": [
           {
            "marker": {
             "colorbar": {
              "outlinewidth": 0,
              "ticks": ""
             }
            },
            "type": "scattercarpet"
           }
          ],
          "scattergeo": [
           {
            "marker": {
             "colorbar": {
              "outlinewidth": 0,
              "ticks": ""
             }
            },
            "type": "scattergeo"
           }
          ],
          "scattergl": [
           {
            "marker": {
             "colorbar": {
              "outlinewidth": 0,
              "ticks": ""
             }
            },
            "type": "scattergl"
           }
          ],
          "scattermapbox": [
           {
            "marker": {
             "colorbar": {
              "outlinewidth": 0,
              "ticks": ""
             }
            },
            "type": "scattermapbox"
           }
          ],
          "scatterpolar": [
           {
            "marker": {
             "colorbar": {
              "outlinewidth": 0,
              "ticks": ""
             }
            },
            "type": "scatterpolar"
           }
          ],
          "scatterpolargl": [
           {
            "marker": {
             "colorbar": {
              "outlinewidth": 0,
              "ticks": ""
             }
            },
            "type": "scatterpolargl"
           }
          ],
          "scatterternary": [
           {
            "marker": {
             "colorbar": {
              "outlinewidth": 0,
              "ticks": ""
             }
            },
            "type": "scatterternary"
           }
          ],
          "surface": [
           {
            "colorbar": {
             "outlinewidth": 0,
             "ticks": ""
            },
            "colorscale": [
             [
              0,
              "#0d0887"
             ],
             [
              0.1111111111111111,
              "#46039f"
             ],
             [
              0.2222222222222222,
              "#7201a8"
             ],
             [
              0.3333333333333333,
              "#9c179e"
             ],
             [
              0.4444444444444444,
              "#bd3786"
             ],
             [
              0.5555555555555556,
              "#d8576b"
             ],
             [
              0.6666666666666666,
              "#ed7953"
             ],
             [
              0.7777777777777778,
              "#fb9f3a"
             ],
             [
              0.8888888888888888,
              "#fdca26"
             ],
             [
              1,
              "#f0f921"
             ]
            ],
            "type": "surface"
           }
          ],
          "table": [
           {
            "cells": {
             "fill": {
              "color": "#EBF0F8"
             },
             "line": {
              "color": "white"
             }
            },
            "header": {
             "fill": {
              "color": "#C8D4E3"
             },
             "line": {
              "color": "white"
             }
            },
            "type": "table"
           }
          ]
         },
         "layout": {
          "annotationdefaults": {
           "arrowcolor": "#2a3f5f",
           "arrowhead": 0,
           "arrowwidth": 1
          },
          "coloraxis": {
           "colorbar": {
            "outlinewidth": 0,
            "ticks": ""
           }
          },
          "colorscale": {
           "diverging": [
            [
             0,
             "#8e0152"
            ],
            [
             0.1,
             "#c51b7d"
            ],
            [
             0.2,
             "#de77ae"
            ],
            [
             0.3,
             "#f1b6da"
            ],
            [
             0.4,
             "#fde0ef"
            ],
            [
             0.5,
             "#f7f7f7"
            ],
            [
             0.6,
             "#e6f5d0"
            ],
            [
             0.7,
             "#b8e186"
            ],
            [
             0.8,
             "#7fbc41"
            ],
            [
             0.9,
             "#4d9221"
            ],
            [
             1,
             "#276419"
            ]
           ],
           "sequential": [
            [
             0,
             "#0d0887"
            ],
            [
             0.1111111111111111,
             "#46039f"
            ],
            [
             0.2222222222222222,
             "#7201a8"
            ],
            [
             0.3333333333333333,
             "#9c179e"
            ],
            [
             0.4444444444444444,
             "#bd3786"
            ],
            [
             0.5555555555555556,
             "#d8576b"
            ],
            [
             0.6666666666666666,
             "#ed7953"
            ],
            [
             0.7777777777777778,
             "#fb9f3a"
            ],
            [
             0.8888888888888888,
             "#fdca26"
            ],
            [
             1,
             "#f0f921"
            ]
           ],
           "sequentialminus": [
            [
             0,
             "#0d0887"
            ],
            [
             0.1111111111111111,
             "#46039f"
            ],
            [
             0.2222222222222222,
             "#7201a8"
            ],
            [
             0.3333333333333333,
             "#9c179e"
            ],
            [
             0.4444444444444444,
             "#bd3786"
            ],
            [
             0.5555555555555556,
             "#d8576b"
            ],
            [
             0.6666666666666666,
             "#ed7953"
            ],
            [
             0.7777777777777778,
             "#fb9f3a"
            ],
            [
             0.8888888888888888,
             "#fdca26"
            ],
            [
             1,
             "#f0f921"
            ]
           ]
          },
          "colorway": [
           "#636efa",
           "#EF553B",
           "#00cc96",
           "#ab63fa",
           "#FFA15A",
           "#19d3f3",
           "#FF6692",
           "#B6E880",
           "#FF97FF",
           "#FECB52"
          ],
          "font": {
           "color": "#2a3f5f"
          },
          "geo": {
           "bgcolor": "white",
           "lakecolor": "white",
           "landcolor": "#E5ECF6",
           "showlakes": true,
           "showland": true,
           "subunitcolor": "white"
          },
          "hoverlabel": {
           "align": "left"
          },
          "hovermode": "closest",
          "mapbox": {
           "style": "light"
          },
          "paper_bgcolor": "white",
          "plot_bgcolor": "#E5ECF6",
          "polar": {
           "angularaxis": {
            "gridcolor": "white",
            "linecolor": "white",
            "ticks": ""
           },
           "bgcolor": "#E5ECF6",
           "radialaxis": {
            "gridcolor": "white",
            "linecolor": "white",
            "ticks": ""
           }
          },
          "scene": {
           "xaxis": {
            "backgroundcolor": "#E5ECF6",
            "gridcolor": "white",
            "gridwidth": 2,
            "linecolor": "white",
            "showbackground": true,
            "ticks": "",
            "zerolinecolor": "white"
           },
           "yaxis": {
            "backgroundcolor": "#E5ECF6",
            "gridcolor": "white",
            "gridwidth": 2,
            "linecolor": "white",
            "showbackground": true,
            "ticks": "",
            "zerolinecolor": "white"
           },
           "zaxis": {
            "backgroundcolor": "#E5ECF6",
            "gridcolor": "white",
            "gridwidth": 2,
            "linecolor": "white",
            "showbackground": true,
            "ticks": "",
            "zerolinecolor": "white"
           }
          },
          "shapedefaults": {
           "line": {
            "color": "#2a3f5f"
           }
          },
          "ternary": {
           "aaxis": {
            "gridcolor": "white",
            "linecolor": "white",
            "ticks": ""
           },
           "baxis": {
            "gridcolor": "white",
            "linecolor": "white",
            "ticks": ""
           },
           "bgcolor": "#E5ECF6",
           "caxis": {
            "gridcolor": "white",
            "linecolor": "white",
            "ticks": ""
           }
          },
          "title": {
           "x": 0.05
          },
          "xaxis": {
           "automargin": true,
           "gridcolor": "white",
           "linecolor": "white",
           "ticks": "",
           "title": {
            "standoff": 15
           },
           "zerolinecolor": "white",
           "zerolinewidth": 2
          },
          "yaxis": {
           "automargin": true,
           "gridcolor": "white",
           "linecolor": "white",
           "ticks": "",
           "title": {
            "standoff": 15
           },
           "zerolinecolor": "white",
           "zerolinewidth": 2
          }
         }
        },
        "title": {
         "font": {
          "color": "#4D5663"
         }
        },
        "xaxis": {
         "gridcolor": "#E1E5ED",
         "showgrid": true,
         "tickfont": {
          "color": "#4D5663"
         },
         "title": {
          "font": {
           "color": "#4D5663"
          },
          "text": ""
         },
         "zerolinecolor": "#E1E5ED"
        },
        "yaxis": {
         "gridcolor": "#E1E5ED",
         "showgrid": true,
         "tickfont": {
          "color": "#4D5663"
         },
         "title": {
          "font": {
           "color": "#4D5663"
          },
          "text": ""
         },
         "zerolinecolor": "#E1E5ED"
        }
       }
      },
      "text/html": [
       "<div>\n",
       "        \n",
       "        \n",
       "            <div id=\"937fb9cd-758e-44f0-bf94-a239faf87514\" class=\"plotly-graph-div\" style=\"height:525px; width:100%;\"></div>\n",
       "            <script type=\"text/javascript\">\n",
       "                require([\"plotly\"], function(Plotly) {\n",
       "                    window.PLOTLYENV=window.PLOTLYENV || {};\n",
       "                    window.PLOTLYENV.BASE_URL='https://plot.ly';\n",
       "                    \n",
       "                if (document.getElementById(\"937fb9cd-758e-44f0-bf94-a239faf87514\")) {\n",
       "                    Plotly.newPlot(\n",
       "                        '937fb9cd-758e-44f0-bf94-a239faf87514',\n",
       "                        [{\"colorscale\": [[0.0, \"rgb(165,0,38)\"], [0.1, \"rgb(215,48,39)\"], [0.2, \"rgb(244,109,67)\"], [0.3, \"rgb(253,174,97)\"], [0.4, \"rgb(254,224,144)\"], [0.5, \"rgb(255,255,191)\"], [0.6, \"rgb(224,243,248)\"], [0.7, \"rgb(171,217,233)\"], [0.8, \"rgb(116,173,209)\"], [0.9, \"rgb(69,117,180)\"], [1.0, \"rgb(49,54,149)\"]], \"type\": \"surface\", \"x\": [0, 1, 2, 3, 4], \"y\": [\"x\", \"y\", \"z\"], \"z\": [[1, 2, 3, 4, 5], [10, 20, 30, 20, 10], [5, 4, 3, 2, 1]]}],\n",
       "                        {\"legend\": {\"bgcolor\": \"#F5F6F9\", \"font\": {\"color\": \"#4D5663\"}}, \"paper_bgcolor\": \"#F5F6F9\", \"plot_bgcolor\": \"#F5F6F9\", \"template\": {\"data\": {\"bar\": [{\"error_x\": {\"color\": \"#2a3f5f\"}, \"error_y\": {\"color\": \"#2a3f5f\"}, \"marker\": {\"line\": {\"color\": \"#E5ECF6\", \"width\": 0.5}}, \"type\": \"bar\"}], \"barpolar\": [{\"marker\": {\"line\": {\"color\": \"#E5ECF6\", \"width\": 0.5}}, \"type\": \"barpolar\"}], \"carpet\": [{\"aaxis\": {\"endlinecolor\": \"#2a3f5f\", \"gridcolor\": \"white\", \"linecolor\": \"white\", \"minorgridcolor\": \"white\", \"startlinecolor\": \"#2a3f5f\"}, \"baxis\": {\"endlinecolor\": \"#2a3f5f\", \"gridcolor\": \"white\", \"linecolor\": \"white\", \"minorgridcolor\": \"white\", \"startlinecolor\": \"#2a3f5f\"}, \"type\": \"carpet\"}], \"choropleth\": [{\"colorbar\": {\"outlinewidth\": 0, \"ticks\": \"\"}, \"type\": \"choropleth\"}], \"contour\": [{\"colorbar\": {\"outlinewidth\": 0, \"ticks\": \"\"}, \"colorscale\": [[0.0, \"#0d0887\"], [0.1111111111111111, \"#46039f\"], [0.2222222222222222, \"#7201a8\"], [0.3333333333333333, \"#9c179e\"], [0.4444444444444444, \"#bd3786\"], [0.5555555555555556, \"#d8576b\"], [0.6666666666666666, \"#ed7953\"], [0.7777777777777778, \"#fb9f3a\"], [0.8888888888888888, \"#fdca26\"], [1.0, \"#f0f921\"]], \"type\": \"contour\"}], \"contourcarpet\": [{\"colorbar\": {\"outlinewidth\": 0, \"ticks\": \"\"}, \"type\": \"contourcarpet\"}], \"heatmap\": [{\"colorbar\": {\"outlinewidth\": 0, \"ticks\": \"\"}, \"colorscale\": [[0.0, \"#0d0887\"], [0.1111111111111111, \"#46039f\"], [0.2222222222222222, \"#7201a8\"], [0.3333333333333333, \"#9c179e\"], [0.4444444444444444, \"#bd3786\"], [0.5555555555555556, \"#d8576b\"], [0.6666666666666666, \"#ed7953\"], [0.7777777777777778, \"#fb9f3a\"], [0.8888888888888888, \"#fdca26\"], [1.0, \"#f0f921\"]], \"type\": \"heatmap\"}], \"heatmapgl\": [{\"colorbar\": {\"outlinewidth\": 0, \"ticks\": \"\"}, \"colorscale\": [[0.0, \"#0d0887\"], [0.1111111111111111, \"#46039f\"], [0.2222222222222222, \"#7201a8\"], [0.3333333333333333, \"#9c179e\"], [0.4444444444444444, \"#bd3786\"], [0.5555555555555556, \"#d8576b\"], [0.6666666666666666, \"#ed7953\"], [0.7777777777777778, \"#fb9f3a\"], [0.8888888888888888, \"#fdca26\"], [1.0, \"#f0f921\"]], \"type\": \"heatmapgl\"}], \"histogram\": [{\"marker\": {\"colorbar\": {\"outlinewidth\": 0, \"ticks\": \"\"}}, \"type\": \"histogram\"}], \"histogram2d\": [{\"colorbar\": {\"outlinewidth\": 0, \"ticks\": \"\"}, \"colorscale\": [[0.0, \"#0d0887\"], [0.1111111111111111, \"#46039f\"], [0.2222222222222222, \"#7201a8\"], [0.3333333333333333, \"#9c179e\"], [0.4444444444444444, \"#bd3786\"], [0.5555555555555556, \"#d8576b\"], [0.6666666666666666, \"#ed7953\"], [0.7777777777777778, \"#fb9f3a\"], [0.8888888888888888, \"#fdca26\"], [1.0, \"#f0f921\"]], \"type\": \"histogram2d\"}], \"histogram2dcontour\": [{\"colorbar\": {\"outlinewidth\": 0, \"ticks\": \"\"}, \"colorscale\": [[0.0, \"#0d0887\"], [0.1111111111111111, \"#46039f\"], [0.2222222222222222, \"#7201a8\"], [0.3333333333333333, \"#9c179e\"], [0.4444444444444444, \"#bd3786\"], [0.5555555555555556, \"#d8576b\"], [0.6666666666666666, \"#ed7953\"], [0.7777777777777778, \"#fb9f3a\"], [0.8888888888888888, \"#fdca26\"], [1.0, \"#f0f921\"]], \"type\": \"histogram2dcontour\"}], \"mesh3d\": [{\"colorbar\": {\"outlinewidth\": 0, \"ticks\": \"\"}, \"type\": \"mesh3d\"}], \"parcoords\": [{\"line\": {\"colorbar\": {\"outlinewidth\": 0, \"ticks\": \"\"}}, \"type\": \"parcoords\"}], \"pie\": [{\"automargin\": true, \"type\": \"pie\"}], \"scatter\": [{\"marker\": {\"colorbar\": {\"outlinewidth\": 0, \"ticks\": \"\"}}, \"type\": \"scatter\"}], \"scatter3d\": [{\"line\": {\"colorbar\": {\"outlinewidth\": 0, \"ticks\": \"\"}}, \"marker\": {\"colorbar\": {\"outlinewidth\": 0, \"ticks\": \"\"}}, \"type\": \"scatter3d\"}], \"scattercarpet\": [{\"marker\": {\"colorbar\": {\"outlinewidth\": 0, \"ticks\": \"\"}}, \"type\": \"scattercarpet\"}], \"scattergeo\": [{\"marker\": {\"colorbar\": {\"outlinewidth\": 0, \"ticks\": \"\"}}, \"type\": \"scattergeo\"}], \"scattergl\": [{\"marker\": {\"colorbar\": {\"outlinewidth\": 0, \"ticks\": \"\"}}, \"type\": \"scattergl\"}], \"scattermapbox\": [{\"marker\": {\"colorbar\": {\"outlinewidth\": 0, \"ticks\": \"\"}}, \"type\": \"scattermapbox\"}], \"scatterpolar\": [{\"marker\": {\"colorbar\": {\"outlinewidth\": 0, \"ticks\": \"\"}}, \"type\": \"scatterpolar\"}], \"scatterpolargl\": [{\"marker\": {\"colorbar\": {\"outlinewidth\": 0, \"ticks\": \"\"}}, \"type\": \"scatterpolargl\"}], \"scatterternary\": [{\"marker\": {\"colorbar\": {\"outlinewidth\": 0, \"ticks\": \"\"}}, \"type\": \"scatterternary\"}], \"surface\": [{\"colorbar\": {\"outlinewidth\": 0, \"ticks\": \"\"}, \"colorscale\": [[0.0, \"#0d0887\"], [0.1111111111111111, \"#46039f\"], [0.2222222222222222, \"#7201a8\"], [0.3333333333333333, \"#9c179e\"], [0.4444444444444444, \"#bd3786\"], [0.5555555555555556, \"#d8576b\"], [0.6666666666666666, \"#ed7953\"], [0.7777777777777778, \"#fb9f3a\"], [0.8888888888888888, \"#fdca26\"], [1.0, \"#f0f921\"]], \"type\": \"surface\"}], \"table\": [{\"cells\": {\"fill\": {\"color\": \"#EBF0F8\"}, \"line\": {\"color\": \"white\"}}, \"header\": {\"fill\": {\"color\": \"#C8D4E3\"}, \"line\": {\"color\": \"white\"}}, \"type\": \"table\"}]}, \"layout\": {\"annotationdefaults\": {\"arrowcolor\": \"#2a3f5f\", \"arrowhead\": 0, \"arrowwidth\": 1}, \"coloraxis\": {\"colorbar\": {\"outlinewidth\": 0, \"ticks\": \"\"}}, \"colorscale\": {\"diverging\": [[0, \"#8e0152\"], [0.1, \"#c51b7d\"], [0.2, \"#de77ae\"], [0.3, \"#f1b6da\"], [0.4, \"#fde0ef\"], [0.5, \"#f7f7f7\"], [0.6, \"#e6f5d0\"], [0.7, \"#b8e186\"], [0.8, \"#7fbc41\"], [0.9, \"#4d9221\"], [1, \"#276419\"]], \"sequential\": [[0.0, \"#0d0887\"], [0.1111111111111111, \"#46039f\"], [0.2222222222222222, \"#7201a8\"], [0.3333333333333333, \"#9c179e\"], [0.4444444444444444, \"#bd3786\"], [0.5555555555555556, \"#d8576b\"], [0.6666666666666666, \"#ed7953\"], [0.7777777777777778, \"#fb9f3a\"], [0.8888888888888888, \"#fdca26\"], [1.0, \"#f0f921\"]], \"sequentialminus\": [[0.0, \"#0d0887\"], [0.1111111111111111, \"#46039f\"], [0.2222222222222222, \"#7201a8\"], [0.3333333333333333, \"#9c179e\"], [0.4444444444444444, \"#bd3786\"], [0.5555555555555556, \"#d8576b\"], [0.6666666666666666, \"#ed7953\"], [0.7777777777777778, \"#fb9f3a\"], [0.8888888888888888, \"#fdca26\"], [1.0, \"#f0f921\"]]}, \"colorway\": [\"#636efa\", \"#EF553B\", \"#00cc96\", \"#ab63fa\", \"#FFA15A\", \"#19d3f3\", \"#FF6692\", \"#B6E880\", \"#FF97FF\", \"#FECB52\"], \"font\": {\"color\": \"#2a3f5f\"}, \"geo\": {\"bgcolor\": \"white\", \"lakecolor\": \"white\", \"landcolor\": \"#E5ECF6\", \"showlakes\": true, \"showland\": true, \"subunitcolor\": \"white\"}, \"hoverlabel\": {\"align\": \"left\"}, \"hovermode\": \"closest\", \"mapbox\": {\"style\": \"light\"}, \"paper_bgcolor\": \"white\", \"plot_bgcolor\": \"#E5ECF6\", \"polar\": {\"angularaxis\": {\"gridcolor\": \"white\", \"linecolor\": \"white\", \"ticks\": \"\"}, \"bgcolor\": \"#E5ECF6\", \"radialaxis\": {\"gridcolor\": \"white\", \"linecolor\": \"white\", \"ticks\": \"\"}}, \"scene\": {\"xaxis\": {\"backgroundcolor\": \"#E5ECF6\", \"gridcolor\": \"white\", \"gridwidth\": 2, \"linecolor\": \"white\", \"showbackground\": true, \"ticks\": \"\", \"zerolinecolor\": \"white\"}, \"yaxis\": {\"backgroundcolor\": \"#E5ECF6\", \"gridcolor\": \"white\", \"gridwidth\": 2, \"linecolor\": \"white\", \"showbackground\": true, \"ticks\": \"\", \"zerolinecolor\": \"white\"}, \"zaxis\": {\"backgroundcolor\": \"#E5ECF6\", \"gridcolor\": \"white\", \"gridwidth\": 2, \"linecolor\": \"white\", \"showbackground\": true, \"ticks\": \"\", \"zerolinecolor\": \"white\"}}, \"shapedefaults\": {\"line\": {\"color\": \"#2a3f5f\"}}, \"ternary\": {\"aaxis\": {\"gridcolor\": \"white\", \"linecolor\": \"white\", \"ticks\": \"\"}, \"baxis\": {\"gridcolor\": \"white\", \"linecolor\": \"white\", \"ticks\": \"\"}, \"bgcolor\": \"#E5ECF6\", \"caxis\": {\"gridcolor\": \"white\", \"linecolor\": \"white\", \"ticks\": \"\"}}, \"title\": {\"x\": 0.05}, \"xaxis\": {\"automargin\": true, \"gridcolor\": \"white\", \"linecolor\": \"white\", \"ticks\": \"\", \"title\": {\"standoff\": 15}, \"zerolinecolor\": \"white\", \"zerolinewidth\": 2}, \"yaxis\": {\"automargin\": true, \"gridcolor\": \"white\", \"linecolor\": \"white\", \"ticks\": \"\", \"title\": {\"standoff\": 15}, \"zerolinecolor\": \"white\", \"zerolinewidth\": 2}}}, \"title\": {\"font\": {\"color\": \"#4D5663\"}}, \"xaxis\": {\"gridcolor\": \"#E1E5ED\", \"showgrid\": true, \"tickfont\": {\"color\": \"#4D5663\"}, \"title\": {\"font\": {\"color\": \"#4D5663\"}, \"text\": \"\"}, \"zerolinecolor\": \"#E1E5ED\"}, \"yaxis\": {\"gridcolor\": \"#E1E5ED\", \"showgrid\": true, \"tickfont\": {\"color\": \"#4D5663\"}, \"title\": {\"font\": {\"color\": \"#4D5663\"}, \"text\": \"\"}, \"zerolinecolor\": \"#E1E5ED\"}},\n",
       "                        {\"showLink\": true, \"linkText\": \"Export to plot.ly\", \"plotlyServerURL\": \"https://plot.ly\", \"responsive\": true}\n",
       "                    ).then(function(){\n",
       "                            \n",
       "var gd = document.getElementById('937fb9cd-758e-44f0-bf94-a239faf87514');\n",
       "var x = new MutationObserver(function (mutations, observer) {{\n",
       "        var display = window.getComputedStyle(gd).display;\n",
       "        if (!display || display === 'none') {{\n",
       "            console.log([gd, 'removed!']);\n",
       "            Plotly.purge(gd);\n",
       "            observer.disconnect();\n",
       "        }}\n",
       "}});\n",
       "\n",
       "// Listen for the removal of the full notebook cells\n",
       "var notebookContainer = gd.closest('#notebook-container');\n",
       "if (notebookContainer) {{\n",
       "    x.observe(notebookContainer, {childList: true});\n",
       "}}\n",
       "\n",
       "// Listen for the clearing of the current output cell\n",
       "var outputEl = gd.closest('.output');\n",
       "if (outputEl) {{\n",
       "    x.observe(outputEl, {childList: true});\n",
       "}}\n",
       "\n",
       "                        })\n",
       "                };\n",
       "                });\n",
       "            </script>\n",
       "        </div>"
      ]
     },
     "metadata": {},
     "output_type": "display_data"
    }
   ],
   "source": [
    "df3.iplot(kind='surface',colorscale='rdylbu')"
   ]
  },
  {
   "cell_type": "markdown",
   "metadata": {},
   "source": [
    "#### Histograms"
   ]
  },
  {
   "cell_type": "code",
   "execution_count": 63,
   "metadata": {},
   "outputs": [
    {
     "data": {
      "application/vnd.plotly.v1+json": {
       "config": {
        "linkText": "Export to plot.ly",
        "plotlyServerURL": "https://plot.ly",
        "showLink": true
       },
       "data": [
        {
         "histfunc": "count",
         "histnorm": "",
         "marker": {
          "color": "rgba(255, 153, 51, 1.0)",
          "line": {
           "color": "#4D5663",
           "width": 1.3
          }
         },
         "name": "A",
         "nbinsx": 50,
         "opacity": 0.8,
         "orientation": "v",
         "type": "histogram",
         "x": [
          1.03550403305365,
          1.0884452472323425,
          -0.8238221561084681,
          -1.165409106210997,
          0.06314234757509121,
          0.28403331754428096,
          1.3031142849283257,
          -0.5330006379394974,
          0.9239955720458833,
          -0.3404308950020115,
          0.49705351026645744,
          0.11995406868417582,
          2.8763886700822554,
          0.9193262205319692,
          0.3949826146380539,
          0.1398009361049872,
          -0.2389551947409717,
          1.7631889811772778,
          0.9423296126061489,
          0.6967921196412008,
          -0.5414352907350243,
          -2.036531823296873,
          -0.24433216283716166,
          -0.6095837637269612,
          -0.8657030628068533,
          -1.3290908432224944,
          0.12455980476667877,
          1.0184694806034515,
          -1.183099026560509,
          -1.9117478241953998,
          1.5901480473509917,
          0.036261728019634634,
          -1.4686201375953223,
          0.23850038429899692,
          0.9850551573259738,
          0.2343911390852982,
          1.6218946767897775,
          0.6092426949738955,
          0.4316571530869879,
          -0.3497700989320226,
          0.0630769975004216,
          -1.7473220089492396,
          0.9992032559911043,
          -0.46947268822447513,
          -1.5169497942671446,
          -0.83250174584291,
          -0.4968973159748692,
          -0.961293262106367,
          1.57489946216533,
          0.12352962553924367,
          1.1956965136368198,
          0.2622356680889761,
          -1.3592917794393795,
          -1.3888127276879452,
          -0.4192232294633762,
          0.2162221432499591,
          2.3852910763547004,
          -1.3123647706286883,
          0.2612934369110763,
          0.8613442539868962,
          -2.199294295056723,
          0.586695375572083,
          -0.49651894860239854,
          -0.06531819539664627,
          -1.8735956634836917,
          -0.922282193523706,
          -0.1390551342534496,
          -2.07229926650626,
          -0.3136402802450524,
          1.2721102467999612,
          1.2212916123327877,
          0.4263336106747266,
          -1.3278513626090733,
          -1.4901785369107048,
          0.3370979010819831,
          1.1609741420348372,
          -1.4052615141974583,
          -1.675537604560082,
          -0.8470611330808606,
          0.846711142348439,
          1.6207509512727276,
          0.9628774645331151,
          0.08415610063834954,
          2.0515464720858776,
          0.3989174309260779,
          0.5284312945429028,
          1.316248220757381,
          0.07911639704636868,
          0.5625901301013624,
          0.10809718712260306,
          0.05558043354838223,
          1.653387809021809,
          0.19613717511683407,
          -1.0636425270979382,
          -2.3361375217663913,
          1.170649467749388,
          -1.1175819973708243,
          -0.9877716720625392,
          1.1344780752246988,
          2.753133920603948
         ]
        }
       ],
       "layout": {
        "barmode": "overlay",
        "legend": {
         "bgcolor": "#F5F6F9",
         "font": {
          "color": "#4D5663"
         }
        },
        "paper_bgcolor": "#F5F6F9",
        "plot_bgcolor": "#F5F6F9",
        "template": {
         "data": {
          "bar": [
           {
            "error_x": {
             "color": "#2a3f5f"
            },
            "error_y": {
             "color": "#2a3f5f"
            },
            "marker": {
             "line": {
              "color": "#E5ECF6",
              "width": 0.5
             }
            },
            "type": "bar"
           }
          ],
          "barpolar": [
           {
            "marker": {
             "line": {
              "color": "#E5ECF6",
              "width": 0.5
             }
            },
            "type": "barpolar"
           }
          ],
          "carpet": [
           {
            "aaxis": {
             "endlinecolor": "#2a3f5f",
             "gridcolor": "white",
             "linecolor": "white",
             "minorgridcolor": "white",
             "startlinecolor": "#2a3f5f"
            },
            "baxis": {
             "endlinecolor": "#2a3f5f",
             "gridcolor": "white",
             "linecolor": "white",
             "minorgridcolor": "white",
             "startlinecolor": "#2a3f5f"
            },
            "type": "carpet"
           }
          ],
          "choropleth": [
           {
            "colorbar": {
             "outlinewidth": 0,
             "ticks": ""
            },
            "type": "choropleth"
           }
          ],
          "contour": [
           {
            "colorbar": {
             "outlinewidth": 0,
             "ticks": ""
            },
            "colorscale": [
             [
              0,
              "#0d0887"
             ],
             [
              0.1111111111111111,
              "#46039f"
             ],
             [
              0.2222222222222222,
              "#7201a8"
             ],
             [
              0.3333333333333333,
              "#9c179e"
             ],
             [
              0.4444444444444444,
              "#bd3786"
             ],
             [
              0.5555555555555556,
              "#d8576b"
             ],
             [
              0.6666666666666666,
              "#ed7953"
             ],
             [
              0.7777777777777778,
              "#fb9f3a"
             ],
             [
              0.8888888888888888,
              "#fdca26"
             ],
             [
              1,
              "#f0f921"
             ]
            ],
            "type": "contour"
           }
          ],
          "contourcarpet": [
           {
            "colorbar": {
             "outlinewidth": 0,
             "ticks": ""
            },
            "type": "contourcarpet"
           }
          ],
          "heatmap": [
           {
            "colorbar": {
             "outlinewidth": 0,
             "ticks": ""
            },
            "colorscale": [
             [
              0,
              "#0d0887"
             ],
             [
              0.1111111111111111,
              "#46039f"
             ],
             [
              0.2222222222222222,
              "#7201a8"
             ],
             [
              0.3333333333333333,
              "#9c179e"
             ],
             [
              0.4444444444444444,
              "#bd3786"
             ],
             [
              0.5555555555555556,
              "#d8576b"
             ],
             [
              0.6666666666666666,
              "#ed7953"
             ],
             [
              0.7777777777777778,
              "#fb9f3a"
             ],
             [
              0.8888888888888888,
              "#fdca26"
             ],
             [
              1,
              "#f0f921"
             ]
            ],
            "type": "heatmap"
           }
          ],
          "heatmapgl": [
           {
            "colorbar": {
             "outlinewidth": 0,
             "ticks": ""
            },
            "colorscale": [
             [
              0,
              "#0d0887"
             ],
             [
              0.1111111111111111,
              "#46039f"
             ],
             [
              0.2222222222222222,
              "#7201a8"
             ],
             [
              0.3333333333333333,
              "#9c179e"
             ],
             [
              0.4444444444444444,
              "#bd3786"
             ],
             [
              0.5555555555555556,
              "#d8576b"
             ],
             [
              0.6666666666666666,
              "#ed7953"
             ],
             [
              0.7777777777777778,
              "#fb9f3a"
             ],
             [
              0.8888888888888888,
              "#fdca26"
             ],
             [
              1,
              "#f0f921"
             ]
            ],
            "type": "heatmapgl"
           }
          ],
          "histogram": [
           {
            "marker": {
             "colorbar": {
              "outlinewidth": 0,
              "ticks": ""
             }
            },
            "type": "histogram"
           }
          ],
          "histogram2d": [
           {
            "colorbar": {
             "outlinewidth": 0,
             "ticks": ""
            },
            "colorscale": [
             [
              0,
              "#0d0887"
             ],
             [
              0.1111111111111111,
              "#46039f"
             ],
             [
              0.2222222222222222,
              "#7201a8"
             ],
             [
              0.3333333333333333,
              "#9c179e"
             ],
             [
              0.4444444444444444,
              "#bd3786"
             ],
             [
              0.5555555555555556,
              "#d8576b"
             ],
             [
              0.6666666666666666,
              "#ed7953"
             ],
             [
              0.7777777777777778,
              "#fb9f3a"
             ],
             [
              0.8888888888888888,
              "#fdca26"
             ],
             [
              1,
              "#f0f921"
             ]
            ],
            "type": "histogram2d"
           }
          ],
          "histogram2dcontour": [
           {
            "colorbar": {
             "outlinewidth": 0,
             "ticks": ""
            },
            "colorscale": [
             [
              0,
              "#0d0887"
             ],
             [
              0.1111111111111111,
              "#46039f"
             ],
             [
              0.2222222222222222,
              "#7201a8"
             ],
             [
              0.3333333333333333,
              "#9c179e"
             ],
             [
              0.4444444444444444,
              "#bd3786"
             ],
             [
              0.5555555555555556,
              "#d8576b"
             ],
             [
              0.6666666666666666,
              "#ed7953"
             ],
             [
              0.7777777777777778,
              "#fb9f3a"
             ],
             [
              0.8888888888888888,
              "#fdca26"
             ],
             [
              1,
              "#f0f921"
             ]
            ],
            "type": "histogram2dcontour"
           }
          ],
          "mesh3d": [
           {
            "colorbar": {
             "outlinewidth": 0,
             "ticks": ""
            },
            "type": "mesh3d"
           }
          ],
          "parcoords": [
           {
            "line": {
             "colorbar": {
              "outlinewidth": 0,
              "ticks": ""
             }
            },
            "type": "parcoords"
           }
          ],
          "pie": [
           {
            "automargin": true,
            "type": "pie"
           }
          ],
          "scatter": [
           {
            "marker": {
             "colorbar": {
              "outlinewidth": 0,
              "ticks": ""
             }
            },
            "type": "scatter"
           }
          ],
          "scatter3d": [
           {
            "line": {
             "colorbar": {
              "outlinewidth": 0,
              "ticks": ""
             }
            },
            "marker": {
             "colorbar": {
              "outlinewidth": 0,
              "ticks": ""
             }
            },
            "type": "scatter3d"
           }
          ],
          "scattercarpet": [
           {
            "marker": {
             "colorbar": {
              "outlinewidth": 0,
              "ticks": ""
             }
            },
            "type": "scattercarpet"
           }
          ],
          "scattergeo": [
           {
            "marker": {
             "colorbar": {
              "outlinewidth": 0,
              "ticks": ""
             }
            },
            "type": "scattergeo"
           }
          ],
          "scattergl": [
           {
            "marker": {
             "colorbar": {
              "outlinewidth": 0,
              "ticks": ""
             }
            },
            "type": "scattergl"
           }
          ],
          "scattermapbox": [
           {
            "marker": {
             "colorbar": {
              "outlinewidth": 0,
              "ticks": ""
             }
            },
            "type": "scattermapbox"
           }
          ],
          "scatterpolar": [
           {
            "marker": {
             "colorbar": {
              "outlinewidth": 0,
              "ticks": ""
             }
            },
            "type": "scatterpolar"
           }
          ],
          "scatterpolargl": [
           {
            "marker": {
             "colorbar": {
              "outlinewidth": 0,
              "ticks": ""
             }
            },
            "type": "scatterpolargl"
           }
          ],
          "scatterternary": [
           {
            "marker": {
             "colorbar": {
              "outlinewidth": 0,
              "ticks": ""
             }
            },
            "type": "scatterternary"
           }
          ],
          "surface": [
           {
            "colorbar": {
             "outlinewidth": 0,
             "ticks": ""
            },
            "colorscale": [
             [
              0,
              "#0d0887"
             ],
             [
              0.1111111111111111,
              "#46039f"
             ],
             [
              0.2222222222222222,
              "#7201a8"
             ],
             [
              0.3333333333333333,
              "#9c179e"
             ],
             [
              0.4444444444444444,
              "#bd3786"
             ],
             [
              0.5555555555555556,
              "#d8576b"
             ],
             [
              0.6666666666666666,
              "#ed7953"
             ],
             [
              0.7777777777777778,
              "#fb9f3a"
             ],
             [
              0.8888888888888888,
              "#fdca26"
             ],
             [
              1,
              "#f0f921"
             ]
            ],
            "type": "surface"
           }
          ],
          "table": [
           {
            "cells": {
             "fill": {
              "color": "#EBF0F8"
             },
             "line": {
              "color": "white"
             }
            },
            "header": {
             "fill": {
              "color": "#C8D4E3"
             },
             "line": {
              "color": "white"
             }
            },
            "type": "table"
           }
          ]
         },
         "layout": {
          "annotationdefaults": {
           "arrowcolor": "#2a3f5f",
           "arrowhead": 0,
           "arrowwidth": 1
          },
          "coloraxis": {
           "colorbar": {
            "outlinewidth": 0,
            "ticks": ""
           }
          },
          "colorscale": {
           "diverging": [
            [
             0,
             "#8e0152"
            ],
            [
             0.1,
             "#c51b7d"
            ],
            [
             0.2,
             "#de77ae"
            ],
            [
             0.3,
             "#f1b6da"
            ],
            [
             0.4,
             "#fde0ef"
            ],
            [
             0.5,
             "#f7f7f7"
            ],
            [
             0.6,
             "#e6f5d0"
            ],
            [
             0.7,
             "#b8e186"
            ],
            [
             0.8,
             "#7fbc41"
            ],
            [
             0.9,
             "#4d9221"
            ],
            [
             1,
             "#276419"
            ]
           ],
           "sequential": [
            [
             0,
             "#0d0887"
            ],
            [
             0.1111111111111111,
             "#46039f"
            ],
            [
             0.2222222222222222,
             "#7201a8"
            ],
            [
             0.3333333333333333,
             "#9c179e"
            ],
            [
             0.4444444444444444,
             "#bd3786"
            ],
            [
             0.5555555555555556,
             "#d8576b"
            ],
            [
             0.6666666666666666,
             "#ed7953"
            ],
            [
             0.7777777777777778,
             "#fb9f3a"
            ],
            [
             0.8888888888888888,
             "#fdca26"
            ],
            [
             1,
             "#f0f921"
            ]
           ],
           "sequentialminus": [
            [
             0,
             "#0d0887"
            ],
            [
             0.1111111111111111,
             "#46039f"
            ],
            [
             0.2222222222222222,
             "#7201a8"
            ],
            [
             0.3333333333333333,
             "#9c179e"
            ],
            [
             0.4444444444444444,
             "#bd3786"
            ],
            [
             0.5555555555555556,
             "#d8576b"
            ],
            [
             0.6666666666666666,
             "#ed7953"
            ],
            [
             0.7777777777777778,
             "#fb9f3a"
            ],
            [
             0.8888888888888888,
             "#fdca26"
            ],
            [
             1,
             "#f0f921"
            ]
           ]
          },
          "colorway": [
           "#636efa",
           "#EF553B",
           "#00cc96",
           "#ab63fa",
           "#FFA15A",
           "#19d3f3",
           "#FF6692",
           "#B6E880",
           "#FF97FF",
           "#FECB52"
          ],
          "font": {
           "color": "#2a3f5f"
          },
          "geo": {
           "bgcolor": "white",
           "lakecolor": "white",
           "landcolor": "#E5ECF6",
           "showlakes": true,
           "showland": true,
           "subunitcolor": "white"
          },
          "hoverlabel": {
           "align": "left"
          },
          "hovermode": "closest",
          "mapbox": {
           "style": "light"
          },
          "paper_bgcolor": "white",
          "plot_bgcolor": "#E5ECF6",
          "polar": {
           "angularaxis": {
            "gridcolor": "white",
            "linecolor": "white",
            "ticks": ""
           },
           "bgcolor": "#E5ECF6",
           "radialaxis": {
            "gridcolor": "white",
            "linecolor": "white",
            "ticks": ""
           }
          },
          "scene": {
           "xaxis": {
            "backgroundcolor": "#E5ECF6",
            "gridcolor": "white",
            "gridwidth": 2,
            "linecolor": "white",
            "showbackground": true,
            "ticks": "",
            "zerolinecolor": "white"
           },
           "yaxis": {
            "backgroundcolor": "#E5ECF6",
            "gridcolor": "white",
            "gridwidth": 2,
            "linecolor": "white",
            "showbackground": true,
            "ticks": "",
            "zerolinecolor": "white"
           },
           "zaxis": {
            "backgroundcolor": "#E5ECF6",
            "gridcolor": "white",
            "gridwidth": 2,
            "linecolor": "white",
            "showbackground": true,
            "ticks": "",
            "zerolinecolor": "white"
           }
          },
          "shapedefaults": {
           "line": {
            "color": "#2a3f5f"
           }
          },
          "ternary": {
           "aaxis": {
            "gridcolor": "white",
            "linecolor": "white",
            "ticks": ""
           },
           "baxis": {
            "gridcolor": "white",
            "linecolor": "white",
            "ticks": ""
           },
           "bgcolor": "#E5ECF6",
           "caxis": {
            "gridcolor": "white",
            "linecolor": "white",
            "ticks": ""
           }
          },
          "title": {
           "x": 0.05
          },
          "xaxis": {
           "automargin": true,
           "gridcolor": "white",
           "linecolor": "white",
           "ticks": "",
           "title": {
            "standoff": 15
           },
           "zerolinecolor": "white",
           "zerolinewidth": 2
          },
          "yaxis": {
           "automargin": true,
           "gridcolor": "white",
           "linecolor": "white",
           "ticks": "",
           "title": {
            "standoff": 15
           },
           "zerolinecolor": "white",
           "zerolinewidth": 2
          }
         }
        },
        "title": {
         "font": {
          "color": "#4D5663"
         }
        },
        "xaxis": {
         "gridcolor": "#E1E5ED",
         "showgrid": true,
         "tickfont": {
          "color": "#4D5663"
         },
         "title": {
          "font": {
           "color": "#4D5663"
          },
          "text": ""
         },
         "zerolinecolor": "#E1E5ED"
        },
        "yaxis": {
         "gridcolor": "#E1E5ED",
         "showgrid": true,
         "tickfont": {
          "color": "#4D5663"
         },
         "title": {
          "font": {
           "color": "#4D5663"
          },
          "text": ""
         },
         "zerolinecolor": "#E1E5ED"
        }
       }
      },
      "text/html": [
       "<div>\n",
       "        \n",
       "        \n",
       "            <div id=\"99f10714-55f5-40ab-ac89-155876a1cf96\" class=\"plotly-graph-div\" style=\"height:525px; width:100%;\"></div>\n",
       "            <script type=\"text/javascript\">\n",
       "                require([\"plotly\"], function(Plotly) {\n",
       "                    window.PLOTLYENV=window.PLOTLYENV || {};\n",
       "                    window.PLOTLYENV.BASE_URL='https://plot.ly';\n",
       "                    \n",
       "                if (document.getElementById(\"99f10714-55f5-40ab-ac89-155876a1cf96\")) {\n",
       "                    Plotly.newPlot(\n",
       "                        '99f10714-55f5-40ab-ac89-155876a1cf96',\n",
       "                        [{\"histfunc\": \"count\", \"histnorm\": \"\", \"marker\": {\"color\": \"rgba(255, 153, 51, 1.0)\", \"line\": {\"color\": \"#4D5663\", \"width\": 1.3}}, \"name\": \"A\", \"nbinsx\": 50, \"opacity\": 0.8, \"orientation\": \"v\", \"type\": \"histogram\", \"x\": [1.03550403305365, 1.0884452472323425, -0.8238221561084681, -1.165409106210997, 0.06314234757509121, 0.28403331754428096, 1.3031142849283257, -0.5330006379394974, 0.9239955720458833, -0.3404308950020115, 0.49705351026645744, 0.11995406868417582, 2.8763886700822554, 0.9193262205319692, 0.3949826146380539, 0.1398009361049872, -0.2389551947409717, 1.7631889811772778, 0.9423296126061489, 0.6967921196412008, -0.5414352907350243, -2.036531823296873, -0.24433216283716166, -0.6095837637269612, -0.8657030628068533, -1.3290908432224944, 0.12455980476667877, 1.0184694806034515, -1.183099026560509, -1.9117478241953998, 1.5901480473509917, 0.036261728019634634, -1.4686201375953223, 0.23850038429899692, 0.9850551573259738, 0.2343911390852982, 1.6218946767897775, 0.6092426949738955, 0.4316571530869879, -0.3497700989320226, 0.0630769975004216, -1.7473220089492396, 0.9992032559911043, -0.46947268822447513, -1.5169497942671446, -0.83250174584291, -0.4968973159748692, -0.961293262106367, 1.57489946216533, 0.12352962553924367, 1.1956965136368198, 0.2622356680889761, -1.3592917794393795, -1.3888127276879452, -0.4192232294633762, 0.2162221432499591, 2.3852910763547004, -1.3123647706286883, 0.2612934369110763, 0.8613442539868962, -2.199294295056723, 0.586695375572083, -0.49651894860239854, -0.06531819539664627, -1.8735956634836917, -0.922282193523706, -0.1390551342534496, -2.07229926650626, -0.3136402802450524, 1.2721102467999612, 1.2212916123327877, 0.4263336106747266, -1.3278513626090733, -1.4901785369107048, 0.3370979010819831, 1.1609741420348372, -1.4052615141974583, -1.675537604560082, -0.8470611330808606, 0.846711142348439, 1.6207509512727276, 0.9628774645331151, 0.08415610063834954, 2.0515464720858776, 0.3989174309260779, 0.5284312945429028, 1.316248220757381, 0.07911639704636868, 0.5625901301013624, 0.10809718712260306, 0.05558043354838223, 1.653387809021809, 0.19613717511683407, -1.0636425270979382, -2.3361375217663913, 1.170649467749388, -1.1175819973708243, -0.9877716720625392, 1.1344780752246988, 2.753133920603948]}],\n",
       "                        {\"barmode\": \"overlay\", \"legend\": {\"bgcolor\": \"#F5F6F9\", \"font\": {\"color\": \"#4D5663\"}}, \"paper_bgcolor\": \"#F5F6F9\", \"plot_bgcolor\": \"#F5F6F9\", \"template\": {\"data\": {\"bar\": [{\"error_x\": {\"color\": \"#2a3f5f\"}, \"error_y\": {\"color\": \"#2a3f5f\"}, \"marker\": {\"line\": {\"color\": \"#E5ECF6\", \"width\": 0.5}}, \"type\": \"bar\"}], \"barpolar\": [{\"marker\": {\"line\": {\"color\": \"#E5ECF6\", \"width\": 0.5}}, \"type\": \"barpolar\"}], \"carpet\": [{\"aaxis\": {\"endlinecolor\": \"#2a3f5f\", \"gridcolor\": \"white\", \"linecolor\": \"white\", \"minorgridcolor\": \"white\", \"startlinecolor\": \"#2a3f5f\"}, \"baxis\": {\"endlinecolor\": \"#2a3f5f\", \"gridcolor\": \"white\", \"linecolor\": \"white\", \"minorgridcolor\": \"white\", \"startlinecolor\": \"#2a3f5f\"}, \"type\": \"carpet\"}], \"choropleth\": [{\"colorbar\": {\"outlinewidth\": 0, \"ticks\": \"\"}, \"type\": \"choropleth\"}], \"contour\": [{\"colorbar\": {\"outlinewidth\": 0, \"ticks\": \"\"}, \"colorscale\": [[0.0, \"#0d0887\"], [0.1111111111111111, \"#46039f\"], [0.2222222222222222, \"#7201a8\"], [0.3333333333333333, \"#9c179e\"], [0.4444444444444444, \"#bd3786\"], [0.5555555555555556, \"#d8576b\"], [0.6666666666666666, \"#ed7953\"], [0.7777777777777778, \"#fb9f3a\"], [0.8888888888888888, \"#fdca26\"], [1.0, \"#f0f921\"]], \"type\": \"contour\"}], \"contourcarpet\": [{\"colorbar\": {\"outlinewidth\": 0, \"ticks\": \"\"}, \"type\": \"contourcarpet\"}], \"heatmap\": [{\"colorbar\": {\"outlinewidth\": 0, \"ticks\": \"\"}, \"colorscale\": [[0.0, \"#0d0887\"], [0.1111111111111111, \"#46039f\"], [0.2222222222222222, \"#7201a8\"], [0.3333333333333333, \"#9c179e\"], [0.4444444444444444, \"#bd3786\"], [0.5555555555555556, \"#d8576b\"], [0.6666666666666666, \"#ed7953\"], [0.7777777777777778, \"#fb9f3a\"], [0.8888888888888888, \"#fdca26\"], [1.0, \"#f0f921\"]], \"type\": \"heatmap\"}], \"heatmapgl\": [{\"colorbar\": {\"outlinewidth\": 0, \"ticks\": \"\"}, \"colorscale\": [[0.0, \"#0d0887\"], [0.1111111111111111, \"#46039f\"], [0.2222222222222222, \"#7201a8\"], [0.3333333333333333, \"#9c179e\"], [0.4444444444444444, \"#bd3786\"], [0.5555555555555556, \"#d8576b\"], [0.6666666666666666, \"#ed7953\"], [0.7777777777777778, \"#fb9f3a\"], [0.8888888888888888, \"#fdca26\"], [1.0, \"#f0f921\"]], \"type\": \"heatmapgl\"}], \"histogram\": [{\"marker\": {\"colorbar\": {\"outlinewidth\": 0, \"ticks\": \"\"}}, \"type\": \"histogram\"}], \"histogram2d\": [{\"colorbar\": {\"outlinewidth\": 0, \"ticks\": \"\"}, \"colorscale\": [[0.0, \"#0d0887\"], [0.1111111111111111, \"#46039f\"], [0.2222222222222222, \"#7201a8\"], [0.3333333333333333, \"#9c179e\"], [0.4444444444444444, \"#bd3786\"], [0.5555555555555556, \"#d8576b\"], [0.6666666666666666, \"#ed7953\"], [0.7777777777777778, \"#fb9f3a\"], [0.8888888888888888, \"#fdca26\"], [1.0, \"#f0f921\"]], \"type\": \"histogram2d\"}], \"histogram2dcontour\": [{\"colorbar\": {\"outlinewidth\": 0, \"ticks\": \"\"}, \"colorscale\": [[0.0, \"#0d0887\"], [0.1111111111111111, \"#46039f\"], [0.2222222222222222, \"#7201a8\"], [0.3333333333333333, \"#9c179e\"], [0.4444444444444444, \"#bd3786\"], [0.5555555555555556, \"#d8576b\"], [0.6666666666666666, \"#ed7953\"], [0.7777777777777778, \"#fb9f3a\"], [0.8888888888888888, \"#fdca26\"], [1.0, \"#f0f921\"]], \"type\": \"histogram2dcontour\"}], \"mesh3d\": [{\"colorbar\": {\"outlinewidth\": 0, \"ticks\": \"\"}, \"type\": \"mesh3d\"}], \"parcoords\": [{\"line\": {\"colorbar\": {\"outlinewidth\": 0, \"ticks\": \"\"}}, \"type\": \"parcoords\"}], \"pie\": [{\"automargin\": true, \"type\": \"pie\"}], \"scatter\": [{\"marker\": {\"colorbar\": {\"outlinewidth\": 0, \"ticks\": \"\"}}, \"type\": \"scatter\"}], \"scatter3d\": [{\"line\": {\"colorbar\": {\"outlinewidth\": 0, \"ticks\": \"\"}}, \"marker\": {\"colorbar\": {\"outlinewidth\": 0, \"ticks\": \"\"}}, \"type\": \"scatter3d\"}], \"scattercarpet\": [{\"marker\": {\"colorbar\": {\"outlinewidth\": 0, \"ticks\": \"\"}}, \"type\": \"scattercarpet\"}], \"scattergeo\": [{\"marker\": {\"colorbar\": {\"outlinewidth\": 0, \"ticks\": \"\"}}, \"type\": \"scattergeo\"}], \"scattergl\": [{\"marker\": {\"colorbar\": {\"outlinewidth\": 0, \"ticks\": \"\"}}, \"type\": \"scattergl\"}], \"scattermapbox\": [{\"marker\": {\"colorbar\": {\"outlinewidth\": 0, \"ticks\": \"\"}}, \"type\": \"scattermapbox\"}], \"scatterpolar\": [{\"marker\": {\"colorbar\": {\"outlinewidth\": 0, \"ticks\": \"\"}}, \"type\": \"scatterpolar\"}], \"scatterpolargl\": [{\"marker\": {\"colorbar\": {\"outlinewidth\": 0, \"ticks\": \"\"}}, \"type\": \"scatterpolargl\"}], \"scatterternary\": [{\"marker\": {\"colorbar\": {\"outlinewidth\": 0, \"ticks\": \"\"}}, \"type\": \"scatterternary\"}], \"surface\": [{\"colorbar\": {\"outlinewidth\": 0, \"ticks\": \"\"}, \"colorscale\": [[0.0, \"#0d0887\"], [0.1111111111111111, \"#46039f\"], [0.2222222222222222, \"#7201a8\"], [0.3333333333333333, \"#9c179e\"], [0.4444444444444444, \"#bd3786\"], [0.5555555555555556, \"#d8576b\"], [0.6666666666666666, \"#ed7953\"], [0.7777777777777778, \"#fb9f3a\"], [0.8888888888888888, \"#fdca26\"], [1.0, \"#f0f921\"]], \"type\": \"surface\"}], \"table\": [{\"cells\": {\"fill\": {\"color\": \"#EBF0F8\"}, \"line\": {\"color\": \"white\"}}, \"header\": {\"fill\": {\"color\": \"#C8D4E3\"}, \"line\": {\"color\": \"white\"}}, \"type\": \"table\"}]}, \"layout\": {\"annotationdefaults\": {\"arrowcolor\": \"#2a3f5f\", \"arrowhead\": 0, \"arrowwidth\": 1}, \"coloraxis\": {\"colorbar\": {\"outlinewidth\": 0, \"ticks\": \"\"}}, \"colorscale\": {\"diverging\": [[0, \"#8e0152\"], [0.1, \"#c51b7d\"], [0.2, \"#de77ae\"], [0.3, \"#f1b6da\"], [0.4, \"#fde0ef\"], [0.5, \"#f7f7f7\"], [0.6, \"#e6f5d0\"], [0.7, \"#b8e186\"], [0.8, \"#7fbc41\"], [0.9, \"#4d9221\"], [1, \"#276419\"]], \"sequential\": [[0.0, \"#0d0887\"], [0.1111111111111111, \"#46039f\"], [0.2222222222222222, \"#7201a8\"], [0.3333333333333333, \"#9c179e\"], [0.4444444444444444, \"#bd3786\"], [0.5555555555555556, \"#d8576b\"], [0.6666666666666666, \"#ed7953\"], [0.7777777777777778, \"#fb9f3a\"], [0.8888888888888888, \"#fdca26\"], [1.0, \"#f0f921\"]], \"sequentialminus\": [[0.0, \"#0d0887\"], [0.1111111111111111, \"#46039f\"], [0.2222222222222222, \"#7201a8\"], [0.3333333333333333, \"#9c179e\"], [0.4444444444444444, \"#bd3786\"], [0.5555555555555556, \"#d8576b\"], [0.6666666666666666, \"#ed7953\"], [0.7777777777777778, \"#fb9f3a\"], [0.8888888888888888, \"#fdca26\"], [1.0, \"#f0f921\"]]}, \"colorway\": [\"#636efa\", \"#EF553B\", \"#00cc96\", \"#ab63fa\", \"#FFA15A\", \"#19d3f3\", \"#FF6692\", \"#B6E880\", \"#FF97FF\", \"#FECB52\"], \"font\": {\"color\": \"#2a3f5f\"}, \"geo\": {\"bgcolor\": \"white\", \"lakecolor\": \"white\", \"landcolor\": \"#E5ECF6\", \"showlakes\": true, \"showland\": true, \"subunitcolor\": \"white\"}, \"hoverlabel\": {\"align\": \"left\"}, \"hovermode\": \"closest\", \"mapbox\": {\"style\": \"light\"}, \"paper_bgcolor\": \"white\", \"plot_bgcolor\": \"#E5ECF6\", \"polar\": {\"angularaxis\": {\"gridcolor\": \"white\", \"linecolor\": \"white\", \"ticks\": \"\"}, \"bgcolor\": \"#E5ECF6\", \"radialaxis\": {\"gridcolor\": \"white\", \"linecolor\": \"white\", \"ticks\": \"\"}}, \"scene\": {\"xaxis\": {\"backgroundcolor\": \"#E5ECF6\", \"gridcolor\": \"white\", \"gridwidth\": 2, \"linecolor\": \"white\", \"showbackground\": true, \"ticks\": \"\", \"zerolinecolor\": \"white\"}, \"yaxis\": {\"backgroundcolor\": \"#E5ECF6\", \"gridcolor\": \"white\", \"gridwidth\": 2, \"linecolor\": \"white\", \"showbackground\": true, \"ticks\": \"\", \"zerolinecolor\": \"white\"}, \"zaxis\": {\"backgroundcolor\": \"#E5ECF6\", \"gridcolor\": \"white\", \"gridwidth\": 2, \"linecolor\": \"white\", \"showbackground\": true, \"ticks\": \"\", \"zerolinecolor\": \"white\"}}, \"shapedefaults\": {\"line\": {\"color\": \"#2a3f5f\"}}, \"ternary\": {\"aaxis\": {\"gridcolor\": \"white\", \"linecolor\": \"white\", \"ticks\": \"\"}, \"baxis\": {\"gridcolor\": \"white\", \"linecolor\": \"white\", \"ticks\": \"\"}, \"bgcolor\": \"#E5ECF6\", \"caxis\": {\"gridcolor\": \"white\", \"linecolor\": \"white\", \"ticks\": \"\"}}, \"title\": {\"x\": 0.05}, \"xaxis\": {\"automargin\": true, \"gridcolor\": \"white\", \"linecolor\": \"white\", \"ticks\": \"\", \"title\": {\"standoff\": 15}, \"zerolinecolor\": \"white\", \"zerolinewidth\": 2}, \"yaxis\": {\"automargin\": true, \"gridcolor\": \"white\", \"linecolor\": \"white\", \"ticks\": \"\", \"title\": {\"standoff\": 15}, \"zerolinecolor\": \"white\", \"zerolinewidth\": 2}}}, \"title\": {\"font\": {\"color\": \"#4D5663\"}}, \"xaxis\": {\"gridcolor\": \"#E1E5ED\", \"showgrid\": true, \"tickfont\": {\"color\": \"#4D5663\"}, \"title\": {\"font\": {\"color\": \"#4D5663\"}, \"text\": \"\"}, \"zerolinecolor\": \"#E1E5ED\"}, \"yaxis\": {\"gridcolor\": \"#E1E5ED\", \"showgrid\": true, \"tickfont\": {\"color\": \"#4D5663\"}, \"title\": {\"font\": {\"color\": \"#4D5663\"}, \"text\": \"\"}, \"zerolinecolor\": \"#E1E5ED\"}},\n",
       "                        {\"showLink\": true, \"linkText\": \"Export to plot.ly\", \"plotlyServerURL\": \"https://plot.ly\", \"responsive\": true}\n",
       "                    ).then(function(){\n",
       "                            \n",
       "var gd = document.getElementById('99f10714-55f5-40ab-ac89-155876a1cf96');\n",
       "var x = new MutationObserver(function (mutations, observer) {{\n",
       "        var display = window.getComputedStyle(gd).display;\n",
       "        if (!display || display === 'none') {{\n",
       "            console.log([gd, 'removed!']);\n",
       "            Plotly.purge(gd);\n",
       "            observer.disconnect();\n",
       "        }}\n",
       "}});\n",
       "\n",
       "// Listen for the removal of the full notebook cells\n",
       "var notebookContainer = gd.closest('#notebook-container');\n",
       "if (notebookContainer) {{\n",
       "    x.observe(notebookContainer, {childList: true});\n",
       "}}\n",
       "\n",
       "// Listen for the clearing of the current output cell\n",
       "var outputEl = gd.closest('.output');\n",
       "if (outputEl) {{\n",
       "    x.observe(outputEl, {childList: true});\n",
       "}}\n",
       "\n",
       "                        })\n",
       "                };\n",
       "                });\n",
       "            </script>\n",
       "        </div>"
      ]
     },
     "metadata": {},
     "output_type": "display_data"
    }
   ],
   "source": [
    "df1['A'].iplot(kind='hist',bins=50)"
   ]
  },
  {
   "cell_type": "code",
   "execution_count": 64,
   "metadata": {},
   "outputs": [],
   "source": [
    "# If we use the whole dataframe for this then histograms of different columns will be overlapped. "
   ]
  },
  {
   "cell_type": "code",
   "execution_count": 66,
   "metadata": {},
   "outputs": [
    {
     "data": {
      "application/vnd.plotly.v1+json": {
       "config": {
        "linkText": "Export to plot.ly",
        "plotlyServerURL": "https://plot.ly",
        "showLink": true
       },
       "data": [
        {
         "histfunc": "count",
         "histnorm": "",
         "marker": {
          "color": "rgba(255, 153, 51, 1.0)",
          "line": {
           "color": "#4D5663",
           "width": 1.3
          }
         },
         "name": "A",
         "opacity": 0.8,
         "orientation": "v",
         "type": "histogram",
         "x": [
          1.03550403305365,
          1.0884452472323425,
          -0.8238221561084681,
          -1.165409106210997,
          0.06314234757509121,
          0.28403331754428096,
          1.3031142849283257,
          -0.5330006379394974,
          0.9239955720458833,
          -0.3404308950020115,
          0.49705351026645744,
          0.11995406868417582,
          2.8763886700822554,
          0.9193262205319692,
          0.3949826146380539,
          0.1398009361049872,
          -0.2389551947409717,
          1.7631889811772778,
          0.9423296126061489,
          0.6967921196412008,
          -0.5414352907350243,
          -2.036531823296873,
          -0.24433216283716166,
          -0.6095837637269612,
          -0.8657030628068533,
          -1.3290908432224944,
          0.12455980476667877,
          1.0184694806034515,
          -1.183099026560509,
          -1.9117478241953998,
          1.5901480473509917,
          0.036261728019634634,
          -1.4686201375953223,
          0.23850038429899692,
          0.9850551573259738,
          0.2343911390852982,
          1.6218946767897775,
          0.6092426949738955,
          0.4316571530869879,
          -0.3497700989320226,
          0.0630769975004216,
          -1.7473220089492396,
          0.9992032559911043,
          -0.46947268822447513,
          -1.5169497942671446,
          -0.83250174584291,
          -0.4968973159748692,
          -0.961293262106367,
          1.57489946216533,
          0.12352962553924367,
          1.1956965136368198,
          0.2622356680889761,
          -1.3592917794393795,
          -1.3888127276879452,
          -0.4192232294633762,
          0.2162221432499591,
          2.3852910763547004,
          -1.3123647706286883,
          0.2612934369110763,
          0.8613442539868962,
          -2.199294295056723,
          0.586695375572083,
          -0.49651894860239854,
          -0.06531819539664627,
          -1.8735956634836917,
          -0.922282193523706,
          -0.1390551342534496,
          -2.07229926650626,
          -0.3136402802450524,
          1.2721102467999612,
          1.2212916123327877,
          0.4263336106747266,
          -1.3278513626090733,
          -1.4901785369107048,
          0.3370979010819831,
          1.1609741420348372,
          -1.4052615141974583,
          -1.675537604560082,
          -0.8470611330808606,
          0.846711142348439,
          1.6207509512727276,
          0.9628774645331151,
          0.08415610063834954,
          2.0515464720858776,
          0.3989174309260779,
          0.5284312945429028,
          1.316248220757381,
          0.07911639704636868,
          0.5625901301013624,
          0.10809718712260306,
          0.05558043354838223,
          1.653387809021809,
          0.19613717511683407,
          -1.0636425270979382,
          -2.3361375217663913,
          1.170649467749388,
          -1.1175819973708243,
          -0.9877716720625392,
          1.1344780752246988,
          2.753133920603948
         ]
        },
        {
         "histfunc": "count",
         "histnorm": "",
         "marker": {
          "color": "rgba(55, 128, 191, 1.0)",
          "line": {
           "color": "#4D5663",
           "width": 1.3
          }
         },
         "name": "B",
         "opacity": 0.8,
         "orientation": "v",
         "type": "histogram",
         "x": [
          1.8960119593872942,
          -0.9013887599486713,
          -1.3179328495735878,
          0.5093309293244226,
          0.0686381546170349,
          -2.0476722168076367,
          -1.2434170473032558,
          0.3917194929936394,
          0.08754198693204741,
          1.8742193519276948,
          -0.34000427728927657,
          0.5808930813656673,
          -0.9185932288750916,
          -0.4370652175550562,
          0.1615291650092262,
          -0.5573801868161586,
          0.20872127272273155,
          1.5038452901928197,
          0.3810687629989386,
          0.7531014416401095,
          0.47515844401649343,
          -1.3117037828849436,
          -1.1128339786035324,
          1.029572365045059,
          -0.6998734664959823,
          0.38491468084915426,
          -0.851322628406908,
          0.20712468604181208,
          -1.0443583025142498,
          -0.5585025465631798,
          1.6133603060244144,
          0.6650436363899097,
          0.43497836743006446,
          -0.3135901937525547,
          -1.035819537740092,
          0.16500645542112155,
          -0.9797413668441683,
          1.1709202821872366,
          -0.3720340472186027,
          1.2875124895895487,
          -0.5342416459509143,
          0.8652415097498334,
          1.5787699931065844,
          0.801559529330312,
          1.808507607789963,
          0.8574514261933185,
          -2.4147665891905423,
          1.7264760801920465,
          -0.06502278632303127,
          0.3525427456543032,
          0.012552047667873876,
          -0.6432254433376144,
          -0.4677216910558781,
          0.3088421925727908,
          -0.24516716396534866,
          -1.0028937338811257,
          -0.11281611748353859,
          -0.21130491670513085,
          1.1809298727624613,
          -1.3801349160393888,
          0.6649025414857689,
          0.07020479167028694,
          1.740029943416659,
          0.11709800890149423,
          -0.5814226348171162,
          -1.0019165405279373,
          -0.21731413282882847,
          0.32370671894003944,
          0.9948776149290441,
          1.4343455034837274,
          1.230642479260398,
          0.4407683249017293,
          1.1008062320678353,
          -0.5268935998638822,
          -0.19239595695956105,
          0.6351734409776926,
          0.694340808578521,
          -0.5603554691124976,
          -1.6720568576003965,
          2.1469145635682256,
          2.114961913817211,
          0.6233672076422256,
          -0.3462142582361224,
          -2.4139182337762866,
          -2.126184965333488,
          0.6670682066566681,
          0.5925052023824063,
          -0.2640307238259685,
          0.98890415493091,
          0.31990550123503214,
          1.116614817349527,
          0.6146447422037827,
          0.23811295524611592,
          -0.7621631571903236,
          0.0005562339163062913,
          0.3056800154965565,
          -0.7646734494718713,
          0.7956242619405267,
          1.1363915737491685,
          0.5870292601155663
         ]
        },
        {
         "histfunc": "count",
         "histnorm": "",
         "marker": {
          "color": "rgba(50, 171, 96, 1.0)",
          "line": {
           "color": "#4D5663",
           "width": 1.3
          }
         },
         "name": "C",
         "opacity": 0.8,
         "orientation": "v",
         "type": "histogram",
         "x": [
          -0.31235344268957305,
          -0.779291184008495,
          -0.3382378313641103,
          1.5421481134590849,
          -1.3551621221442123,
          -0.33340180454056784,
          1.665296944513379,
          -0.32763611518520985,
          0.2609174602920684,
          1.6395212351276283,
          0.9912710012311396,
          -1.4019081191169263,
          -1.458481412138232,
          -0.07304151076635769,
          0.1221095950313633,
          -2.2286451162858807,
          0.08237034692735798,
          1.7750430436973565,
          -0.7511221498733812,
          -0.01841886398274809,
          0.3509648204240912,
          -0.4678989936030183,
          -0.07150780483206723,
          -1.3762431724055342,
          1.5326017377318464,
          0.4983811025203121,
          -0.6795782051592428,
          -1.2656471093840016,
          0.392297234389132,
          0.24799131200879226,
          -1.0526228366086938,
          0.5235704896437962,
          -2.1105760386913204,
          -0.9241436610842272,
          1.7332599843659915,
          -0.9370479961582932,
          0.8263952807279571,
          -0.9208933905587741,
          -0.1538715791291248,
          0.4013805447984194,
          -0.8438962555943664,
          0.2840391365053848,
          0.7233997398011442,
          1.2509113718825278,
          -0.4222341192657711,
          0.2547359853722564,
          1.1865136808993528,
          0.01875822993183538,
          -0.021890938217392852,
          0.3308619824488176,
          0.5302273579361191,
          0.5715254621147243,
          0.9531877249301393,
          -0.86812801411079,
          -0.003632374883951981,
          -1.0424190239275244,
          -0.06131038034819389,
          -0.7235001630887572,
          -0.6740685444674551,
          -0.15891045604359477,
          1.3402898073715057,
          0.958617214426853,
          -0.6958427995651298,
          -0.5815808665306819,
          -0.39845785266202827,
          -0.39936376026592535,
          0.04125767678413521,
          0.24907653795296583,
          -0.9311076163727938,
          0.5572243135699384,
          0.46838393501357034,
          0.5760126083194442,
          -0.5688066170943136,
          -0.12984686598054374,
          -1.8368011291388542,
          -1.8362250489634662,
          -0.31162448112682783,
          0.2351904211051621,
          -1.2303712522426633,
          0.803472556092731,
          1.416412724412486,
          1.0460389280210196,
          -1.7284715283664749,
          -0.9265549820848047,
          -1.0629618896047572,
          0.5134434439148944,
          -0.8814579803703178,
          -0.22978633789459266,
          2.3553289181892407,
          -0.07690735215068391,
          -0.848160029587419,
          -0.5875614140450401,
          0.3113488458077335,
          -0.31003966124401394,
          1.4804871534955693,
          -1.3732313567546572,
          0.902320280180013,
          0.7244150084856815,
          0.8314704704799247,
          -0.21398466359923993
         ]
        },
        {
         "histfunc": "count",
         "histnorm": "",
         "marker": {
          "color": "rgba(128, 0, 128, 1.0)",
          "line": {
           "color": "#4D5663",
           "width": 1.3
          }
         },
         "name": "D",
         "opacity": 0.8,
         "orientation": "v",
         "type": "histogram",
         "x": [
          1.0501846747475807,
          -0.2631622600665042,
          -1.7403044791255877,
          -0.49270096000479324,
          -1.266095965737075,
          -0.79041828917442,
          -2.9077287476812814,
          0.5162476509677758,
          -0.7174430378950274,
          0.2706549456708596,
          1.0573039873448888,
          -0.5600414520013582,
          0.9754910522734861,
          0.692212074791335,
          -0.2668207194598693,
          -1.1770830167086077,
          0.4966582090084445,
          0.30526131642048454,
          0.9160256136980789,
          -1.5918295650442957,
          0.02977026538641927,
          -1.7172731979615743,
          -0.16174746327733458,
          1.8427204049825525,
          -0.7070357286280311,
          -1.5063320055032123,
          -0.6975635973077675,
          1.2139295569562687,
          0.2673960751229431,
          -0.783315246893848,
          -0.5072663992950421,
          0.5870448767884239,
          0.5601074508584243,
          -0.2637481454065867,
          -0.7719795045926394,
          0.8886942146784562,
          -0.180650310216546,
          -0.5381770917545685,
          -1.4051286558709084,
          -0.15570765448750165,
          0.09307128198913218,
          -0.18151631488798683,
          0.310787850486599,
          0.4918763947131808,
          0.6905827746980921,
          0.16693538146178163,
          1.4122462316005135,
          1.016677403837887,
          -0.6854839792266426,
          -0.5809831911943966,
          -2.184806133330967,
          -0.3688091129235744,
          -0.40548108117032877,
          1.339731057473646,
          -0.9428106033223824,
          0.6613579874430183,
          0.9202754253501984,
          2.4143459436610955,
          0.29157535161896586,
          1.293398970613332,
          -1.9738145496888437,
          0.19483371940869532,
          -0.7898763563357196,
          -1.1159067513199046,
          0.8634416674887178,
          1.8087502331064784,
          -0.1873966626930624,
          -0.02902665910273575,
          0.20943796269246906,
          1.094678799697476,
          0.20675945704454388,
          -0.9283200224952756,
          1.9189085221682376,
          -0.6738438434566502,
          0.950432788311642,
          0.2683051509918545,
          0.5269430013778346,
          -0.8311589580073511,
          -0.08979753977451058,
          -0.28135666411071003,
          -0.36891736319069823,
          -0.6351896533405529,
          1.725810775721876,
          -1.2370318338049597,
          -0.21501903771022107,
          0.2069549912563331,
          -1.4782321340741926,
          -2.0347856211560686,
          1.1417074936945315,
          0.13726081355615155,
          -1.0568924133839583,
          0.6840980919865118,
          -1.5722044419324286,
          0.300415657494318,
          1.3111348856256066,
          1.7505717975611537,
          -0.8078893163791052,
          -0.8247084630691421,
          1.5035738332033604,
          0.05881221943485587
         ]
        }
       ],
       "layout": {
        "barmode": "overlay",
        "legend": {
         "bgcolor": "#F5F6F9",
         "font": {
          "color": "#4D5663"
         }
        },
        "paper_bgcolor": "#F5F6F9",
        "plot_bgcolor": "#F5F6F9",
        "template": {
         "data": {
          "bar": [
           {
            "error_x": {
             "color": "#2a3f5f"
            },
            "error_y": {
             "color": "#2a3f5f"
            },
            "marker": {
             "line": {
              "color": "#E5ECF6",
              "width": 0.5
             }
            },
            "type": "bar"
           }
          ],
          "barpolar": [
           {
            "marker": {
             "line": {
              "color": "#E5ECF6",
              "width": 0.5
             }
            },
            "type": "barpolar"
           }
          ],
          "carpet": [
           {
            "aaxis": {
             "endlinecolor": "#2a3f5f",
             "gridcolor": "white",
             "linecolor": "white",
             "minorgridcolor": "white",
             "startlinecolor": "#2a3f5f"
            },
            "baxis": {
             "endlinecolor": "#2a3f5f",
             "gridcolor": "white",
             "linecolor": "white",
             "minorgridcolor": "white",
             "startlinecolor": "#2a3f5f"
            },
            "type": "carpet"
           }
          ],
          "choropleth": [
           {
            "colorbar": {
             "outlinewidth": 0,
             "ticks": ""
            },
            "type": "choropleth"
           }
          ],
          "contour": [
           {
            "colorbar": {
             "outlinewidth": 0,
             "ticks": ""
            },
            "colorscale": [
             [
              0,
              "#0d0887"
             ],
             [
              0.1111111111111111,
              "#46039f"
             ],
             [
              0.2222222222222222,
              "#7201a8"
             ],
             [
              0.3333333333333333,
              "#9c179e"
             ],
             [
              0.4444444444444444,
              "#bd3786"
             ],
             [
              0.5555555555555556,
              "#d8576b"
             ],
             [
              0.6666666666666666,
              "#ed7953"
             ],
             [
              0.7777777777777778,
              "#fb9f3a"
             ],
             [
              0.8888888888888888,
              "#fdca26"
             ],
             [
              1,
              "#f0f921"
             ]
            ],
            "type": "contour"
           }
          ],
          "contourcarpet": [
           {
            "colorbar": {
             "outlinewidth": 0,
             "ticks": ""
            },
            "type": "contourcarpet"
           }
          ],
          "heatmap": [
           {
            "colorbar": {
             "outlinewidth": 0,
             "ticks": ""
            },
            "colorscale": [
             [
              0,
              "#0d0887"
             ],
             [
              0.1111111111111111,
              "#46039f"
             ],
             [
              0.2222222222222222,
              "#7201a8"
             ],
             [
              0.3333333333333333,
              "#9c179e"
             ],
             [
              0.4444444444444444,
              "#bd3786"
             ],
             [
              0.5555555555555556,
              "#d8576b"
             ],
             [
              0.6666666666666666,
              "#ed7953"
             ],
             [
              0.7777777777777778,
              "#fb9f3a"
             ],
             [
              0.8888888888888888,
              "#fdca26"
             ],
             [
              1,
              "#f0f921"
             ]
            ],
            "type": "heatmap"
           }
          ],
          "heatmapgl": [
           {
            "colorbar": {
             "outlinewidth": 0,
             "ticks": ""
            },
            "colorscale": [
             [
              0,
              "#0d0887"
             ],
             [
              0.1111111111111111,
              "#46039f"
             ],
             [
              0.2222222222222222,
              "#7201a8"
             ],
             [
              0.3333333333333333,
              "#9c179e"
             ],
             [
              0.4444444444444444,
              "#bd3786"
             ],
             [
              0.5555555555555556,
              "#d8576b"
             ],
             [
              0.6666666666666666,
              "#ed7953"
             ],
             [
              0.7777777777777778,
              "#fb9f3a"
             ],
             [
              0.8888888888888888,
              "#fdca26"
             ],
             [
              1,
              "#f0f921"
             ]
            ],
            "type": "heatmapgl"
           }
          ],
          "histogram": [
           {
            "marker": {
             "colorbar": {
              "outlinewidth": 0,
              "ticks": ""
             }
            },
            "type": "histogram"
           }
          ],
          "histogram2d": [
           {
            "colorbar": {
             "outlinewidth": 0,
             "ticks": ""
            },
            "colorscale": [
             [
              0,
              "#0d0887"
             ],
             [
              0.1111111111111111,
              "#46039f"
             ],
             [
              0.2222222222222222,
              "#7201a8"
             ],
             [
              0.3333333333333333,
              "#9c179e"
             ],
             [
              0.4444444444444444,
              "#bd3786"
             ],
             [
              0.5555555555555556,
              "#d8576b"
             ],
             [
              0.6666666666666666,
              "#ed7953"
             ],
             [
              0.7777777777777778,
              "#fb9f3a"
             ],
             [
              0.8888888888888888,
              "#fdca26"
             ],
             [
              1,
              "#f0f921"
             ]
            ],
            "type": "histogram2d"
           }
          ],
          "histogram2dcontour": [
           {
            "colorbar": {
             "outlinewidth": 0,
             "ticks": ""
            },
            "colorscale": [
             [
              0,
              "#0d0887"
             ],
             [
              0.1111111111111111,
              "#46039f"
             ],
             [
              0.2222222222222222,
              "#7201a8"
             ],
             [
              0.3333333333333333,
              "#9c179e"
             ],
             [
              0.4444444444444444,
              "#bd3786"
             ],
             [
              0.5555555555555556,
              "#d8576b"
             ],
             [
              0.6666666666666666,
              "#ed7953"
             ],
             [
              0.7777777777777778,
              "#fb9f3a"
             ],
             [
              0.8888888888888888,
              "#fdca26"
             ],
             [
              1,
              "#f0f921"
             ]
            ],
            "type": "histogram2dcontour"
           }
          ],
          "mesh3d": [
           {
            "colorbar": {
             "outlinewidth": 0,
             "ticks": ""
            },
            "type": "mesh3d"
           }
          ],
          "parcoords": [
           {
            "line": {
             "colorbar": {
              "outlinewidth": 0,
              "ticks": ""
             }
            },
            "type": "parcoords"
           }
          ],
          "pie": [
           {
            "automargin": true,
            "type": "pie"
           }
          ],
          "scatter": [
           {
            "marker": {
             "colorbar": {
              "outlinewidth": 0,
              "ticks": ""
             }
            },
            "type": "scatter"
           }
          ],
          "scatter3d": [
           {
            "line": {
             "colorbar": {
              "outlinewidth": 0,
              "ticks": ""
             }
            },
            "marker": {
             "colorbar": {
              "outlinewidth": 0,
              "ticks": ""
             }
            },
            "type": "scatter3d"
           }
          ],
          "scattercarpet": [
           {
            "marker": {
             "colorbar": {
              "outlinewidth": 0,
              "ticks": ""
             }
            },
            "type": "scattercarpet"
           }
          ],
          "scattergeo": [
           {
            "marker": {
             "colorbar": {
              "outlinewidth": 0,
              "ticks": ""
             }
            },
            "type": "scattergeo"
           }
          ],
          "scattergl": [
           {
            "marker": {
             "colorbar": {
              "outlinewidth": 0,
              "ticks": ""
             }
            },
            "type": "scattergl"
           }
          ],
          "scattermapbox": [
           {
            "marker": {
             "colorbar": {
              "outlinewidth": 0,
              "ticks": ""
             }
            },
            "type": "scattermapbox"
           }
          ],
          "scatterpolar": [
           {
            "marker": {
             "colorbar": {
              "outlinewidth": 0,
              "ticks": ""
             }
            },
            "type": "scatterpolar"
           }
          ],
          "scatterpolargl": [
           {
            "marker": {
             "colorbar": {
              "outlinewidth": 0,
              "ticks": ""
             }
            },
            "type": "scatterpolargl"
           }
          ],
          "scatterternary": [
           {
            "marker": {
             "colorbar": {
              "outlinewidth": 0,
              "ticks": ""
             }
            },
            "type": "scatterternary"
           }
          ],
          "surface": [
           {
            "colorbar": {
             "outlinewidth": 0,
             "ticks": ""
            },
            "colorscale": [
             [
              0,
              "#0d0887"
             ],
             [
              0.1111111111111111,
              "#46039f"
             ],
             [
              0.2222222222222222,
              "#7201a8"
             ],
             [
              0.3333333333333333,
              "#9c179e"
             ],
             [
              0.4444444444444444,
              "#bd3786"
             ],
             [
              0.5555555555555556,
              "#d8576b"
             ],
             [
              0.6666666666666666,
              "#ed7953"
             ],
             [
              0.7777777777777778,
              "#fb9f3a"
             ],
             [
              0.8888888888888888,
              "#fdca26"
             ],
             [
              1,
              "#f0f921"
             ]
            ],
            "type": "surface"
           }
          ],
          "table": [
           {
            "cells": {
             "fill": {
              "color": "#EBF0F8"
             },
             "line": {
              "color": "white"
             }
            },
            "header": {
             "fill": {
              "color": "#C8D4E3"
             },
             "line": {
              "color": "white"
             }
            },
            "type": "table"
           }
          ]
         },
         "layout": {
          "annotationdefaults": {
           "arrowcolor": "#2a3f5f",
           "arrowhead": 0,
           "arrowwidth": 1
          },
          "coloraxis": {
           "colorbar": {
            "outlinewidth": 0,
            "ticks": ""
           }
          },
          "colorscale": {
           "diverging": [
            [
             0,
             "#8e0152"
            ],
            [
             0.1,
             "#c51b7d"
            ],
            [
             0.2,
             "#de77ae"
            ],
            [
             0.3,
             "#f1b6da"
            ],
            [
             0.4,
             "#fde0ef"
            ],
            [
             0.5,
             "#f7f7f7"
            ],
            [
             0.6,
             "#e6f5d0"
            ],
            [
             0.7,
             "#b8e186"
            ],
            [
             0.8,
             "#7fbc41"
            ],
            [
             0.9,
             "#4d9221"
            ],
            [
             1,
             "#276419"
            ]
           ],
           "sequential": [
            [
             0,
             "#0d0887"
            ],
            [
             0.1111111111111111,
             "#46039f"
            ],
            [
             0.2222222222222222,
             "#7201a8"
            ],
            [
             0.3333333333333333,
             "#9c179e"
            ],
            [
             0.4444444444444444,
             "#bd3786"
            ],
            [
             0.5555555555555556,
             "#d8576b"
            ],
            [
             0.6666666666666666,
             "#ed7953"
            ],
            [
             0.7777777777777778,
             "#fb9f3a"
            ],
            [
             0.8888888888888888,
             "#fdca26"
            ],
            [
             1,
             "#f0f921"
            ]
           ],
           "sequentialminus": [
            [
             0,
             "#0d0887"
            ],
            [
             0.1111111111111111,
             "#46039f"
            ],
            [
             0.2222222222222222,
             "#7201a8"
            ],
            [
             0.3333333333333333,
             "#9c179e"
            ],
            [
             0.4444444444444444,
             "#bd3786"
            ],
            [
             0.5555555555555556,
             "#d8576b"
            ],
            [
             0.6666666666666666,
             "#ed7953"
            ],
            [
             0.7777777777777778,
             "#fb9f3a"
            ],
            [
             0.8888888888888888,
             "#fdca26"
            ],
            [
             1,
             "#f0f921"
            ]
           ]
          },
          "colorway": [
           "#636efa",
           "#EF553B",
           "#00cc96",
           "#ab63fa",
           "#FFA15A",
           "#19d3f3",
           "#FF6692",
           "#B6E880",
           "#FF97FF",
           "#FECB52"
          ],
          "font": {
           "color": "#2a3f5f"
          },
          "geo": {
           "bgcolor": "white",
           "lakecolor": "white",
           "landcolor": "#E5ECF6",
           "showlakes": true,
           "showland": true,
           "subunitcolor": "white"
          },
          "hoverlabel": {
           "align": "left"
          },
          "hovermode": "closest",
          "mapbox": {
           "style": "light"
          },
          "paper_bgcolor": "white",
          "plot_bgcolor": "#E5ECF6",
          "polar": {
           "angularaxis": {
            "gridcolor": "white",
            "linecolor": "white",
            "ticks": ""
           },
           "bgcolor": "#E5ECF6",
           "radialaxis": {
            "gridcolor": "white",
            "linecolor": "white",
            "ticks": ""
           }
          },
          "scene": {
           "xaxis": {
            "backgroundcolor": "#E5ECF6",
            "gridcolor": "white",
            "gridwidth": 2,
            "linecolor": "white",
            "showbackground": true,
            "ticks": "",
            "zerolinecolor": "white"
           },
           "yaxis": {
            "backgroundcolor": "#E5ECF6",
            "gridcolor": "white",
            "gridwidth": 2,
            "linecolor": "white",
            "showbackground": true,
            "ticks": "",
            "zerolinecolor": "white"
           },
           "zaxis": {
            "backgroundcolor": "#E5ECF6",
            "gridcolor": "white",
            "gridwidth": 2,
            "linecolor": "white",
            "showbackground": true,
            "ticks": "",
            "zerolinecolor": "white"
           }
          },
          "shapedefaults": {
           "line": {
            "color": "#2a3f5f"
           }
          },
          "ternary": {
           "aaxis": {
            "gridcolor": "white",
            "linecolor": "white",
            "ticks": ""
           },
           "baxis": {
            "gridcolor": "white",
            "linecolor": "white",
            "ticks": ""
           },
           "bgcolor": "#E5ECF6",
           "caxis": {
            "gridcolor": "white",
            "linecolor": "white",
            "ticks": ""
           }
          },
          "title": {
           "x": 0.05
          },
          "xaxis": {
           "automargin": true,
           "gridcolor": "white",
           "linecolor": "white",
           "ticks": "",
           "title": {
            "standoff": 15
           },
           "zerolinecolor": "white",
           "zerolinewidth": 2
          },
          "yaxis": {
           "automargin": true,
           "gridcolor": "white",
           "linecolor": "white",
           "ticks": "",
           "title": {
            "standoff": 15
           },
           "zerolinecolor": "white",
           "zerolinewidth": 2
          }
         }
        },
        "title": {
         "font": {
          "color": "#4D5663"
         }
        },
        "xaxis": {
         "gridcolor": "#E1E5ED",
         "showgrid": true,
         "tickfont": {
          "color": "#4D5663"
         },
         "title": {
          "font": {
           "color": "#4D5663"
          },
          "text": ""
         },
         "zerolinecolor": "#E1E5ED"
        },
        "yaxis": {
         "gridcolor": "#E1E5ED",
         "showgrid": true,
         "tickfont": {
          "color": "#4D5663"
         },
         "title": {
          "font": {
           "color": "#4D5663"
          },
          "text": ""
         },
         "zerolinecolor": "#E1E5ED"
        }
       }
      },
      "text/html": [
       "<div>\n",
       "        \n",
       "        \n",
       "            <div id=\"241a3c15-2ec2-4d0f-a503-79e7ebb50f9c\" class=\"plotly-graph-div\" style=\"height:525px; width:100%;\"></div>\n",
       "            <script type=\"text/javascript\">\n",
       "                require([\"plotly\"], function(Plotly) {\n",
       "                    window.PLOTLYENV=window.PLOTLYENV || {};\n",
       "                    window.PLOTLYENV.BASE_URL='https://plot.ly';\n",
       "                    \n",
       "                if (document.getElementById(\"241a3c15-2ec2-4d0f-a503-79e7ebb50f9c\")) {\n",
       "                    Plotly.newPlot(\n",
       "                        '241a3c15-2ec2-4d0f-a503-79e7ebb50f9c',\n",
       "                        [{\"histfunc\": \"count\", \"histnorm\": \"\", \"marker\": {\"color\": \"rgba(255, 153, 51, 1.0)\", \"line\": {\"color\": \"#4D5663\", \"width\": 1.3}}, \"name\": \"A\", \"opacity\": 0.8, \"orientation\": \"v\", \"type\": \"histogram\", \"x\": [1.03550403305365, 1.0884452472323425, -0.8238221561084681, -1.165409106210997, 0.06314234757509121, 0.28403331754428096, 1.3031142849283257, -0.5330006379394974, 0.9239955720458833, -0.3404308950020115, 0.49705351026645744, 0.11995406868417582, 2.8763886700822554, 0.9193262205319692, 0.3949826146380539, 0.1398009361049872, -0.2389551947409717, 1.7631889811772778, 0.9423296126061489, 0.6967921196412008, -0.5414352907350243, -2.036531823296873, -0.24433216283716166, -0.6095837637269612, -0.8657030628068533, -1.3290908432224944, 0.12455980476667877, 1.0184694806034515, -1.183099026560509, -1.9117478241953998, 1.5901480473509917, 0.036261728019634634, -1.4686201375953223, 0.23850038429899692, 0.9850551573259738, 0.2343911390852982, 1.6218946767897775, 0.6092426949738955, 0.4316571530869879, -0.3497700989320226, 0.0630769975004216, -1.7473220089492396, 0.9992032559911043, -0.46947268822447513, -1.5169497942671446, -0.83250174584291, -0.4968973159748692, -0.961293262106367, 1.57489946216533, 0.12352962553924367, 1.1956965136368198, 0.2622356680889761, -1.3592917794393795, -1.3888127276879452, -0.4192232294633762, 0.2162221432499591, 2.3852910763547004, -1.3123647706286883, 0.2612934369110763, 0.8613442539868962, -2.199294295056723, 0.586695375572083, -0.49651894860239854, -0.06531819539664627, -1.8735956634836917, -0.922282193523706, -0.1390551342534496, -2.07229926650626, -0.3136402802450524, 1.2721102467999612, 1.2212916123327877, 0.4263336106747266, -1.3278513626090733, -1.4901785369107048, 0.3370979010819831, 1.1609741420348372, -1.4052615141974583, -1.675537604560082, -0.8470611330808606, 0.846711142348439, 1.6207509512727276, 0.9628774645331151, 0.08415610063834954, 2.0515464720858776, 0.3989174309260779, 0.5284312945429028, 1.316248220757381, 0.07911639704636868, 0.5625901301013624, 0.10809718712260306, 0.05558043354838223, 1.653387809021809, 0.19613717511683407, -1.0636425270979382, -2.3361375217663913, 1.170649467749388, -1.1175819973708243, -0.9877716720625392, 1.1344780752246988, 2.753133920603948]}, {\"histfunc\": \"count\", \"histnorm\": \"\", \"marker\": {\"color\": \"rgba(55, 128, 191, 1.0)\", \"line\": {\"color\": \"#4D5663\", \"width\": 1.3}}, \"name\": \"B\", \"opacity\": 0.8, \"orientation\": \"v\", \"type\": \"histogram\", \"x\": [1.8960119593872942, -0.9013887599486713, -1.3179328495735878, 0.5093309293244226, 0.0686381546170349, -2.0476722168076367, -1.2434170473032558, 0.3917194929936394, 0.08754198693204741, 1.8742193519276948, -0.34000427728927657, 0.5808930813656673, -0.9185932288750916, -0.4370652175550562, 0.1615291650092262, -0.5573801868161586, 0.20872127272273155, 1.5038452901928197, 0.3810687629989386, 0.7531014416401095, 0.47515844401649343, -1.3117037828849436, -1.1128339786035324, 1.029572365045059, -0.6998734664959823, 0.38491468084915426, -0.851322628406908, 0.20712468604181208, -1.0443583025142498, -0.5585025465631798, 1.6133603060244144, 0.6650436363899097, 0.43497836743006446, -0.3135901937525547, -1.035819537740092, 0.16500645542112155, -0.9797413668441683, 1.1709202821872366, -0.3720340472186027, 1.2875124895895487, -0.5342416459509143, 0.8652415097498334, 1.5787699931065844, 0.801559529330312, 1.808507607789963, 0.8574514261933185, -2.4147665891905423, 1.7264760801920465, -0.06502278632303127, 0.3525427456543032, 0.012552047667873876, -0.6432254433376144, -0.4677216910558781, 0.3088421925727908, -0.24516716396534866, -1.0028937338811257, -0.11281611748353859, -0.21130491670513085, 1.1809298727624613, -1.3801349160393888, 0.6649025414857689, 0.07020479167028694, 1.740029943416659, 0.11709800890149423, -0.5814226348171162, -1.0019165405279373, -0.21731413282882847, 0.32370671894003944, 0.9948776149290441, 1.4343455034837274, 1.230642479260398, 0.4407683249017293, 1.1008062320678353, -0.5268935998638822, -0.19239595695956105, 0.6351734409776926, 0.694340808578521, -0.5603554691124976, -1.6720568576003965, 2.1469145635682256, 2.114961913817211, 0.6233672076422256, -0.3462142582361224, -2.4139182337762866, -2.126184965333488, 0.6670682066566681, 0.5925052023824063, -0.2640307238259685, 0.98890415493091, 0.31990550123503214, 1.116614817349527, 0.6146447422037827, 0.23811295524611592, -0.7621631571903236, 0.0005562339163062913, 0.3056800154965565, -0.7646734494718713, 0.7956242619405267, 1.1363915737491685, 0.5870292601155663]}, {\"histfunc\": \"count\", \"histnorm\": \"\", \"marker\": {\"color\": \"rgba(50, 171, 96, 1.0)\", \"line\": {\"color\": \"#4D5663\", \"width\": 1.3}}, \"name\": \"C\", \"opacity\": 0.8, \"orientation\": \"v\", \"type\": \"histogram\", \"x\": [-0.31235344268957305, -0.779291184008495, -0.3382378313641103, 1.5421481134590849, -1.3551621221442123, -0.33340180454056784, 1.665296944513379, -0.32763611518520985, 0.2609174602920684, 1.6395212351276283, 0.9912710012311396, -1.4019081191169263, -1.458481412138232, -0.07304151076635769, 0.1221095950313633, -2.2286451162858807, 0.08237034692735798, 1.7750430436973565, -0.7511221498733812, -0.01841886398274809, 0.3509648204240912, -0.4678989936030183, -0.07150780483206723, -1.3762431724055342, 1.5326017377318464, 0.4983811025203121, -0.6795782051592428, -1.2656471093840016, 0.392297234389132, 0.24799131200879226, -1.0526228366086938, 0.5235704896437962, -2.1105760386913204, -0.9241436610842272, 1.7332599843659915, -0.9370479961582932, 0.8263952807279571, -0.9208933905587741, -0.1538715791291248, 0.4013805447984194, -0.8438962555943664, 0.2840391365053848, 0.7233997398011442, 1.2509113718825278, -0.4222341192657711, 0.2547359853722564, 1.1865136808993528, 0.01875822993183538, -0.021890938217392852, 0.3308619824488176, 0.5302273579361191, 0.5715254621147243, 0.9531877249301393, -0.86812801411079, -0.003632374883951981, -1.0424190239275244, -0.06131038034819389, -0.7235001630887572, -0.6740685444674551, -0.15891045604359477, 1.3402898073715057, 0.958617214426853, -0.6958427995651298, -0.5815808665306819, -0.39845785266202827, -0.39936376026592535, 0.04125767678413521, 0.24907653795296583, -0.9311076163727938, 0.5572243135699384, 0.46838393501357034, 0.5760126083194442, -0.5688066170943136, -0.12984686598054374, -1.8368011291388542, -1.8362250489634662, -0.31162448112682783, 0.2351904211051621, -1.2303712522426633, 0.803472556092731, 1.416412724412486, 1.0460389280210196, -1.7284715283664749, -0.9265549820848047, -1.0629618896047572, 0.5134434439148944, -0.8814579803703178, -0.22978633789459266, 2.3553289181892407, -0.07690735215068391, -0.848160029587419, -0.5875614140450401, 0.3113488458077335, -0.31003966124401394, 1.4804871534955693, -1.3732313567546572, 0.902320280180013, 0.7244150084856815, 0.8314704704799247, -0.21398466359923993]}, {\"histfunc\": \"count\", \"histnorm\": \"\", \"marker\": {\"color\": \"rgba(128, 0, 128, 1.0)\", \"line\": {\"color\": \"#4D5663\", \"width\": 1.3}}, \"name\": \"D\", \"opacity\": 0.8, \"orientation\": \"v\", \"type\": \"histogram\", \"x\": [1.0501846747475807, -0.2631622600665042, -1.7403044791255877, -0.49270096000479324, -1.266095965737075, -0.79041828917442, -2.9077287476812814, 0.5162476509677758, -0.7174430378950274, 0.2706549456708596, 1.0573039873448888, -0.5600414520013582, 0.9754910522734861, 0.692212074791335, -0.2668207194598693, -1.1770830167086077, 0.4966582090084445, 0.30526131642048454, 0.9160256136980789, -1.5918295650442957, 0.02977026538641927, -1.7172731979615743, -0.16174746327733458, 1.8427204049825525, -0.7070357286280311, -1.5063320055032123, -0.6975635973077675, 1.2139295569562687, 0.2673960751229431, -0.783315246893848, -0.5072663992950421, 0.5870448767884239, 0.5601074508584243, -0.2637481454065867, -0.7719795045926394, 0.8886942146784562, -0.180650310216546, -0.5381770917545685, -1.4051286558709084, -0.15570765448750165, 0.09307128198913218, -0.18151631488798683, 0.310787850486599, 0.4918763947131808, 0.6905827746980921, 0.16693538146178163, 1.4122462316005135, 1.016677403837887, -0.6854839792266426, -0.5809831911943966, -2.184806133330967, -0.3688091129235744, -0.40548108117032877, 1.339731057473646, -0.9428106033223824, 0.6613579874430183, 0.9202754253501984, 2.4143459436610955, 0.29157535161896586, 1.293398970613332, -1.9738145496888437, 0.19483371940869532, -0.7898763563357196, -1.1159067513199046, 0.8634416674887178, 1.8087502331064784, -0.1873966626930624, -0.02902665910273575, 0.20943796269246906, 1.094678799697476, 0.20675945704454388, -0.9283200224952756, 1.9189085221682376, -0.6738438434566502, 0.950432788311642, 0.2683051509918545, 0.5269430013778346, -0.8311589580073511, -0.08979753977451058, -0.28135666411071003, -0.36891736319069823, -0.6351896533405529, 1.725810775721876, -1.2370318338049597, -0.21501903771022107, 0.2069549912563331, -1.4782321340741926, -2.0347856211560686, 1.1417074936945315, 0.13726081355615155, -1.0568924133839583, 0.6840980919865118, -1.5722044419324286, 0.300415657494318, 1.3111348856256066, 1.7505717975611537, -0.8078893163791052, -0.8247084630691421, 1.5035738332033604, 0.05881221943485587]}],\n",
       "                        {\"barmode\": \"overlay\", \"legend\": {\"bgcolor\": \"#F5F6F9\", \"font\": {\"color\": \"#4D5663\"}}, \"paper_bgcolor\": \"#F5F6F9\", \"plot_bgcolor\": \"#F5F6F9\", \"template\": {\"data\": {\"bar\": [{\"error_x\": {\"color\": \"#2a3f5f\"}, \"error_y\": {\"color\": \"#2a3f5f\"}, \"marker\": {\"line\": {\"color\": \"#E5ECF6\", \"width\": 0.5}}, \"type\": \"bar\"}], \"barpolar\": [{\"marker\": {\"line\": {\"color\": \"#E5ECF6\", \"width\": 0.5}}, \"type\": \"barpolar\"}], \"carpet\": [{\"aaxis\": {\"endlinecolor\": \"#2a3f5f\", \"gridcolor\": \"white\", \"linecolor\": \"white\", \"minorgridcolor\": \"white\", \"startlinecolor\": \"#2a3f5f\"}, \"baxis\": {\"endlinecolor\": \"#2a3f5f\", \"gridcolor\": \"white\", \"linecolor\": \"white\", \"minorgridcolor\": \"white\", \"startlinecolor\": \"#2a3f5f\"}, \"type\": \"carpet\"}], \"choropleth\": [{\"colorbar\": {\"outlinewidth\": 0, \"ticks\": \"\"}, \"type\": \"choropleth\"}], \"contour\": [{\"colorbar\": {\"outlinewidth\": 0, \"ticks\": \"\"}, \"colorscale\": [[0.0, \"#0d0887\"], [0.1111111111111111, \"#46039f\"], [0.2222222222222222, \"#7201a8\"], [0.3333333333333333, \"#9c179e\"], [0.4444444444444444, \"#bd3786\"], [0.5555555555555556, \"#d8576b\"], [0.6666666666666666, \"#ed7953\"], [0.7777777777777778, \"#fb9f3a\"], [0.8888888888888888, \"#fdca26\"], [1.0, \"#f0f921\"]], \"type\": \"contour\"}], \"contourcarpet\": [{\"colorbar\": {\"outlinewidth\": 0, \"ticks\": \"\"}, \"type\": \"contourcarpet\"}], \"heatmap\": [{\"colorbar\": {\"outlinewidth\": 0, \"ticks\": \"\"}, \"colorscale\": [[0.0, \"#0d0887\"], [0.1111111111111111, \"#46039f\"], [0.2222222222222222, \"#7201a8\"], [0.3333333333333333, \"#9c179e\"], [0.4444444444444444, \"#bd3786\"], [0.5555555555555556, \"#d8576b\"], [0.6666666666666666, \"#ed7953\"], [0.7777777777777778, \"#fb9f3a\"], [0.8888888888888888, \"#fdca26\"], [1.0, \"#f0f921\"]], \"type\": \"heatmap\"}], \"heatmapgl\": [{\"colorbar\": {\"outlinewidth\": 0, \"ticks\": \"\"}, \"colorscale\": [[0.0, \"#0d0887\"], [0.1111111111111111, \"#46039f\"], [0.2222222222222222, \"#7201a8\"], [0.3333333333333333, \"#9c179e\"], [0.4444444444444444, \"#bd3786\"], [0.5555555555555556, \"#d8576b\"], [0.6666666666666666, \"#ed7953\"], [0.7777777777777778, \"#fb9f3a\"], [0.8888888888888888, \"#fdca26\"], [1.0, \"#f0f921\"]], \"type\": \"heatmapgl\"}], \"histogram\": [{\"marker\": {\"colorbar\": {\"outlinewidth\": 0, \"ticks\": \"\"}}, \"type\": \"histogram\"}], \"histogram2d\": [{\"colorbar\": {\"outlinewidth\": 0, \"ticks\": \"\"}, \"colorscale\": [[0.0, \"#0d0887\"], [0.1111111111111111, \"#46039f\"], [0.2222222222222222, \"#7201a8\"], [0.3333333333333333, \"#9c179e\"], [0.4444444444444444, \"#bd3786\"], [0.5555555555555556, \"#d8576b\"], [0.6666666666666666, \"#ed7953\"], [0.7777777777777778, \"#fb9f3a\"], [0.8888888888888888, \"#fdca26\"], [1.0, \"#f0f921\"]], \"type\": \"histogram2d\"}], \"histogram2dcontour\": [{\"colorbar\": {\"outlinewidth\": 0, \"ticks\": \"\"}, \"colorscale\": [[0.0, \"#0d0887\"], [0.1111111111111111, \"#46039f\"], [0.2222222222222222, \"#7201a8\"], [0.3333333333333333, \"#9c179e\"], [0.4444444444444444, \"#bd3786\"], [0.5555555555555556, \"#d8576b\"], [0.6666666666666666, \"#ed7953\"], [0.7777777777777778, \"#fb9f3a\"], [0.8888888888888888, \"#fdca26\"], [1.0, \"#f0f921\"]], \"type\": \"histogram2dcontour\"}], \"mesh3d\": [{\"colorbar\": {\"outlinewidth\": 0, \"ticks\": \"\"}, \"type\": \"mesh3d\"}], \"parcoords\": [{\"line\": {\"colorbar\": {\"outlinewidth\": 0, \"ticks\": \"\"}}, \"type\": \"parcoords\"}], \"pie\": [{\"automargin\": true, \"type\": \"pie\"}], \"scatter\": [{\"marker\": {\"colorbar\": {\"outlinewidth\": 0, \"ticks\": \"\"}}, \"type\": \"scatter\"}], \"scatter3d\": [{\"line\": {\"colorbar\": {\"outlinewidth\": 0, \"ticks\": \"\"}}, \"marker\": {\"colorbar\": {\"outlinewidth\": 0, \"ticks\": \"\"}}, \"type\": \"scatter3d\"}], \"scattercarpet\": [{\"marker\": {\"colorbar\": {\"outlinewidth\": 0, \"ticks\": \"\"}}, \"type\": \"scattercarpet\"}], \"scattergeo\": [{\"marker\": {\"colorbar\": {\"outlinewidth\": 0, \"ticks\": \"\"}}, \"type\": \"scattergeo\"}], \"scattergl\": [{\"marker\": {\"colorbar\": {\"outlinewidth\": 0, \"ticks\": \"\"}}, \"type\": \"scattergl\"}], \"scattermapbox\": [{\"marker\": {\"colorbar\": {\"outlinewidth\": 0, \"ticks\": \"\"}}, \"type\": \"scattermapbox\"}], \"scatterpolar\": [{\"marker\": {\"colorbar\": {\"outlinewidth\": 0, \"ticks\": \"\"}}, \"type\": \"scatterpolar\"}], \"scatterpolargl\": [{\"marker\": {\"colorbar\": {\"outlinewidth\": 0, \"ticks\": \"\"}}, \"type\": \"scatterpolargl\"}], \"scatterternary\": [{\"marker\": {\"colorbar\": {\"outlinewidth\": 0, \"ticks\": \"\"}}, \"type\": \"scatterternary\"}], \"surface\": [{\"colorbar\": {\"outlinewidth\": 0, \"ticks\": \"\"}, \"colorscale\": [[0.0, \"#0d0887\"], [0.1111111111111111, \"#46039f\"], [0.2222222222222222, \"#7201a8\"], [0.3333333333333333, \"#9c179e\"], [0.4444444444444444, \"#bd3786\"], [0.5555555555555556, \"#d8576b\"], [0.6666666666666666, \"#ed7953\"], [0.7777777777777778, \"#fb9f3a\"], [0.8888888888888888, \"#fdca26\"], [1.0, \"#f0f921\"]], \"type\": \"surface\"}], \"table\": [{\"cells\": {\"fill\": {\"color\": \"#EBF0F8\"}, \"line\": {\"color\": \"white\"}}, \"header\": {\"fill\": {\"color\": \"#C8D4E3\"}, \"line\": {\"color\": \"white\"}}, \"type\": \"table\"}]}, \"layout\": {\"annotationdefaults\": {\"arrowcolor\": \"#2a3f5f\", \"arrowhead\": 0, \"arrowwidth\": 1}, \"coloraxis\": {\"colorbar\": {\"outlinewidth\": 0, \"ticks\": \"\"}}, \"colorscale\": {\"diverging\": [[0, \"#8e0152\"], [0.1, \"#c51b7d\"], [0.2, \"#de77ae\"], [0.3, \"#f1b6da\"], [0.4, \"#fde0ef\"], [0.5, \"#f7f7f7\"], [0.6, \"#e6f5d0\"], [0.7, \"#b8e186\"], [0.8, \"#7fbc41\"], [0.9, \"#4d9221\"], [1, \"#276419\"]], \"sequential\": [[0.0, \"#0d0887\"], [0.1111111111111111, \"#46039f\"], [0.2222222222222222, \"#7201a8\"], [0.3333333333333333, \"#9c179e\"], [0.4444444444444444, \"#bd3786\"], [0.5555555555555556, \"#d8576b\"], [0.6666666666666666, \"#ed7953\"], [0.7777777777777778, \"#fb9f3a\"], [0.8888888888888888, \"#fdca26\"], [1.0, \"#f0f921\"]], \"sequentialminus\": [[0.0, \"#0d0887\"], [0.1111111111111111, \"#46039f\"], [0.2222222222222222, \"#7201a8\"], [0.3333333333333333, \"#9c179e\"], [0.4444444444444444, \"#bd3786\"], [0.5555555555555556, \"#d8576b\"], [0.6666666666666666, \"#ed7953\"], [0.7777777777777778, \"#fb9f3a\"], [0.8888888888888888, \"#fdca26\"], [1.0, \"#f0f921\"]]}, \"colorway\": [\"#636efa\", \"#EF553B\", \"#00cc96\", \"#ab63fa\", \"#FFA15A\", \"#19d3f3\", \"#FF6692\", \"#B6E880\", \"#FF97FF\", \"#FECB52\"], \"font\": {\"color\": \"#2a3f5f\"}, \"geo\": {\"bgcolor\": \"white\", \"lakecolor\": \"white\", \"landcolor\": \"#E5ECF6\", \"showlakes\": true, \"showland\": true, \"subunitcolor\": \"white\"}, \"hoverlabel\": {\"align\": \"left\"}, \"hovermode\": \"closest\", \"mapbox\": {\"style\": \"light\"}, \"paper_bgcolor\": \"white\", \"plot_bgcolor\": \"#E5ECF6\", \"polar\": {\"angularaxis\": {\"gridcolor\": \"white\", \"linecolor\": \"white\", \"ticks\": \"\"}, \"bgcolor\": \"#E5ECF6\", \"radialaxis\": {\"gridcolor\": \"white\", \"linecolor\": \"white\", \"ticks\": \"\"}}, \"scene\": {\"xaxis\": {\"backgroundcolor\": \"#E5ECF6\", \"gridcolor\": \"white\", \"gridwidth\": 2, \"linecolor\": \"white\", \"showbackground\": true, \"ticks\": \"\", \"zerolinecolor\": \"white\"}, \"yaxis\": {\"backgroundcolor\": \"#E5ECF6\", \"gridcolor\": \"white\", \"gridwidth\": 2, \"linecolor\": \"white\", \"showbackground\": true, \"ticks\": \"\", \"zerolinecolor\": \"white\"}, \"zaxis\": {\"backgroundcolor\": \"#E5ECF6\", \"gridcolor\": \"white\", \"gridwidth\": 2, \"linecolor\": \"white\", \"showbackground\": true, \"ticks\": \"\", \"zerolinecolor\": \"white\"}}, \"shapedefaults\": {\"line\": {\"color\": \"#2a3f5f\"}}, \"ternary\": {\"aaxis\": {\"gridcolor\": \"white\", \"linecolor\": \"white\", \"ticks\": \"\"}, \"baxis\": {\"gridcolor\": \"white\", \"linecolor\": \"white\", \"ticks\": \"\"}, \"bgcolor\": \"#E5ECF6\", \"caxis\": {\"gridcolor\": \"white\", \"linecolor\": \"white\", \"ticks\": \"\"}}, \"title\": {\"x\": 0.05}, \"xaxis\": {\"automargin\": true, \"gridcolor\": \"white\", \"linecolor\": \"white\", \"ticks\": \"\", \"title\": {\"standoff\": 15}, \"zerolinecolor\": \"white\", \"zerolinewidth\": 2}, \"yaxis\": {\"automargin\": true, \"gridcolor\": \"white\", \"linecolor\": \"white\", \"ticks\": \"\", \"title\": {\"standoff\": 15}, \"zerolinecolor\": \"white\", \"zerolinewidth\": 2}}}, \"title\": {\"font\": {\"color\": \"#4D5663\"}}, \"xaxis\": {\"gridcolor\": \"#E1E5ED\", \"showgrid\": true, \"tickfont\": {\"color\": \"#4D5663\"}, \"title\": {\"font\": {\"color\": \"#4D5663\"}, \"text\": \"\"}, \"zerolinecolor\": \"#E1E5ED\"}, \"yaxis\": {\"gridcolor\": \"#E1E5ED\", \"showgrid\": true, \"tickfont\": {\"color\": \"#4D5663\"}, \"title\": {\"font\": {\"color\": \"#4D5663\"}, \"text\": \"\"}, \"zerolinecolor\": \"#E1E5ED\"}},\n",
       "                        {\"showLink\": true, \"linkText\": \"Export to plot.ly\", \"plotlyServerURL\": \"https://plot.ly\", \"responsive\": true}\n",
       "                    ).then(function(){\n",
       "                            \n",
       "var gd = document.getElementById('241a3c15-2ec2-4d0f-a503-79e7ebb50f9c');\n",
       "var x = new MutationObserver(function (mutations, observer) {{\n",
       "        var display = window.getComputedStyle(gd).display;\n",
       "        if (!display || display === 'none') {{\n",
       "            console.log([gd, 'removed!']);\n",
       "            Plotly.purge(gd);\n",
       "            observer.disconnect();\n",
       "        }}\n",
       "}});\n",
       "\n",
       "// Listen for the removal of the full notebook cells\n",
       "var notebookContainer = gd.closest('#notebook-container');\n",
       "if (notebookContainer) {{\n",
       "    x.observe(notebookContainer, {childList: true});\n",
       "}}\n",
       "\n",
       "// Listen for the clearing of the current output cell\n",
       "var outputEl = gd.closest('.output');\n",
       "if (outputEl) {{\n",
       "    x.observe(outputEl, {childList: true});\n",
       "}}\n",
       "\n",
       "                        })\n",
       "                };\n",
       "                });\n",
       "            </script>\n",
       "        </div>"
      ]
     },
     "metadata": {},
     "output_type": "display_data"
    }
   ],
   "source": [
    "df1.iplot(kind='hist')"
   ]
  },
  {
   "cell_type": "markdown",
   "metadata": {},
   "source": [
    "#### Spread Plot"
   ]
  },
  {
   "cell_type": "code",
   "execution_count": 72,
   "metadata": {},
   "outputs": [
    {
     "data": {
      "application/vnd.plotly.v1+json": {
       "config": {
        "linkText": "Export to plot.ly",
        "plotlyServerURL": "https://plot.ly",
        "showLink": true
       },
       "data": [
        {
         "line": {
          "color": "rgba(255, 153, 51, 1.0)",
          "dash": "solid",
          "shape": "linear",
          "width": 1.3
         },
         "mode": "lines",
         "name": "A",
         "text": "",
         "type": "scatter",
         "x": [
          0,
          1,
          2,
          3,
          4,
          5,
          6,
          7,
          8,
          9,
          10,
          11,
          12,
          13,
          14,
          15,
          16,
          17,
          18,
          19,
          20,
          21,
          22,
          23,
          24,
          25,
          26,
          27,
          28,
          29,
          30,
          31,
          32,
          33,
          34,
          35,
          36,
          37,
          38,
          39,
          40,
          41,
          42,
          43,
          44,
          45,
          46,
          47,
          48,
          49,
          50,
          51,
          52,
          53,
          54,
          55,
          56,
          57,
          58,
          59,
          60,
          61,
          62,
          63,
          64,
          65,
          66,
          67,
          68,
          69,
          70,
          71,
          72,
          73,
          74,
          75,
          76,
          77,
          78,
          79,
          80,
          81,
          82,
          83,
          84,
          85,
          86,
          87,
          88,
          89,
          90,
          91,
          92,
          93,
          94,
          95,
          96,
          97,
          98,
          99
         ],
         "y": [
          1.03550403305365,
          1.0884452472323425,
          -0.8238221561084681,
          -1.165409106210997,
          0.06314234757509121,
          0.28403331754428096,
          1.3031142849283257,
          -0.5330006379394974,
          0.9239955720458833,
          -0.3404308950020115,
          0.49705351026645744,
          0.11995406868417582,
          2.8763886700822554,
          0.9193262205319692,
          0.3949826146380539,
          0.1398009361049872,
          -0.2389551947409717,
          1.7631889811772778,
          0.9423296126061489,
          0.6967921196412008,
          -0.5414352907350243,
          -2.036531823296873,
          -0.24433216283716166,
          -0.6095837637269612,
          -0.8657030628068533,
          -1.3290908432224944,
          0.12455980476667877,
          1.0184694806034515,
          -1.183099026560509,
          -1.9117478241953998,
          1.5901480473509917,
          0.036261728019634634,
          -1.4686201375953223,
          0.23850038429899692,
          0.9850551573259738,
          0.2343911390852982,
          1.6218946767897775,
          0.6092426949738955,
          0.4316571530869879,
          -0.3497700989320226,
          0.0630769975004216,
          -1.7473220089492396,
          0.9992032559911043,
          -0.46947268822447513,
          -1.5169497942671446,
          -0.83250174584291,
          -0.4968973159748692,
          -0.961293262106367,
          1.57489946216533,
          0.12352962553924367,
          1.1956965136368198,
          0.2622356680889761,
          -1.3592917794393795,
          -1.3888127276879452,
          -0.4192232294633762,
          0.2162221432499591,
          2.3852910763547004,
          -1.3123647706286883,
          0.2612934369110763,
          0.8613442539868962,
          -2.199294295056723,
          0.586695375572083,
          -0.49651894860239854,
          -0.06531819539664627,
          -1.8735956634836917,
          -0.922282193523706,
          -0.1390551342534496,
          -2.07229926650626,
          -0.3136402802450524,
          1.2721102467999612,
          1.2212916123327877,
          0.4263336106747266,
          -1.3278513626090733,
          -1.4901785369107048,
          0.3370979010819831,
          1.1609741420348372,
          -1.4052615141974583,
          -1.675537604560082,
          -0.8470611330808606,
          0.846711142348439,
          1.6207509512727276,
          0.9628774645331151,
          0.08415610063834954,
          2.0515464720858776,
          0.3989174309260779,
          0.5284312945429028,
          1.316248220757381,
          0.07911639704636868,
          0.5625901301013624,
          0.10809718712260306,
          0.05558043354838223,
          1.653387809021809,
          0.19613717511683407,
          -1.0636425270979382,
          -2.3361375217663913,
          1.170649467749388,
          -1.1175819973708243,
          -0.9877716720625392,
          1.1344780752246988,
          2.753133920603948
         ]
        },
        {
         "line": {
          "color": "rgba(55, 128, 191, 1.0)",
          "dash": "solid",
          "shape": "linear",
          "width": 1.3
         },
         "mode": "lines",
         "name": "B",
         "text": "",
         "type": "scatter",
         "x": [
          0,
          1,
          2,
          3,
          4,
          5,
          6,
          7,
          8,
          9,
          10,
          11,
          12,
          13,
          14,
          15,
          16,
          17,
          18,
          19,
          20,
          21,
          22,
          23,
          24,
          25,
          26,
          27,
          28,
          29,
          30,
          31,
          32,
          33,
          34,
          35,
          36,
          37,
          38,
          39,
          40,
          41,
          42,
          43,
          44,
          45,
          46,
          47,
          48,
          49,
          50,
          51,
          52,
          53,
          54,
          55,
          56,
          57,
          58,
          59,
          60,
          61,
          62,
          63,
          64,
          65,
          66,
          67,
          68,
          69,
          70,
          71,
          72,
          73,
          74,
          75,
          76,
          77,
          78,
          79,
          80,
          81,
          82,
          83,
          84,
          85,
          86,
          87,
          88,
          89,
          90,
          91,
          92,
          93,
          94,
          95,
          96,
          97,
          98,
          99
         ],
         "y": [
          1.8960119593872942,
          -0.9013887599486713,
          -1.3179328495735878,
          0.5093309293244226,
          0.0686381546170349,
          -2.0476722168076367,
          -1.2434170473032558,
          0.3917194929936394,
          0.08754198693204741,
          1.8742193519276948,
          -0.34000427728927657,
          0.5808930813656673,
          -0.9185932288750916,
          -0.4370652175550562,
          0.1615291650092262,
          -0.5573801868161586,
          0.20872127272273155,
          1.5038452901928197,
          0.3810687629989386,
          0.7531014416401095,
          0.47515844401649343,
          -1.3117037828849436,
          -1.1128339786035324,
          1.029572365045059,
          -0.6998734664959823,
          0.38491468084915426,
          -0.851322628406908,
          0.20712468604181208,
          -1.0443583025142498,
          -0.5585025465631798,
          1.6133603060244144,
          0.6650436363899097,
          0.43497836743006446,
          -0.3135901937525547,
          -1.035819537740092,
          0.16500645542112155,
          -0.9797413668441683,
          1.1709202821872366,
          -0.3720340472186027,
          1.2875124895895487,
          -0.5342416459509143,
          0.8652415097498334,
          1.5787699931065844,
          0.801559529330312,
          1.808507607789963,
          0.8574514261933185,
          -2.4147665891905423,
          1.7264760801920465,
          -0.06502278632303127,
          0.3525427456543032,
          0.012552047667873876,
          -0.6432254433376144,
          -0.4677216910558781,
          0.3088421925727908,
          -0.24516716396534866,
          -1.0028937338811257,
          -0.11281611748353859,
          -0.21130491670513085,
          1.1809298727624613,
          -1.3801349160393888,
          0.6649025414857689,
          0.07020479167028694,
          1.740029943416659,
          0.11709800890149423,
          -0.5814226348171162,
          -1.0019165405279373,
          -0.21731413282882847,
          0.32370671894003944,
          0.9948776149290441,
          1.4343455034837274,
          1.230642479260398,
          0.4407683249017293,
          1.1008062320678353,
          -0.5268935998638822,
          -0.19239595695956105,
          0.6351734409776926,
          0.694340808578521,
          -0.5603554691124976,
          -1.6720568576003965,
          2.1469145635682256,
          2.114961913817211,
          0.6233672076422256,
          -0.3462142582361224,
          -2.4139182337762866,
          -2.126184965333488,
          0.6670682066566681,
          0.5925052023824063,
          -0.2640307238259685,
          0.98890415493091,
          0.31990550123503214,
          1.116614817349527,
          0.6146447422037827,
          0.23811295524611592,
          -0.7621631571903236,
          0.0005562339163062913,
          0.3056800154965565,
          -0.7646734494718713,
          0.7956242619405267,
          1.1363915737491685,
          0.5870292601155663
         ]
        },
        {
         "connectgaps": false,
         "fill": "tozeroy",
         "line": {
          "color": "green",
          "dash": "solid",
          "shape": "linear",
          "width": 0.5
         },
         "mode": "lines",
         "name": "Spread",
         "showlegend": false,
         "type": "scatter",
         "x": [
          0,
          1,
          2,
          3,
          4,
          5,
          6,
          7,
          8,
          9,
          10,
          11,
          12,
          13,
          14,
          15,
          16,
          17,
          18,
          19,
          20,
          21,
          22,
          23,
          24,
          25,
          26,
          27,
          28,
          29,
          30,
          31,
          32,
          33,
          34,
          35,
          36,
          37,
          38,
          39,
          40,
          41,
          42,
          43,
          44,
          45,
          46,
          47,
          48,
          49,
          50,
          51,
          52,
          53,
          54,
          55,
          56,
          57,
          58,
          59,
          60,
          61,
          62,
          63,
          64,
          65,
          66,
          67,
          68,
          69,
          70,
          71,
          72,
          73,
          74,
          75,
          76,
          77,
          78,
          79,
          80,
          81,
          82,
          83,
          84,
          85,
          86,
          87,
          88,
          89,
          90,
          91,
          92,
          93,
          94,
          95,
          96,
          97,
          98,
          99
         ],
         "xaxis": "x2",
         "y": [
          "",
          1.9898340071810137,
          0.4941106934651197,
          "",
          "",
          2.3317055343519177,
          2.5465313322315817,
          "",
          0.8364535851138359,
          "",
          0.837057787555734,
          "",
          3.794981898957347,
          1.3563914380870254,
          0.2334534496288277,
          0.6971811229211459,
          "",
          0.2593436909844582,
          0.5612608496072102,
          "",
          "",
          "",
          0.8685018157663708,
          "",
          "",
          "",
          0.9758824331735867,
          0.8113447945616394,
          "",
          "",
          "",
          "",
          "",
          0.5520905780515516,
          2.020874695066066,
          0.06938468366417666,
          2.601636043633946,
          "",
          0.8036912003055906,
          "",
          0.5973186434513359,
          "",
          "",
          "",
          "",
          "",
          1.9178692732156732,
          "",
          1.6399222484883613,
          "",
          1.183144465968946,
          0.9054611114265905,
          "",
          "",
          "",
          1.2191158771310848,
          2.498107193838239,
          "",
          "",
          2.241479170026285,
          "",
          0.516490583901796,
          "",
          "",
          "",
          0.07963434700423133,
          0.07825899857537888,
          "",
          "",
          "",
          "",
          "",
          "",
          "",
          0.5294938580415441,
          0.5258007010571446,
          "",
          "",
          0.8249957245195358,
          "",
          "",
          0.33951025689088943,
          0.43037035887447195,
          4.465464705862164,
          2.525102396259566,
          "",
          0.7237430183749746,
          0.3431471208723372,
          "",
          "",
          "",
          1.0387430668180264,
          "",
          "",
          "",
          0.8649694522528315,
          "",
          "",
          "",
          2.1661046604883816
         ],
         "yaxis": "y2"
        },
        {
         "connectgaps": false,
         "fill": "tozeroy",
         "line": {
          "color": "red",
          "dash": "solid",
          "shape": "linear",
          "width": 0.5
         },
         "mode": "lines",
         "name": "Spread",
         "showlegend": false,
         "type": "scatter",
         "x": [
          0,
          1,
          2,
          3,
          4,
          5,
          6,
          7,
          8,
          9,
          10,
          11,
          12,
          13,
          14,
          15,
          16,
          17,
          18,
          19,
          20,
          21,
          22,
          23,
          24,
          25,
          26,
          27,
          28,
          29,
          30,
          31,
          32,
          33,
          34,
          35,
          36,
          37,
          38,
          39,
          40,
          41,
          42,
          43,
          44,
          45,
          46,
          47,
          48,
          49,
          50,
          51,
          52,
          53,
          54,
          55,
          56,
          57,
          58,
          59,
          60,
          61,
          62,
          63,
          64,
          65,
          66,
          67,
          68,
          69,
          70,
          71,
          72,
          73,
          74,
          75,
          76,
          77,
          78,
          79,
          80,
          81,
          82,
          83,
          84,
          85,
          86,
          87,
          88,
          89,
          90,
          91,
          92,
          93,
          94,
          95,
          96,
          97,
          98,
          99
         ],
         "xaxis": "x2",
         "y": [
          -0.8605079263336441,
          "",
          "",
          -1.6747400355354196,
          -0.00549580704194369,
          "",
          "",
          -0.9247201309331368,
          "",
          -2.2146502469297062,
          "",
          -0.4609390126814915,
          "",
          "",
          "",
          "",
          -0.44767646746370326,
          "",
          "",
          -0.0563093219989087,
          -1.0165937347515177,
          -0.7248280404119294,
          "",
          -1.6391561287720202,
          -0.16582959631087102,
          -1.7140055240716485,
          "",
          "",
          -0.13874072404625926,
          -1.3532452776322201,
          -0.023212258673422692,
          -0.628781908370275,
          -1.9035985050253867,
          "",
          "",
          "",
          "",
          -0.5616775872133412,
          "",
          -1.6372825885215714,
          "",
          -2.6125635186990728,
          -0.5795667371154801,
          -1.2710322175547872,
          -3.3254574020571077,
          -1.6899531720362284,
          "",
          -2.6877693422984135,
          "",
          -0.22901312011505953,
          "",
          "",
          -0.8915700883835014,
          -1.697654920260736,
          -0.17405606549802755,
          "",
          "",
          -1.1010598539235574,
          -0.919636435851385,
          "",
          -2.864196836542492,
          "",
          -2.2365488920190577,
          -0.18241620429814048,
          -1.2921730286665754,
          "",
          "",
          -2.3960059854462994,
          -1.3085178951740966,
          -0.16223525668376615,
          -0.009350866927610335,
          -0.01443471422700271,
          -2.428657594676909,
          -0.9632849370468226,
          "",
          "",
          -2.0996023227759792,
          -1.1151821354475846,
          "",
          -1.3002034212197866,
          -0.49421096254448327,
          "",
          "",
          "",
          "",
          -0.13863691211376528,
          "",
          "",
          -0.4263140248295476,
          -0.21180831411242906,
          -1.0610343838011447,
          "",
          -0.04197578012928185,
          -0.3014793699076146,
          -2.3366937556826977,
          "",
          -0.352908547898953,
          -1.783395934003066,
          -0.0019134985244697589,
          ""
         ],
         "yaxis": "y2"
        }
       ],
       "layout": {
        "hovermode": "x",
        "legend": {
         "bgcolor": "#F5F6F9",
         "font": {
          "color": "#4D5663"
         }
        },
        "paper_bgcolor": "#F5F6F9",
        "plot_bgcolor": "#F5F6F9",
        "template": {
         "data": {
          "bar": [
           {
            "error_x": {
             "color": "#2a3f5f"
            },
            "error_y": {
             "color": "#2a3f5f"
            },
            "marker": {
             "line": {
              "color": "#E5ECF6",
              "width": 0.5
             }
            },
            "type": "bar"
           }
          ],
          "barpolar": [
           {
            "marker": {
             "line": {
              "color": "#E5ECF6",
              "width": 0.5
             }
            },
            "type": "barpolar"
           }
          ],
          "carpet": [
           {
            "aaxis": {
             "endlinecolor": "#2a3f5f",
             "gridcolor": "white",
             "linecolor": "white",
             "minorgridcolor": "white",
             "startlinecolor": "#2a3f5f"
            },
            "baxis": {
             "endlinecolor": "#2a3f5f",
             "gridcolor": "white",
             "linecolor": "white",
             "minorgridcolor": "white",
             "startlinecolor": "#2a3f5f"
            },
            "type": "carpet"
           }
          ],
          "choropleth": [
           {
            "colorbar": {
             "outlinewidth": 0,
             "ticks": ""
            },
            "type": "choropleth"
           }
          ],
          "contour": [
           {
            "colorbar": {
             "outlinewidth": 0,
             "ticks": ""
            },
            "colorscale": [
             [
              0,
              "#0d0887"
             ],
             [
              0.1111111111111111,
              "#46039f"
             ],
             [
              0.2222222222222222,
              "#7201a8"
             ],
             [
              0.3333333333333333,
              "#9c179e"
             ],
             [
              0.4444444444444444,
              "#bd3786"
             ],
             [
              0.5555555555555556,
              "#d8576b"
             ],
             [
              0.6666666666666666,
              "#ed7953"
             ],
             [
              0.7777777777777778,
              "#fb9f3a"
             ],
             [
              0.8888888888888888,
              "#fdca26"
             ],
             [
              1,
              "#f0f921"
             ]
            ],
            "type": "contour"
           }
          ],
          "contourcarpet": [
           {
            "colorbar": {
             "outlinewidth": 0,
             "ticks": ""
            },
            "type": "contourcarpet"
           }
          ],
          "heatmap": [
           {
            "colorbar": {
             "outlinewidth": 0,
             "ticks": ""
            },
            "colorscale": [
             [
              0,
              "#0d0887"
             ],
             [
              0.1111111111111111,
              "#46039f"
             ],
             [
              0.2222222222222222,
              "#7201a8"
             ],
             [
              0.3333333333333333,
              "#9c179e"
             ],
             [
              0.4444444444444444,
              "#bd3786"
             ],
             [
              0.5555555555555556,
              "#d8576b"
             ],
             [
              0.6666666666666666,
              "#ed7953"
             ],
             [
              0.7777777777777778,
              "#fb9f3a"
             ],
             [
              0.8888888888888888,
              "#fdca26"
             ],
             [
              1,
              "#f0f921"
             ]
            ],
            "type": "heatmap"
           }
          ],
          "heatmapgl": [
           {
            "colorbar": {
             "outlinewidth": 0,
             "ticks": ""
            },
            "colorscale": [
             [
              0,
              "#0d0887"
             ],
             [
              0.1111111111111111,
              "#46039f"
             ],
             [
              0.2222222222222222,
              "#7201a8"
             ],
             [
              0.3333333333333333,
              "#9c179e"
             ],
             [
              0.4444444444444444,
              "#bd3786"
             ],
             [
              0.5555555555555556,
              "#d8576b"
             ],
             [
              0.6666666666666666,
              "#ed7953"
             ],
             [
              0.7777777777777778,
              "#fb9f3a"
             ],
             [
              0.8888888888888888,
              "#fdca26"
             ],
             [
              1,
              "#f0f921"
             ]
            ],
            "type": "heatmapgl"
           }
          ],
          "histogram": [
           {
            "marker": {
             "colorbar": {
              "outlinewidth": 0,
              "ticks": ""
             }
            },
            "type": "histogram"
           }
          ],
          "histogram2d": [
           {
            "colorbar": {
             "outlinewidth": 0,
             "ticks": ""
            },
            "colorscale": [
             [
              0,
              "#0d0887"
             ],
             [
              0.1111111111111111,
              "#46039f"
             ],
             [
              0.2222222222222222,
              "#7201a8"
             ],
             [
              0.3333333333333333,
              "#9c179e"
             ],
             [
              0.4444444444444444,
              "#bd3786"
             ],
             [
              0.5555555555555556,
              "#d8576b"
             ],
             [
              0.6666666666666666,
              "#ed7953"
             ],
             [
              0.7777777777777778,
              "#fb9f3a"
             ],
             [
              0.8888888888888888,
              "#fdca26"
             ],
             [
              1,
              "#f0f921"
             ]
            ],
            "type": "histogram2d"
           }
          ],
          "histogram2dcontour": [
           {
            "colorbar": {
             "outlinewidth": 0,
             "ticks": ""
            },
            "colorscale": [
             [
              0,
              "#0d0887"
             ],
             [
              0.1111111111111111,
              "#46039f"
             ],
             [
              0.2222222222222222,
              "#7201a8"
             ],
             [
              0.3333333333333333,
              "#9c179e"
             ],
             [
              0.4444444444444444,
              "#bd3786"
             ],
             [
              0.5555555555555556,
              "#d8576b"
             ],
             [
              0.6666666666666666,
              "#ed7953"
             ],
             [
              0.7777777777777778,
              "#fb9f3a"
             ],
             [
              0.8888888888888888,
              "#fdca26"
             ],
             [
              1,
              "#f0f921"
             ]
            ],
            "type": "histogram2dcontour"
           }
          ],
          "mesh3d": [
           {
            "colorbar": {
             "outlinewidth": 0,
             "ticks": ""
            },
            "type": "mesh3d"
           }
          ],
          "parcoords": [
           {
            "line": {
             "colorbar": {
              "outlinewidth": 0,
              "ticks": ""
             }
            },
            "type": "parcoords"
           }
          ],
          "pie": [
           {
            "automargin": true,
            "type": "pie"
           }
          ],
          "scatter": [
           {
            "marker": {
             "colorbar": {
              "outlinewidth": 0,
              "ticks": ""
             }
            },
            "type": "scatter"
           }
          ],
          "scatter3d": [
           {
            "line": {
             "colorbar": {
              "outlinewidth": 0,
              "ticks": ""
             }
            },
            "marker": {
             "colorbar": {
              "outlinewidth": 0,
              "ticks": ""
             }
            },
            "type": "scatter3d"
           }
          ],
          "scattercarpet": [
           {
            "marker": {
             "colorbar": {
              "outlinewidth": 0,
              "ticks": ""
             }
            },
            "type": "scattercarpet"
           }
          ],
          "scattergeo": [
           {
            "marker": {
             "colorbar": {
              "outlinewidth": 0,
              "ticks": ""
             }
            },
            "type": "scattergeo"
           }
          ],
          "scattergl": [
           {
            "marker": {
             "colorbar": {
              "outlinewidth": 0,
              "ticks": ""
             }
            },
            "type": "scattergl"
           }
          ],
          "scattermapbox": [
           {
            "marker": {
             "colorbar": {
              "outlinewidth": 0,
              "ticks": ""
             }
            },
            "type": "scattermapbox"
           }
          ],
          "scatterpolar": [
           {
            "marker": {
             "colorbar": {
              "outlinewidth": 0,
              "ticks": ""
             }
            },
            "type": "scatterpolar"
           }
          ],
          "scatterpolargl": [
           {
            "marker": {
             "colorbar": {
              "outlinewidth": 0,
              "ticks": ""
             }
            },
            "type": "scatterpolargl"
           }
          ],
          "scatterternary": [
           {
            "marker": {
             "colorbar": {
              "outlinewidth": 0,
              "ticks": ""
             }
            },
            "type": "scatterternary"
           }
          ],
          "surface": [
           {
            "colorbar": {
             "outlinewidth": 0,
             "ticks": ""
            },
            "colorscale": [
             [
              0,
              "#0d0887"
             ],
             [
              0.1111111111111111,
              "#46039f"
             ],
             [
              0.2222222222222222,
              "#7201a8"
             ],
             [
              0.3333333333333333,
              "#9c179e"
             ],
             [
              0.4444444444444444,
              "#bd3786"
             ],
             [
              0.5555555555555556,
              "#d8576b"
             ],
             [
              0.6666666666666666,
              "#ed7953"
             ],
             [
              0.7777777777777778,
              "#fb9f3a"
             ],
             [
              0.8888888888888888,
              "#fdca26"
             ],
             [
              1,
              "#f0f921"
             ]
            ],
            "type": "surface"
           }
          ],
          "table": [
           {
            "cells": {
             "fill": {
              "color": "#EBF0F8"
             },
             "line": {
              "color": "white"
             }
            },
            "header": {
             "fill": {
              "color": "#C8D4E3"
             },
             "line": {
              "color": "white"
             }
            },
            "type": "table"
           }
          ]
         },
         "layout": {
          "annotationdefaults": {
           "arrowcolor": "#2a3f5f",
           "arrowhead": 0,
           "arrowwidth": 1
          },
          "coloraxis": {
           "colorbar": {
            "outlinewidth": 0,
            "ticks": ""
           }
          },
          "colorscale": {
           "diverging": [
            [
             0,
             "#8e0152"
            ],
            [
             0.1,
             "#c51b7d"
            ],
            [
             0.2,
             "#de77ae"
            ],
            [
             0.3,
             "#f1b6da"
            ],
            [
             0.4,
             "#fde0ef"
            ],
            [
             0.5,
             "#f7f7f7"
            ],
            [
             0.6,
             "#e6f5d0"
            ],
            [
             0.7,
             "#b8e186"
            ],
            [
             0.8,
             "#7fbc41"
            ],
            [
             0.9,
             "#4d9221"
            ],
            [
             1,
             "#276419"
            ]
           ],
           "sequential": [
            [
             0,
             "#0d0887"
            ],
            [
             0.1111111111111111,
             "#46039f"
            ],
            [
             0.2222222222222222,
             "#7201a8"
            ],
            [
             0.3333333333333333,
             "#9c179e"
            ],
            [
             0.4444444444444444,
             "#bd3786"
            ],
            [
             0.5555555555555556,
             "#d8576b"
            ],
            [
             0.6666666666666666,
             "#ed7953"
            ],
            [
             0.7777777777777778,
             "#fb9f3a"
            ],
            [
             0.8888888888888888,
             "#fdca26"
            ],
            [
             1,
             "#f0f921"
            ]
           ],
           "sequentialminus": [
            [
             0,
             "#0d0887"
            ],
            [
             0.1111111111111111,
             "#46039f"
            ],
            [
             0.2222222222222222,
             "#7201a8"
            ],
            [
             0.3333333333333333,
             "#9c179e"
            ],
            [
             0.4444444444444444,
             "#bd3786"
            ],
            [
             0.5555555555555556,
             "#d8576b"
            ],
            [
             0.6666666666666666,
             "#ed7953"
            ],
            [
             0.7777777777777778,
             "#fb9f3a"
            ],
            [
             0.8888888888888888,
             "#fdca26"
            ],
            [
             1,
             "#f0f921"
            ]
           ]
          },
          "colorway": [
           "#636efa",
           "#EF553B",
           "#00cc96",
           "#ab63fa",
           "#FFA15A",
           "#19d3f3",
           "#FF6692",
           "#B6E880",
           "#FF97FF",
           "#FECB52"
          ],
          "font": {
           "color": "#2a3f5f"
          },
          "geo": {
           "bgcolor": "white",
           "lakecolor": "white",
           "landcolor": "#E5ECF6",
           "showlakes": true,
           "showland": true,
           "subunitcolor": "white"
          },
          "hoverlabel": {
           "align": "left"
          },
          "hovermode": "closest",
          "mapbox": {
           "style": "light"
          },
          "paper_bgcolor": "white",
          "plot_bgcolor": "#E5ECF6",
          "polar": {
           "angularaxis": {
            "gridcolor": "white",
            "linecolor": "white",
            "ticks": ""
           },
           "bgcolor": "#E5ECF6",
           "radialaxis": {
            "gridcolor": "white",
            "linecolor": "white",
            "ticks": ""
           }
          },
          "scene": {
           "xaxis": {
            "backgroundcolor": "#E5ECF6",
            "gridcolor": "white",
            "gridwidth": 2,
            "linecolor": "white",
            "showbackground": true,
            "ticks": "",
            "zerolinecolor": "white"
           },
           "yaxis": {
            "backgroundcolor": "#E5ECF6",
            "gridcolor": "white",
            "gridwidth": 2,
            "linecolor": "white",
            "showbackground": true,
            "ticks": "",
            "zerolinecolor": "white"
           },
           "zaxis": {
            "backgroundcolor": "#E5ECF6",
            "gridcolor": "white",
            "gridwidth": 2,
            "linecolor": "white",
            "showbackground": true,
            "ticks": "",
            "zerolinecolor": "white"
           }
          },
          "shapedefaults": {
           "line": {
            "color": "#2a3f5f"
           }
          },
          "ternary": {
           "aaxis": {
            "gridcolor": "white",
            "linecolor": "white",
            "ticks": ""
           },
           "baxis": {
            "gridcolor": "white",
            "linecolor": "white",
            "ticks": ""
           },
           "bgcolor": "#E5ECF6",
           "caxis": {
            "gridcolor": "white",
            "linecolor": "white",
            "ticks": ""
           }
          },
          "title": {
           "x": 0.05
          },
          "xaxis": {
           "automargin": true,
           "gridcolor": "white",
           "linecolor": "white",
           "ticks": "",
           "title": {
            "standoff": 15
           },
           "zerolinecolor": "white",
           "zerolinewidth": 2
          },
          "yaxis": {
           "automargin": true,
           "gridcolor": "white",
           "linecolor": "white",
           "ticks": "",
           "title": {
            "standoff": 15
           },
           "zerolinecolor": "white",
           "zerolinewidth": 2
          }
         }
        },
        "title": {
         "font": {
          "color": "#4D5663"
         }
        },
        "xaxis": {
         "gridcolor": "#E1E5ED",
         "showgrid": true,
         "tickfont": {
          "color": "#4D5663"
         },
         "title": {
          "font": {
           "color": "#4D5663"
          },
          "text": ""
         },
         "zerolinecolor": "#E1E5ED"
        },
        "xaxis2": {
         "anchor": "y2",
         "gridcolor": "#E1E5ED",
         "showgrid": true,
         "showticklabels": false,
         "tickfont": {
          "color": "#4D5663"
         },
         "title": {
          "font": {
           "color": "#4D5663"
          },
          "text": ""
         },
         "zerolinecolor": "#E1E5ED"
        },
        "yaxis": {
         "domain": [
          0.3,
          1
         ],
         "gridcolor": "#E1E5ED",
         "showgrid": true,
         "tickfont": {
          "color": "#4D5663"
         },
         "title": {
          "font": {
           "color": "#4D5663"
          },
          "text": ""
         },
         "zerolinecolor": "#E1E5ED"
        },
        "yaxis2": {
         "domain": [
          0,
          0.25
         ],
         "gridcolor": "#E1E5ED",
         "showgrid": true,
         "tickfont": {
          "color": "#4D5663"
         },
         "title": {
          "font": {
           "color": "#4D5663"
          },
          "text": "Spread"
         },
         "zerolinecolor": "#E1E5ED"
        }
       }
      },
      "text/html": [
       "<div>\n",
       "        \n",
       "        \n",
       "            <div id=\"66e1eb4e-98d8-44c8-920a-e42f010d11bc\" class=\"plotly-graph-div\" style=\"height:525px; width:100%;\"></div>\n",
       "            <script type=\"text/javascript\">\n",
       "                require([\"plotly\"], function(Plotly) {\n",
       "                    window.PLOTLYENV=window.PLOTLYENV || {};\n",
       "                    window.PLOTLYENV.BASE_URL='https://plot.ly';\n",
       "                    \n",
       "                if (document.getElementById(\"66e1eb4e-98d8-44c8-920a-e42f010d11bc\")) {\n",
       "                    Plotly.newPlot(\n",
       "                        '66e1eb4e-98d8-44c8-920a-e42f010d11bc',\n",
       "                        [{\"line\": {\"color\": \"rgba(255, 153, 51, 1.0)\", \"dash\": \"solid\", \"shape\": \"linear\", \"width\": 1.3}, \"mode\": \"lines\", \"name\": \"A\", \"text\": \"\", \"type\": \"scatter\", \"x\": [0, 1, 2, 3, 4, 5, 6, 7, 8, 9, 10, 11, 12, 13, 14, 15, 16, 17, 18, 19, 20, 21, 22, 23, 24, 25, 26, 27, 28, 29, 30, 31, 32, 33, 34, 35, 36, 37, 38, 39, 40, 41, 42, 43, 44, 45, 46, 47, 48, 49, 50, 51, 52, 53, 54, 55, 56, 57, 58, 59, 60, 61, 62, 63, 64, 65, 66, 67, 68, 69, 70, 71, 72, 73, 74, 75, 76, 77, 78, 79, 80, 81, 82, 83, 84, 85, 86, 87, 88, 89, 90, 91, 92, 93, 94, 95, 96, 97, 98, 99], \"y\": [1.03550403305365, 1.0884452472323425, -0.8238221561084681, -1.165409106210997, 0.06314234757509121, 0.28403331754428096, 1.3031142849283257, -0.5330006379394974, 0.9239955720458833, -0.3404308950020115, 0.49705351026645744, 0.11995406868417582, 2.8763886700822554, 0.9193262205319692, 0.3949826146380539, 0.1398009361049872, -0.2389551947409717, 1.7631889811772778, 0.9423296126061489, 0.6967921196412008, -0.5414352907350243, -2.036531823296873, -0.24433216283716166, -0.6095837637269612, -0.8657030628068533, -1.3290908432224944, 0.12455980476667877, 1.0184694806034515, -1.183099026560509, -1.9117478241953998, 1.5901480473509917, 0.036261728019634634, -1.4686201375953223, 0.23850038429899692, 0.9850551573259738, 0.2343911390852982, 1.6218946767897775, 0.6092426949738955, 0.4316571530869879, -0.3497700989320226, 0.0630769975004216, -1.7473220089492396, 0.9992032559911043, -0.46947268822447513, -1.5169497942671446, -0.83250174584291, -0.4968973159748692, -0.961293262106367, 1.57489946216533, 0.12352962553924367, 1.1956965136368198, 0.2622356680889761, -1.3592917794393795, -1.3888127276879452, -0.4192232294633762, 0.2162221432499591, 2.3852910763547004, -1.3123647706286883, 0.2612934369110763, 0.8613442539868962, -2.199294295056723, 0.586695375572083, -0.49651894860239854, -0.06531819539664627, -1.8735956634836917, -0.922282193523706, -0.1390551342534496, -2.07229926650626, -0.3136402802450524, 1.2721102467999612, 1.2212916123327877, 0.4263336106747266, -1.3278513626090733, -1.4901785369107048, 0.3370979010819831, 1.1609741420348372, -1.4052615141974583, -1.675537604560082, -0.8470611330808606, 0.846711142348439, 1.6207509512727276, 0.9628774645331151, 0.08415610063834954, 2.0515464720858776, 0.3989174309260779, 0.5284312945429028, 1.316248220757381, 0.07911639704636868, 0.5625901301013624, 0.10809718712260306, 0.05558043354838223, 1.653387809021809, 0.19613717511683407, -1.0636425270979382, -2.3361375217663913, 1.170649467749388, -1.1175819973708243, -0.9877716720625392, 1.1344780752246988, 2.753133920603948]}, {\"line\": {\"color\": \"rgba(55, 128, 191, 1.0)\", \"dash\": \"solid\", \"shape\": \"linear\", \"width\": 1.3}, \"mode\": \"lines\", \"name\": \"B\", \"text\": \"\", \"type\": \"scatter\", \"x\": [0, 1, 2, 3, 4, 5, 6, 7, 8, 9, 10, 11, 12, 13, 14, 15, 16, 17, 18, 19, 20, 21, 22, 23, 24, 25, 26, 27, 28, 29, 30, 31, 32, 33, 34, 35, 36, 37, 38, 39, 40, 41, 42, 43, 44, 45, 46, 47, 48, 49, 50, 51, 52, 53, 54, 55, 56, 57, 58, 59, 60, 61, 62, 63, 64, 65, 66, 67, 68, 69, 70, 71, 72, 73, 74, 75, 76, 77, 78, 79, 80, 81, 82, 83, 84, 85, 86, 87, 88, 89, 90, 91, 92, 93, 94, 95, 96, 97, 98, 99], \"y\": [1.8960119593872942, -0.9013887599486713, -1.3179328495735878, 0.5093309293244226, 0.0686381546170349, -2.0476722168076367, -1.2434170473032558, 0.3917194929936394, 0.08754198693204741, 1.8742193519276948, -0.34000427728927657, 0.5808930813656673, -0.9185932288750916, -0.4370652175550562, 0.1615291650092262, -0.5573801868161586, 0.20872127272273155, 1.5038452901928197, 0.3810687629989386, 0.7531014416401095, 0.47515844401649343, -1.3117037828849436, -1.1128339786035324, 1.029572365045059, -0.6998734664959823, 0.38491468084915426, -0.851322628406908, 0.20712468604181208, -1.0443583025142498, -0.5585025465631798, 1.6133603060244144, 0.6650436363899097, 0.43497836743006446, -0.3135901937525547, -1.035819537740092, 0.16500645542112155, -0.9797413668441683, 1.1709202821872366, -0.3720340472186027, 1.2875124895895487, -0.5342416459509143, 0.8652415097498334, 1.5787699931065844, 0.801559529330312, 1.808507607789963, 0.8574514261933185, -2.4147665891905423, 1.7264760801920465, -0.06502278632303127, 0.3525427456543032, 0.012552047667873876, -0.6432254433376144, -0.4677216910558781, 0.3088421925727908, -0.24516716396534866, -1.0028937338811257, -0.11281611748353859, -0.21130491670513085, 1.1809298727624613, -1.3801349160393888, 0.6649025414857689, 0.07020479167028694, 1.740029943416659, 0.11709800890149423, -0.5814226348171162, -1.0019165405279373, -0.21731413282882847, 0.32370671894003944, 0.9948776149290441, 1.4343455034837274, 1.230642479260398, 0.4407683249017293, 1.1008062320678353, -0.5268935998638822, -0.19239595695956105, 0.6351734409776926, 0.694340808578521, -0.5603554691124976, -1.6720568576003965, 2.1469145635682256, 2.114961913817211, 0.6233672076422256, -0.3462142582361224, -2.4139182337762866, -2.126184965333488, 0.6670682066566681, 0.5925052023824063, -0.2640307238259685, 0.98890415493091, 0.31990550123503214, 1.116614817349527, 0.6146447422037827, 0.23811295524611592, -0.7621631571903236, 0.0005562339163062913, 0.3056800154965565, -0.7646734494718713, 0.7956242619405267, 1.1363915737491685, 0.5870292601155663]}, {\"connectgaps\": false, \"fill\": \"tozeroy\", \"line\": {\"color\": \"green\", \"dash\": \"solid\", \"shape\": \"linear\", \"width\": 0.5}, \"mode\": \"lines\", \"name\": \"Spread\", \"showlegend\": false, \"type\": \"scatter\", \"x\": [0, 1, 2, 3, 4, 5, 6, 7, 8, 9, 10, 11, 12, 13, 14, 15, 16, 17, 18, 19, 20, 21, 22, 23, 24, 25, 26, 27, 28, 29, 30, 31, 32, 33, 34, 35, 36, 37, 38, 39, 40, 41, 42, 43, 44, 45, 46, 47, 48, 49, 50, 51, 52, 53, 54, 55, 56, 57, 58, 59, 60, 61, 62, 63, 64, 65, 66, 67, 68, 69, 70, 71, 72, 73, 74, 75, 76, 77, 78, 79, 80, 81, 82, 83, 84, 85, 86, 87, 88, 89, 90, 91, 92, 93, 94, 95, 96, 97, 98, 99], \"xaxis\": \"x2\", \"y\": [\"\", 1.9898340071810137, 0.4941106934651197, \"\", \"\", 2.3317055343519177, 2.5465313322315817, \"\", 0.8364535851138359, \"\", 0.837057787555734, \"\", 3.794981898957347, 1.3563914380870254, 0.2334534496288277, 0.6971811229211459, \"\", 0.2593436909844582, 0.5612608496072102, \"\", \"\", \"\", 0.8685018157663708, \"\", \"\", \"\", 0.9758824331735867, 0.8113447945616394, \"\", \"\", \"\", \"\", \"\", 0.5520905780515516, 2.020874695066066, 0.06938468366417666, 2.601636043633946, \"\", 0.8036912003055906, \"\", 0.5973186434513359, \"\", \"\", \"\", \"\", \"\", 1.9178692732156732, \"\", 1.6399222484883613, \"\", 1.183144465968946, 0.9054611114265905, \"\", \"\", \"\", 1.2191158771310848, 2.498107193838239, \"\", \"\", 2.241479170026285, \"\", 0.516490583901796, \"\", \"\", \"\", 0.07963434700423133, 0.07825899857537888, \"\", \"\", \"\", \"\", \"\", \"\", \"\", 0.5294938580415441, 0.5258007010571446, \"\", \"\", 0.8249957245195358, \"\", \"\", 0.33951025689088943, 0.43037035887447195, 4.465464705862164, 2.525102396259566, \"\", 0.7237430183749746, 0.3431471208723372, \"\", \"\", \"\", 1.0387430668180264, \"\", \"\", \"\", 0.8649694522528315, \"\", \"\", \"\", 2.1661046604883816], \"yaxis\": \"y2\"}, {\"connectgaps\": false, \"fill\": \"tozeroy\", \"line\": {\"color\": \"red\", \"dash\": \"solid\", \"shape\": \"linear\", \"width\": 0.5}, \"mode\": \"lines\", \"name\": \"Spread\", \"showlegend\": false, \"type\": \"scatter\", \"x\": [0, 1, 2, 3, 4, 5, 6, 7, 8, 9, 10, 11, 12, 13, 14, 15, 16, 17, 18, 19, 20, 21, 22, 23, 24, 25, 26, 27, 28, 29, 30, 31, 32, 33, 34, 35, 36, 37, 38, 39, 40, 41, 42, 43, 44, 45, 46, 47, 48, 49, 50, 51, 52, 53, 54, 55, 56, 57, 58, 59, 60, 61, 62, 63, 64, 65, 66, 67, 68, 69, 70, 71, 72, 73, 74, 75, 76, 77, 78, 79, 80, 81, 82, 83, 84, 85, 86, 87, 88, 89, 90, 91, 92, 93, 94, 95, 96, 97, 98, 99], \"xaxis\": \"x2\", \"y\": [-0.8605079263336441, \"\", \"\", -1.6747400355354196, -0.00549580704194369, \"\", \"\", -0.9247201309331368, \"\", -2.2146502469297062, \"\", -0.4609390126814915, \"\", \"\", \"\", \"\", -0.44767646746370326, \"\", \"\", -0.0563093219989087, -1.0165937347515177, -0.7248280404119294, \"\", -1.6391561287720202, -0.16582959631087102, -1.7140055240716485, \"\", \"\", -0.13874072404625926, -1.3532452776322201, -0.023212258673422692, -0.628781908370275, -1.9035985050253867, \"\", \"\", \"\", \"\", -0.5616775872133412, \"\", -1.6372825885215714, \"\", -2.6125635186990728, -0.5795667371154801, -1.2710322175547872, -3.3254574020571077, -1.6899531720362284, \"\", -2.6877693422984135, \"\", -0.22901312011505953, \"\", \"\", -0.8915700883835014, -1.697654920260736, -0.17405606549802755, \"\", \"\", -1.1010598539235574, -0.919636435851385, \"\", -2.864196836542492, \"\", -2.2365488920190577, -0.18241620429814048, -1.2921730286665754, \"\", \"\", -2.3960059854462994, -1.3085178951740966, -0.16223525668376615, -0.009350866927610335, -0.01443471422700271, -2.428657594676909, -0.9632849370468226, \"\", \"\", -2.0996023227759792, -1.1151821354475846, \"\", -1.3002034212197866, -0.49421096254448327, \"\", \"\", \"\", \"\", -0.13863691211376528, \"\", \"\", -0.4263140248295476, -0.21180831411242906, -1.0610343838011447, \"\", -0.04197578012928185, -0.3014793699076146, -2.3366937556826977, \"\", -0.352908547898953, -1.783395934003066, -0.0019134985244697589, \"\"], \"yaxis\": \"y2\"}],\n",
       "                        {\"hovermode\": \"x\", \"legend\": {\"bgcolor\": \"#F5F6F9\", \"font\": {\"color\": \"#4D5663\"}}, \"paper_bgcolor\": \"#F5F6F9\", \"plot_bgcolor\": \"#F5F6F9\", \"template\": {\"data\": {\"bar\": [{\"error_x\": {\"color\": \"#2a3f5f\"}, \"error_y\": {\"color\": \"#2a3f5f\"}, \"marker\": {\"line\": {\"color\": \"#E5ECF6\", \"width\": 0.5}}, \"type\": \"bar\"}], \"barpolar\": [{\"marker\": {\"line\": {\"color\": \"#E5ECF6\", \"width\": 0.5}}, \"type\": \"barpolar\"}], \"carpet\": [{\"aaxis\": {\"endlinecolor\": \"#2a3f5f\", \"gridcolor\": \"white\", \"linecolor\": \"white\", \"minorgridcolor\": \"white\", \"startlinecolor\": \"#2a3f5f\"}, \"baxis\": {\"endlinecolor\": \"#2a3f5f\", \"gridcolor\": \"white\", \"linecolor\": \"white\", \"minorgridcolor\": \"white\", \"startlinecolor\": \"#2a3f5f\"}, \"type\": \"carpet\"}], \"choropleth\": [{\"colorbar\": {\"outlinewidth\": 0, \"ticks\": \"\"}, \"type\": \"choropleth\"}], \"contour\": [{\"colorbar\": {\"outlinewidth\": 0, \"ticks\": \"\"}, \"colorscale\": [[0.0, \"#0d0887\"], [0.1111111111111111, \"#46039f\"], [0.2222222222222222, \"#7201a8\"], [0.3333333333333333, \"#9c179e\"], [0.4444444444444444, \"#bd3786\"], [0.5555555555555556, \"#d8576b\"], [0.6666666666666666, \"#ed7953\"], [0.7777777777777778, \"#fb9f3a\"], [0.8888888888888888, \"#fdca26\"], [1.0, \"#f0f921\"]], \"type\": \"contour\"}], \"contourcarpet\": [{\"colorbar\": {\"outlinewidth\": 0, \"ticks\": \"\"}, \"type\": \"contourcarpet\"}], \"heatmap\": [{\"colorbar\": {\"outlinewidth\": 0, \"ticks\": \"\"}, \"colorscale\": [[0.0, \"#0d0887\"], [0.1111111111111111, \"#46039f\"], [0.2222222222222222, \"#7201a8\"], [0.3333333333333333, \"#9c179e\"], [0.4444444444444444, \"#bd3786\"], [0.5555555555555556, \"#d8576b\"], [0.6666666666666666, \"#ed7953\"], [0.7777777777777778, \"#fb9f3a\"], [0.8888888888888888, \"#fdca26\"], [1.0, \"#f0f921\"]], \"type\": \"heatmap\"}], \"heatmapgl\": [{\"colorbar\": {\"outlinewidth\": 0, \"ticks\": \"\"}, \"colorscale\": [[0.0, \"#0d0887\"], [0.1111111111111111, \"#46039f\"], [0.2222222222222222, \"#7201a8\"], [0.3333333333333333, \"#9c179e\"], [0.4444444444444444, \"#bd3786\"], [0.5555555555555556, \"#d8576b\"], [0.6666666666666666, \"#ed7953\"], [0.7777777777777778, \"#fb9f3a\"], [0.8888888888888888, \"#fdca26\"], [1.0, \"#f0f921\"]], \"type\": \"heatmapgl\"}], \"histogram\": [{\"marker\": {\"colorbar\": {\"outlinewidth\": 0, \"ticks\": \"\"}}, \"type\": \"histogram\"}], \"histogram2d\": [{\"colorbar\": {\"outlinewidth\": 0, \"ticks\": \"\"}, \"colorscale\": [[0.0, \"#0d0887\"], [0.1111111111111111, \"#46039f\"], [0.2222222222222222, \"#7201a8\"], [0.3333333333333333, \"#9c179e\"], [0.4444444444444444, \"#bd3786\"], [0.5555555555555556, \"#d8576b\"], [0.6666666666666666, \"#ed7953\"], [0.7777777777777778, \"#fb9f3a\"], [0.8888888888888888, \"#fdca26\"], [1.0, \"#f0f921\"]], \"type\": \"histogram2d\"}], \"histogram2dcontour\": [{\"colorbar\": {\"outlinewidth\": 0, \"ticks\": \"\"}, \"colorscale\": [[0.0, \"#0d0887\"], [0.1111111111111111, \"#46039f\"], [0.2222222222222222, \"#7201a8\"], [0.3333333333333333, \"#9c179e\"], [0.4444444444444444, \"#bd3786\"], [0.5555555555555556, \"#d8576b\"], [0.6666666666666666, \"#ed7953\"], [0.7777777777777778, \"#fb9f3a\"], [0.8888888888888888, \"#fdca26\"], [1.0, \"#f0f921\"]], \"type\": \"histogram2dcontour\"}], \"mesh3d\": [{\"colorbar\": {\"outlinewidth\": 0, \"ticks\": \"\"}, \"type\": \"mesh3d\"}], \"parcoords\": [{\"line\": {\"colorbar\": {\"outlinewidth\": 0, \"ticks\": \"\"}}, \"type\": \"parcoords\"}], \"pie\": [{\"automargin\": true, \"type\": \"pie\"}], \"scatter\": [{\"marker\": {\"colorbar\": {\"outlinewidth\": 0, \"ticks\": \"\"}}, \"type\": \"scatter\"}], \"scatter3d\": [{\"line\": {\"colorbar\": {\"outlinewidth\": 0, \"ticks\": \"\"}}, \"marker\": {\"colorbar\": {\"outlinewidth\": 0, \"ticks\": \"\"}}, \"type\": \"scatter3d\"}], \"scattercarpet\": [{\"marker\": {\"colorbar\": {\"outlinewidth\": 0, \"ticks\": \"\"}}, \"type\": \"scattercarpet\"}], \"scattergeo\": [{\"marker\": {\"colorbar\": {\"outlinewidth\": 0, \"ticks\": \"\"}}, \"type\": \"scattergeo\"}], \"scattergl\": [{\"marker\": {\"colorbar\": {\"outlinewidth\": 0, \"ticks\": \"\"}}, \"type\": \"scattergl\"}], \"scattermapbox\": [{\"marker\": {\"colorbar\": {\"outlinewidth\": 0, \"ticks\": \"\"}}, \"type\": \"scattermapbox\"}], \"scatterpolar\": [{\"marker\": {\"colorbar\": {\"outlinewidth\": 0, \"ticks\": \"\"}}, \"type\": \"scatterpolar\"}], \"scatterpolargl\": [{\"marker\": {\"colorbar\": {\"outlinewidth\": 0, \"ticks\": \"\"}}, \"type\": \"scatterpolargl\"}], \"scatterternary\": [{\"marker\": {\"colorbar\": {\"outlinewidth\": 0, \"ticks\": \"\"}}, \"type\": \"scatterternary\"}], \"surface\": [{\"colorbar\": {\"outlinewidth\": 0, \"ticks\": \"\"}, \"colorscale\": [[0.0, \"#0d0887\"], [0.1111111111111111, \"#46039f\"], [0.2222222222222222, \"#7201a8\"], [0.3333333333333333, \"#9c179e\"], [0.4444444444444444, \"#bd3786\"], [0.5555555555555556, \"#d8576b\"], [0.6666666666666666, \"#ed7953\"], [0.7777777777777778, \"#fb9f3a\"], [0.8888888888888888, \"#fdca26\"], [1.0, \"#f0f921\"]], \"type\": \"surface\"}], \"table\": [{\"cells\": {\"fill\": {\"color\": \"#EBF0F8\"}, \"line\": {\"color\": \"white\"}}, \"header\": {\"fill\": {\"color\": \"#C8D4E3\"}, \"line\": {\"color\": \"white\"}}, \"type\": \"table\"}]}, \"layout\": {\"annotationdefaults\": {\"arrowcolor\": \"#2a3f5f\", \"arrowhead\": 0, \"arrowwidth\": 1}, \"coloraxis\": {\"colorbar\": {\"outlinewidth\": 0, \"ticks\": \"\"}}, \"colorscale\": {\"diverging\": [[0, \"#8e0152\"], [0.1, \"#c51b7d\"], [0.2, \"#de77ae\"], [0.3, \"#f1b6da\"], [0.4, \"#fde0ef\"], [0.5, \"#f7f7f7\"], [0.6, \"#e6f5d0\"], [0.7, \"#b8e186\"], [0.8, \"#7fbc41\"], [0.9, \"#4d9221\"], [1, \"#276419\"]], \"sequential\": [[0.0, \"#0d0887\"], [0.1111111111111111, \"#46039f\"], [0.2222222222222222, \"#7201a8\"], [0.3333333333333333, \"#9c179e\"], [0.4444444444444444, \"#bd3786\"], [0.5555555555555556, \"#d8576b\"], [0.6666666666666666, \"#ed7953\"], [0.7777777777777778, \"#fb9f3a\"], [0.8888888888888888, \"#fdca26\"], [1.0, \"#f0f921\"]], \"sequentialminus\": [[0.0, \"#0d0887\"], [0.1111111111111111, \"#46039f\"], [0.2222222222222222, \"#7201a8\"], [0.3333333333333333, \"#9c179e\"], [0.4444444444444444, \"#bd3786\"], [0.5555555555555556, \"#d8576b\"], [0.6666666666666666, \"#ed7953\"], [0.7777777777777778, \"#fb9f3a\"], [0.8888888888888888, \"#fdca26\"], [1.0, \"#f0f921\"]]}, \"colorway\": [\"#636efa\", \"#EF553B\", \"#00cc96\", \"#ab63fa\", \"#FFA15A\", \"#19d3f3\", \"#FF6692\", \"#B6E880\", \"#FF97FF\", \"#FECB52\"], \"font\": {\"color\": \"#2a3f5f\"}, \"geo\": {\"bgcolor\": \"white\", \"lakecolor\": \"white\", \"landcolor\": \"#E5ECF6\", \"showlakes\": true, \"showland\": true, \"subunitcolor\": \"white\"}, \"hoverlabel\": {\"align\": \"left\"}, \"hovermode\": \"closest\", \"mapbox\": {\"style\": \"light\"}, \"paper_bgcolor\": \"white\", \"plot_bgcolor\": \"#E5ECF6\", \"polar\": {\"angularaxis\": {\"gridcolor\": \"white\", \"linecolor\": \"white\", \"ticks\": \"\"}, \"bgcolor\": \"#E5ECF6\", \"radialaxis\": {\"gridcolor\": \"white\", \"linecolor\": \"white\", \"ticks\": \"\"}}, \"scene\": {\"xaxis\": {\"backgroundcolor\": \"#E5ECF6\", \"gridcolor\": \"white\", \"gridwidth\": 2, \"linecolor\": \"white\", \"showbackground\": true, \"ticks\": \"\", \"zerolinecolor\": \"white\"}, \"yaxis\": {\"backgroundcolor\": \"#E5ECF6\", \"gridcolor\": \"white\", \"gridwidth\": 2, \"linecolor\": \"white\", \"showbackground\": true, \"ticks\": \"\", \"zerolinecolor\": \"white\"}, \"zaxis\": {\"backgroundcolor\": \"#E5ECF6\", \"gridcolor\": \"white\", \"gridwidth\": 2, \"linecolor\": \"white\", \"showbackground\": true, \"ticks\": \"\", \"zerolinecolor\": \"white\"}}, \"shapedefaults\": {\"line\": {\"color\": \"#2a3f5f\"}}, \"ternary\": {\"aaxis\": {\"gridcolor\": \"white\", \"linecolor\": \"white\", \"ticks\": \"\"}, \"baxis\": {\"gridcolor\": \"white\", \"linecolor\": \"white\", \"ticks\": \"\"}, \"bgcolor\": \"#E5ECF6\", \"caxis\": {\"gridcolor\": \"white\", \"linecolor\": \"white\", \"ticks\": \"\"}}, \"title\": {\"x\": 0.05}, \"xaxis\": {\"automargin\": true, \"gridcolor\": \"white\", \"linecolor\": \"white\", \"ticks\": \"\", \"title\": {\"standoff\": 15}, \"zerolinecolor\": \"white\", \"zerolinewidth\": 2}, \"yaxis\": {\"automargin\": true, \"gridcolor\": \"white\", \"linecolor\": \"white\", \"ticks\": \"\", \"title\": {\"standoff\": 15}, \"zerolinecolor\": \"white\", \"zerolinewidth\": 2}}}, \"title\": {\"font\": {\"color\": \"#4D5663\"}}, \"xaxis\": {\"gridcolor\": \"#E1E5ED\", \"showgrid\": true, \"tickfont\": {\"color\": \"#4D5663\"}, \"title\": {\"font\": {\"color\": \"#4D5663\"}, \"text\": \"\"}, \"zerolinecolor\": \"#E1E5ED\"}, \"xaxis2\": {\"anchor\": \"y2\", \"gridcolor\": \"#E1E5ED\", \"showgrid\": true, \"showticklabels\": false, \"tickfont\": {\"color\": \"#4D5663\"}, \"title\": {\"font\": {\"color\": \"#4D5663\"}, \"text\": \"\"}, \"zerolinecolor\": \"#E1E5ED\"}, \"yaxis\": {\"domain\": [0.3, 1], \"gridcolor\": \"#E1E5ED\", \"showgrid\": true, \"tickfont\": {\"color\": \"#4D5663\"}, \"title\": {\"font\": {\"color\": \"#4D5663\"}, \"text\": \"\"}, \"zerolinecolor\": \"#E1E5ED\"}, \"yaxis2\": {\"domain\": [0, 0.25], \"gridcolor\": \"#E1E5ED\", \"showgrid\": true, \"tickfont\": {\"color\": \"#4D5663\"}, \"title\": {\"font\": {\"color\": \"#4D5663\"}, \"text\": \"Spread\"}, \"zerolinecolor\": \"#E1E5ED\"}},\n",
       "                        {\"showLink\": true, \"linkText\": \"Export to plot.ly\", \"plotlyServerURL\": \"https://plot.ly\", \"responsive\": true}\n",
       "                    ).then(function(){\n",
       "                            \n",
       "var gd = document.getElementById('66e1eb4e-98d8-44c8-920a-e42f010d11bc');\n",
       "var x = new MutationObserver(function (mutations, observer) {{\n",
       "        var display = window.getComputedStyle(gd).display;\n",
       "        if (!display || display === 'none') {{\n",
       "            console.log([gd, 'removed!']);\n",
       "            Plotly.purge(gd);\n",
       "            observer.disconnect();\n",
       "        }}\n",
       "}});\n",
       "\n",
       "// Listen for the removal of the full notebook cells\n",
       "var notebookContainer = gd.closest('#notebook-container');\n",
       "if (notebookContainer) {{\n",
       "    x.observe(notebookContainer, {childList: true});\n",
       "}}\n",
       "\n",
       "// Listen for the clearing of the current output cell\n",
       "var outputEl = gd.closest('.output');\n",
       "if (outputEl) {{\n",
       "    x.observe(outputEl, {childList: true});\n",
       "}}\n",
       "\n",
       "                        })\n",
       "                };\n",
       "                });\n",
       "            </script>\n",
       "        </div>"
      ]
     },
     "metadata": {},
     "output_type": "display_data"
    }
   ],
   "source": [
    "df1[['A','B']].iplot(kind='spread')"
   ]
  },
  {
   "cell_type": "markdown",
   "metadata": {},
   "source": [
    "#### Bubble Plot"
   ]
  },
  {
   "cell_type": "code",
   "execution_count": 75,
   "metadata": {},
   "outputs": [
    {
     "data": {
      "application/vnd.plotly.v1+json": {
       "config": {
        "linkText": "Export to plot.ly",
        "plotlyServerURL": "https://plot.ly",
        "showLink": true
       },
       "data": [
        {
         "marker": {
          "color": [
           "rgb(255, 153, 51)",
           "rgb(55, 128, 191)",
           "rgb(50, 171, 96)",
           "rgb(128, 0, 128)",
           "rgb(219, 64, 82)",
           "rgb(0, 128, 128)",
           "rgb(255, 255, 51)",
           "rgb(128, 128, 0)",
           "rgb(251, 128, 114)",
           "rgb(128, 177, 211)"
          ],
          "line": {
           "width": 1.3
          },
          "size": [
           53,
           43,
           53,
           94,
           31,
           53,
           96,
           53,
           66,
           96,
           82,
           30,
           28,
           59,
           63,
           12,
           62,
           99,
           44,
           60,
           68,
           50,
           59,
           30,
           94,
           71,
           45,
           33,
           69,
           66,
           37,
           72,
           14,
           40,
           98,
           40,
           78,
           40,
           57,
           69,
           42,
           66,
           76,
           87,
           51,
           66,
           86,
           61,
           60,
           67,
           72,
           73,
           81,
           41,
           60,
           37,
           59,
           44,
           45,
           57,
           89,
           81,
           45,
           47,
           51,
           51,
           61,
           66,
           40,
           72,
           70,
           73,
           48,
           57,
           20,
           20,
           53,
           65,
           33,
           78,
           91,
           83,
           22,
           40,
           37,
           71,
           41,
           55,
           112,
           58,
           42,
           47,
           67,
           53,
           92,
           30,
           80,
           76,
           78,
           55
          ],
          "symbol": "circle"
         },
         "mode": "markers",
         "text": "",
         "type": "scatter",
         "x": [
          1.03550403305365,
          1.0884452472323425,
          -0.8238221561084681,
          -1.165409106210997,
          0.06314234757509121,
          0.28403331754428096,
          1.3031142849283257,
          -0.5330006379394974,
          0.9239955720458833,
          -0.3404308950020115,
          0.49705351026645744,
          0.11995406868417582,
          2.8763886700822554,
          0.9193262205319692,
          0.3949826146380539,
          0.1398009361049872,
          -0.2389551947409717,
          1.7631889811772778,
          0.9423296126061489,
          0.6967921196412008,
          -0.5414352907350243,
          -2.036531823296873,
          -0.24433216283716166,
          -0.6095837637269612,
          -0.8657030628068533,
          -1.3290908432224944,
          0.12455980476667877,
          1.0184694806034515,
          -1.183099026560509,
          -1.9117478241953998,
          1.5901480473509917,
          0.036261728019634634,
          -1.4686201375953223,
          0.23850038429899692,
          0.9850551573259738,
          0.2343911390852982,
          1.6218946767897775,
          0.6092426949738955,
          0.4316571530869879,
          -0.3497700989320226,
          0.0630769975004216,
          -1.7473220089492396,
          0.9992032559911043,
          -0.46947268822447513,
          -1.5169497942671446,
          -0.83250174584291,
          -0.4968973159748692,
          -0.961293262106367,
          1.57489946216533,
          0.12352962553924367,
          1.1956965136368198,
          0.2622356680889761,
          -1.3592917794393795,
          -1.3888127276879452,
          -0.4192232294633762,
          0.2162221432499591,
          2.3852910763547004,
          -1.3123647706286883,
          0.2612934369110763,
          0.8613442539868962,
          -2.199294295056723,
          0.586695375572083,
          -0.49651894860239854,
          -0.06531819539664627,
          -1.8735956634836917,
          -0.922282193523706,
          -0.1390551342534496,
          -2.07229926650626,
          -0.3136402802450524,
          1.2721102467999612,
          1.2212916123327877,
          0.4263336106747266,
          -1.3278513626090733,
          -1.4901785369107048,
          0.3370979010819831,
          1.1609741420348372,
          -1.4052615141974583,
          -1.675537604560082,
          -0.8470611330808606,
          0.846711142348439,
          1.6207509512727276,
          0.9628774645331151,
          0.08415610063834954,
          2.0515464720858776,
          0.3989174309260779,
          0.5284312945429028,
          1.316248220757381,
          0.07911639704636868,
          0.5625901301013624,
          0.10809718712260306,
          0.05558043354838223,
          1.653387809021809,
          0.19613717511683407,
          -1.0636425270979382,
          -2.3361375217663913,
          1.170649467749388,
          -1.1175819973708243,
          -0.9877716720625392,
          1.1344780752246988,
          2.753133920603948
         ],
         "y": [
          1.8960119593872942,
          -0.9013887599486713,
          -1.3179328495735878,
          0.5093309293244226,
          0.0686381546170349,
          -2.0476722168076367,
          -1.2434170473032558,
          0.3917194929936394,
          0.08754198693204741,
          1.8742193519276948,
          -0.34000427728927657,
          0.5808930813656673,
          -0.9185932288750916,
          -0.4370652175550562,
          0.1615291650092262,
          -0.5573801868161586,
          0.20872127272273155,
          1.5038452901928197,
          0.3810687629989386,
          0.7531014416401095,
          0.47515844401649343,
          -1.3117037828849436,
          -1.1128339786035324,
          1.029572365045059,
          -0.6998734664959823,
          0.38491468084915426,
          -0.851322628406908,
          0.20712468604181208,
          -1.0443583025142498,
          -0.5585025465631798,
          1.6133603060244144,
          0.6650436363899097,
          0.43497836743006446,
          -0.3135901937525547,
          -1.035819537740092,
          0.16500645542112155,
          -0.9797413668441683,
          1.1709202821872366,
          -0.3720340472186027,
          1.2875124895895487,
          -0.5342416459509143,
          0.8652415097498334,
          1.5787699931065844,
          0.801559529330312,
          1.808507607789963,
          0.8574514261933185,
          -2.4147665891905423,
          1.7264760801920465,
          -0.06502278632303127,
          0.3525427456543032,
          0.012552047667873876,
          -0.6432254433376144,
          -0.4677216910558781,
          0.3088421925727908,
          -0.24516716396534866,
          -1.0028937338811257,
          -0.11281611748353859,
          -0.21130491670513085,
          1.1809298727624613,
          -1.3801349160393888,
          0.6649025414857689,
          0.07020479167028694,
          1.740029943416659,
          0.11709800890149423,
          -0.5814226348171162,
          -1.0019165405279373,
          -0.21731413282882847,
          0.32370671894003944,
          0.9948776149290441,
          1.4343455034837274,
          1.230642479260398,
          0.4407683249017293,
          1.1008062320678353,
          -0.5268935998638822,
          -0.19239595695956105,
          0.6351734409776926,
          0.694340808578521,
          -0.5603554691124976,
          -1.6720568576003965,
          2.1469145635682256,
          2.114961913817211,
          0.6233672076422256,
          -0.3462142582361224,
          -2.4139182337762866,
          -2.126184965333488,
          0.6670682066566681,
          0.5925052023824063,
          -0.2640307238259685,
          0.98890415493091,
          0.31990550123503214,
          1.116614817349527,
          0.6146447422037827,
          0.23811295524611592,
          -0.7621631571903236,
          0.0005562339163062913,
          0.3056800154965565,
          -0.7646734494718713,
          0.7956242619405267,
          1.1363915737491685,
          0.5870292601155663
         ]
        }
       ],
       "layout": {
        "legend": {
         "bgcolor": "#F5F6F9",
         "font": {
          "color": "#4D5663"
         }
        },
        "paper_bgcolor": "#F5F6F9",
        "plot_bgcolor": "#F5F6F9",
        "template": {
         "data": {
          "bar": [
           {
            "error_x": {
             "color": "#2a3f5f"
            },
            "error_y": {
             "color": "#2a3f5f"
            },
            "marker": {
             "line": {
              "color": "#E5ECF6",
              "width": 0.5
             }
            },
            "type": "bar"
           }
          ],
          "barpolar": [
           {
            "marker": {
             "line": {
              "color": "#E5ECF6",
              "width": 0.5
             }
            },
            "type": "barpolar"
           }
          ],
          "carpet": [
           {
            "aaxis": {
             "endlinecolor": "#2a3f5f",
             "gridcolor": "white",
             "linecolor": "white",
             "minorgridcolor": "white",
             "startlinecolor": "#2a3f5f"
            },
            "baxis": {
             "endlinecolor": "#2a3f5f",
             "gridcolor": "white",
             "linecolor": "white",
             "minorgridcolor": "white",
             "startlinecolor": "#2a3f5f"
            },
            "type": "carpet"
           }
          ],
          "choropleth": [
           {
            "colorbar": {
             "outlinewidth": 0,
             "ticks": ""
            },
            "type": "choropleth"
           }
          ],
          "contour": [
           {
            "colorbar": {
             "outlinewidth": 0,
             "ticks": ""
            },
            "colorscale": [
             [
              0,
              "#0d0887"
             ],
             [
              0.1111111111111111,
              "#46039f"
             ],
             [
              0.2222222222222222,
              "#7201a8"
             ],
             [
              0.3333333333333333,
              "#9c179e"
             ],
             [
              0.4444444444444444,
              "#bd3786"
             ],
             [
              0.5555555555555556,
              "#d8576b"
             ],
             [
              0.6666666666666666,
              "#ed7953"
             ],
             [
              0.7777777777777778,
              "#fb9f3a"
             ],
             [
              0.8888888888888888,
              "#fdca26"
             ],
             [
              1,
              "#f0f921"
             ]
            ],
            "type": "contour"
           }
          ],
          "contourcarpet": [
           {
            "colorbar": {
             "outlinewidth": 0,
             "ticks": ""
            },
            "type": "contourcarpet"
           }
          ],
          "heatmap": [
           {
            "colorbar": {
             "outlinewidth": 0,
             "ticks": ""
            },
            "colorscale": [
             [
              0,
              "#0d0887"
             ],
             [
              0.1111111111111111,
              "#46039f"
             ],
             [
              0.2222222222222222,
              "#7201a8"
             ],
             [
              0.3333333333333333,
              "#9c179e"
             ],
             [
              0.4444444444444444,
              "#bd3786"
             ],
             [
              0.5555555555555556,
              "#d8576b"
             ],
             [
              0.6666666666666666,
              "#ed7953"
             ],
             [
              0.7777777777777778,
              "#fb9f3a"
             ],
             [
              0.8888888888888888,
              "#fdca26"
             ],
             [
              1,
              "#f0f921"
             ]
            ],
            "type": "heatmap"
           }
          ],
          "heatmapgl": [
           {
            "colorbar": {
             "outlinewidth": 0,
             "ticks": ""
            },
            "colorscale": [
             [
              0,
              "#0d0887"
             ],
             [
              0.1111111111111111,
              "#46039f"
             ],
             [
              0.2222222222222222,
              "#7201a8"
             ],
             [
              0.3333333333333333,
              "#9c179e"
             ],
             [
              0.4444444444444444,
              "#bd3786"
             ],
             [
              0.5555555555555556,
              "#d8576b"
             ],
             [
              0.6666666666666666,
              "#ed7953"
             ],
             [
              0.7777777777777778,
              "#fb9f3a"
             ],
             [
              0.8888888888888888,
              "#fdca26"
             ],
             [
              1,
              "#f0f921"
             ]
            ],
            "type": "heatmapgl"
           }
          ],
          "histogram": [
           {
            "marker": {
             "colorbar": {
              "outlinewidth": 0,
              "ticks": ""
             }
            },
            "type": "histogram"
           }
          ],
          "histogram2d": [
           {
            "colorbar": {
             "outlinewidth": 0,
             "ticks": ""
            },
            "colorscale": [
             [
              0,
              "#0d0887"
             ],
             [
              0.1111111111111111,
              "#46039f"
             ],
             [
              0.2222222222222222,
              "#7201a8"
             ],
             [
              0.3333333333333333,
              "#9c179e"
             ],
             [
              0.4444444444444444,
              "#bd3786"
             ],
             [
              0.5555555555555556,
              "#d8576b"
             ],
             [
              0.6666666666666666,
              "#ed7953"
             ],
             [
              0.7777777777777778,
              "#fb9f3a"
             ],
             [
              0.8888888888888888,
              "#fdca26"
             ],
             [
              1,
              "#f0f921"
             ]
            ],
            "type": "histogram2d"
           }
          ],
          "histogram2dcontour": [
           {
            "colorbar": {
             "outlinewidth": 0,
             "ticks": ""
            },
            "colorscale": [
             [
              0,
              "#0d0887"
             ],
             [
              0.1111111111111111,
              "#46039f"
             ],
             [
              0.2222222222222222,
              "#7201a8"
             ],
             [
              0.3333333333333333,
              "#9c179e"
             ],
             [
              0.4444444444444444,
              "#bd3786"
             ],
             [
              0.5555555555555556,
              "#d8576b"
             ],
             [
              0.6666666666666666,
              "#ed7953"
             ],
             [
              0.7777777777777778,
              "#fb9f3a"
             ],
             [
              0.8888888888888888,
              "#fdca26"
             ],
             [
              1,
              "#f0f921"
             ]
            ],
            "type": "histogram2dcontour"
           }
          ],
          "mesh3d": [
           {
            "colorbar": {
             "outlinewidth": 0,
             "ticks": ""
            },
            "type": "mesh3d"
           }
          ],
          "parcoords": [
           {
            "line": {
             "colorbar": {
              "outlinewidth": 0,
              "ticks": ""
             }
            },
            "type": "parcoords"
           }
          ],
          "pie": [
           {
            "automargin": true,
            "type": "pie"
           }
          ],
          "scatter": [
           {
            "marker": {
             "colorbar": {
              "outlinewidth": 0,
              "ticks": ""
             }
            },
            "type": "scatter"
           }
          ],
          "scatter3d": [
           {
            "line": {
             "colorbar": {
              "outlinewidth": 0,
              "ticks": ""
             }
            },
            "marker": {
             "colorbar": {
              "outlinewidth": 0,
              "ticks": ""
             }
            },
            "type": "scatter3d"
           }
          ],
          "scattercarpet": [
           {
            "marker": {
             "colorbar": {
              "outlinewidth": 0,
              "ticks": ""
             }
            },
            "type": "scattercarpet"
           }
          ],
          "scattergeo": [
           {
            "marker": {
             "colorbar": {
              "outlinewidth": 0,
              "ticks": ""
             }
            },
            "type": "scattergeo"
           }
          ],
          "scattergl": [
           {
            "marker": {
             "colorbar": {
              "outlinewidth": 0,
              "ticks": ""
             }
            },
            "type": "scattergl"
           }
          ],
          "scattermapbox": [
           {
            "marker": {
             "colorbar": {
              "outlinewidth": 0,
              "ticks": ""
             }
            },
            "type": "scattermapbox"
           }
          ],
          "scatterpolar": [
           {
            "marker": {
             "colorbar": {
              "outlinewidth": 0,
              "ticks": ""
             }
            },
            "type": "scatterpolar"
           }
          ],
          "scatterpolargl": [
           {
            "marker": {
             "colorbar": {
              "outlinewidth": 0,
              "ticks": ""
             }
            },
            "type": "scatterpolargl"
           }
          ],
          "scatterternary": [
           {
            "marker": {
             "colorbar": {
              "outlinewidth": 0,
              "ticks": ""
             }
            },
            "type": "scatterternary"
           }
          ],
          "surface": [
           {
            "colorbar": {
             "outlinewidth": 0,
             "ticks": ""
            },
            "colorscale": [
             [
              0,
              "#0d0887"
             ],
             [
              0.1111111111111111,
              "#46039f"
             ],
             [
              0.2222222222222222,
              "#7201a8"
             ],
             [
              0.3333333333333333,
              "#9c179e"
             ],
             [
              0.4444444444444444,
              "#bd3786"
             ],
             [
              0.5555555555555556,
              "#d8576b"
             ],
             [
              0.6666666666666666,
              "#ed7953"
             ],
             [
              0.7777777777777778,
              "#fb9f3a"
             ],
             [
              0.8888888888888888,
              "#fdca26"
             ],
             [
              1,
              "#f0f921"
             ]
            ],
            "type": "surface"
           }
          ],
          "table": [
           {
            "cells": {
             "fill": {
              "color": "#EBF0F8"
             },
             "line": {
              "color": "white"
             }
            },
            "header": {
             "fill": {
              "color": "#C8D4E3"
             },
             "line": {
              "color": "white"
             }
            },
            "type": "table"
           }
          ]
         },
         "layout": {
          "annotationdefaults": {
           "arrowcolor": "#2a3f5f",
           "arrowhead": 0,
           "arrowwidth": 1
          },
          "coloraxis": {
           "colorbar": {
            "outlinewidth": 0,
            "ticks": ""
           }
          },
          "colorscale": {
           "diverging": [
            [
             0,
             "#8e0152"
            ],
            [
             0.1,
             "#c51b7d"
            ],
            [
             0.2,
             "#de77ae"
            ],
            [
             0.3,
             "#f1b6da"
            ],
            [
             0.4,
             "#fde0ef"
            ],
            [
             0.5,
             "#f7f7f7"
            ],
            [
             0.6,
             "#e6f5d0"
            ],
            [
             0.7,
             "#b8e186"
            ],
            [
             0.8,
             "#7fbc41"
            ],
            [
             0.9,
             "#4d9221"
            ],
            [
             1,
             "#276419"
            ]
           ],
           "sequential": [
            [
             0,
             "#0d0887"
            ],
            [
             0.1111111111111111,
             "#46039f"
            ],
            [
             0.2222222222222222,
             "#7201a8"
            ],
            [
             0.3333333333333333,
             "#9c179e"
            ],
            [
             0.4444444444444444,
             "#bd3786"
            ],
            [
             0.5555555555555556,
             "#d8576b"
            ],
            [
             0.6666666666666666,
             "#ed7953"
            ],
            [
             0.7777777777777778,
             "#fb9f3a"
            ],
            [
             0.8888888888888888,
             "#fdca26"
            ],
            [
             1,
             "#f0f921"
            ]
           ],
           "sequentialminus": [
            [
             0,
             "#0d0887"
            ],
            [
             0.1111111111111111,
             "#46039f"
            ],
            [
             0.2222222222222222,
             "#7201a8"
            ],
            [
             0.3333333333333333,
             "#9c179e"
            ],
            [
             0.4444444444444444,
             "#bd3786"
            ],
            [
             0.5555555555555556,
             "#d8576b"
            ],
            [
             0.6666666666666666,
             "#ed7953"
            ],
            [
             0.7777777777777778,
             "#fb9f3a"
            ],
            [
             0.8888888888888888,
             "#fdca26"
            ],
            [
             1,
             "#f0f921"
            ]
           ]
          },
          "colorway": [
           "#636efa",
           "#EF553B",
           "#00cc96",
           "#ab63fa",
           "#FFA15A",
           "#19d3f3",
           "#FF6692",
           "#B6E880",
           "#FF97FF",
           "#FECB52"
          ],
          "font": {
           "color": "#2a3f5f"
          },
          "geo": {
           "bgcolor": "white",
           "lakecolor": "white",
           "landcolor": "#E5ECF6",
           "showlakes": true,
           "showland": true,
           "subunitcolor": "white"
          },
          "hoverlabel": {
           "align": "left"
          },
          "hovermode": "closest",
          "mapbox": {
           "style": "light"
          },
          "paper_bgcolor": "white",
          "plot_bgcolor": "#E5ECF6",
          "polar": {
           "angularaxis": {
            "gridcolor": "white",
            "linecolor": "white",
            "ticks": ""
           },
           "bgcolor": "#E5ECF6",
           "radialaxis": {
            "gridcolor": "white",
            "linecolor": "white",
            "ticks": ""
           }
          },
          "scene": {
           "xaxis": {
            "backgroundcolor": "#E5ECF6",
            "gridcolor": "white",
            "gridwidth": 2,
            "linecolor": "white",
            "showbackground": true,
            "ticks": "",
            "zerolinecolor": "white"
           },
           "yaxis": {
            "backgroundcolor": "#E5ECF6",
            "gridcolor": "white",
            "gridwidth": 2,
            "linecolor": "white",
            "showbackground": true,
            "ticks": "",
            "zerolinecolor": "white"
           },
           "zaxis": {
            "backgroundcolor": "#E5ECF6",
            "gridcolor": "white",
            "gridwidth": 2,
            "linecolor": "white",
            "showbackground": true,
            "ticks": "",
            "zerolinecolor": "white"
           }
          },
          "shapedefaults": {
           "line": {
            "color": "#2a3f5f"
           }
          },
          "ternary": {
           "aaxis": {
            "gridcolor": "white",
            "linecolor": "white",
            "ticks": ""
           },
           "baxis": {
            "gridcolor": "white",
            "linecolor": "white",
            "ticks": ""
           },
           "bgcolor": "#E5ECF6",
           "caxis": {
            "gridcolor": "white",
            "linecolor": "white",
            "ticks": ""
           }
          },
          "title": {
           "x": 0.05
          },
          "xaxis": {
           "automargin": true,
           "gridcolor": "white",
           "linecolor": "white",
           "ticks": "",
           "title": {
            "standoff": 15
           },
           "zerolinecolor": "white",
           "zerolinewidth": 2
          },
          "yaxis": {
           "automargin": true,
           "gridcolor": "white",
           "linecolor": "white",
           "ticks": "",
           "title": {
            "standoff": 15
           },
           "zerolinecolor": "white",
           "zerolinewidth": 2
          }
         }
        },
        "title": {
         "font": {
          "color": "#4D5663"
         }
        },
        "xaxis": {
         "gridcolor": "#E1E5ED",
         "showgrid": true,
         "tickfont": {
          "color": "#4D5663"
         },
         "title": {
          "font": {
           "color": "#4D5663"
          },
          "text": ""
         },
         "zerolinecolor": "#E1E5ED"
        },
        "yaxis": {
         "gridcolor": "#E1E5ED",
         "showgrid": true,
         "tickfont": {
          "color": "#4D5663"
         },
         "title": {
          "font": {
           "color": "#4D5663"
          },
          "text": ""
         },
         "zerolinecolor": "#E1E5ED"
        }
       }
      },
      "text/html": [
       "<div>\n",
       "        \n",
       "        \n",
       "            <div id=\"2bd009e3-6b71-4072-af41-b2aa950bda10\" class=\"plotly-graph-div\" style=\"height:525px; width:100%;\"></div>\n",
       "            <script type=\"text/javascript\">\n",
       "                require([\"plotly\"], function(Plotly) {\n",
       "                    window.PLOTLYENV=window.PLOTLYENV || {};\n",
       "                    window.PLOTLYENV.BASE_URL='https://plot.ly';\n",
       "                    \n",
       "                if (document.getElementById(\"2bd009e3-6b71-4072-af41-b2aa950bda10\")) {\n",
       "                    Plotly.newPlot(\n",
       "                        '2bd009e3-6b71-4072-af41-b2aa950bda10',\n",
       "                        [{\"marker\": {\"color\": [\"rgb(255, 153, 51)\", \"rgb(55, 128, 191)\", \"rgb(50, 171, 96)\", \"rgb(128, 0, 128)\", \"rgb(219, 64, 82)\", \"rgb(0, 128, 128)\", \"rgb(255, 255, 51)\", \"rgb(128, 128, 0)\", \"rgb(251, 128, 114)\", \"rgb(128, 177, 211)\"], \"line\": {\"width\": 1.3}, \"size\": [53, 43, 53, 94, 31, 53, 96, 53, 66, 96, 82, 30, 28, 59, 63, 12, 62, 99, 44, 60, 68, 50, 59, 30, 94, 71, 45, 33, 69, 66, 37, 72, 14, 40, 98, 40, 78, 40, 57, 69, 42, 66, 76, 87, 51, 66, 86, 61, 60, 67, 72, 73, 81, 41, 60, 37, 59, 44, 45, 57, 89, 81, 45, 47, 51, 51, 61, 66, 40, 72, 70, 73, 48, 57, 20, 20, 53, 65, 33, 78, 91, 83, 22, 40, 37, 71, 41, 55, 112, 58, 42, 47, 67, 53, 92, 30, 80, 76, 78, 55], \"symbol\": \"circle\"}, \"mode\": \"markers\", \"text\": \"\", \"type\": \"scatter\", \"x\": [1.03550403305365, 1.0884452472323425, -0.8238221561084681, -1.165409106210997, 0.06314234757509121, 0.28403331754428096, 1.3031142849283257, -0.5330006379394974, 0.9239955720458833, -0.3404308950020115, 0.49705351026645744, 0.11995406868417582, 2.8763886700822554, 0.9193262205319692, 0.3949826146380539, 0.1398009361049872, -0.2389551947409717, 1.7631889811772778, 0.9423296126061489, 0.6967921196412008, -0.5414352907350243, -2.036531823296873, -0.24433216283716166, -0.6095837637269612, -0.8657030628068533, -1.3290908432224944, 0.12455980476667877, 1.0184694806034515, -1.183099026560509, -1.9117478241953998, 1.5901480473509917, 0.036261728019634634, -1.4686201375953223, 0.23850038429899692, 0.9850551573259738, 0.2343911390852982, 1.6218946767897775, 0.6092426949738955, 0.4316571530869879, -0.3497700989320226, 0.0630769975004216, -1.7473220089492396, 0.9992032559911043, -0.46947268822447513, -1.5169497942671446, -0.83250174584291, -0.4968973159748692, -0.961293262106367, 1.57489946216533, 0.12352962553924367, 1.1956965136368198, 0.2622356680889761, -1.3592917794393795, -1.3888127276879452, -0.4192232294633762, 0.2162221432499591, 2.3852910763547004, -1.3123647706286883, 0.2612934369110763, 0.8613442539868962, -2.199294295056723, 0.586695375572083, -0.49651894860239854, -0.06531819539664627, -1.8735956634836917, -0.922282193523706, -0.1390551342534496, -2.07229926650626, -0.3136402802450524, 1.2721102467999612, 1.2212916123327877, 0.4263336106747266, -1.3278513626090733, -1.4901785369107048, 0.3370979010819831, 1.1609741420348372, -1.4052615141974583, -1.675537604560082, -0.8470611330808606, 0.846711142348439, 1.6207509512727276, 0.9628774645331151, 0.08415610063834954, 2.0515464720858776, 0.3989174309260779, 0.5284312945429028, 1.316248220757381, 0.07911639704636868, 0.5625901301013624, 0.10809718712260306, 0.05558043354838223, 1.653387809021809, 0.19613717511683407, -1.0636425270979382, -2.3361375217663913, 1.170649467749388, -1.1175819973708243, -0.9877716720625392, 1.1344780752246988, 2.753133920603948], \"y\": [1.8960119593872942, -0.9013887599486713, -1.3179328495735878, 0.5093309293244226, 0.0686381546170349, -2.0476722168076367, -1.2434170473032558, 0.3917194929936394, 0.08754198693204741, 1.8742193519276948, -0.34000427728927657, 0.5808930813656673, -0.9185932288750916, -0.4370652175550562, 0.1615291650092262, -0.5573801868161586, 0.20872127272273155, 1.5038452901928197, 0.3810687629989386, 0.7531014416401095, 0.47515844401649343, -1.3117037828849436, -1.1128339786035324, 1.029572365045059, -0.6998734664959823, 0.38491468084915426, -0.851322628406908, 0.20712468604181208, -1.0443583025142498, -0.5585025465631798, 1.6133603060244144, 0.6650436363899097, 0.43497836743006446, -0.3135901937525547, -1.035819537740092, 0.16500645542112155, -0.9797413668441683, 1.1709202821872366, -0.3720340472186027, 1.2875124895895487, -0.5342416459509143, 0.8652415097498334, 1.5787699931065844, 0.801559529330312, 1.808507607789963, 0.8574514261933185, -2.4147665891905423, 1.7264760801920465, -0.06502278632303127, 0.3525427456543032, 0.012552047667873876, -0.6432254433376144, -0.4677216910558781, 0.3088421925727908, -0.24516716396534866, -1.0028937338811257, -0.11281611748353859, -0.21130491670513085, 1.1809298727624613, -1.3801349160393888, 0.6649025414857689, 0.07020479167028694, 1.740029943416659, 0.11709800890149423, -0.5814226348171162, -1.0019165405279373, -0.21731413282882847, 0.32370671894003944, 0.9948776149290441, 1.4343455034837274, 1.230642479260398, 0.4407683249017293, 1.1008062320678353, -0.5268935998638822, -0.19239595695956105, 0.6351734409776926, 0.694340808578521, -0.5603554691124976, -1.6720568576003965, 2.1469145635682256, 2.114961913817211, 0.6233672076422256, -0.3462142582361224, -2.4139182337762866, -2.126184965333488, 0.6670682066566681, 0.5925052023824063, -0.2640307238259685, 0.98890415493091, 0.31990550123503214, 1.116614817349527, 0.6146447422037827, 0.23811295524611592, -0.7621631571903236, 0.0005562339163062913, 0.3056800154965565, -0.7646734494718713, 0.7956242619405267, 1.1363915737491685, 0.5870292601155663]}],\n",
       "                        {\"legend\": {\"bgcolor\": \"#F5F6F9\", \"font\": {\"color\": \"#4D5663\"}}, \"paper_bgcolor\": \"#F5F6F9\", \"plot_bgcolor\": \"#F5F6F9\", \"template\": {\"data\": {\"bar\": [{\"error_x\": {\"color\": \"#2a3f5f\"}, \"error_y\": {\"color\": \"#2a3f5f\"}, \"marker\": {\"line\": {\"color\": \"#E5ECF6\", \"width\": 0.5}}, \"type\": \"bar\"}], \"barpolar\": [{\"marker\": {\"line\": {\"color\": \"#E5ECF6\", \"width\": 0.5}}, \"type\": \"barpolar\"}], \"carpet\": [{\"aaxis\": {\"endlinecolor\": \"#2a3f5f\", \"gridcolor\": \"white\", \"linecolor\": \"white\", \"minorgridcolor\": \"white\", \"startlinecolor\": \"#2a3f5f\"}, \"baxis\": {\"endlinecolor\": \"#2a3f5f\", \"gridcolor\": \"white\", \"linecolor\": \"white\", \"minorgridcolor\": \"white\", \"startlinecolor\": \"#2a3f5f\"}, \"type\": \"carpet\"}], \"choropleth\": [{\"colorbar\": {\"outlinewidth\": 0, \"ticks\": \"\"}, \"type\": \"choropleth\"}], \"contour\": [{\"colorbar\": {\"outlinewidth\": 0, \"ticks\": \"\"}, \"colorscale\": [[0.0, \"#0d0887\"], [0.1111111111111111, \"#46039f\"], [0.2222222222222222, \"#7201a8\"], [0.3333333333333333, \"#9c179e\"], [0.4444444444444444, \"#bd3786\"], [0.5555555555555556, \"#d8576b\"], [0.6666666666666666, \"#ed7953\"], [0.7777777777777778, \"#fb9f3a\"], [0.8888888888888888, \"#fdca26\"], [1.0, \"#f0f921\"]], \"type\": \"contour\"}], \"contourcarpet\": [{\"colorbar\": {\"outlinewidth\": 0, \"ticks\": \"\"}, \"type\": \"contourcarpet\"}], \"heatmap\": [{\"colorbar\": {\"outlinewidth\": 0, \"ticks\": \"\"}, \"colorscale\": [[0.0, \"#0d0887\"], [0.1111111111111111, \"#46039f\"], [0.2222222222222222, \"#7201a8\"], [0.3333333333333333, \"#9c179e\"], [0.4444444444444444, \"#bd3786\"], [0.5555555555555556, \"#d8576b\"], [0.6666666666666666, \"#ed7953\"], [0.7777777777777778, \"#fb9f3a\"], [0.8888888888888888, \"#fdca26\"], [1.0, \"#f0f921\"]], \"type\": \"heatmap\"}], \"heatmapgl\": [{\"colorbar\": {\"outlinewidth\": 0, \"ticks\": \"\"}, \"colorscale\": [[0.0, \"#0d0887\"], [0.1111111111111111, \"#46039f\"], [0.2222222222222222, \"#7201a8\"], [0.3333333333333333, \"#9c179e\"], [0.4444444444444444, \"#bd3786\"], [0.5555555555555556, \"#d8576b\"], [0.6666666666666666, \"#ed7953\"], [0.7777777777777778, \"#fb9f3a\"], [0.8888888888888888, \"#fdca26\"], [1.0, \"#f0f921\"]], \"type\": \"heatmapgl\"}], \"histogram\": [{\"marker\": {\"colorbar\": {\"outlinewidth\": 0, \"ticks\": \"\"}}, \"type\": \"histogram\"}], \"histogram2d\": [{\"colorbar\": {\"outlinewidth\": 0, \"ticks\": \"\"}, \"colorscale\": [[0.0, \"#0d0887\"], [0.1111111111111111, \"#46039f\"], [0.2222222222222222, \"#7201a8\"], [0.3333333333333333, \"#9c179e\"], [0.4444444444444444, \"#bd3786\"], [0.5555555555555556, \"#d8576b\"], [0.6666666666666666, \"#ed7953\"], [0.7777777777777778, \"#fb9f3a\"], [0.8888888888888888, \"#fdca26\"], [1.0, \"#f0f921\"]], \"type\": \"histogram2d\"}], \"histogram2dcontour\": [{\"colorbar\": {\"outlinewidth\": 0, \"ticks\": \"\"}, \"colorscale\": [[0.0, \"#0d0887\"], [0.1111111111111111, \"#46039f\"], [0.2222222222222222, \"#7201a8\"], [0.3333333333333333, \"#9c179e\"], [0.4444444444444444, \"#bd3786\"], [0.5555555555555556, \"#d8576b\"], [0.6666666666666666, \"#ed7953\"], [0.7777777777777778, \"#fb9f3a\"], [0.8888888888888888, \"#fdca26\"], [1.0, \"#f0f921\"]], \"type\": \"histogram2dcontour\"}], \"mesh3d\": [{\"colorbar\": {\"outlinewidth\": 0, \"ticks\": \"\"}, \"type\": \"mesh3d\"}], \"parcoords\": [{\"line\": {\"colorbar\": {\"outlinewidth\": 0, \"ticks\": \"\"}}, \"type\": \"parcoords\"}], \"pie\": [{\"automargin\": true, \"type\": \"pie\"}], \"scatter\": [{\"marker\": {\"colorbar\": {\"outlinewidth\": 0, \"ticks\": \"\"}}, \"type\": \"scatter\"}], \"scatter3d\": [{\"line\": {\"colorbar\": {\"outlinewidth\": 0, \"ticks\": \"\"}}, \"marker\": {\"colorbar\": {\"outlinewidth\": 0, \"ticks\": \"\"}}, \"type\": \"scatter3d\"}], \"scattercarpet\": [{\"marker\": {\"colorbar\": {\"outlinewidth\": 0, \"ticks\": \"\"}}, \"type\": \"scattercarpet\"}], \"scattergeo\": [{\"marker\": {\"colorbar\": {\"outlinewidth\": 0, \"ticks\": \"\"}}, \"type\": \"scattergeo\"}], \"scattergl\": [{\"marker\": {\"colorbar\": {\"outlinewidth\": 0, \"ticks\": \"\"}}, \"type\": \"scattergl\"}], \"scattermapbox\": [{\"marker\": {\"colorbar\": {\"outlinewidth\": 0, \"ticks\": \"\"}}, \"type\": \"scattermapbox\"}], \"scatterpolar\": [{\"marker\": {\"colorbar\": {\"outlinewidth\": 0, \"ticks\": \"\"}}, \"type\": \"scatterpolar\"}], \"scatterpolargl\": [{\"marker\": {\"colorbar\": {\"outlinewidth\": 0, \"ticks\": \"\"}}, \"type\": \"scatterpolargl\"}], \"scatterternary\": [{\"marker\": {\"colorbar\": {\"outlinewidth\": 0, \"ticks\": \"\"}}, \"type\": \"scatterternary\"}], \"surface\": [{\"colorbar\": {\"outlinewidth\": 0, \"ticks\": \"\"}, \"colorscale\": [[0.0, \"#0d0887\"], [0.1111111111111111, \"#46039f\"], [0.2222222222222222, \"#7201a8\"], [0.3333333333333333, \"#9c179e\"], [0.4444444444444444, \"#bd3786\"], [0.5555555555555556, \"#d8576b\"], [0.6666666666666666, \"#ed7953\"], [0.7777777777777778, \"#fb9f3a\"], [0.8888888888888888, \"#fdca26\"], [1.0, \"#f0f921\"]], \"type\": \"surface\"}], \"table\": [{\"cells\": {\"fill\": {\"color\": \"#EBF0F8\"}, \"line\": {\"color\": \"white\"}}, \"header\": {\"fill\": {\"color\": \"#C8D4E3\"}, \"line\": {\"color\": \"white\"}}, \"type\": \"table\"}]}, \"layout\": {\"annotationdefaults\": {\"arrowcolor\": \"#2a3f5f\", \"arrowhead\": 0, \"arrowwidth\": 1}, \"coloraxis\": {\"colorbar\": {\"outlinewidth\": 0, \"ticks\": \"\"}}, \"colorscale\": {\"diverging\": [[0, \"#8e0152\"], [0.1, \"#c51b7d\"], [0.2, \"#de77ae\"], [0.3, \"#f1b6da\"], [0.4, \"#fde0ef\"], [0.5, \"#f7f7f7\"], [0.6, \"#e6f5d0\"], [0.7, \"#b8e186\"], [0.8, \"#7fbc41\"], [0.9, \"#4d9221\"], [1, \"#276419\"]], \"sequential\": [[0.0, \"#0d0887\"], [0.1111111111111111, \"#46039f\"], [0.2222222222222222, \"#7201a8\"], [0.3333333333333333, \"#9c179e\"], [0.4444444444444444, \"#bd3786\"], [0.5555555555555556, \"#d8576b\"], [0.6666666666666666, \"#ed7953\"], [0.7777777777777778, \"#fb9f3a\"], [0.8888888888888888, \"#fdca26\"], [1.0, \"#f0f921\"]], \"sequentialminus\": [[0.0, \"#0d0887\"], [0.1111111111111111, \"#46039f\"], [0.2222222222222222, \"#7201a8\"], [0.3333333333333333, \"#9c179e\"], [0.4444444444444444, \"#bd3786\"], [0.5555555555555556, \"#d8576b\"], [0.6666666666666666, \"#ed7953\"], [0.7777777777777778, \"#fb9f3a\"], [0.8888888888888888, \"#fdca26\"], [1.0, \"#f0f921\"]]}, \"colorway\": [\"#636efa\", \"#EF553B\", \"#00cc96\", \"#ab63fa\", \"#FFA15A\", \"#19d3f3\", \"#FF6692\", \"#B6E880\", \"#FF97FF\", \"#FECB52\"], \"font\": {\"color\": \"#2a3f5f\"}, \"geo\": {\"bgcolor\": \"white\", \"lakecolor\": \"white\", \"landcolor\": \"#E5ECF6\", \"showlakes\": true, \"showland\": true, \"subunitcolor\": \"white\"}, \"hoverlabel\": {\"align\": \"left\"}, \"hovermode\": \"closest\", \"mapbox\": {\"style\": \"light\"}, \"paper_bgcolor\": \"white\", \"plot_bgcolor\": \"#E5ECF6\", \"polar\": {\"angularaxis\": {\"gridcolor\": \"white\", \"linecolor\": \"white\", \"ticks\": \"\"}, \"bgcolor\": \"#E5ECF6\", \"radialaxis\": {\"gridcolor\": \"white\", \"linecolor\": \"white\", \"ticks\": \"\"}}, \"scene\": {\"xaxis\": {\"backgroundcolor\": \"#E5ECF6\", \"gridcolor\": \"white\", \"gridwidth\": 2, \"linecolor\": \"white\", \"showbackground\": true, \"ticks\": \"\", \"zerolinecolor\": \"white\"}, \"yaxis\": {\"backgroundcolor\": \"#E5ECF6\", \"gridcolor\": \"white\", \"gridwidth\": 2, \"linecolor\": \"white\", \"showbackground\": true, \"ticks\": \"\", \"zerolinecolor\": \"white\"}, \"zaxis\": {\"backgroundcolor\": \"#E5ECF6\", \"gridcolor\": \"white\", \"gridwidth\": 2, \"linecolor\": \"white\", \"showbackground\": true, \"ticks\": \"\", \"zerolinecolor\": \"white\"}}, \"shapedefaults\": {\"line\": {\"color\": \"#2a3f5f\"}}, \"ternary\": {\"aaxis\": {\"gridcolor\": \"white\", \"linecolor\": \"white\", \"ticks\": \"\"}, \"baxis\": {\"gridcolor\": \"white\", \"linecolor\": \"white\", \"ticks\": \"\"}, \"bgcolor\": \"#E5ECF6\", \"caxis\": {\"gridcolor\": \"white\", \"linecolor\": \"white\", \"ticks\": \"\"}}, \"title\": {\"x\": 0.05}, \"xaxis\": {\"automargin\": true, \"gridcolor\": \"white\", \"linecolor\": \"white\", \"ticks\": \"\", \"title\": {\"standoff\": 15}, \"zerolinecolor\": \"white\", \"zerolinewidth\": 2}, \"yaxis\": {\"automargin\": true, \"gridcolor\": \"white\", \"linecolor\": \"white\", \"ticks\": \"\", \"title\": {\"standoff\": 15}, \"zerolinecolor\": \"white\", \"zerolinewidth\": 2}}}, \"title\": {\"font\": {\"color\": \"#4D5663\"}}, \"xaxis\": {\"gridcolor\": \"#E1E5ED\", \"showgrid\": true, \"tickfont\": {\"color\": \"#4D5663\"}, \"title\": {\"font\": {\"color\": \"#4D5663\"}, \"text\": \"\"}, \"zerolinecolor\": \"#E1E5ED\"}, \"yaxis\": {\"gridcolor\": \"#E1E5ED\", \"showgrid\": true, \"tickfont\": {\"color\": \"#4D5663\"}, \"title\": {\"font\": {\"color\": \"#4D5663\"}, \"text\": \"\"}, \"zerolinecolor\": \"#E1E5ED\"}},\n",
       "                        {\"showLink\": true, \"linkText\": \"Export to plot.ly\", \"plotlyServerURL\": \"https://plot.ly\", \"responsive\": true}\n",
       "                    ).then(function(){\n",
       "                            \n",
       "var gd = document.getElementById('2bd009e3-6b71-4072-af41-b2aa950bda10');\n",
       "var x = new MutationObserver(function (mutations, observer) {{\n",
       "        var display = window.getComputedStyle(gd).display;\n",
       "        if (!display || display === 'none') {{\n",
       "            console.log([gd, 'removed!']);\n",
       "            Plotly.purge(gd);\n",
       "            observer.disconnect();\n",
       "        }}\n",
       "}});\n",
       "\n",
       "// Listen for the removal of the full notebook cells\n",
       "var notebookContainer = gd.closest('#notebook-container');\n",
       "if (notebookContainer) {{\n",
       "    x.observe(notebookContainer, {childList: true});\n",
       "}}\n",
       "\n",
       "// Listen for the clearing of the current output cell\n",
       "var outputEl = gd.closest('.output');\n",
       "if (outputEl) {{\n",
       "    x.observe(outputEl, {childList: true});\n",
       "}}\n",
       "\n",
       "                        })\n",
       "                };\n",
       "                });\n",
       "            </script>\n",
       "        </div>"
      ]
     },
     "metadata": {},
     "output_type": "display_data"
    }
   ],
   "source": [
    "df1.iplot(kind='bubble',x='A',y='B',size='C')"
   ]
  },
  {
   "cell_type": "markdown",
   "metadata": {},
   "source": [
    "#### Scatter Matrix"
   ]
  },
  {
   "cell_type": "code",
   "execution_count": 77,
   "metadata": {},
   "outputs": [
    {
     "data": {
      "application/vnd.plotly.v1+json": {
       "config": {
        "linkText": "Export to plot.ly",
        "plotlyServerURL": "https://plot.ly",
        "showLink": true
       },
       "data": [
        {
         "histfunc": "count",
         "histnorm": "",
         "marker": {
          "color": "rgba(255, 153, 51, 1.0)",
          "line": {
           "color": "#4D5663",
           "width": 1.3
          }
         },
         "name": "A",
         "nbinsx": 10,
         "opacity": 0.8,
         "orientation": "v",
         "type": "histogram",
         "x": [
          1.03550403305365,
          1.0884452472323425,
          -0.8238221561084681,
          -1.165409106210997,
          0.06314234757509121,
          0.28403331754428096,
          1.3031142849283257,
          -0.5330006379394974,
          0.9239955720458833,
          -0.3404308950020115,
          0.49705351026645744,
          0.11995406868417582,
          2.8763886700822554,
          0.9193262205319692,
          0.3949826146380539,
          0.1398009361049872,
          -0.2389551947409717,
          1.7631889811772778,
          0.9423296126061489,
          0.6967921196412008,
          -0.5414352907350243,
          -2.036531823296873,
          -0.24433216283716166,
          -0.6095837637269612,
          -0.8657030628068533,
          -1.3290908432224944,
          0.12455980476667877,
          1.0184694806034515,
          -1.183099026560509,
          -1.9117478241953998,
          1.5901480473509917,
          0.036261728019634634,
          -1.4686201375953223,
          0.23850038429899692,
          0.9850551573259738,
          0.2343911390852982,
          1.6218946767897775,
          0.6092426949738955,
          0.4316571530869879,
          -0.3497700989320226,
          0.0630769975004216,
          -1.7473220089492396,
          0.9992032559911043,
          -0.46947268822447513,
          -1.5169497942671446,
          -0.83250174584291,
          -0.4968973159748692,
          -0.961293262106367,
          1.57489946216533,
          0.12352962553924367,
          1.1956965136368198,
          0.2622356680889761,
          -1.3592917794393795,
          -1.3888127276879452,
          -0.4192232294633762,
          0.2162221432499591,
          2.3852910763547004,
          -1.3123647706286883,
          0.2612934369110763,
          0.8613442539868962,
          -2.199294295056723,
          0.586695375572083,
          -0.49651894860239854,
          -0.06531819539664627,
          -1.8735956634836917,
          -0.922282193523706,
          -0.1390551342534496,
          -2.07229926650626,
          -0.3136402802450524,
          1.2721102467999612,
          1.2212916123327877,
          0.4263336106747266,
          -1.3278513626090733,
          -1.4901785369107048,
          0.3370979010819831,
          1.1609741420348372,
          -1.4052615141974583,
          -1.675537604560082,
          -0.8470611330808606,
          0.846711142348439,
          1.6207509512727276,
          0.9628774645331151,
          0.08415610063834954,
          2.0515464720858776,
          0.3989174309260779,
          0.5284312945429028,
          1.316248220757381,
          0.07911639704636868,
          0.5625901301013624,
          0.10809718712260306,
          0.05558043354838223,
          1.653387809021809,
          0.19613717511683407,
          -1.0636425270979382,
          -2.3361375217663913,
          1.170649467749388,
          -1.1175819973708243,
          -0.9877716720625392,
          1.1344780752246988,
          2.753133920603948
         ],
         "xaxis": "x",
         "yaxis": "y"
        },
        {
         "line": {
          "color": "rgba(128, 128, 128, 1.0)",
          "dash": "solid",
          "shape": "linear",
          "width": 1.3
         },
         "marker": {
          "size": 2,
          "symbol": "circle"
         },
         "mode": "markers",
         "name": "A",
         "text": "",
         "type": "scatter",
         "x": [
          1.8960119593872942,
          -0.9013887599486713,
          -1.3179328495735878,
          0.5093309293244226,
          0.0686381546170349,
          -2.0476722168076367,
          -1.2434170473032558,
          0.3917194929936394,
          0.08754198693204741,
          1.8742193519276948,
          -0.34000427728927657,
          0.5808930813656673,
          -0.9185932288750916,
          -0.4370652175550562,
          0.1615291650092262,
          -0.5573801868161586,
          0.20872127272273155,
          1.5038452901928197,
          0.3810687629989386,
          0.7531014416401095,
          0.47515844401649343,
          -1.3117037828849436,
          -1.1128339786035324,
          1.029572365045059,
          -0.6998734664959823,
          0.38491468084915426,
          -0.851322628406908,
          0.20712468604181208,
          -1.0443583025142498,
          -0.5585025465631798,
          1.6133603060244144,
          0.6650436363899097,
          0.43497836743006446,
          -0.3135901937525547,
          -1.035819537740092,
          0.16500645542112155,
          -0.9797413668441683,
          1.1709202821872366,
          -0.3720340472186027,
          1.2875124895895487,
          -0.5342416459509143,
          0.8652415097498334,
          1.5787699931065844,
          0.801559529330312,
          1.808507607789963,
          0.8574514261933185,
          -2.4147665891905423,
          1.7264760801920465,
          -0.06502278632303127,
          0.3525427456543032,
          0.012552047667873876,
          -0.6432254433376144,
          -0.4677216910558781,
          0.3088421925727908,
          -0.24516716396534866,
          -1.0028937338811257,
          -0.11281611748353859,
          -0.21130491670513085,
          1.1809298727624613,
          -1.3801349160393888,
          0.6649025414857689,
          0.07020479167028694,
          1.740029943416659,
          0.11709800890149423,
          -0.5814226348171162,
          -1.0019165405279373,
          -0.21731413282882847,
          0.32370671894003944,
          0.9948776149290441,
          1.4343455034837274,
          1.230642479260398,
          0.4407683249017293,
          1.1008062320678353,
          -0.5268935998638822,
          -0.19239595695956105,
          0.6351734409776926,
          0.694340808578521,
          -0.5603554691124976,
          -1.6720568576003965,
          2.1469145635682256,
          2.114961913817211,
          0.6233672076422256,
          -0.3462142582361224,
          -2.4139182337762866,
          -2.126184965333488,
          0.6670682066566681,
          0.5925052023824063,
          -0.2640307238259685,
          0.98890415493091,
          0.31990550123503214,
          1.116614817349527,
          0.6146447422037827,
          0.23811295524611592,
          -0.7621631571903236,
          0.0005562339163062913,
          0.3056800154965565,
          -0.7646734494718713,
          0.7956242619405267,
          1.1363915737491685,
          0.5870292601155663
         ],
         "xaxis": "x2",
         "y": [
          1.03550403305365,
          1.0884452472323425,
          -0.8238221561084681,
          -1.165409106210997,
          0.06314234757509121,
          0.28403331754428096,
          1.3031142849283257,
          -0.5330006379394974,
          0.9239955720458833,
          -0.3404308950020115,
          0.49705351026645744,
          0.11995406868417582,
          2.8763886700822554,
          0.9193262205319692,
          0.3949826146380539,
          0.1398009361049872,
          -0.2389551947409717,
          1.7631889811772778,
          0.9423296126061489,
          0.6967921196412008,
          -0.5414352907350243,
          -2.036531823296873,
          -0.24433216283716166,
          -0.6095837637269612,
          -0.8657030628068533,
          -1.3290908432224944,
          0.12455980476667877,
          1.0184694806034515,
          -1.183099026560509,
          -1.9117478241953998,
          1.5901480473509917,
          0.036261728019634634,
          -1.4686201375953223,
          0.23850038429899692,
          0.9850551573259738,
          0.2343911390852982,
          1.6218946767897775,
          0.6092426949738955,
          0.4316571530869879,
          -0.3497700989320226,
          0.0630769975004216,
          -1.7473220089492396,
          0.9992032559911043,
          -0.46947268822447513,
          -1.5169497942671446,
          -0.83250174584291,
          -0.4968973159748692,
          -0.961293262106367,
          1.57489946216533,
          0.12352962553924367,
          1.1956965136368198,
          0.2622356680889761,
          -1.3592917794393795,
          -1.3888127276879452,
          -0.4192232294633762,
          0.2162221432499591,
          2.3852910763547004,
          -1.3123647706286883,
          0.2612934369110763,
          0.8613442539868962,
          -2.199294295056723,
          0.586695375572083,
          -0.49651894860239854,
          -0.06531819539664627,
          -1.8735956634836917,
          -0.922282193523706,
          -0.1390551342534496,
          -2.07229926650626,
          -0.3136402802450524,
          1.2721102467999612,
          1.2212916123327877,
          0.4263336106747266,
          -1.3278513626090733,
          -1.4901785369107048,
          0.3370979010819831,
          1.1609741420348372,
          -1.4052615141974583,
          -1.675537604560082,
          -0.8470611330808606,
          0.846711142348439,
          1.6207509512727276,
          0.9628774645331151,
          0.08415610063834954,
          2.0515464720858776,
          0.3989174309260779,
          0.5284312945429028,
          1.316248220757381,
          0.07911639704636868,
          0.5625901301013624,
          0.10809718712260306,
          0.05558043354838223,
          1.653387809021809,
          0.19613717511683407,
          -1.0636425270979382,
          -2.3361375217663913,
          1.170649467749388,
          -1.1175819973708243,
          -0.9877716720625392,
          1.1344780752246988,
          2.753133920603948
         ],
         "yaxis": "y2"
        },
        {
         "line": {
          "color": "rgba(128, 128, 128, 1.0)",
          "dash": "solid",
          "shape": "linear",
          "width": 1.3
         },
         "marker": {
          "size": 2,
          "symbol": "circle"
         },
         "mode": "markers",
         "name": "A",
         "text": "",
         "type": "scatter",
         "x": [
          -0.31235344268957305,
          -0.779291184008495,
          -0.3382378313641103,
          1.5421481134590849,
          -1.3551621221442123,
          -0.33340180454056784,
          1.665296944513379,
          -0.32763611518520985,
          0.2609174602920684,
          1.6395212351276283,
          0.9912710012311396,
          -1.4019081191169263,
          -1.458481412138232,
          -0.07304151076635769,
          0.1221095950313633,
          -2.2286451162858807,
          0.08237034692735798,
          1.7750430436973565,
          -0.7511221498733812,
          -0.01841886398274809,
          0.3509648204240912,
          -0.4678989936030183,
          -0.07150780483206723,
          -1.3762431724055342,
          1.5326017377318464,
          0.4983811025203121,
          -0.6795782051592428,
          -1.2656471093840016,
          0.392297234389132,
          0.24799131200879226,
          -1.0526228366086938,
          0.5235704896437962,
          -2.1105760386913204,
          -0.9241436610842272,
          1.7332599843659915,
          -0.9370479961582932,
          0.8263952807279571,
          -0.9208933905587741,
          -0.1538715791291248,
          0.4013805447984194,
          -0.8438962555943664,
          0.2840391365053848,
          0.7233997398011442,
          1.2509113718825278,
          -0.4222341192657711,
          0.2547359853722564,
          1.1865136808993528,
          0.01875822993183538,
          -0.021890938217392852,
          0.3308619824488176,
          0.5302273579361191,
          0.5715254621147243,
          0.9531877249301393,
          -0.86812801411079,
          -0.003632374883951981,
          -1.0424190239275244,
          -0.06131038034819389,
          -0.7235001630887572,
          -0.6740685444674551,
          -0.15891045604359477,
          1.3402898073715057,
          0.958617214426853,
          -0.6958427995651298,
          -0.5815808665306819,
          -0.39845785266202827,
          -0.39936376026592535,
          0.04125767678413521,
          0.24907653795296583,
          -0.9311076163727938,
          0.5572243135699384,
          0.46838393501357034,
          0.5760126083194442,
          -0.5688066170943136,
          -0.12984686598054374,
          -1.8368011291388542,
          -1.8362250489634662,
          -0.31162448112682783,
          0.2351904211051621,
          -1.2303712522426633,
          0.803472556092731,
          1.416412724412486,
          1.0460389280210196,
          -1.7284715283664749,
          -0.9265549820848047,
          -1.0629618896047572,
          0.5134434439148944,
          -0.8814579803703178,
          -0.22978633789459266,
          2.3553289181892407,
          -0.07690735215068391,
          -0.848160029587419,
          -0.5875614140450401,
          0.3113488458077335,
          -0.31003966124401394,
          1.4804871534955693,
          -1.3732313567546572,
          0.902320280180013,
          0.7244150084856815,
          0.8314704704799247,
          -0.21398466359923993
         ],
         "xaxis": "x3",
         "y": [
          1.03550403305365,
          1.0884452472323425,
          -0.8238221561084681,
          -1.165409106210997,
          0.06314234757509121,
          0.28403331754428096,
          1.3031142849283257,
          -0.5330006379394974,
          0.9239955720458833,
          -0.3404308950020115,
          0.49705351026645744,
          0.11995406868417582,
          2.8763886700822554,
          0.9193262205319692,
          0.3949826146380539,
          0.1398009361049872,
          -0.2389551947409717,
          1.7631889811772778,
          0.9423296126061489,
          0.6967921196412008,
          -0.5414352907350243,
          -2.036531823296873,
          -0.24433216283716166,
          -0.6095837637269612,
          -0.8657030628068533,
          -1.3290908432224944,
          0.12455980476667877,
          1.0184694806034515,
          -1.183099026560509,
          -1.9117478241953998,
          1.5901480473509917,
          0.036261728019634634,
          -1.4686201375953223,
          0.23850038429899692,
          0.9850551573259738,
          0.2343911390852982,
          1.6218946767897775,
          0.6092426949738955,
          0.4316571530869879,
          -0.3497700989320226,
          0.0630769975004216,
          -1.7473220089492396,
          0.9992032559911043,
          -0.46947268822447513,
          -1.5169497942671446,
          -0.83250174584291,
          -0.4968973159748692,
          -0.961293262106367,
          1.57489946216533,
          0.12352962553924367,
          1.1956965136368198,
          0.2622356680889761,
          -1.3592917794393795,
          -1.3888127276879452,
          -0.4192232294633762,
          0.2162221432499591,
          2.3852910763547004,
          -1.3123647706286883,
          0.2612934369110763,
          0.8613442539868962,
          -2.199294295056723,
          0.586695375572083,
          -0.49651894860239854,
          -0.06531819539664627,
          -1.8735956634836917,
          -0.922282193523706,
          -0.1390551342534496,
          -2.07229926650626,
          -0.3136402802450524,
          1.2721102467999612,
          1.2212916123327877,
          0.4263336106747266,
          -1.3278513626090733,
          -1.4901785369107048,
          0.3370979010819831,
          1.1609741420348372,
          -1.4052615141974583,
          -1.675537604560082,
          -0.8470611330808606,
          0.846711142348439,
          1.6207509512727276,
          0.9628774645331151,
          0.08415610063834954,
          2.0515464720858776,
          0.3989174309260779,
          0.5284312945429028,
          1.316248220757381,
          0.07911639704636868,
          0.5625901301013624,
          0.10809718712260306,
          0.05558043354838223,
          1.653387809021809,
          0.19613717511683407,
          -1.0636425270979382,
          -2.3361375217663913,
          1.170649467749388,
          -1.1175819973708243,
          -0.9877716720625392,
          1.1344780752246988,
          2.753133920603948
         ],
         "yaxis": "y3"
        },
        {
         "line": {
          "color": "rgba(128, 128, 128, 1.0)",
          "dash": "solid",
          "shape": "linear",
          "width": 1.3
         },
         "marker": {
          "size": 2,
          "symbol": "circle"
         },
         "mode": "markers",
         "name": "A",
         "text": "",
         "type": "scatter",
         "x": [
          1.0501846747475807,
          -0.2631622600665042,
          -1.7403044791255877,
          -0.49270096000479324,
          -1.266095965737075,
          -0.79041828917442,
          -2.9077287476812814,
          0.5162476509677758,
          -0.7174430378950274,
          0.2706549456708596,
          1.0573039873448888,
          -0.5600414520013582,
          0.9754910522734861,
          0.692212074791335,
          -0.2668207194598693,
          -1.1770830167086077,
          0.4966582090084445,
          0.30526131642048454,
          0.9160256136980789,
          -1.5918295650442957,
          0.02977026538641927,
          -1.7172731979615743,
          -0.16174746327733458,
          1.8427204049825525,
          -0.7070357286280311,
          -1.5063320055032123,
          -0.6975635973077675,
          1.2139295569562687,
          0.2673960751229431,
          -0.783315246893848,
          -0.5072663992950421,
          0.5870448767884239,
          0.5601074508584243,
          -0.2637481454065867,
          -0.7719795045926394,
          0.8886942146784562,
          -0.180650310216546,
          -0.5381770917545685,
          -1.4051286558709084,
          -0.15570765448750165,
          0.09307128198913218,
          -0.18151631488798683,
          0.310787850486599,
          0.4918763947131808,
          0.6905827746980921,
          0.16693538146178163,
          1.4122462316005135,
          1.016677403837887,
          -0.6854839792266426,
          -0.5809831911943966,
          -2.184806133330967,
          -0.3688091129235744,
          -0.40548108117032877,
          1.339731057473646,
          -0.9428106033223824,
          0.6613579874430183,
          0.9202754253501984,
          2.4143459436610955,
          0.29157535161896586,
          1.293398970613332,
          -1.9738145496888437,
          0.19483371940869532,
          -0.7898763563357196,
          -1.1159067513199046,
          0.8634416674887178,
          1.8087502331064784,
          -0.1873966626930624,
          -0.02902665910273575,
          0.20943796269246906,
          1.094678799697476,
          0.20675945704454388,
          -0.9283200224952756,
          1.9189085221682376,
          -0.6738438434566502,
          0.950432788311642,
          0.2683051509918545,
          0.5269430013778346,
          -0.8311589580073511,
          -0.08979753977451058,
          -0.28135666411071003,
          -0.36891736319069823,
          -0.6351896533405529,
          1.725810775721876,
          -1.2370318338049597,
          -0.21501903771022107,
          0.2069549912563331,
          -1.4782321340741926,
          -2.0347856211560686,
          1.1417074936945315,
          0.13726081355615155,
          -1.0568924133839583,
          0.6840980919865118,
          -1.5722044419324286,
          0.300415657494318,
          1.3111348856256066,
          1.7505717975611537,
          -0.8078893163791052,
          -0.8247084630691421,
          1.5035738332033604,
          0.05881221943485587
         ],
         "xaxis": "x4",
         "y": [
          1.03550403305365,
          1.0884452472323425,
          -0.8238221561084681,
          -1.165409106210997,
          0.06314234757509121,
          0.28403331754428096,
          1.3031142849283257,
          -0.5330006379394974,
          0.9239955720458833,
          -0.3404308950020115,
          0.49705351026645744,
          0.11995406868417582,
          2.8763886700822554,
          0.9193262205319692,
          0.3949826146380539,
          0.1398009361049872,
          -0.2389551947409717,
          1.7631889811772778,
          0.9423296126061489,
          0.6967921196412008,
          -0.5414352907350243,
          -2.036531823296873,
          -0.24433216283716166,
          -0.6095837637269612,
          -0.8657030628068533,
          -1.3290908432224944,
          0.12455980476667877,
          1.0184694806034515,
          -1.183099026560509,
          -1.9117478241953998,
          1.5901480473509917,
          0.036261728019634634,
          -1.4686201375953223,
          0.23850038429899692,
          0.9850551573259738,
          0.2343911390852982,
          1.6218946767897775,
          0.6092426949738955,
          0.4316571530869879,
          -0.3497700989320226,
          0.0630769975004216,
          -1.7473220089492396,
          0.9992032559911043,
          -0.46947268822447513,
          -1.5169497942671446,
          -0.83250174584291,
          -0.4968973159748692,
          -0.961293262106367,
          1.57489946216533,
          0.12352962553924367,
          1.1956965136368198,
          0.2622356680889761,
          -1.3592917794393795,
          -1.3888127276879452,
          -0.4192232294633762,
          0.2162221432499591,
          2.3852910763547004,
          -1.3123647706286883,
          0.2612934369110763,
          0.8613442539868962,
          -2.199294295056723,
          0.586695375572083,
          -0.49651894860239854,
          -0.06531819539664627,
          -1.8735956634836917,
          -0.922282193523706,
          -0.1390551342534496,
          -2.07229926650626,
          -0.3136402802450524,
          1.2721102467999612,
          1.2212916123327877,
          0.4263336106747266,
          -1.3278513626090733,
          -1.4901785369107048,
          0.3370979010819831,
          1.1609741420348372,
          -1.4052615141974583,
          -1.675537604560082,
          -0.8470611330808606,
          0.846711142348439,
          1.6207509512727276,
          0.9628774645331151,
          0.08415610063834954,
          2.0515464720858776,
          0.3989174309260779,
          0.5284312945429028,
          1.316248220757381,
          0.07911639704636868,
          0.5625901301013624,
          0.10809718712260306,
          0.05558043354838223,
          1.653387809021809,
          0.19613717511683407,
          -1.0636425270979382,
          -2.3361375217663913,
          1.170649467749388,
          -1.1175819973708243,
          -0.9877716720625392,
          1.1344780752246988,
          2.753133920603948
         ],
         "yaxis": "y4"
        },
        {
         "line": {
          "color": "rgba(128, 128, 128, 1.0)",
          "dash": "solid",
          "shape": "linear",
          "width": 1.3
         },
         "marker": {
          "size": 2,
          "symbol": "circle"
         },
         "mode": "markers",
         "name": "B",
         "text": "",
         "type": "scatter",
         "x": [
          1.03550403305365,
          1.0884452472323425,
          -0.8238221561084681,
          -1.165409106210997,
          0.06314234757509121,
          0.28403331754428096,
          1.3031142849283257,
          -0.5330006379394974,
          0.9239955720458833,
          -0.3404308950020115,
          0.49705351026645744,
          0.11995406868417582,
          2.8763886700822554,
          0.9193262205319692,
          0.3949826146380539,
          0.1398009361049872,
          -0.2389551947409717,
          1.7631889811772778,
          0.9423296126061489,
          0.6967921196412008,
          -0.5414352907350243,
          -2.036531823296873,
          -0.24433216283716166,
          -0.6095837637269612,
          -0.8657030628068533,
          -1.3290908432224944,
          0.12455980476667877,
          1.0184694806034515,
          -1.183099026560509,
          -1.9117478241953998,
          1.5901480473509917,
          0.036261728019634634,
          -1.4686201375953223,
          0.23850038429899692,
          0.9850551573259738,
          0.2343911390852982,
          1.6218946767897775,
          0.6092426949738955,
          0.4316571530869879,
          -0.3497700989320226,
          0.0630769975004216,
          -1.7473220089492396,
          0.9992032559911043,
          -0.46947268822447513,
          -1.5169497942671446,
          -0.83250174584291,
          -0.4968973159748692,
          -0.961293262106367,
          1.57489946216533,
          0.12352962553924367,
          1.1956965136368198,
          0.2622356680889761,
          -1.3592917794393795,
          -1.3888127276879452,
          -0.4192232294633762,
          0.2162221432499591,
          2.3852910763547004,
          -1.3123647706286883,
          0.2612934369110763,
          0.8613442539868962,
          -2.199294295056723,
          0.586695375572083,
          -0.49651894860239854,
          -0.06531819539664627,
          -1.8735956634836917,
          -0.922282193523706,
          -0.1390551342534496,
          -2.07229926650626,
          -0.3136402802450524,
          1.2721102467999612,
          1.2212916123327877,
          0.4263336106747266,
          -1.3278513626090733,
          -1.4901785369107048,
          0.3370979010819831,
          1.1609741420348372,
          -1.4052615141974583,
          -1.675537604560082,
          -0.8470611330808606,
          0.846711142348439,
          1.6207509512727276,
          0.9628774645331151,
          0.08415610063834954,
          2.0515464720858776,
          0.3989174309260779,
          0.5284312945429028,
          1.316248220757381,
          0.07911639704636868,
          0.5625901301013624,
          0.10809718712260306,
          0.05558043354838223,
          1.653387809021809,
          0.19613717511683407,
          -1.0636425270979382,
          -2.3361375217663913,
          1.170649467749388,
          -1.1175819973708243,
          -0.9877716720625392,
          1.1344780752246988,
          2.753133920603948
         ],
         "xaxis": "x5",
         "y": [
          1.8960119593872942,
          -0.9013887599486713,
          -1.3179328495735878,
          0.5093309293244226,
          0.0686381546170349,
          -2.0476722168076367,
          -1.2434170473032558,
          0.3917194929936394,
          0.08754198693204741,
          1.8742193519276948,
          -0.34000427728927657,
          0.5808930813656673,
          -0.9185932288750916,
          -0.4370652175550562,
          0.1615291650092262,
          -0.5573801868161586,
          0.20872127272273155,
          1.5038452901928197,
          0.3810687629989386,
          0.7531014416401095,
          0.47515844401649343,
          -1.3117037828849436,
          -1.1128339786035324,
          1.029572365045059,
          -0.6998734664959823,
          0.38491468084915426,
          -0.851322628406908,
          0.20712468604181208,
          -1.0443583025142498,
          -0.5585025465631798,
          1.6133603060244144,
          0.6650436363899097,
          0.43497836743006446,
          -0.3135901937525547,
          -1.035819537740092,
          0.16500645542112155,
          -0.9797413668441683,
          1.1709202821872366,
          -0.3720340472186027,
          1.2875124895895487,
          -0.5342416459509143,
          0.8652415097498334,
          1.5787699931065844,
          0.801559529330312,
          1.808507607789963,
          0.8574514261933185,
          -2.4147665891905423,
          1.7264760801920465,
          -0.06502278632303127,
          0.3525427456543032,
          0.012552047667873876,
          -0.6432254433376144,
          -0.4677216910558781,
          0.3088421925727908,
          -0.24516716396534866,
          -1.0028937338811257,
          -0.11281611748353859,
          -0.21130491670513085,
          1.1809298727624613,
          -1.3801349160393888,
          0.6649025414857689,
          0.07020479167028694,
          1.740029943416659,
          0.11709800890149423,
          -0.5814226348171162,
          -1.0019165405279373,
          -0.21731413282882847,
          0.32370671894003944,
          0.9948776149290441,
          1.4343455034837274,
          1.230642479260398,
          0.4407683249017293,
          1.1008062320678353,
          -0.5268935998638822,
          -0.19239595695956105,
          0.6351734409776926,
          0.694340808578521,
          -0.5603554691124976,
          -1.6720568576003965,
          2.1469145635682256,
          2.114961913817211,
          0.6233672076422256,
          -0.3462142582361224,
          -2.4139182337762866,
          -2.126184965333488,
          0.6670682066566681,
          0.5925052023824063,
          -0.2640307238259685,
          0.98890415493091,
          0.31990550123503214,
          1.116614817349527,
          0.6146447422037827,
          0.23811295524611592,
          -0.7621631571903236,
          0.0005562339163062913,
          0.3056800154965565,
          -0.7646734494718713,
          0.7956242619405267,
          1.1363915737491685,
          0.5870292601155663
         ],
         "yaxis": "y5"
        },
        {
         "histfunc": "count",
         "histnorm": "",
         "marker": {
          "color": "rgba(55, 128, 191, 1.0)",
          "line": {
           "color": "#4D5663",
           "width": 1.3
          }
         },
         "name": "B",
         "nbinsx": 10,
         "opacity": 0.8,
         "orientation": "v",
         "type": "histogram",
         "x": [
          1.8960119593872942,
          -0.9013887599486713,
          -1.3179328495735878,
          0.5093309293244226,
          0.0686381546170349,
          -2.0476722168076367,
          -1.2434170473032558,
          0.3917194929936394,
          0.08754198693204741,
          1.8742193519276948,
          -0.34000427728927657,
          0.5808930813656673,
          -0.9185932288750916,
          -0.4370652175550562,
          0.1615291650092262,
          -0.5573801868161586,
          0.20872127272273155,
          1.5038452901928197,
          0.3810687629989386,
          0.7531014416401095,
          0.47515844401649343,
          -1.3117037828849436,
          -1.1128339786035324,
          1.029572365045059,
          -0.6998734664959823,
          0.38491468084915426,
          -0.851322628406908,
          0.20712468604181208,
          -1.0443583025142498,
          -0.5585025465631798,
          1.6133603060244144,
          0.6650436363899097,
          0.43497836743006446,
          -0.3135901937525547,
          -1.035819537740092,
          0.16500645542112155,
          -0.9797413668441683,
          1.1709202821872366,
          -0.3720340472186027,
          1.2875124895895487,
          -0.5342416459509143,
          0.8652415097498334,
          1.5787699931065844,
          0.801559529330312,
          1.808507607789963,
          0.8574514261933185,
          -2.4147665891905423,
          1.7264760801920465,
          -0.06502278632303127,
          0.3525427456543032,
          0.012552047667873876,
          -0.6432254433376144,
          -0.4677216910558781,
          0.3088421925727908,
          -0.24516716396534866,
          -1.0028937338811257,
          -0.11281611748353859,
          -0.21130491670513085,
          1.1809298727624613,
          -1.3801349160393888,
          0.6649025414857689,
          0.07020479167028694,
          1.740029943416659,
          0.11709800890149423,
          -0.5814226348171162,
          -1.0019165405279373,
          -0.21731413282882847,
          0.32370671894003944,
          0.9948776149290441,
          1.4343455034837274,
          1.230642479260398,
          0.4407683249017293,
          1.1008062320678353,
          -0.5268935998638822,
          -0.19239595695956105,
          0.6351734409776926,
          0.694340808578521,
          -0.5603554691124976,
          -1.6720568576003965,
          2.1469145635682256,
          2.114961913817211,
          0.6233672076422256,
          -0.3462142582361224,
          -2.4139182337762866,
          -2.126184965333488,
          0.6670682066566681,
          0.5925052023824063,
          -0.2640307238259685,
          0.98890415493091,
          0.31990550123503214,
          1.116614817349527,
          0.6146447422037827,
          0.23811295524611592,
          -0.7621631571903236,
          0.0005562339163062913,
          0.3056800154965565,
          -0.7646734494718713,
          0.7956242619405267,
          1.1363915737491685,
          0.5870292601155663
         ],
         "xaxis": "x6",
         "yaxis": "y6"
        },
        {
         "line": {
          "color": "rgba(128, 128, 128, 1.0)",
          "dash": "solid",
          "shape": "linear",
          "width": 1.3
         },
         "marker": {
          "size": 2,
          "symbol": "circle"
         },
         "mode": "markers",
         "name": "B",
         "text": "",
         "type": "scatter",
         "x": [
          -0.31235344268957305,
          -0.779291184008495,
          -0.3382378313641103,
          1.5421481134590849,
          -1.3551621221442123,
          -0.33340180454056784,
          1.665296944513379,
          -0.32763611518520985,
          0.2609174602920684,
          1.6395212351276283,
          0.9912710012311396,
          -1.4019081191169263,
          -1.458481412138232,
          -0.07304151076635769,
          0.1221095950313633,
          -2.2286451162858807,
          0.08237034692735798,
          1.7750430436973565,
          -0.7511221498733812,
          -0.01841886398274809,
          0.3509648204240912,
          -0.4678989936030183,
          -0.07150780483206723,
          -1.3762431724055342,
          1.5326017377318464,
          0.4983811025203121,
          -0.6795782051592428,
          -1.2656471093840016,
          0.392297234389132,
          0.24799131200879226,
          -1.0526228366086938,
          0.5235704896437962,
          -2.1105760386913204,
          -0.9241436610842272,
          1.7332599843659915,
          -0.9370479961582932,
          0.8263952807279571,
          -0.9208933905587741,
          -0.1538715791291248,
          0.4013805447984194,
          -0.8438962555943664,
          0.2840391365053848,
          0.7233997398011442,
          1.2509113718825278,
          -0.4222341192657711,
          0.2547359853722564,
          1.1865136808993528,
          0.01875822993183538,
          -0.021890938217392852,
          0.3308619824488176,
          0.5302273579361191,
          0.5715254621147243,
          0.9531877249301393,
          -0.86812801411079,
          -0.003632374883951981,
          -1.0424190239275244,
          -0.06131038034819389,
          -0.7235001630887572,
          -0.6740685444674551,
          -0.15891045604359477,
          1.3402898073715057,
          0.958617214426853,
          -0.6958427995651298,
          -0.5815808665306819,
          -0.39845785266202827,
          -0.39936376026592535,
          0.04125767678413521,
          0.24907653795296583,
          -0.9311076163727938,
          0.5572243135699384,
          0.46838393501357034,
          0.5760126083194442,
          -0.5688066170943136,
          -0.12984686598054374,
          -1.8368011291388542,
          -1.8362250489634662,
          -0.31162448112682783,
          0.2351904211051621,
          -1.2303712522426633,
          0.803472556092731,
          1.416412724412486,
          1.0460389280210196,
          -1.7284715283664749,
          -0.9265549820848047,
          -1.0629618896047572,
          0.5134434439148944,
          -0.8814579803703178,
          -0.22978633789459266,
          2.3553289181892407,
          -0.07690735215068391,
          -0.848160029587419,
          -0.5875614140450401,
          0.3113488458077335,
          -0.31003966124401394,
          1.4804871534955693,
          -1.3732313567546572,
          0.902320280180013,
          0.7244150084856815,
          0.8314704704799247,
          -0.21398466359923993
         ],
         "xaxis": "x7",
         "y": [
          1.8960119593872942,
          -0.9013887599486713,
          -1.3179328495735878,
          0.5093309293244226,
          0.0686381546170349,
          -2.0476722168076367,
          -1.2434170473032558,
          0.3917194929936394,
          0.08754198693204741,
          1.8742193519276948,
          -0.34000427728927657,
          0.5808930813656673,
          -0.9185932288750916,
          -0.4370652175550562,
          0.1615291650092262,
          -0.5573801868161586,
          0.20872127272273155,
          1.5038452901928197,
          0.3810687629989386,
          0.7531014416401095,
          0.47515844401649343,
          -1.3117037828849436,
          -1.1128339786035324,
          1.029572365045059,
          -0.6998734664959823,
          0.38491468084915426,
          -0.851322628406908,
          0.20712468604181208,
          -1.0443583025142498,
          -0.5585025465631798,
          1.6133603060244144,
          0.6650436363899097,
          0.43497836743006446,
          -0.3135901937525547,
          -1.035819537740092,
          0.16500645542112155,
          -0.9797413668441683,
          1.1709202821872366,
          -0.3720340472186027,
          1.2875124895895487,
          -0.5342416459509143,
          0.8652415097498334,
          1.5787699931065844,
          0.801559529330312,
          1.808507607789963,
          0.8574514261933185,
          -2.4147665891905423,
          1.7264760801920465,
          -0.06502278632303127,
          0.3525427456543032,
          0.012552047667873876,
          -0.6432254433376144,
          -0.4677216910558781,
          0.3088421925727908,
          -0.24516716396534866,
          -1.0028937338811257,
          -0.11281611748353859,
          -0.21130491670513085,
          1.1809298727624613,
          -1.3801349160393888,
          0.6649025414857689,
          0.07020479167028694,
          1.740029943416659,
          0.11709800890149423,
          -0.5814226348171162,
          -1.0019165405279373,
          -0.21731413282882847,
          0.32370671894003944,
          0.9948776149290441,
          1.4343455034837274,
          1.230642479260398,
          0.4407683249017293,
          1.1008062320678353,
          -0.5268935998638822,
          -0.19239595695956105,
          0.6351734409776926,
          0.694340808578521,
          -0.5603554691124976,
          -1.6720568576003965,
          2.1469145635682256,
          2.114961913817211,
          0.6233672076422256,
          -0.3462142582361224,
          -2.4139182337762866,
          -2.126184965333488,
          0.6670682066566681,
          0.5925052023824063,
          -0.2640307238259685,
          0.98890415493091,
          0.31990550123503214,
          1.116614817349527,
          0.6146447422037827,
          0.23811295524611592,
          -0.7621631571903236,
          0.0005562339163062913,
          0.3056800154965565,
          -0.7646734494718713,
          0.7956242619405267,
          1.1363915737491685,
          0.5870292601155663
         ],
         "yaxis": "y7"
        },
        {
         "line": {
          "color": "rgba(128, 128, 128, 1.0)",
          "dash": "solid",
          "shape": "linear",
          "width": 1.3
         },
         "marker": {
          "size": 2,
          "symbol": "circle"
         },
         "mode": "markers",
         "name": "B",
         "text": "",
         "type": "scatter",
         "x": [
          1.0501846747475807,
          -0.2631622600665042,
          -1.7403044791255877,
          -0.49270096000479324,
          -1.266095965737075,
          -0.79041828917442,
          -2.9077287476812814,
          0.5162476509677758,
          -0.7174430378950274,
          0.2706549456708596,
          1.0573039873448888,
          -0.5600414520013582,
          0.9754910522734861,
          0.692212074791335,
          -0.2668207194598693,
          -1.1770830167086077,
          0.4966582090084445,
          0.30526131642048454,
          0.9160256136980789,
          -1.5918295650442957,
          0.02977026538641927,
          -1.7172731979615743,
          -0.16174746327733458,
          1.8427204049825525,
          -0.7070357286280311,
          -1.5063320055032123,
          -0.6975635973077675,
          1.2139295569562687,
          0.2673960751229431,
          -0.783315246893848,
          -0.5072663992950421,
          0.5870448767884239,
          0.5601074508584243,
          -0.2637481454065867,
          -0.7719795045926394,
          0.8886942146784562,
          -0.180650310216546,
          -0.5381770917545685,
          -1.4051286558709084,
          -0.15570765448750165,
          0.09307128198913218,
          -0.18151631488798683,
          0.310787850486599,
          0.4918763947131808,
          0.6905827746980921,
          0.16693538146178163,
          1.4122462316005135,
          1.016677403837887,
          -0.6854839792266426,
          -0.5809831911943966,
          -2.184806133330967,
          -0.3688091129235744,
          -0.40548108117032877,
          1.339731057473646,
          -0.9428106033223824,
          0.6613579874430183,
          0.9202754253501984,
          2.4143459436610955,
          0.29157535161896586,
          1.293398970613332,
          -1.9738145496888437,
          0.19483371940869532,
          -0.7898763563357196,
          -1.1159067513199046,
          0.8634416674887178,
          1.8087502331064784,
          -0.1873966626930624,
          -0.02902665910273575,
          0.20943796269246906,
          1.094678799697476,
          0.20675945704454388,
          -0.9283200224952756,
          1.9189085221682376,
          -0.6738438434566502,
          0.950432788311642,
          0.2683051509918545,
          0.5269430013778346,
          -0.8311589580073511,
          -0.08979753977451058,
          -0.28135666411071003,
          -0.36891736319069823,
          -0.6351896533405529,
          1.725810775721876,
          -1.2370318338049597,
          -0.21501903771022107,
          0.2069549912563331,
          -1.4782321340741926,
          -2.0347856211560686,
          1.1417074936945315,
          0.13726081355615155,
          -1.0568924133839583,
          0.6840980919865118,
          -1.5722044419324286,
          0.300415657494318,
          1.3111348856256066,
          1.7505717975611537,
          -0.8078893163791052,
          -0.8247084630691421,
          1.5035738332033604,
          0.05881221943485587
         ],
         "xaxis": "x8",
         "y": [
          1.8960119593872942,
          -0.9013887599486713,
          -1.3179328495735878,
          0.5093309293244226,
          0.0686381546170349,
          -2.0476722168076367,
          -1.2434170473032558,
          0.3917194929936394,
          0.08754198693204741,
          1.8742193519276948,
          -0.34000427728927657,
          0.5808930813656673,
          -0.9185932288750916,
          -0.4370652175550562,
          0.1615291650092262,
          -0.5573801868161586,
          0.20872127272273155,
          1.5038452901928197,
          0.3810687629989386,
          0.7531014416401095,
          0.47515844401649343,
          -1.3117037828849436,
          -1.1128339786035324,
          1.029572365045059,
          -0.6998734664959823,
          0.38491468084915426,
          -0.851322628406908,
          0.20712468604181208,
          -1.0443583025142498,
          -0.5585025465631798,
          1.6133603060244144,
          0.6650436363899097,
          0.43497836743006446,
          -0.3135901937525547,
          -1.035819537740092,
          0.16500645542112155,
          -0.9797413668441683,
          1.1709202821872366,
          -0.3720340472186027,
          1.2875124895895487,
          -0.5342416459509143,
          0.8652415097498334,
          1.5787699931065844,
          0.801559529330312,
          1.808507607789963,
          0.8574514261933185,
          -2.4147665891905423,
          1.7264760801920465,
          -0.06502278632303127,
          0.3525427456543032,
          0.012552047667873876,
          -0.6432254433376144,
          -0.4677216910558781,
          0.3088421925727908,
          -0.24516716396534866,
          -1.0028937338811257,
          -0.11281611748353859,
          -0.21130491670513085,
          1.1809298727624613,
          -1.3801349160393888,
          0.6649025414857689,
          0.07020479167028694,
          1.740029943416659,
          0.11709800890149423,
          -0.5814226348171162,
          -1.0019165405279373,
          -0.21731413282882847,
          0.32370671894003944,
          0.9948776149290441,
          1.4343455034837274,
          1.230642479260398,
          0.4407683249017293,
          1.1008062320678353,
          -0.5268935998638822,
          -0.19239595695956105,
          0.6351734409776926,
          0.694340808578521,
          -0.5603554691124976,
          -1.6720568576003965,
          2.1469145635682256,
          2.114961913817211,
          0.6233672076422256,
          -0.3462142582361224,
          -2.4139182337762866,
          -2.126184965333488,
          0.6670682066566681,
          0.5925052023824063,
          -0.2640307238259685,
          0.98890415493091,
          0.31990550123503214,
          1.116614817349527,
          0.6146447422037827,
          0.23811295524611592,
          -0.7621631571903236,
          0.0005562339163062913,
          0.3056800154965565,
          -0.7646734494718713,
          0.7956242619405267,
          1.1363915737491685,
          0.5870292601155663
         ],
         "yaxis": "y8"
        },
        {
         "line": {
          "color": "rgba(128, 128, 128, 1.0)",
          "dash": "solid",
          "shape": "linear",
          "width": 1.3
         },
         "marker": {
          "size": 2,
          "symbol": "circle"
         },
         "mode": "markers",
         "name": "C",
         "text": "",
         "type": "scatter",
         "x": [
          1.03550403305365,
          1.0884452472323425,
          -0.8238221561084681,
          -1.165409106210997,
          0.06314234757509121,
          0.28403331754428096,
          1.3031142849283257,
          -0.5330006379394974,
          0.9239955720458833,
          -0.3404308950020115,
          0.49705351026645744,
          0.11995406868417582,
          2.8763886700822554,
          0.9193262205319692,
          0.3949826146380539,
          0.1398009361049872,
          -0.2389551947409717,
          1.7631889811772778,
          0.9423296126061489,
          0.6967921196412008,
          -0.5414352907350243,
          -2.036531823296873,
          -0.24433216283716166,
          -0.6095837637269612,
          -0.8657030628068533,
          -1.3290908432224944,
          0.12455980476667877,
          1.0184694806034515,
          -1.183099026560509,
          -1.9117478241953998,
          1.5901480473509917,
          0.036261728019634634,
          -1.4686201375953223,
          0.23850038429899692,
          0.9850551573259738,
          0.2343911390852982,
          1.6218946767897775,
          0.6092426949738955,
          0.4316571530869879,
          -0.3497700989320226,
          0.0630769975004216,
          -1.7473220089492396,
          0.9992032559911043,
          -0.46947268822447513,
          -1.5169497942671446,
          -0.83250174584291,
          -0.4968973159748692,
          -0.961293262106367,
          1.57489946216533,
          0.12352962553924367,
          1.1956965136368198,
          0.2622356680889761,
          -1.3592917794393795,
          -1.3888127276879452,
          -0.4192232294633762,
          0.2162221432499591,
          2.3852910763547004,
          -1.3123647706286883,
          0.2612934369110763,
          0.8613442539868962,
          -2.199294295056723,
          0.586695375572083,
          -0.49651894860239854,
          -0.06531819539664627,
          -1.8735956634836917,
          -0.922282193523706,
          -0.1390551342534496,
          -2.07229926650626,
          -0.3136402802450524,
          1.2721102467999612,
          1.2212916123327877,
          0.4263336106747266,
          -1.3278513626090733,
          -1.4901785369107048,
          0.3370979010819831,
          1.1609741420348372,
          -1.4052615141974583,
          -1.675537604560082,
          -0.8470611330808606,
          0.846711142348439,
          1.6207509512727276,
          0.9628774645331151,
          0.08415610063834954,
          2.0515464720858776,
          0.3989174309260779,
          0.5284312945429028,
          1.316248220757381,
          0.07911639704636868,
          0.5625901301013624,
          0.10809718712260306,
          0.05558043354838223,
          1.653387809021809,
          0.19613717511683407,
          -1.0636425270979382,
          -2.3361375217663913,
          1.170649467749388,
          -1.1175819973708243,
          -0.9877716720625392,
          1.1344780752246988,
          2.753133920603948
         ],
         "xaxis": "x9",
         "y": [
          -0.31235344268957305,
          -0.779291184008495,
          -0.3382378313641103,
          1.5421481134590849,
          -1.3551621221442123,
          -0.33340180454056784,
          1.665296944513379,
          -0.32763611518520985,
          0.2609174602920684,
          1.6395212351276283,
          0.9912710012311396,
          -1.4019081191169263,
          -1.458481412138232,
          -0.07304151076635769,
          0.1221095950313633,
          -2.2286451162858807,
          0.08237034692735798,
          1.7750430436973565,
          -0.7511221498733812,
          -0.01841886398274809,
          0.3509648204240912,
          -0.4678989936030183,
          -0.07150780483206723,
          -1.3762431724055342,
          1.5326017377318464,
          0.4983811025203121,
          -0.6795782051592428,
          -1.2656471093840016,
          0.392297234389132,
          0.24799131200879226,
          -1.0526228366086938,
          0.5235704896437962,
          -2.1105760386913204,
          -0.9241436610842272,
          1.7332599843659915,
          -0.9370479961582932,
          0.8263952807279571,
          -0.9208933905587741,
          -0.1538715791291248,
          0.4013805447984194,
          -0.8438962555943664,
          0.2840391365053848,
          0.7233997398011442,
          1.2509113718825278,
          -0.4222341192657711,
          0.2547359853722564,
          1.1865136808993528,
          0.01875822993183538,
          -0.021890938217392852,
          0.3308619824488176,
          0.5302273579361191,
          0.5715254621147243,
          0.9531877249301393,
          -0.86812801411079,
          -0.003632374883951981,
          -1.0424190239275244,
          -0.06131038034819389,
          -0.7235001630887572,
          -0.6740685444674551,
          -0.15891045604359477,
          1.3402898073715057,
          0.958617214426853,
          -0.6958427995651298,
          -0.5815808665306819,
          -0.39845785266202827,
          -0.39936376026592535,
          0.04125767678413521,
          0.24907653795296583,
          -0.9311076163727938,
          0.5572243135699384,
          0.46838393501357034,
          0.5760126083194442,
          -0.5688066170943136,
          -0.12984686598054374,
          -1.8368011291388542,
          -1.8362250489634662,
          -0.31162448112682783,
          0.2351904211051621,
          -1.2303712522426633,
          0.803472556092731,
          1.416412724412486,
          1.0460389280210196,
          -1.7284715283664749,
          -0.9265549820848047,
          -1.0629618896047572,
          0.5134434439148944,
          -0.8814579803703178,
          -0.22978633789459266,
          2.3553289181892407,
          -0.07690735215068391,
          -0.848160029587419,
          -0.5875614140450401,
          0.3113488458077335,
          -0.31003966124401394,
          1.4804871534955693,
          -1.3732313567546572,
          0.902320280180013,
          0.7244150084856815,
          0.8314704704799247,
          -0.21398466359923993
         ],
         "yaxis": "y9"
        },
        {
         "line": {
          "color": "rgba(128, 128, 128, 1.0)",
          "dash": "solid",
          "shape": "linear",
          "width": 1.3
         },
         "marker": {
          "size": 2,
          "symbol": "circle"
         },
         "mode": "markers",
         "name": "C",
         "text": "",
         "type": "scatter",
         "x": [
          1.8960119593872942,
          -0.9013887599486713,
          -1.3179328495735878,
          0.5093309293244226,
          0.0686381546170349,
          -2.0476722168076367,
          -1.2434170473032558,
          0.3917194929936394,
          0.08754198693204741,
          1.8742193519276948,
          -0.34000427728927657,
          0.5808930813656673,
          -0.9185932288750916,
          -0.4370652175550562,
          0.1615291650092262,
          -0.5573801868161586,
          0.20872127272273155,
          1.5038452901928197,
          0.3810687629989386,
          0.7531014416401095,
          0.47515844401649343,
          -1.3117037828849436,
          -1.1128339786035324,
          1.029572365045059,
          -0.6998734664959823,
          0.38491468084915426,
          -0.851322628406908,
          0.20712468604181208,
          -1.0443583025142498,
          -0.5585025465631798,
          1.6133603060244144,
          0.6650436363899097,
          0.43497836743006446,
          -0.3135901937525547,
          -1.035819537740092,
          0.16500645542112155,
          -0.9797413668441683,
          1.1709202821872366,
          -0.3720340472186027,
          1.2875124895895487,
          -0.5342416459509143,
          0.8652415097498334,
          1.5787699931065844,
          0.801559529330312,
          1.808507607789963,
          0.8574514261933185,
          -2.4147665891905423,
          1.7264760801920465,
          -0.06502278632303127,
          0.3525427456543032,
          0.012552047667873876,
          -0.6432254433376144,
          -0.4677216910558781,
          0.3088421925727908,
          -0.24516716396534866,
          -1.0028937338811257,
          -0.11281611748353859,
          -0.21130491670513085,
          1.1809298727624613,
          -1.3801349160393888,
          0.6649025414857689,
          0.07020479167028694,
          1.740029943416659,
          0.11709800890149423,
          -0.5814226348171162,
          -1.0019165405279373,
          -0.21731413282882847,
          0.32370671894003944,
          0.9948776149290441,
          1.4343455034837274,
          1.230642479260398,
          0.4407683249017293,
          1.1008062320678353,
          -0.5268935998638822,
          -0.19239595695956105,
          0.6351734409776926,
          0.694340808578521,
          -0.5603554691124976,
          -1.6720568576003965,
          2.1469145635682256,
          2.114961913817211,
          0.6233672076422256,
          -0.3462142582361224,
          -2.4139182337762866,
          -2.126184965333488,
          0.6670682066566681,
          0.5925052023824063,
          -0.2640307238259685,
          0.98890415493091,
          0.31990550123503214,
          1.116614817349527,
          0.6146447422037827,
          0.23811295524611592,
          -0.7621631571903236,
          0.0005562339163062913,
          0.3056800154965565,
          -0.7646734494718713,
          0.7956242619405267,
          1.1363915737491685,
          0.5870292601155663
         ],
         "xaxis": "x10",
         "y": [
          -0.31235344268957305,
          -0.779291184008495,
          -0.3382378313641103,
          1.5421481134590849,
          -1.3551621221442123,
          -0.33340180454056784,
          1.665296944513379,
          -0.32763611518520985,
          0.2609174602920684,
          1.6395212351276283,
          0.9912710012311396,
          -1.4019081191169263,
          -1.458481412138232,
          -0.07304151076635769,
          0.1221095950313633,
          -2.2286451162858807,
          0.08237034692735798,
          1.7750430436973565,
          -0.7511221498733812,
          -0.01841886398274809,
          0.3509648204240912,
          -0.4678989936030183,
          -0.07150780483206723,
          -1.3762431724055342,
          1.5326017377318464,
          0.4983811025203121,
          -0.6795782051592428,
          -1.2656471093840016,
          0.392297234389132,
          0.24799131200879226,
          -1.0526228366086938,
          0.5235704896437962,
          -2.1105760386913204,
          -0.9241436610842272,
          1.7332599843659915,
          -0.9370479961582932,
          0.8263952807279571,
          -0.9208933905587741,
          -0.1538715791291248,
          0.4013805447984194,
          -0.8438962555943664,
          0.2840391365053848,
          0.7233997398011442,
          1.2509113718825278,
          -0.4222341192657711,
          0.2547359853722564,
          1.1865136808993528,
          0.01875822993183538,
          -0.021890938217392852,
          0.3308619824488176,
          0.5302273579361191,
          0.5715254621147243,
          0.9531877249301393,
          -0.86812801411079,
          -0.003632374883951981,
          -1.0424190239275244,
          -0.06131038034819389,
          -0.7235001630887572,
          -0.6740685444674551,
          -0.15891045604359477,
          1.3402898073715057,
          0.958617214426853,
          -0.6958427995651298,
          -0.5815808665306819,
          -0.39845785266202827,
          -0.39936376026592535,
          0.04125767678413521,
          0.24907653795296583,
          -0.9311076163727938,
          0.5572243135699384,
          0.46838393501357034,
          0.5760126083194442,
          -0.5688066170943136,
          -0.12984686598054374,
          -1.8368011291388542,
          -1.8362250489634662,
          -0.31162448112682783,
          0.2351904211051621,
          -1.2303712522426633,
          0.803472556092731,
          1.416412724412486,
          1.0460389280210196,
          -1.7284715283664749,
          -0.9265549820848047,
          -1.0629618896047572,
          0.5134434439148944,
          -0.8814579803703178,
          -0.22978633789459266,
          2.3553289181892407,
          -0.07690735215068391,
          -0.848160029587419,
          -0.5875614140450401,
          0.3113488458077335,
          -0.31003966124401394,
          1.4804871534955693,
          -1.3732313567546572,
          0.902320280180013,
          0.7244150084856815,
          0.8314704704799247,
          -0.21398466359923993
         ],
         "yaxis": "y10"
        },
        {
         "histfunc": "count",
         "histnorm": "",
         "marker": {
          "color": "rgba(50, 171, 96, 1.0)",
          "line": {
           "color": "#4D5663",
           "width": 1.3
          }
         },
         "name": "C",
         "nbinsx": 10,
         "opacity": 0.8,
         "orientation": "v",
         "type": "histogram",
         "x": [
          -0.31235344268957305,
          -0.779291184008495,
          -0.3382378313641103,
          1.5421481134590849,
          -1.3551621221442123,
          -0.33340180454056784,
          1.665296944513379,
          -0.32763611518520985,
          0.2609174602920684,
          1.6395212351276283,
          0.9912710012311396,
          -1.4019081191169263,
          -1.458481412138232,
          -0.07304151076635769,
          0.1221095950313633,
          -2.2286451162858807,
          0.08237034692735798,
          1.7750430436973565,
          -0.7511221498733812,
          -0.01841886398274809,
          0.3509648204240912,
          -0.4678989936030183,
          -0.07150780483206723,
          -1.3762431724055342,
          1.5326017377318464,
          0.4983811025203121,
          -0.6795782051592428,
          -1.2656471093840016,
          0.392297234389132,
          0.24799131200879226,
          -1.0526228366086938,
          0.5235704896437962,
          -2.1105760386913204,
          -0.9241436610842272,
          1.7332599843659915,
          -0.9370479961582932,
          0.8263952807279571,
          -0.9208933905587741,
          -0.1538715791291248,
          0.4013805447984194,
          -0.8438962555943664,
          0.2840391365053848,
          0.7233997398011442,
          1.2509113718825278,
          -0.4222341192657711,
          0.2547359853722564,
          1.1865136808993528,
          0.01875822993183538,
          -0.021890938217392852,
          0.3308619824488176,
          0.5302273579361191,
          0.5715254621147243,
          0.9531877249301393,
          -0.86812801411079,
          -0.003632374883951981,
          -1.0424190239275244,
          -0.06131038034819389,
          -0.7235001630887572,
          -0.6740685444674551,
          -0.15891045604359477,
          1.3402898073715057,
          0.958617214426853,
          -0.6958427995651298,
          -0.5815808665306819,
          -0.39845785266202827,
          -0.39936376026592535,
          0.04125767678413521,
          0.24907653795296583,
          -0.9311076163727938,
          0.5572243135699384,
          0.46838393501357034,
          0.5760126083194442,
          -0.5688066170943136,
          -0.12984686598054374,
          -1.8368011291388542,
          -1.8362250489634662,
          -0.31162448112682783,
          0.2351904211051621,
          -1.2303712522426633,
          0.803472556092731,
          1.416412724412486,
          1.0460389280210196,
          -1.7284715283664749,
          -0.9265549820848047,
          -1.0629618896047572,
          0.5134434439148944,
          -0.8814579803703178,
          -0.22978633789459266,
          2.3553289181892407,
          -0.07690735215068391,
          -0.848160029587419,
          -0.5875614140450401,
          0.3113488458077335,
          -0.31003966124401394,
          1.4804871534955693,
          -1.3732313567546572,
          0.902320280180013,
          0.7244150084856815,
          0.8314704704799247,
          -0.21398466359923993
         ],
         "xaxis": "x11",
         "yaxis": "y11"
        },
        {
         "line": {
          "color": "rgba(128, 128, 128, 1.0)",
          "dash": "solid",
          "shape": "linear",
          "width": 1.3
         },
         "marker": {
          "size": 2,
          "symbol": "circle"
         },
         "mode": "markers",
         "name": "C",
         "text": "",
         "type": "scatter",
         "x": [
          1.0501846747475807,
          -0.2631622600665042,
          -1.7403044791255877,
          -0.49270096000479324,
          -1.266095965737075,
          -0.79041828917442,
          -2.9077287476812814,
          0.5162476509677758,
          -0.7174430378950274,
          0.2706549456708596,
          1.0573039873448888,
          -0.5600414520013582,
          0.9754910522734861,
          0.692212074791335,
          -0.2668207194598693,
          -1.1770830167086077,
          0.4966582090084445,
          0.30526131642048454,
          0.9160256136980789,
          -1.5918295650442957,
          0.02977026538641927,
          -1.7172731979615743,
          -0.16174746327733458,
          1.8427204049825525,
          -0.7070357286280311,
          -1.5063320055032123,
          -0.6975635973077675,
          1.2139295569562687,
          0.2673960751229431,
          -0.783315246893848,
          -0.5072663992950421,
          0.5870448767884239,
          0.5601074508584243,
          -0.2637481454065867,
          -0.7719795045926394,
          0.8886942146784562,
          -0.180650310216546,
          -0.5381770917545685,
          -1.4051286558709084,
          -0.15570765448750165,
          0.09307128198913218,
          -0.18151631488798683,
          0.310787850486599,
          0.4918763947131808,
          0.6905827746980921,
          0.16693538146178163,
          1.4122462316005135,
          1.016677403837887,
          -0.6854839792266426,
          -0.5809831911943966,
          -2.184806133330967,
          -0.3688091129235744,
          -0.40548108117032877,
          1.339731057473646,
          -0.9428106033223824,
          0.6613579874430183,
          0.9202754253501984,
          2.4143459436610955,
          0.29157535161896586,
          1.293398970613332,
          -1.9738145496888437,
          0.19483371940869532,
          -0.7898763563357196,
          -1.1159067513199046,
          0.8634416674887178,
          1.8087502331064784,
          -0.1873966626930624,
          -0.02902665910273575,
          0.20943796269246906,
          1.094678799697476,
          0.20675945704454388,
          -0.9283200224952756,
          1.9189085221682376,
          -0.6738438434566502,
          0.950432788311642,
          0.2683051509918545,
          0.5269430013778346,
          -0.8311589580073511,
          -0.08979753977451058,
          -0.28135666411071003,
          -0.36891736319069823,
          -0.6351896533405529,
          1.725810775721876,
          -1.2370318338049597,
          -0.21501903771022107,
          0.2069549912563331,
          -1.4782321340741926,
          -2.0347856211560686,
          1.1417074936945315,
          0.13726081355615155,
          -1.0568924133839583,
          0.6840980919865118,
          -1.5722044419324286,
          0.300415657494318,
          1.3111348856256066,
          1.7505717975611537,
          -0.8078893163791052,
          -0.8247084630691421,
          1.5035738332033604,
          0.05881221943485587
         ],
         "xaxis": "x12",
         "y": [
          -0.31235344268957305,
          -0.779291184008495,
          -0.3382378313641103,
          1.5421481134590849,
          -1.3551621221442123,
          -0.33340180454056784,
          1.665296944513379,
          -0.32763611518520985,
          0.2609174602920684,
          1.6395212351276283,
          0.9912710012311396,
          -1.4019081191169263,
          -1.458481412138232,
          -0.07304151076635769,
          0.1221095950313633,
          -2.2286451162858807,
          0.08237034692735798,
          1.7750430436973565,
          -0.7511221498733812,
          -0.01841886398274809,
          0.3509648204240912,
          -0.4678989936030183,
          -0.07150780483206723,
          -1.3762431724055342,
          1.5326017377318464,
          0.4983811025203121,
          -0.6795782051592428,
          -1.2656471093840016,
          0.392297234389132,
          0.24799131200879226,
          -1.0526228366086938,
          0.5235704896437962,
          -2.1105760386913204,
          -0.9241436610842272,
          1.7332599843659915,
          -0.9370479961582932,
          0.8263952807279571,
          -0.9208933905587741,
          -0.1538715791291248,
          0.4013805447984194,
          -0.8438962555943664,
          0.2840391365053848,
          0.7233997398011442,
          1.2509113718825278,
          -0.4222341192657711,
          0.2547359853722564,
          1.1865136808993528,
          0.01875822993183538,
          -0.021890938217392852,
          0.3308619824488176,
          0.5302273579361191,
          0.5715254621147243,
          0.9531877249301393,
          -0.86812801411079,
          -0.003632374883951981,
          -1.0424190239275244,
          -0.06131038034819389,
          -0.7235001630887572,
          -0.6740685444674551,
          -0.15891045604359477,
          1.3402898073715057,
          0.958617214426853,
          -0.6958427995651298,
          -0.5815808665306819,
          -0.39845785266202827,
          -0.39936376026592535,
          0.04125767678413521,
          0.24907653795296583,
          -0.9311076163727938,
          0.5572243135699384,
          0.46838393501357034,
          0.5760126083194442,
          -0.5688066170943136,
          -0.12984686598054374,
          -1.8368011291388542,
          -1.8362250489634662,
          -0.31162448112682783,
          0.2351904211051621,
          -1.2303712522426633,
          0.803472556092731,
          1.416412724412486,
          1.0460389280210196,
          -1.7284715283664749,
          -0.9265549820848047,
          -1.0629618896047572,
          0.5134434439148944,
          -0.8814579803703178,
          -0.22978633789459266,
          2.3553289181892407,
          -0.07690735215068391,
          -0.848160029587419,
          -0.5875614140450401,
          0.3113488458077335,
          -0.31003966124401394,
          1.4804871534955693,
          -1.3732313567546572,
          0.902320280180013,
          0.7244150084856815,
          0.8314704704799247,
          -0.21398466359923993
         ],
         "yaxis": "y12"
        },
        {
         "line": {
          "color": "rgba(128, 128, 128, 1.0)",
          "dash": "solid",
          "shape": "linear",
          "width": 1.3
         },
         "marker": {
          "size": 2,
          "symbol": "circle"
         },
         "mode": "markers",
         "name": "D",
         "text": "",
         "type": "scatter",
         "x": [
          1.03550403305365,
          1.0884452472323425,
          -0.8238221561084681,
          -1.165409106210997,
          0.06314234757509121,
          0.28403331754428096,
          1.3031142849283257,
          -0.5330006379394974,
          0.9239955720458833,
          -0.3404308950020115,
          0.49705351026645744,
          0.11995406868417582,
          2.8763886700822554,
          0.9193262205319692,
          0.3949826146380539,
          0.1398009361049872,
          -0.2389551947409717,
          1.7631889811772778,
          0.9423296126061489,
          0.6967921196412008,
          -0.5414352907350243,
          -2.036531823296873,
          -0.24433216283716166,
          -0.6095837637269612,
          -0.8657030628068533,
          -1.3290908432224944,
          0.12455980476667877,
          1.0184694806034515,
          -1.183099026560509,
          -1.9117478241953998,
          1.5901480473509917,
          0.036261728019634634,
          -1.4686201375953223,
          0.23850038429899692,
          0.9850551573259738,
          0.2343911390852982,
          1.6218946767897775,
          0.6092426949738955,
          0.4316571530869879,
          -0.3497700989320226,
          0.0630769975004216,
          -1.7473220089492396,
          0.9992032559911043,
          -0.46947268822447513,
          -1.5169497942671446,
          -0.83250174584291,
          -0.4968973159748692,
          -0.961293262106367,
          1.57489946216533,
          0.12352962553924367,
          1.1956965136368198,
          0.2622356680889761,
          -1.3592917794393795,
          -1.3888127276879452,
          -0.4192232294633762,
          0.2162221432499591,
          2.3852910763547004,
          -1.3123647706286883,
          0.2612934369110763,
          0.8613442539868962,
          -2.199294295056723,
          0.586695375572083,
          -0.49651894860239854,
          -0.06531819539664627,
          -1.8735956634836917,
          -0.922282193523706,
          -0.1390551342534496,
          -2.07229926650626,
          -0.3136402802450524,
          1.2721102467999612,
          1.2212916123327877,
          0.4263336106747266,
          -1.3278513626090733,
          -1.4901785369107048,
          0.3370979010819831,
          1.1609741420348372,
          -1.4052615141974583,
          -1.675537604560082,
          -0.8470611330808606,
          0.846711142348439,
          1.6207509512727276,
          0.9628774645331151,
          0.08415610063834954,
          2.0515464720858776,
          0.3989174309260779,
          0.5284312945429028,
          1.316248220757381,
          0.07911639704636868,
          0.5625901301013624,
          0.10809718712260306,
          0.05558043354838223,
          1.653387809021809,
          0.19613717511683407,
          -1.0636425270979382,
          -2.3361375217663913,
          1.170649467749388,
          -1.1175819973708243,
          -0.9877716720625392,
          1.1344780752246988,
          2.753133920603948
         ],
         "xaxis": "x13",
         "y": [
          1.0501846747475807,
          -0.2631622600665042,
          -1.7403044791255877,
          -0.49270096000479324,
          -1.266095965737075,
          -0.79041828917442,
          -2.9077287476812814,
          0.5162476509677758,
          -0.7174430378950274,
          0.2706549456708596,
          1.0573039873448888,
          -0.5600414520013582,
          0.9754910522734861,
          0.692212074791335,
          -0.2668207194598693,
          -1.1770830167086077,
          0.4966582090084445,
          0.30526131642048454,
          0.9160256136980789,
          -1.5918295650442957,
          0.02977026538641927,
          -1.7172731979615743,
          -0.16174746327733458,
          1.8427204049825525,
          -0.7070357286280311,
          -1.5063320055032123,
          -0.6975635973077675,
          1.2139295569562687,
          0.2673960751229431,
          -0.783315246893848,
          -0.5072663992950421,
          0.5870448767884239,
          0.5601074508584243,
          -0.2637481454065867,
          -0.7719795045926394,
          0.8886942146784562,
          -0.180650310216546,
          -0.5381770917545685,
          -1.4051286558709084,
          -0.15570765448750165,
          0.09307128198913218,
          -0.18151631488798683,
          0.310787850486599,
          0.4918763947131808,
          0.6905827746980921,
          0.16693538146178163,
          1.4122462316005135,
          1.016677403837887,
          -0.6854839792266426,
          -0.5809831911943966,
          -2.184806133330967,
          -0.3688091129235744,
          -0.40548108117032877,
          1.339731057473646,
          -0.9428106033223824,
          0.6613579874430183,
          0.9202754253501984,
          2.4143459436610955,
          0.29157535161896586,
          1.293398970613332,
          -1.9738145496888437,
          0.19483371940869532,
          -0.7898763563357196,
          -1.1159067513199046,
          0.8634416674887178,
          1.8087502331064784,
          -0.1873966626930624,
          -0.02902665910273575,
          0.20943796269246906,
          1.094678799697476,
          0.20675945704454388,
          -0.9283200224952756,
          1.9189085221682376,
          -0.6738438434566502,
          0.950432788311642,
          0.2683051509918545,
          0.5269430013778346,
          -0.8311589580073511,
          -0.08979753977451058,
          -0.28135666411071003,
          -0.36891736319069823,
          -0.6351896533405529,
          1.725810775721876,
          -1.2370318338049597,
          -0.21501903771022107,
          0.2069549912563331,
          -1.4782321340741926,
          -2.0347856211560686,
          1.1417074936945315,
          0.13726081355615155,
          -1.0568924133839583,
          0.6840980919865118,
          -1.5722044419324286,
          0.300415657494318,
          1.3111348856256066,
          1.7505717975611537,
          -0.8078893163791052,
          -0.8247084630691421,
          1.5035738332033604,
          0.05881221943485587
         ],
         "yaxis": "y13"
        },
        {
         "line": {
          "color": "rgba(128, 128, 128, 1.0)",
          "dash": "solid",
          "shape": "linear",
          "width": 1.3
         },
         "marker": {
          "size": 2,
          "symbol": "circle"
         },
         "mode": "markers",
         "name": "D",
         "text": "",
         "type": "scatter",
         "x": [
          1.8960119593872942,
          -0.9013887599486713,
          -1.3179328495735878,
          0.5093309293244226,
          0.0686381546170349,
          -2.0476722168076367,
          -1.2434170473032558,
          0.3917194929936394,
          0.08754198693204741,
          1.8742193519276948,
          -0.34000427728927657,
          0.5808930813656673,
          -0.9185932288750916,
          -0.4370652175550562,
          0.1615291650092262,
          -0.5573801868161586,
          0.20872127272273155,
          1.5038452901928197,
          0.3810687629989386,
          0.7531014416401095,
          0.47515844401649343,
          -1.3117037828849436,
          -1.1128339786035324,
          1.029572365045059,
          -0.6998734664959823,
          0.38491468084915426,
          -0.851322628406908,
          0.20712468604181208,
          -1.0443583025142498,
          -0.5585025465631798,
          1.6133603060244144,
          0.6650436363899097,
          0.43497836743006446,
          -0.3135901937525547,
          -1.035819537740092,
          0.16500645542112155,
          -0.9797413668441683,
          1.1709202821872366,
          -0.3720340472186027,
          1.2875124895895487,
          -0.5342416459509143,
          0.8652415097498334,
          1.5787699931065844,
          0.801559529330312,
          1.808507607789963,
          0.8574514261933185,
          -2.4147665891905423,
          1.7264760801920465,
          -0.06502278632303127,
          0.3525427456543032,
          0.012552047667873876,
          -0.6432254433376144,
          -0.4677216910558781,
          0.3088421925727908,
          -0.24516716396534866,
          -1.0028937338811257,
          -0.11281611748353859,
          -0.21130491670513085,
          1.1809298727624613,
          -1.3801349160393888,
          0.6649025414857689,
          0.07020479167028694,
          1.740029943416659,
          0.11709800890149423,
          -0.5814226348171162,
          -1.0019165405279373,
          -0.21731413282882847,
          0.32370671894003944,
          0.9948776149290441,
          1.4343455034837274,
          1.230642479260398,
          0.4407683249017293,
          1.1008062320678353,
          -0.5268935998638822,
          -0.19239595695956105,
          0.6351734409776926,
          0.694340808578521,
          -0.5603554691124976,
          -1.6720568576003965,
          2.1469145635682256,
          2.114961913817211,
          0.6233672076422256,
          -0.3462142582361224,
          -2.4139182337762866,
          -2.126184965333488,
          0.6670682066566681,
          0.5925052023824063,
          -0.2640307238259685,
          0.98890415493091,
          0.31990550123503214,
          1.116614817349527,
          0.6146447422037827,
          0.23811295524611592,
          -0.7621631571903236,
          0.0005562339163062913,
          0.3056800154965565,
          -0.7646734494718713,
          0.7956242619405267,
          1.1363915737491685,
          0.5870292601155663
         ],
         "xaxis": "x14",
         "y": [
          1.0501846747475807,
          -0.2631622600665042,
          -1.7403044791255877,
          -0.49270096000479324,
          -1.266095965737075,
          -0.79041828917442,
          -2.9077287476812814,
          0.5162476509677758,
          -0.7174430378950274,
          0.2706549456708596,
          1.0573039873448888,
          -0.5600414520013582,
          0.9754910522734861,
          0.692212074791335,
          -0.2668207194598693,
          -1.1770830167086077,
          0.4966582090084445,
          0.30526131642048454,
          0.9160256136980789,
          -1.5918295650442957,
          0.02977026538641927,
          -1.7172731979615743,
          -0.16174746327733458,
          1.8427204049825525,
          -0.7070357286280311,
          -1.5063320055032123,
          -0.6975635973077675,
          1.2139295569562687,
          0.2673960751229431,
          -0.783315246893848,
          -0.5072663992950421,
          0.5870448767884239,
          0.5601074508584243,
          -0.2637481454065867,
          -0.7719795045926394,
          0.8886942146784562,
          -0.180650310216546,
          -0.5381770917545685,
          -1.4051286558709084,
          -0.15570765448750165,
          0.09307128198913218,
          -0.18151631488798683,
          0.310787850486599,
          0.4918763947131808,
          0.6905827746980921,
          0.16693538146178163,
          1.4122462316005135,
          1.016677403837887,
          -0.6854839792266426,
          -0.5809831911943966,
          -2.184806133330967,
          -0.3688091129235744,
          -0.40548108117032877,
          1.339731057473646,
          -0.9428106033223824,
          0.6613579874430183,
          0.9202754253501984,
          2.4143459436610955,
          0.29157535161896586,
          1.293398970613332,
          -1.9738145496888437,
          0.19483371940869532,
          -0.7898763563357196,
          -1.1159067513199046,
          0.8634416674887178,
          1.8087502331064784,
          -0.1873966626930624,
          -0.02902665910273575,
          0.20943796269246906,
          1.094678799697476,
          0.20675945704454388,
          -0.9283200224952756,
          1.9189085221682376,
          -0.6738438434566502,
          0.950432788311642,
          0.2683051509918545,
          0.5269430013778346,
          -0.8311589580073511,
          -0.08979753977451058,
          -0.28135666411071003,
          -0.36891736319069823,
          -0.6351896533405529,
          1.725810775721876,
          -1.2370318338049597,
          -0.21501903771022107,
          0.2069549912563331,
          -1.4782321340741926,
          -2.0347856211560686,
          1.1417074936945315,
          0.13726081355615155,
          -1.0568924133839583,
          0.6840980919865118,
          -1.5722044419324286,
          0.300415657494318,
          1.3111348856256066,
          1.7505717975611537,
          -0.8078893163791052,
          -0.8247084630691421,
          1.5035738332033604,
          0.05881221943485587
         ],
         "yaxis": "y14"
        },
        {
         "line": {
          "color": "rgba(128, 128, 128, 1.0)",
          "dash": "solid",
          "shape": "linear",
          "width": 1.3
         },
         "marker": {
          "size": 2,
          "symbol": "circle"
         },
         "mode": "markers",
         "name": "D",
         "text": "",
         "type": "scatter",
         "x": [
          -0.31235344268957305,
          -0.779291184008495,
          -0.3382378313641103,
          1.5421481134590849,
          -1.3551621221442123,
          -0.33340180454056784,
          1.665296944513379,
          -0.32763611518520985,
          0.2609174602920684,
          1.6395212351276283,
          0.9912710012311396,
          -1.4019081191169263,
          -1.458481412138232,
          -0.07304151076635769,
          0.1221095950313633,
          -2.2286451162858807,
          0.08237034692735798,
          1.7750430436973565,
          -0.7511221498733812,
          -0.01841886398274809,
          0.3509648204240912,
          -0.4678989936030183,
          -0.07150780483206723,
          -1.3762431724055342,
          1.5326017377318464,
          0.4983811025203121,
          -0.6795782051592428,
          -1.2656471093840016,
          0.392297234389132,
          0.24799131200879226,
          -1.0526228366086938,
          0.5235704896437962,
          -2.1105760386913204,
          -0.9241436610842272,
          1.7332599843659915,
          -0.9370479961582932,
          0.8263952807279571,
          -0.9208933905587741,
          -0.1538715791291248,
          0.4013805447984194,
          -0.8438962555943664,
          0.2840391365053848,
          0.7233997398011442,
          1.2509113718825278,
          -0.4222341192657711,
          0.2547359853722564,
          1.1865136808993528,
          0.01875822993183538,
          -0.021890938217392852,
          0.3308619824488176,
          0.5302273579361191,
          0.5715254621147243,
          0.9531877249301393,
          -0.86812801411079,
          -0.003632374883951981,
          -1.0424190239275244,
          -0.06131038034819389,
          -0.7235001630887572,
          -0.6740685444674551,
          -0.15891045604359477,
          1.3402898073715057,
          0.958617214426853,
          -0.6958427995651298,
          -0.5815808665306819,
          -0.39845785266202827,
          -0.39936376026592535,
          0.04125767678413521,
          0.24907653795296583,
          -0.9311076163727938,
          0.5572243135699384,
          0.46838393501357034,
          0.5760126083194442,
          -0.5688066170943136,
          -0.12984686598054374,
          -1.8368011291388542,
          -1.8362250489634662,
          -0.31162448112682783,
          0.2351904211051621,
          -1.2303712522426633,
          0.803472556092731,
          1.416412724412486,
          1.0460389280210196,
          -1.7284715283664749,
          -0.9265549820848047,
          -1.0629618896047572,
          0.5134434439148944,
          -0.8814579803703178,
          -0.22978633789459266,
          2.3553289181892407,
          -0.07690735215068391,
          -0.848160029587419,
          -0.5875614140450401,
          0.3113488458077335,
          -0.31003966124401394,
          1.4804871534955693,
          -1.3732313567546572,
          0.902320280180013,
          0.7244150084856815,
          0.8314704704799247,
          -0.21398466359923993
         ],
         "xaxis": "x15",
         "y": [
          1.0501846747475807,
          -0.2631622600665042,
          -1.7403044791255877,
          -0.49270096000479324,
          -1.266095965737075,
          -0.79041828917442,
          -2.9077287476812814,
          0.5162476509677758,
          -0.7174430378950274,
          0.2706549456708596,
          1.0573039873448888,
          -0.5600414520013582,
          0.9754910522734861,
          0.692212074791335,
          -0.2668207194598693,
          -1.1770830167086077,
          0.4966582090084445,
          0.30526131642048454,
          0.9160256136980789,
          -1.5918295650442957,
          0.02977026538641927,
          -1.7172731979615743,
          -0.16174746327733458,
          1.8427204049825525,
          -0.7070357286280311,
          -1.5063320055032123,
          -0.6975635973077675,
          1.2139295569562687,
          0.2673960751229431,
          -0.783315246893848,
          -0.5072663992950421,
          0.5870448767884239,
          0.5601074508584243,
          -0.2637481454065867,
          -0.7719795045926394,
          0.8886942146784562,
          -0.180650310216546,
          -0.5381770917545685,
          -1.4051286558709084,
          -0.15570765448750165,
          0.09307128198913218,
          -0.18151631488798683,
          0.310787850486599,
          0.4918763947131808,
          0.6905827746980921,
          0.16693538146178163,
          1.4122462316005135,
          1.016677403837887,
          -0.6854839792266426,
          -0.5809831911943966,
          -2.184806133330967,
          -0.3688091129235744,
          -0.40548108117032877,
          1.339731057473646,
          -0.9428106033223824,
          0.6613579874430183,
          0.9202754253501984,
          2.4143459436610955,
          0.29157535161896586,
          1.293398970613332,
          -1.9738145496888437,
          0.19483371940869532,
          -0.7898763563357196,
          -1.1159067513199046,
          0.8634416674887178,
          1.8087502331064784,
          -0.1873966626930624,
          -0.02902665910273575,
          0.20943796269246906,
          1.094678799697476,
          0.20675945704454388,
          -0.9283200224952756,
          1.9189085221682376,
          -0.6738438434566502,
          0.950432788311642,
          0.2683051509918545,
          0.5269430013778346,
          -0.8311589580073511,
          -0.08979753977451058,
          -0.28135666411071003,
          -0.36891736319069823,
          -0.6351896533405529,
          1.725810775721876,
          -1.2370318338049597,
          -0.21501903771022107,
          0.2069549912563331,
          -1.4782321340741926,
          -2.0347856211560686,
          1.1417074936945315,
          0.13726081355615155,
          -1.0568924133839583,
          0.6840980919865118,
          -1.5722044419324286,
          0.300415657494318,
          1.3111348856256066,
          1.7505717975611537,
          -0.8078893163791052,
          -0.8247084630691421,
          1.5035738332033604,
          0.05881221943485587
         ],
         "yaxis": "y15"
        },
        {
         "histfunc": "count",
         "histnorm": "",
         "marker": {
          "color": "rgba(128, 0, 128, 1.0)",
          "line": {
           "color": "#4D5663",
           "width": 1.3
          }
         },
         "name": "D",
         "nbinsx": 10,
         "opacity": 0.8,
         "orientation": "v",
         "type": "histogram",
         "x": [
          1.0501846747475807,
          -0.2631622600665042,
          -1.7403044791255877,
          -0.49270096000479324,
          -1.266095965737075,
          -0.79041828917442,
          -2.9077287476812814,
          0.5162476509677758,
          -0.7174430378950274,
          0.2706549456708596,
          1.0573039873448888,
          -0.5600414520013582,
          0.9754910522734861,
          0.692212074791335,
          -0.2668207194598693,
          -1.1770830167086077,
          0.4966582090084445,
          0.30526131642048454,
          0.9160256136980789,
          -1.5918295650442957,
          0.02977026538641927,
          -1.7172731979615743,
          -0.16174746327733458,
          1.8427204049825525,
          -0.7070357286280311,
          -1.5063320055032123,
          -0.6975635973077675,
          1.2139295569562687,
          0.2673960751229431,
          -0.783315246893848,
          -0.5072663992950421,
          0.5870448767884239,
          0.5601074508584243,
          -0.2637481454065867,
          -0.7719795045926394,
          0.8886942146784562,
          -0.180650310216546,
          -0.5381770917545685,
          -1.4051286558709084,
          -0.15570765448750165,
          0.09307128198913218,
          -0.18151631488798683,
          0.310787850486599,
          0.4918763947131808,
          0.6905827746980921,
          0.16693538146178163,
          1.4122462316005135,
          1.016677403837887,
          -0.6854839792266426,
          -0.5809831911943966,
          -2.184806133330967,
          -0.3688091129235744,
          -0.40548108117032877,
          1.339731057473646,
          -0.9428106033223824,
          0.6613579874430183,
          0.9202754253501984,
          2.4143459436610955,
          0.29157535161896586,
          1.293398970613332,
          -1.9738145496888437,
          0.19483371940869532,
          -0.7898763563357196,
          -1.1159067513199046,
          0.8634416674887178,
          1.8087502331064784,
          -0.1873966626930624,
          -0.02902665910273575,
          0.20943796269246906,
          1.094678799697476,
          0.20675945704454388,
          -0.9283200224952756,
          1.9189085221682376,
          -0.6738438434566502,
          0.950432788311642,
          0.2683051509918545,
          0.5269430013778346,
          -0.8311589580073511,
          -0.08979753977451058,
          -0.28135666411071003,
          -0.36891736319069823,
          -0.6351896533405529,
          1.725810775721876,
          -1.2370318338049597,
          -0.21501903771022107,
          0.2069549912563331,
          -1.4782321340741926,
          -2.0347856211560686,
          1.1417074936945315,
          0.13726081355615155,
          -1.0568924133839583,
          0.6840980919865118,
          -1.5722044419324286,
          0.300415657494318,
          1.3111348856256066,
          1.7505717975611537,
          -0.8078893163791052,
          -0.8247084630691421,
          1.5035738332033604,
          0.05881221943485587
         ],
         "xaxis": "x16",
         "yaxis": "y16"
        }
       ],
       "layout": {
        "bargap": 0.02,
        "legend": {
         "bgcolor": "#F5F6F9",
         "font": {
          "color": "#4D5663"
         }
        },
        "paper_bgcolor": "#F5F6F9",
        "plot_bgcolor": "#F5F6F9",
        "showlegend": false,
        "template": {
         "data": {
          "bar": [
           {
            "error_x": {
             "color": "#2a3f5f"
            },
            "error_y": {
             "color": "#2a3f5f"
            },
            "marker": {
             "line": {
              "color": "#E5ECF6",
              "width": 0.5
             }
            },
            "type": "bar"
           }
          ],
          "barpolar": [
           {
            "marker": {
             "line": {
              "color": "#E5ECF6",
              "width": 0.5
             }
            },
            "type": "barpolar"
           }
          ],
          "carpet": [
           {
            "aaxis": {
             "endlinecolor": "#2a3f5f",
             "gridcolor": "white",
             "linecolor": "white",
             "minorgridcolor": "white",
             "startlinecolor": "#2a3f5f"
            },
            "baxis": {
             "endlinecolor": "#2a3f5f",
             "gridcolor": "white",
             "linecolor": "white",
             "minorgridcolor": "white",
             "startlinecolor": "#2a3f5f"
            },
            "type": "carpet"
           }
          ],
          "choropleth": [
           {
            "colorbar": {
             "outlinewidth": 0,
             "ticks": ""
            },
            "type": "choropleth"
           }
          ],
          "contour": [
           {
            "colorbar": {
             "outlinewidth": 0,
             "ticks": ""
            },
            "colorscale": [
             [
              0,
              "#0d0887"
             ],
             [
              0.1111111111111111,
              "#46039f"
             ],
             [
              0.2222222222222222,
              "#7201a8"
             ],
             [
              0.3333333333333333,
              "#9c179e"
             ],
             [
              0.4444444444444444,
              "#bd3786"
             ],
             [
              0.5555555555555556,
              "#d8576b"
             ],
             [
              0.6666666666666666,
              "#ed7953"
             ],
             [
              0.7777777777777778,
              "#fb9f3a"
             ],
             [
              0.8888888888888888,
              "#fdca26"
             ],
             [
              1,
              "#f0f921"
             ]
            ],
            "type": "contour"
           }
          ],
          "contourcarpet": [
           {
            "colorbar": {
             "outlinewidth": 0,
             "ticks": ""
            },
            "type": "contourcarpet"
           }
          ],
          "heatmap": [
           {
            "colorbar": {
             "outlinewidth": 0,
             "ticks": ""
            },
            "colorscale": [
             [
              0,
              "#0d0887"
             ],
             [
              0.1111111111111111,
              "#46039f"
             ],
             [
              0.2222222222222222,
              "#7201a8"
             ],
             [
              0.3333333333333333,
              "#9c179e"
             ],
             [
              0.4444444444444444,
              "#bd3786"
             ],
             [
              0.5555555555555556,
              "#d8576b"
             ],
             [
              0.6666666666666666,
              "#ed7953"
             ],
             [
              0.7777777777777778,
              "#fb9f3a"
             ],
             [
              0.8888888888888888,
              "#fdca26"
             ],
             [
              1,
              "#f0f921"
             ]
            ],
            "type": "heatmap"
           }
          ],
          "heatmapgl": [
           {
            "colorbar": {
             "outlinewidth": 0,
             "ticks": ""
            },
            "colorscale": [
             [
              0,
              "#0d0887"
             ],
             [
              0.1111111111111111,
              "#46039f"
             ],
             [
              0.2222222222222222,
              "#7201a8"
             ],
             [
              0.3333333333333333,
              "#9c179e"
             ],
             [
              0.4444444444444444,
              "#bd3786"
             ],
             [
              0.5555555555555556,
              "#d8576b"
             ],
             [
              0.6666666666666666,
              "#ed7953"
             ],
             [
              0.7777777777777778,
              "#fb9f3a"
             ],
             [
              0.8888888888888888,
              "#fdca26"
             ],
             [
              1,
              "#f0f921"
             ]
            ],
            "type": "heatmapgl"
           }
          ],
          "histogram": [
           {
            "marker": {
             "colorbar": {
              "outlinewidth": 0,
              "ticks": ""
             }
            },
            "type": "histogram"
           }
          ],
          "histogram2d": [
           {
            "colorbar": {
             "outlinewidth": 0,
             "ticks": ""
            },
            "colorscale": [
             [
              0,
              "#0d0887"
             ],
             [
              0.1111111111111111,
              "#46039f"
             ],
             [
              0.2222222222222222,
              "#7201a8"
             ],
             [
              0.3333333333333333,
              "#9c179e"
             ],
             [
              0.4444444444444444,
              "#bd3786"
             ],
             [
              0.5555555555555556,
              "#d8576b"
             ],
             [
              0.6666666666666666,
              "#ed7953"
             ],
             [
              0.7777777777777778,
              "#fb9f3a"
             ],
             [
              0.8888888888888888,
              "#fdca26"
             ],
             [
              1,
              "#f0f921"
             ]
            ],
            "type": "histogram2d"
           }
          ],
          "histogram2dcontour": [
           {
            "colorbar": {
             "outlinewidth": 0,
             "ticks": ""
            },
            "colorscale": [
             [
              0,
              "#0d0887"
             ],
             [
              0.1111111111111111,
              "#46039f"
             ],
             [
              0.2222222222222222,
              "#7201a8"
             ],
             [
              0.3333333333333333,
              "#9c179e"
             ],
             [
              0.4444444444444444,
              "#bd3786"
             ],
             [
              0.5555555555555556,
              "#d8576b"
             ],
             [
              0.6666666666666666,
              "#ed7953"
             ],
             [
              0.7777777777777778,
              "#fb9f3a"
             ],
             [
              0.8888888888888888,
              "#fdca26"
             ],
             [
              1,
              "#f0f921"
             ]
            ],
            "type": "histogram2dcontour"
           }
          ],
          "mesh3d": [
           {
            "colorbar": {
             "outlinewidth": 0,
             "ticks": ""
            },
            "type": "mesh3d"
           }
          ],
          "parcoords": [
           {
            "line": {
             "colorbar": {
              "outlinewidth": 0,
              "ticks": ""
             }
            },
            "type": "parcoords"
           }
          ],
          "pie": [
           {
            "automargin": true,
            "type": "pie"
           }
          ],
          "scatter": [
           {
            "marker": {
             "colorbar": {
              "outlinewidth": 0,
              "ticks": ""
             }
            },
            "type": "scatter"
           }
          ],
          "scatter3d": [
           {
            "line": {
             "colorbar": {
              "outlinewidth": 0,
              "ticks": ""
             }
            },
            "marker": {
             "colorbar": {
              "outlinewidth": 0,
              "ticks": ""
             }
            },
            "type": "scatter3d"
           }
          ],
          "scattercarpet": [
           {
            "marker": {
             "colorbar": {
              "outlinewidth": 0,
              "ticks": ""
             }
            },
            "type": "scattercarpet"
           }
          ],
          "scattergeo": [
           {
            "marker": {
             "colorbar": {
              "outlinewidth": 0,
              "ticks": ""
             }
            },
            "type": "scattergeo"
           }
          ],
          "scattergl": [
           {
            "marker": {
             "colorbar": {
              "outlinewidth": 0,
              "ticks": ""
             }
            },
            "type": "scattergl"
           }
          ],
          "scattermapbox": [
           {
            "marker": {
             "colorbar": {
              "outlinewidth": 0,
              "ticks": ""
             }
            },
            "type": "scattermapbox"
           }
          ],
          "scatterpolar": [
           {
            "marker": {
             "colorbar": {
              "outlinewidth": 0,
              "ticks": ""
             }
            },
            "type": "scatterpolar"
           }
          ],
          "scatterpolargl": [
           {
            "marker": {
             "colorbar": {
              "outlinewidth": 0,
              "ticks": ""
             }
            },
            "type": "scatterpolargl"
           }
          ],
          "scatterternary": [
           {
            "marker": {
             "colorbar": {
              "outlinewidth": 0,
              "ticks": ""
             }
            },
            "type": "scatterternary"
           }
          ],
          "surface": [
           {
            "colorbar": {
             "outlinewidth": 0,
             "ticks": ""
            },
            "colorscale": [
             [
              0,
              "#0d0887"
             ],
             [
              0.1111111111111111,
              "#46039f"
             ],
             [
              0.2222222222222222,
              "#7201a8"
             ],
             [
              0.3333333333333333,
              "#9c179e"
             ],
             [
              0.4444444444444444,
              "#bd3786"
             ],
             [
              0.5555555555555556,
              "#d8576b"
             ],
             [
              0.6666666666666666,
              "#ed7953"
             ],
             [
              0.7777777777777778,
              "#fb9f3a"
             ],
             [
              0.8888888888888888,
              "#fdca26"
             ],
             [
              1,
              "#f0f921"
             ]
            ],
            "type": "surface"
           }
          ],
          "table": [
           {
            "cells": {
             "fill": {
              "color": "#EBF0F8"
             },
             "line": {
              "color": "white"
             }
            },
            "header": {
             "fill": {
              "color": "#C8D4E3"
             },
             "line": {
              "color": "white"
             }
            },
            "type": "table"
           }
          ]
         },
         "layout": {
          "annotationdefaults": {
           "arrowcolor": "#2a3f5f",
           "arrowhead": 0,
           "arrowwidth": 1
          },
          "coloraxis": {
           "colorbar": {
            "outlinewidth": 0,
            "ticks": ""
           }
          },
          "colorscale": {
           "diverging": [
            [
             0,
             "#8e0152"
            ],
            [
             0.1,
             "#c51b7d"
            ],
            [
             0.2,
             "#de77ae"
            ],
            [
             0.3,
             "#f1b6da"
            ],
            [
             0.4,
             "#fde0ef"
            ],
            [
             0.5,
             "#f7f7f7"
            ],
            [
             0.6,
             "#e6f5d0"
            ],
            [
             0.7,
             "#b8e186"
            ],
            [
             0.8,
             "#7fbc41"
            ],
            [
             0.9,
             "#4d9221"
            ],
            [
             1,
             "#276419"
            ]
           ],
           "sequential": [
            [
             0,
             "#0d0887"
            ],
            [
             0.1111111111111111,
             "#46039f"
            ],
            [
             0.2222222222222222,
             "#7201a8"
            ],
            [
             0.3333333333333333,
             "#9c179e"
            ],
            [
             0.4444444444444444,
             "#bd3786"
            ],
            [
             0.5555555555555556,
             "#d8576b"
            ],
            [
             0.6666666666666666,
             "#ed7953"
            ],
            [
             0.7777777777777778,
             "#fb9f3a"
            ],
            [
             0.8888888888888888,
             "#fdca26"
            ],
            [
             1,
             "#f0f921"
            ]
           ],
           "sequentialminus": [
            [
             0,
             "#0d0887"
            ],
            [
             0.1111111111111111,
             "#46039f"
            ],
            [
             0.2222222222222222,
             "#7201a8"
            ],
            [
             0.3333333333333333,
             "#9c179e"
            ],
            [
             0.4444444444444444,
             "#bd3786"
            ],
            [
             0.5555555555555556,
             "#d8576b"
            ],
            [
             0.6666666666666666,
             "#ed7953"
            ],
            [
             0.7777777777777778,
             "#fb9f3a"
            ],
            [
             0.8888888888888888,
             "#fdca26"
            ],
            [
             1,
             "#f0f921"
            ]
           ]
          },
          "colorway": [
           "#636efa",
           "#EF553B",
           "#00cc96",
           "#ab63fa",
           "#FFA15A",
           "#19d3f3",
           "#FF6692",
           "#B6E880",
           "#FF97FF",
           "#FECB52"
          ],
          "font": {
           "color": "#2a3f5f"
          },
          "geo": {
           "bgcolor": "white",
           "lakecolor": "white",
           "landcolor": "#E5ECF6",
           "showlakes": true,
           "showland": true,
           "subunitcolor": "white"
          },
          "hoverlabel": {
           "align": "left"
          },
          "hovermode": "closest",
          "mapbox": {
           "style": "light"
          },
          "paper_bgcolor": "white",
          "plot_bgcolor": "#E5ECF6",
          "polar": {
           "angularaxis": {
            "gridcolor": "white",
            "linecolor": "white",
            "ticks": ""
           },
           "bgcolor": "#E5ECF6",
           "radialaxis": {
            "gridcolor": "white",
            "linecolor": "white",
            "ticks": ""
           }
          },
          "scene": {
           "xaxis": {
            "backgroundcolor": "#E5ECF6",
            "gridcolor": "white",
            "gridwidth": 2,
            "linecolor": "white",
            "showbackground": true,
            "ticks": "",
            "zerolinecolor": "white"
           },
           "yaxis": {
            "backgroundcolor": "#E5ECF6",
            "gridcolor": "white",
            "gridwidth": 2,
            "linecolor": "white",
            "showbackground": true,
            "ticks": "",
            "zerolinecolor": "white"
           },
           "zaxis": {
            "backgroundcolor": "#E5ECF6",
            "gridcolor": "white",
            "gridwidth": 2,
            "linecolor": "white",
            "showbackground": true,
            "ticks": "",
            "zerolinecolor": "white"
           }
          },
          "shapedefaults": {
           "line": {
            "color": "#2a3f5f"
           }
          },
          "ternary": {
           "aaxis": {
            "gridcolor": "white",
            "linecolor": "white",
            "ticks": ""
           },
           "baxis": {
            "gridcolor": "white",
            "linecolor": "white",
            "ticks": ""
           },
           "bgcolor": "#E5ECF6",
           "caxis": {
            "gridcolor": "white",
            "linecolor": "white",
            "ticks": ""
           }
          },
          "title": {
           "x": 0.05
          },
          "xaxis": {
           "automargin": true,
           "gridcolor": "white",
           "linecolor": "white",
           "ticks": "",
           "title": {
            "standoff": 15
           },
           "zerolinecolor": "white",
           "zerolinewidth": 2
          },
          "yaxis": {
           "automargin": true,
           "gridcolor": "white",
           "linecolor": "white",
           "ticks": "",
           "title": {
            "standoff": 15
           },
           "zerolinecolor": "white",
           "zerolinewidth": 2
          }
         }
        },
        "title": {
         "font": {
          "color": "#4D5663"
         }
        },
        "xaxis": {
         "anchor": "y",
         "domain": [
          0,
          0.2125
         ],
         "gridcolor": "#E1E5ED",
         "showgrid": false,
         "tickfont": {
          "color": "#4D5663"
         },
         "title": {
          "font": {
           "color": "#4D5663"
          },
          "text": ""
         },
         "zerolinecolor": "#E1E5ED"
        },
        "xaxis10": {
         "anchor": "y10",
         "domain": [
          0.2625,
          0.475
         ],
         "gridcolor": "#E1E5ED",
         "showgrid": false,
         "tickfont": {
          "color": "#4D5663"
         },
         "title": {
          "font": {
           "color": "#4D5663"
          },
          "text": ""
         },
         "zerolinecolor": "#E1E5ED"
        },
        "xaxis11": {
         "anchor": "y11",
         "domain": [
          0.525,
          0.7375
         ],
         "gridcolor": "#E1E5ED",
         "showgrid": false,
         "tickfont": {
          "color": "#4D5663"
         },
         "title": {
          "font": {
           "color": "#4D5663"
          },
          "text": ""
         },
         "zerolinecolor": "#E1E5ED"
        },
        "xaxis12": {
         "anchor": "y12",
         "domain": [
          0.7875,
          1
         ],
         "gridcolor": "#E1E5ED",
         "showgrid": false,
         "tickfont": {
          "color": "#4D5663"
         },
         "title": {
          "font": {
           "color": "#4D5663"
          },
          "text": ""
         },
         "zerolinecolor": "#E1E5ED"
        },
        "xaxis13": {
         "anchor": "y13",
         "domain": [
          0,
          0.2125
         ],
         "gridcolor": "#E1E5ED",
         "showgrid": false,
         "tickfont": {
          "color": "#4D5663"
         },
         "title": {
          "font": {
           "color": "#4D5663"
          },
          "text": ""
         },
         "zerolinecolor": "#E1E5ED"
        },
        "xaxis14": {
         "anchor": "y14",
         "domain": [
          0.2625,
          0.475
         ],
         "gridcolor": "#E1E5ED",
         "showgrid": false,
         "tickfont": {
          "color": "#4D5663"
         },
         "title": {
          "font": {
           "color": "#4D5663"
          },
          "text": ""
         },
         "zerolinecolor": "#E1E5ED"
        },
        "xaxis15": {
         "anchor": "y15",
         "domain": [
          0.525,
          0.7375
         ],
         "gridcolor": "#E1E5ED",
         "showgrid": false,
         "tickfont": {
          "color": "#4D5663"
         },
         "title": {
          "font": {
           "color": "#4D5663"
          },
          "text": ""
         },
         "zerolinecolor": "#E1E5ED"
        },
        "xaxis16": {
         "anchor": "y16",
         "domain": [
          0.7875,
          1
         ],
         "gridcolor": "#E1E5ED",
         "showgrid": false,
         "tickfont": {
          "color": "#4D5663"
         },
         "title": {
          "font": {
           "color": "#4D5663"
          },
          "text": ""
         },
         "zerolinecolor": "#E1E5ED"
        },
        "xaxis2": {
         "anchor": "y2",
         "domain": [
          0.2625,
          0.475
         ],
         "gridcolor": "#E1E5ED",
         "showgrid": false,
         "tickfont": {
          "color": "#4D5663"
         },
         "title": {
          "font": {
           "color": "#4D5663"
          },
          "text": ""
         },
         "zerolinecolor": "#E1E5ED"
        },
        "xaxis3": {
         "anchor": "y3",
         "domain": [
          0.525,
          0.7375
         ],
         "gridcolor": "#E1E5ED",
         "showgrid": false,
         "tickfont": {
          "color": "#4D5663"
         },
         "title": {
          "font": {
           "color": "#4D5663"
          },
          "text": ""
         },
         "zerolinecolor": "#E1E5ED"
        },
        "xaxis4": {
         "anchor": "y4",
         "domain": [
          0.7875,
          1
         ],
         "gridcolor": "#E1E5ED",
         "showgrid": false,
         "tickfont": {
          "color": "#4D5663"
         },
         "title": {
          "font": {
           "color": "#4D5663"
          },
          "text": ""
         },
         "zerolinecolor": "#E1E5ED"
        },
        "xaxis5": {
         "anchor": "y5",
         "domain": [
          0,
          0.2125
         ],
         "gridcolor": "#E1E5ED",
         "showgrid": false,
         "tickfont": {
          "color": "#4D5663"
         },
         "title": {
          "font": {
           "color": "#4D5663"
          },
          "text": ""
         },
         "zerolinecolor": "#E1E5ED"
        },
        "xaxis6": {
         "anchor": "y6",
         "domain": [
          0.2625,
          0.475
         ],
         "gridcolor": "#E1E5ED",
         "showgrid": false,
         "tickfont": {
          "color": "#4D5663"
         },
         "title": {
          "font": {
           "color": "#4D5663"
          },
          "text": ""
         },
         "zerolinecolor": "#E1E5ED"
        },
        "xaxis7": {
         "anchor": "y7",
         "domain": [
          0.525,
          0.7375
         ],
         "gridcolor": "#E1E5ED",
         "showgrid": false,
         "tickfont": {
          "color": "#4D5663"
         },
         "title": {
          "font": {
           "color": "#4D5663"
          },
          "text": ""
         },
         "zerolinecolor": "#E1E5ED"
        },
        "xaxis8": {
         "anchor": "y8",
         "domain": [
          0.7875,
          1
         ],
         "gridcolor": "#E1E5ED",
         "showgrid": false,
         "tickfont": {
          "color": "#4D5663"
         },
         "title": {
          "font": {
           "color": "#4D5663"
          },
          "text": ""
         },
         "zerolinecolor": "#E1E5ED"
        },
        "xaxis9": {
         "anchor": "y9",
         "domain": [
          0,
          0.2125
         ],
         "gridcolor": "#E1E5ED",
         "showgrid": false,
         "tickfont": {
          "color": "#4D5663"
         },
         "title": {
          "font": {
           "color": "#4D5663"
          },
          "text": ""
         },
         "zerolinecolor": "#E1E5ED"
        },
        "yaxis": {
         "anchor": "x",
         "domain": [
          0.8025,
          1
         ],
         "gridcolor": "#E1E5ED",
         "showgrid": false,
         "tickfont": {
          "color": "#4D5663"
         },
         "title": {
          "font": {
           "color": "#4D5663"
          },
          "text": ""
         },
         "zerolinecolor": "#E1E5ED"
        },
        "yaxis10": {
         "anchor": "x10",
         "domain": [
          0.2675,
          0.465
         ],
         "gridcolor": "#E1E5ED",
         "showgrid": false,
         "tickfont": {
          "color": "#4D5663"
         },
         "title": {
          "font": {
           "color": "#4D5663"
          },
          "text": ""
         },
         "zerolinecolor": "#E1E5ED"
        },
        "yaxis11": {
         "anchor": "x11",
         "domain": [
          0.2675,
          0.465
         ],
         "gridcolor": "#E1E5ED",
         "showgrid": false,
         "tickfont": {
          "color": "#4D5663"
         },
         "title": {
          "font": {
           "color": "#4D5663"
          },
          "text": ""
         },
         "zerolinecolor": "#E1E5ED"
        },
        "yaxis12": {
         "anchor": "x12",
         "domain": [
          0.2675,
          0.465
         ],
         "gridcolor": "#E1E5ED",
         "showgrid": false,
         "tickfont": {
          "color": "#4D5663"
         },
         "title": {
          "font": {
           "color": "#4D5663"
          },
          "text": ""
         },
         "zerolinecolor": "#E1E5ED"
        },
        "yaxis13": {
         "anchor": "x13",
         "domain": [
          0,
          0.1975
         ],
         "gridcolor": "#E1E5ED",
         "showgrid": false,
         "tickfont": {
          "color": "#4D5663"
         },
         "title": {
          "font": {
           "color": "#4D5663"
          },
          "text": ""
         },
         "zerolinecolor": "#E1E5ED"
        },
        "yaxis14": {
         "anchor": "x14",
         "domain": [
          0,
          0.1975
         ],
         "gridcolor": "#E1E5ED",
         "showgrid": false,
         "tickfont": {
          "color": "#4D5663"
         },
         "title": {
          "font": {
           "color": "#4D5663"
          },
          "text": ""
         },
         "zerolinecolor": "#E1E5ED"
        },
        "yaxis15": {
         "anchor": "x15",
         "domain": [
          0,
          0.1975
         ],
         "gridcolor": "#E1E5ED",
         "showgrid": false,
         "tickfont": {
          "color": "#4D5663"
         },
         "title": {
          "font": {
           "color": "#4D5663"
          },
          "text": ""
         },
         "zerolinecolor": "#E1E5ED"
        },
        "yaxis16": {
         "anchor": "x16",
         "domain": [
          0,
          0.1975
         ],
         "gridcolor": "#E1E5ED",
         "showgrid": false,
         "tickfont": {
          "color": "#4D5663"
         },
         "title": {
          "font": {
           "color": "#4D5663"
          },
          "text": ""
         },
         "zerolinecolor": "#E1E5ED"
        },
        "yaxis2": {
         "anchor": "x2",
         "domain": [
          0.8025,
          1
         ],
         "gridcolor": "#E1E5ED",
         "showgrid": false,
         "tickfont": {
          "color": "#4D5663"
         },
         "title": {
          "font": {
           "color": "#4D5663"
          },
          "text": ""
         },
         "zerolinecolor": "#E1E5ED"
        },
        "yaxis3": {
         "anchor": "x3",
         "domain": [
          0.8025,
          1
         ],
         "gridcolor": "#E1E5ED",
         "showgrid": false,
         "tickfont": {
          "color": "#4D5663"
         },
         "title": {
          "font": {
           "color": "#4D5663"
          },
          "text": ""
         },
         "zerolinecolor": "#E1E5ED"
        },
        "yaxis4": {
         "anchor": "x4",
         "domain": [
          0.8025,
          1
         ],
         "gridcolor": "#E1E5ED",
         "showgrid": false,
         "tickfont": {
          "color": "#4D5663"
         },
         "title": {
          "font": {
           "color": "#4D5663"
          },
          "text": ""
         },
         "zerolinecolor": "#E1E5ED"
        },
        "yaxis5": {
         "anchor": "x5",
         "domain": [
          0.535,
          0.7325
         ],
         "gridcolor": "#E1E5ED",
         "showgrid": false,
         "tickfont": {
          "color": "#4D5663"
         },
         "title": {
          "font": {
           "color": "#4D5663"
          },
          "text": ""
         },
         "zerolinecolor": "#E1E5ED"
        },
        "yaxis6": {
         "anchor": "x6",
         "domain": [
          0.535,
          0.7325
         ],
         "gridcolor": "#E1E5ED",
         "showgrid": false,
         "tickfont": {
          "color": "#4D5663"
         },
         "title": {
          "font": {
           "color": "#4D5663"
          },
          "text": ""
         },
         "zerolinecolor": "#E1E5ED"
        },
        "yaxis7": {
         "anchor": "x7",
         "domain": [
          0.535,
          0.7325
         ],
         "gridcolor": "#E1E5ED",
         "showgrid": false,
         "tickfont": {
          "color": "#4D5663"
         },
         "title": {
          "font": {
           "color": "#4D5663"
          },
          "text": ""
         },
         "zerolinecolor": "#E1E5ED"
        },
        "yaxis8": {
         "anchor": "x8",
         "domain": [
          0.535,
          0.7325
         ],
         "gridcolor": "#E1E5ED",
         "showgrid": false,
         "tickfont": {
          "color": "#4D5663"
         },
         "title": {
          "font": {
           "color": "#4D5663"
          },
          "text": ""
         },
         "zerolinecolor": "#E1E5ED"
        },
        "yaxis9": {
         "anchor": "x9",
         "domain": [
          0.2675,
          0.465
         ],
         "gridcolor": "#E1E5ED",
         "showgrid": false,
         "tickfont": {
          "color": "#4D5663"
         },
         "title": {
          "font": {
           "color": "#4D5663"
          },
          "text": ""
         },
         "zerolinecolor": "#E1E5ED"
        }
       }
      },
      "text/html": [
       "<div>\n",
       "        \n",
       "        \n",
       "            <div id=\"1d26426d-8c44-4718-b511-dd2e3a5cb15b\" class=\"plotly-graph-div\" style=\"height:525px; width:100%;\"></div>\n",
       "            <script type=\"text/javascript\">\n",
       "                require([\"plotly\"], function(Plotly) {\n",
       "                    window.PLOTLYENV=window.PLOTLYENV || {};\n",
       "                    window.PLOTLYENV.BASE_URL='https://plot.ly';\n",
       "                    \n",
       "                if (document.getElementById(\"1d26426d-8c44-4718-b511-dd2e3a5cb15b\")) {\n",
       "                    Plotly.newPlot(\n",
       "                        '1d26426d-8c44-4718-b511-dd2e3a5cb15b',\n",
       "                        [{\"histfunc\": \"count\", \"histnorm\": \"\", \"marker\": {\"color\": \"rgba(255, 153, 51, 1.0)\", \"line\": {\"color\": \"#4D5663\", \"width\": 1.3}}, \"name\": \"A\", \"nbinsx\": 10, \"opacity\": 0.8, \"orientation\": \"v\", \"type\": \"histogram\", \"x\": [1.03550403305365, 1.0884452472323425, -0.8238221561084681, -1.165409106210997, 0.06314234757509121, 0.28403331754428096, 1.3031142849283257, -0.5330006379394974, 0.9239955720458833, -0.3404308950020115, 0.49705351026645744, 0.11995406868417582, 2.8763886700822554, 0.9193262205319692, 0.3949826146380539, 0.1398009361049872, -0.2389551947409717, 1.7631889811772778, 0.9423296126061489, 0.6967921196412008, -0.5414352907350243, -2.036531823296873, -0.24433216283716166, -0.6095837637269612, -0.8657030628068533, -1.3290908432224944, 0.12455980476667877, 1.0184694806034515, -1.183099026560509, -1.9117478241953998, 1.5901480473509917, 0.036261728019634634, -1.4686201375953223, 0.23850038429899692, 0.9850551573259738, 0.2343911390852982, 1.6218946767897775, 0.6092426949738955, 0.4316571530869879, -0.3497700989320226, 0.0630769975004216, -1.7473220089492396, 0.9992032559911043, -0.46947268822447513, -1.5169497942671446, -0.83250174584291, -0.4968973159748692, -0.961293262106367, 1.57489946216533, 0.12352962553924367, 1.1956965136368198, 0.2622356680889761, -1.3592917794393795, -1.3888127276879452, -0.4192232294633762, 0.2162221432499591, 2.3852910763547004, -1.3123647706286883, 0.2612934369110763, 0.8613442539868962, -2.199294295056723, 0.586695375572083, -0.49651894860239854, -0.06531819539664627, -1.8735956634836917, -0.922282193523706, -0.1390551342534496, -2.07229926650626, -0.3136402802450524, 1.2721102467999612, 1.2212916123327877, 0.4263336106747266, -1.3278513626090733, -1.4901785369107048, 0.3370979010819831, 1.1609741420348372, -1.4052615141974583, -1.675537604560082, -0.8470611330808606, 0.846711142348439, 1.6207509512727276, 0.9628774645331151, 0.08415610063834954, 2.0515464720858776, 0.3989174309260779, 0.5284312945429028, 1.316248220757381, 0.07911639704636868, 0.5625901301013624, 0.10809718712260306, 0.05558043354838223, 1.653387809021809, 0.19613717511683407, -1.0636425270979382, -2.3361375217663913, 1.170649467749388, -1.1175819973708243, -0.9877716720625392, 1.1344780752246988, 2.753133920603948], \"xaxis\": \"x\", \"yaxis\": \"y\"}, {\"line\": {\"color\": \"rgba(128, 128, 128, 1.0)\", \"dash\": \"solid\", \"shape\": \"linear\", \"width\": 1.3}, \"marker\": {\"size\": 2, \"symbol\": \"circle\"}, \"mode\": \"markers\", \"name\": \"A\", \"text\": \"\", \"type\": \"scatter\", \"x\": [1.8960119593872942, -0.9013887599486713, -1.3179328495735878, 0.5093309293244226, 0.0686381546170349, -2.0476722168076367, -1.2434170473032558, 0.3917194929936394, 0.08754198693204741, 1.8742193519276948, -0.34000427728927657, 0.5808930813656673, -0.9185932288750916, -0.4370652175550562, 0.1615291650092262, -0.5573801868161586, 0.20872127272273155, 1.5038452901928197, 0.3810687629989386, 0.7531014416401095, 0.47515844401649343, -1.3117037828849436, -1.1128339786035324, 1.029572365045059, -0.6998734664959823, 0.38491468084915426, -0.851322628406908, 0.20712468604181208, -1.0443583025142498, -0.5585025465631798, 1.6133603060244144, 0.6650436363899097, 0.43497836743006446, -0.3135901937525547, -1.035819537740092, 0.16500645542112155, -0.9797413668441683, 1.1709202821872366, -0.3720340472186027, 1.2875124895895487, -0.5342416459509143, 0.8652415097498334, 1.5787699931065844, 0.801559529330312, 1.808507607789963, 0.8574514261933185, -2.4147665891905423, 1.7264760801920465, -0.06502278632303127, 0.3525427456543032, 0.012552047667873876, -0.6432254433376144, -0.4677216910558781, 0.3088421925727908, -0.24516716396534866, -1.0028937338811257, -0.11281611748353859, -0.21130491670513085, 1.1809298727624613, -1.3801349160393888, 0.6649025414857689, 0.07020479167028694, 1.740029943416659, 0.11709800890149423, -0.5814226348171162, -1.0019165405279373, -0.21731413282882847, 0.32370671894003944, 0.9948776149290441, 1.4343455034837274, 1.230642479260398, 0.4407683249017293, 1.1008062320678353, -0.5268935998638822, -0.19239595695956105, 0.6351734409776926, 0.694340808578521, -0.5603554691124976, -1.6720568576003965, 2.1469145635682256, 2.114961913817211, 0.6233672076422256, -0.3462142582361224, -2.4139182337762866, -2.126184965333488, 0.6670682066566681, 0.5925052023824063, -0.2640307238259685, 0.98890415493091, 0.31990550123503214, 1.116614817349527, 0.6146447422037827, 0.23811295524611592, -0.7621631571903236, 0.0005562339163062913, 0.3056800154965565, -0.7646734494718713, 0.7956242619405267, 1.1363915737491685, 0.5870292601155663], \"xaxis\": \"x2\", \"y\": [1.03550403305365, 1.0884452472323425, -0.8238221561084681, -1.165409106210997, 0.06314234757509121, 0.28403331754428096, 1.3031142849283257, -0.5330006379394974, 0.9239955720458833, -0.3404308950020115, 0.49705351026645744, 0.11995406868417582, 2.8763886700822554, 0.9193262205319692, 0.3949826146380539, 0.1398009361049872, -0.2389551947409717, 1.7631889811772778, 0.9423296126061489, 0.6967921196412008, -0.5414352907350243, -2.036531823296873, -0.24433216283716166, -0.6095837637269612, -0.8657030628068533, -1.3290908432224944, 0.12455980476667877, 1.0184694806034515, -1.183099026560509, -1.9117478241953998, 1.5901480473509917, 0.036261728019634634, -1.4686201375953223, 0.23850038429899692, 0.9850551573259738, 0.2343911390852982, 1.6218946767897775, 0.6092426949738955, 0.4316571530869879, -0.3497700989320226, 0.0630769975004216, -1.7473220089492396, 0.9992032559911043, -0.46947268822447513, -1.5169497942671446, -0.83250174584291, -0.4968973159748692, -0.961293262106367, 1.57489946216533, 0.12352962553924367, 1.1956965136368198, 0.2622356680889761, -1.3592917794393795, -1.3888127276879452, -0.4192232294633762, 0.2162221432499591, 2.3852910763547004, -1.3123647706286883, 0.2612934369110763, 0.8613442539868962, -2.199294295056723, 0.586695375572083, -0.49651894860239854, -0.06531819539664627, -1.8735956634836917, -0.922282193523706, -0.1390551342534496, -2.07229926650626, -0.3136402802450524, 1.2721102467999612, 1.2212916123327877, 0.4263336106747266, -1.3278513626090733, -1.4901785369107048, 0.3370979010819831, 1.1609741420348372, -1.4052615141974583, -1.675537604560082, -0.8470611330808606, 0.846711142348439, 1.6207509512727276, 0.9628774645331151, 0.08415610063834954, 2.0515464720858776, 0.3989174309260779, 0.5284312945429028, 1.316248220757381, 0.07911639704636868, 0.5625901301013624, 0.10809718712260306, 0.05558043354838223, 1.653387809021809, 0.19613717511683407, -1.0636425270979382, -2.3361375217663913, 1.170649467749388, -1.1175819973708243, -0.9877716720625392, 1.1344780752246988, 2.753133920603948], \"yaxis\": \"y2\"}, {\"line\": {\"color\": \"rgba(128, 128, 128, 1.0)\", \"dash\": \"solid\", \"shape\": \"linear\", \"width\": 1.3}, \"marker\": {\"size\": 2, \"symbol\": \"circle\"}, \"mode\": \"markers\", \"name\": \"A\", \"text\": \"\", \"type\": \"scatter\", \"x\": [-0.31235344268957305, -0.779291184008495, -0.3382378313641103, 1.5421481134590849, -1.3551621221442123, -0.33340180454056784, 1.665296944513379, -0.32763611518520985, 0.2609174602920684, 1.6395212351276283, 0.9912710012311396, -1.4019081191169263, -1.458481412138232, -0.07304151076635769, 0.1221095950313633, -2.2286451162858807, 0.08237034692735798, 1.7750430436973565, -0.7511221498733812, -0.01841886398274809, 0.3509648204240912, -0.4678989936030183, -0.07150780483206723, -1.3762431724055342, 1.5326017377318464, 0.4983811025203121, -0.6795782051592428, -1.2656471093840016, 0.392297234389132, 0.24799131200879226, -1.0526228366086938, 0.5235704896437962, -2.1105760386913204, -0.9241436610842272, 1.7332599843659915, -0.9370479961582932, 0.8263952807279571, -0.9208933905587741, -0.1538715791291248, 0.4013805447984194, -0.8438962555943664, 0.2840391365053848, 0.7233997398011442, 1.2509113718825278, -0.4222341192657711, 0.2547359853722564, 1.1865136808993528, 0.01875822993183538, -0.021890938217392852, 0.3308619824488176, 0.5302273579361191, 0.5715254621147243, 0.9531877249301393, -0.86812801411079, -0.003632374883951981, -1.0424190239275244, -0.06131038034819389, -0.7235001630887572, -0.6740685444674551, -0.15891045604359477, 1.3402898073715057, 0.958617214426853, -0.6958427995651298, -0.5815808665306819, -0.39845785266202827, -0.39936376026592535, 0.04125767678413521, 0.24907653795296583, -0.9311076163727938, 0.5572243135699384, 0.46838393501357034, 0.5760126083194442, -0.5688066170943136, -0.12984686598054374, -1.8368011291388542, -1.8362250489634662, -0.31162448112682783, 0.2351904211051621, -1.2303712522426633, 0.803472556092731, 1.416412724412486, 1.0460389280210196, -1.7284715283664749, -0.9265549820848047, -1.0629618896047572, 0.5134434439148944, -0.8814579803703178, -0.22978633789459266, 2.3553289181892407, -0.07690735215068391, -0.848160029587419, -0.5875614140450401, 0.3113488458077335, -0.31003966124401394, 1.4804871534955693, -1.3732313567546572, 0.902320280180013, 0.7244150084856815, 0.8314704704799247, -0.21398466359923993], \"xaxis\": \"x3\", \"y\": [1.03550403305365, 1.0884452472323425, -0.8238221561084681, -1.165409106210997, 0.06314234757509121, 0.28403331754428096, 1.3031142849283257, -0.5330006379394974, 0.9239955720458833, -0.3404308950020115, 0.49705351026645744, 0.11995406868417582, 2.8763886700822554, 0.9193262205319692, 0.3949826146380539, 0.1398009361049872, -0.2389551947409717, 1.7631889811772778, 0.9423296126061489, 0.6967921196412008, -0.5414352907350243, -2.036531823296873, -0.24433216283716166, -0.6095837637269612, -0.8657030628068533, -1.3290908432224944, 0.12455980476667877, 1.0184694806034515, -1.183099026560509, -1.9117478241953998, 1.5901480473509917, 0.036261728019634634, -1.4686201375953223, 0.23850038429899692, 0.9850551573259738, 0.2343911390852982, 1.6218946767897775, 0.6092426949738955, 0.4316571530869879, -0.3497700989320226, 0.0630769975004216, -1.7473220089492396, 0.9992032559911043, -0.46947268822447513, -1.5169497942671446, -0.83250174584291, -0.4968973159748692, -0.961293262106367, 1.57489946216533, 0.12352962553924367, 1.1956965136368198, 0.2622356680889761, -1.3592917794393795, -1.3888127276879452, -0.4192232294633762, 0.2162221432499591, 2.3852910763547004, -1.3123647706286883, 0.2612934369110763, 0.8613442539868962, -2.199294295056723, 0.586695375572083, -0.49651894860239854, -0.06531819539664627, -1.8735956634836917, -0.922282193523706, -0.1390551342534496, -2.07229926650626, -0.3136402802450524, 1.2721102467999612, 1.2212916123327877, 0.4263336106747266, -1.3278513626090733, -1.4901785369107048, 0.3370979010819831, 1.1609741420348372, -1.4052615141974583, -1.675537604560082, -0.8470611330808606, 0.846711142348439, 1.6207509512727276, 0.9628774645331151, 0.08415610063834954, 2.0515464720858776, 0.3989174309260779, 0.5284312945429028, 1.316248220757381, 0.07911639704636868, 0.5625901301013624, 0.10809718712260306, 0.05558043354838223, 1.653387809021809, 0.19613717511683407, -1.0636425270979382, -2.3361375217663913, 1.170649467749388, -1.1175819973708243, -0.9877716720625392, 1.1344780752246988, 2.753133920603948], \"yaxis\": \"y3\"}, {\"line\": {\"color\": \"rgba(128, 128, 128, 1.0)\", \"dash\": \"solid\", \"shape\": \"linear\", \"width\": 1.3}, \"marker\": {\"size\": 2, \"symbol\": \"circle\"}, \"mode\": \"markers\", \"name\": \"A\", \"text\": \"\", \"type\": \"scatter\", \"x\": [1.0501846747475807, -0.2631622600665042, -1.7403044791255877, -0.49270096000479324, -1.266095965737075, -0.79041828917442, -2.9077287476812814, 0.5162476509677758, -0.7174430378950274, 0.2706549456708596, 1.0573039873448888, -0.5600414520013582, 0.9754910522734861, 0.692212074791335, -0.2668207194598693, -1.1770830167086077, 0.4966582090084445, 0.30526131642048454, 0.9160256136980789, -1.5918295650442957, 0.02977026538641927, -1.7172731979615743, -0.16174746327733458, 1.8427204049825525, -0.7070357286280311, -1.5063320055032123, -0.6975635973077675, 1.2139295569562687, 0.2673960751229431, -0.783315246893848, -0.5072663992950421, 0.5870448767884239, 0.5601074508584243, -0.2637481454065867, -0.7719795045926394, 0.8886942146784562, -0.180650310216546, -0.5381770917545685, -1.4051286558709084, -0.15570765448750165, 0.09307128198913218, -0.18151631488798683, 0.310787850486599, 0.4918763947131808, 0.6905827746980921, 0.16693538146178163, 1.4122462316005135, 1.016677403837887, -0.6854839792266426, -0.5809831911943966, -2.184806133330967, -0.3688091129235744, -0.40548108117032877, 1.339731057473646, -0.9428106033223824, 0.6613579874430183, 0.9202754253501984, 2.4143459436610955, 0.29157535161896586, 1.293398970613332, -1.9738145496888437, 0.19483371940869532, -0.7898763563357196, -1.1159067513199046, 0.8634416674887178, 1.8087502331064784, -0.1873966626930624, -0.02902665910273575, 0.20943796269246906, 1.094678799697476, 0.20675945704454388, -0.9283200224952756, 1.9189085221682376, -0.6738438434566502, 0.950432788311642, 0.2683051509918545, 0.5269430013778346, -0.8311589580073511, -0.08979753977451058, -0.28135666411071003, -0.36891736319069823, -0.6351896533405529, 1.725810775721876, -1.2370318338049597, -0.21501903771022107, 0.2069549912563331, -1.4782321340741926, -2.0347856211560686, 1.1417074936945315, 0.13726081355615155, -1.0568924133839583, 0.6840980919865118, -1.5722044419324286, 0.300415657494318, 1.3111348856256066, 1.7505717975611537, -0.8078893163791052, -0.8247084630691421, 1.5035738332033604, 0.05881221943485587], \"xaxis\": \"x4\", \"y\": [1.03550403305365, 1.0884452472323425, -0.8238221561084681, -1.165409106210997, 0.06314234757509121, 0.28403331754428096, 1.3031142849283257, -0.5330006379394974, 0.9239955720458833, -0.3404308950020115, 0.49705351026645744, 0.11995406868417582, 2.8763886700822554, 0.9193262205319692, 0.3949826146380539, 0.1398009361049872, -0.2389551947409717, 1.7631889811772778, 0.9423296126061489, 0.6967921196412008, -0.5414352907350243, -2.036531823296873, -0.24433216283716166, -0.6095837637269612, -0.8657030628068533, -1.3290908432224944, 0.12455980476667877, 1.0184694806034515, -1.183099026560509, -1.9117478241953998, 1.5901480473509917, 0.036261728019634634, -1.4686201375953223, 0.23850038429899692, 0.9850551573259738, 0.2343911390852982, 1.6218946767897775, 0.6092426949738955, 0.4316571530869879, -0.3497700989320226, 0.0630769975004216, -1.7473220089492396, 0.9992032559911043, -0.46947268822447513, -1.5169497942671446, -0.83250174584291, -0.4968973159748692, -0.961293262106367, 1.57489946216533, 0.12352962553924367, 1.1956965136368198, 0.2622356680889761, -1.3592917794393795, -1.3888127276879452, -0.4192232294633762, 0.2162221432499591, 2.3852910763547004, -1.3123647706286883, 0.2612934369110763, 0.8613442539868962, -2.199294295056723, 0.586695375572083, -0.49651894860239854, -0.06531819539664627, -1.8735956634836917, -0.922282193523706, -0.1390551342534496, -2.07229926650626, -0.3136402802450524, 1.2721102467999612, 1.2212916123327877, 0.4263336106747266, -1.3278513626090733, -1.4901785369107048, 0.3370979010819831, 1.1609741420348372, -1.4052615141974583, -1.675537604560082, -0.8470611330808606, 0.846711142348439, 1.6207509512727276, 0.9628774645331151, 0.08415610063834954, 2.0515464720858776, 0.3989174309260779, 0.5284312945429028, 1.316248220757381, 0.07911639704636868, 0.5625901301013624, 0.10809718712260306, 0.05558043354838223, 1.653387809021809, 0.19613717511683407, -1.0636425270979382, -2.3361375217663913, 1.170649467749388, -1.1175819973708243, -0.9877716720625392, 1.1344780752246988, 2.753133920603948], \"yaxis\": \"y4\"}, {\"line\": {\"color\": \"rgba(128, 128, 128, 1.0)\", \"dash\": \"solid\", \"shape\": \"linear\", \"width\": 1.3}, \"marker\": {\"size\": 2, \"symbol\": \"circle\"}, \"mode\": \"markers\", \"name\": \"B\", \"text\": \"\", \"type\": \"scatter\", \"x\": [1.03550403305365, 1.0884452472323425, -0.8238221561084681, -1.165409106210997, 0.06314234757509121, 0.28403331754428096, 1.3031142849283257, -0.5330006379394974, 0.9239955720458833, -0.3404308950020115, 0.49705351026645744, 0.11995406868417582, 2.8763886700822554, 0.9193262205319692, 0.3949826146380539, 0.1398009361049872, -0.2389551947409717, 1.7631889811772778, 0.9423296126061489, 0.6967921196412008, -0.5414352907350243, -2.036531823296873, -0.24433216283716166, -0.6095837637269612, -0.8657030628068533, -1.3290908432224944, 0.12455980476667877, 1.0184694806034515, -1.183099026560509, -1.9117478241953998, 1.5901480473509917, 0.036261728019634634, -1.4686201375953223, 0.23850038429899692, 0.9850551573259738, 0.2343911390852982, 1.6218946767897775, 0.6092426949738955, 0.4316571530869879, -0.3497700989320226, 0.0630769975004216, -1.7473220089492396, 0.9992032559911043, -0.46947268822447513, -1.5169497942671446, -0.83250174584291, -0.4968973159748692, -0.961293262106367, 1.57489946216533, 0.12352962553924367, 1.1956965136368198, 0.2622356680889761, -1.3592917794393795, -1.3888127276879452, -0.4192232294633762, 0.2162221432499591, 2.3852910763547004, -1.3123647706286883, 0.2612934369110763, 0.8613442539868962, -2.199294295056723, 0.586695375572083, -0.49651894860239854, -0.06531819539664627, -1.8735956634836917, -0.922282193523706, -0.1390551342534496, -2.07229926650626, -0.3136402802450524, 1.2721102467999612, 1.2212916123327877, 0.4263336106747266, -1.3278513626090733, -1.4901785369107048, 0.3370979010819831, 1.1609741420348372, -1.4052615141974583, -1.675537604560082, -0.8470611330808606, 0.846711142348439, 1.6207509512727276, 0.9628774645331151, 0.08415610063834954, 2.0515464720858776, 0.3989174309260779, 0.5284312945429028, 1.316248220757381, 0.07911639704636868, 0.5625901301013624, 0.10809718712260306, 0.05558043354838223, 1.653387809021809, 0.19613717511683407, -1.0636425270979382, -2.3361375217663913, 1.170649467749388, -1.1175819973708243, -0.9877716720625392, 1.1344780752246988, 2.753133920603948], \"xaxis\": \"x5\", \"y\": [1.8960119593872942, -0.9013887599486713, -1.3179328495735878, 0.5093309293244226, 0.0686381546170349, -2.0476722168076367, -1.2434170473032558, 0.3917194929936394, 0.08754198693204741, 1.8742193519276948, -0.34000427728927657, 0.5808930813656673, -0.9185932288750916, -0.4370652175550562, 0.1615291650092262, -0.5573801868161586, 0.20872127272273155, 1.5038452901928197, 0.3810687629989386, 0.7531014416401095, 0.47515844401649343, -1.3117037828849436, -1.1128339786035324, 1.029572365045059, -0.6998734664959823, 0.38491468084915426, -0.851322628406908, 0.20712468604181208, -1.0443583025142498, -0.5585025465631798, 1.6133603060244144, 0.6650436363899097, 0.43497836743006446, -0.3135901937525547, -1.035819537740092, 0.16500645542112155, -0.9797413668441683, 1.1709202821872366, -0.3720340472186027, 1.2875124895895487, -0.5342416459509143, 0.8652415097498334, 1.5787699931065844, 0.801559529330312, 1.808507607789963, 0.8574514261933185, -2.4147665891905423, 1.7264760801920465, -0.06502278632303127, 0.3525427456543032, 0.012552047667873876, -0.6432254433376144, -0.4677216910558781, 0.3088421925727908, -0.24516716396534866, -1.0028937338811257, -0.11281611748353859, -0.21130491670513085, 1.1809298727624613, -1.3801349160393888, 0.6649025414857689, 0.07020479167028694, 1.740029943416659, 0.11709800890149423, -0.5814226348171162, -1.0019165405279373, -0.21731413282882847, 0.32370671894003944, 0.9948776149290441, 1.4343455034837274, 1.230642479260398, 0.4407683249017293, 1.1008062320678353, -0.5268935998638822, -0.19239595695956105, 0.6351734409776926, 0.694340808578521, -0.5603554691124976, -1.6720568576003965, 2.1469145635682256, 2.114961913817211, 0.6233672076422256, -0.3462142582361224, -2.4139182337762866, -2.126184965333488, 0.6670682066566681, 0.5925052023824063, -0.2640307238259685, 0.98890415493091, 0.31990550123503214, 1.116614817349527, 0.6146447422037827, 0.23811295524611592, -0.7621631571903236, 0.0005562339163062913, 0.3056800154965565, -0.7646734494718713, 0.7956242619405267, 1.1363915737491685, 0.5870292601155663], \"yaxis\": \"y5\"}, {\"histfunc\": \"count\", \"histnorm\": \"\", \"marker\": {\"color\": \"rgba(55, 128, 191, 1.0)\", \"line\": {\"color\": \"#4D5663\", \"width\": 1.3}}, \"name\": \"B\", \"nbinsx\": 10, \"opacity\": 0.8, \"orientation\": \"v\", \"type\": \"histogram\", \"x\": [1.8960119593872942, -0.9013887599486713, -1.3179328495735878, 0.5093309293244226, 0.0686381546170349, -2.0476722168076367, -1.2434170473032558, 0.3917194929936394, 0.08754198693204741, 1.8742193519276948, -0.34000427728927657, 0.5808930813656673, -0.9185932288750916, -0.4370652175550562, 0.1615291650092262, -0.5573801868161586, 0.20872127272273155, 1.5038452901928197, 0.3810687629989386, 0.7531014416401095, 0.47515844401649343, -1.3117037828849436, -1.1128339786035324, 1.029572365045059, -0.6998734664959823, 0.38491468084915426, -0.851322628406908, 0.20712468604181208, -1.0443583025142498, -0.5585025465631798, 1.6133603060244144, 0.6650436363899097, 0.43497836743006446, -0.3135901937525547, -1.035819537740092, 0.16500645542112155, -0.9797413668441683, 1.1709202821872366, -0.3720340472186027, 1.2875124895895487, -0.5342416459509143, 0.8652415097498334, 1.5787699931065844, 0.801559529330312, 1.808507607789963, 0.8574514261933185, -2.4147665891905423, 1.7264760801920465, -0.06502278632303127, 0.3525427456543032, 0.012552047667873876, -0.6432254433376144, -0.4677216910558781, 0.3088421925727908, -0.24516716396534866, -1.0028937338811257, -0.11281611748353859, -0.21130491670513085, 1.1809298727624613, -1.3801349160393888, 0.6649025414857689, 0.07020479167028694, 1.740029943416659, 0.11709800890149423, -0.5814226348171162, -1.0019165405279373, -0.21731413282882847, 0.32370671894003944, 0.9948776149290441, 1.4343455034837274, 1.230642479260398, 0.4407683249017293, 1.1008062320678353, -0.5268935998638822, -0.19239595695956105, 0.6351734409776926, 0.694340808578521, -0.5603554691124976, -1.6720568576003965, 2.1469145635682256, 2.114961913817211, 0.6233672076422256, -0.3462142582361224, -2.4139182337762866, -2.126184965333488, 0.6670682066566681, 0.5925052023824063, -0.2640307238259685, 0.98890415493091, 0.31990550123503214, 1.116614817349527, 0.6146447422037827, 0.23811295524611592, -0.7621631571903236, 0.0005562339163062913, 0.3056800154965565, -0.7646734494718713, 0.7956242619405267, 1.1363915737491685, 0.5870292601155663], \"xaxis\": \"x6\", \"yaxis\": \"y6\"}, {\"line\": {\"color\": \"rgba(128, 128, 128, 1.0)\", \"dash\": \"solid\", \"shape\": \"linear\", \"width\": 1.3}, \"marker\": {\"size\": 2, \"symbol\": \"circle\"}, \"mode\": \"markers\", \"name\": \"B\", \"text\": \"\", \"type\": \"scatter\", \"x\": [-0.31235344268957305, -0.779291184008495, -0.3382378313641103, 1.5421481134590849, -1.3551621221442123, -0.33340180454056784, 1.665296944513379, -0.32763611518520985, 0.2609174602920684, 1.6395212351276283, 0.9912710012311396, -1.4019081191169263, -1.458481412138232, -0.07304151076635769, 0.1221095950313633, -2.2286451162858807, 0.08237034692735798, 1.7750430436973565, -0.7511221498733812, -0.01841886398274809, 0.3509648204240912, -0.4678989936030183, -0.07150780483206723, -1.3762431724055342, 1.5326017377318464, 0.4983811025203121, -0.6795782051592428, -1.2656471093840016, 0.392297234389132, 0.24799131200879226, -1.0526228366086938, 0.5235704896437962, -2.1105760386913204, -0.9241436610842272, 1.7332599843659915, -0.9370479961582932, 0.8263952807279571, -0.9208933905587741, -0.1538715791291248, 0.4013805447984194, -0.8438962555943664, 0.2840391365053848, 0.7233997398011442, 1.2509113718825278, -0.4222341192657711, 0.2547359853722564, 1.1865136808993528, 0.01875822993183538, -0.021890938217392852, 0.3308619824488176, 0.5302273579361191, 0.5715254621147243, 0.9531877249301393, -0.86812801411079, -0.003632374883951981, -1.0424190239275244, -0.06131038034819389, -0.7235001630887572, -0.6740685444674551, -0.15891045604359477, 1.3402898073715057, 0.958617214426853, -0.6958427995651298, -0.5815808665306819, -0.39845785266202827, -0.39936376026592535, 0.04125767678413521, 0.24907653795296583, -0.9311076163727938, 0.5572243135699384, 0.46838393501357034, 0.5760126083194442, -0.5688066170943136, -0.12984686598054374, -1.8368011291388542, -1.8362250489634662, -0.31162448112682783, 0.2351904211051621, -1.2303712522426633, 0.803472556092731, 1.416412724412486, 1.0460389280210196, -1.7284715283664749, -0.9265549820848047, -1.0629618896047572, 0.5134434439148944, -0.8814579803703178, -0.22978633789459266, 2.3553289181892407, -0.07690735215068391, -0.848160029587419, -0.5875614140450401, 0.3113488458077335, -0.31003966124401394, 1.4804871534955693, -1.3732313567546572, 0.902320280180013, 0.7244150084856815, 0.8314704704799247, -0.21398466359923993], \"xaxis\": \"x7\", \"y\": [1.8960119593872942, -0.9013887599486713, -1.3179328495735878, 0.5093309293244226, 0.0686381546170349, -2.0476722168076367, -1.2434170473032558, 0.3917194929936394, 0.08754198693204741, 1.8742193519276948, -0.34000427728927657, 0.5808930813656673, -0.9185932288750916, -0.4370652175550562, 0.1615291650092262, -0.5573801868161586, 0.20872127272273155, 1.5038452901928197, 0.3810687629989386, 0.7531014416401095, 0.47515844401649343, -1.3117037828849436, -1.1128339786035324, 1.029572365045059, -0.6998734664959823, 0.38491468084915426, -0.851322628406908, 0.20712468604181208, -1.0443583025142498, -0.5585025465631798, 1.6133603060244144, 0.6650436363899097, 0.43497836743006446, -0.3135901937525547, -1.035819537740092, 0.16500645542112155, -0.9797413668441683, 1.1709202821872366, -0.3720340472186027, 1.2875124895895487, -0.5342416459509143, 0.8652415097498334, 1.5787699931065844, 0.801559529330312, 1.808507607789963, 0.8574514261933185, -2.4147665891905423, 1.7264760801920465, -0.06502278632303127, 0.3525427456543032, 0.012552047667873876, -0.6432254433376144, -0.4677216910558781, 0.3088421925727908, -0.24516716396534866, -1.0028937338811257, -0.11281611748353859, -0.21130491670513085, 1.1809298727624613, -1.3801349160393888, 0.6649025414857689, 0.07020479167028694, 1.740029943416659, 0.11709800890149423, -0.5814226348171162, -1.0019165405279373, -0.21731413282882847, 0.32370671894003944, 0.9948776149290441, 1.4343455034837274, 1.230642479260398, 0.4407683249017293, 1.1008062320678353, -0.5268935998638822, -0.19239595695956105, 0.6351734409776926, 0.694340808578521, -0.5603554691124976, -1.6720568576003965, 2.1469145635682256, 2.114961913817211, 0.6233672076422256, -0.3462142582361224, -2.4139182337762866, -2.126184965333488, 0.6670682066566681, 0.5925052023824063, -0.2640307238259685, 0.98890415493091, 0.31990550123503214, 1.116614817349527, 0.6146447422037827, 0.23811295524611592, -0.7621631571903236, 0.0005562339163062913, 0.3056800154965565, -0.7646734494718713, 0.7956242619405267, 1.1363915737491685, 0.5870292601155663], \"yaxis\": \"y7\"}, {\"line\": {\"color\": \"rgba(128, 128, 128, 1.0)\", \"dash\": \"solid\", \"shape\": \"linear\", \"width\": 1.3}, \"marker\": {\"size\": 2, \"symbol\": \"circle\"}, \"mode\": \"markers\", \"name\": \"B\", \"text\": \"\", \"type\": \"scatter\", \"x\": [1.0501846747475807, -0.2631622600665042, -1.7403044791255877, -0.49270096000479324, -1.266095965737075, -0.79041828917442, -2.9077287476812814, 0.5162476509677758, -0.7174430378950274, 0.2706549456708596, 1.0573039873448888, -0.5600414520013582, 0.9754910522734861, 0.692212074791335, -0.2668207194598693, -1.1770830167086077, 0.4966582090084445, 0.30526131642048454, 0.9160256136980789, -1.5918295650442957, 0.02977026538641927, -1.7172731979615743, -0.16174746327733458, 1.8427204049825525, -0.7070357286280311, -1.5063320055032123, -0.6975635973077675, 1.2139295569562687, 0.2673960751229431, -0.783315246893848, -0.5072663992950421, 0.5870448767884239, 0.5601074508584243, -0.2637481454065867, -0.7719795045926394, 0.8886942146784562, -0.180650310216546, -0.5381770917545685, -1.4051286558709084, -0.15570765448750165, 0.09307128198913218, -0.18151631488798683, 0.310787850486599, 0.4918763947131808, 0.6905827746980921, 0.16693538146178163, 1.4122462316005135, 1.016677403837887, -0.6854839792266426, -0.5809831911943966, -2.184806133330967, -0.3688091129235744, -0.40548108117032877, 1.339731057473646, -0.9428106033223824, 0.6613579874430183, 0.9202754253501984, 2.4143459436610955, 0.29157535161896586, 1.293398970613332, -1.9738145496888437, 0.19483371940869532, -0.7898763563357196, -1.1159067513199046, 0.8634416674887178, 1.8087502331064784, -0.1873966626930624, -0.02902665910273575, 0.20943796269246906, 1.094678799697476, 0.20675945704454388, -0.9283200224952756, 1.9189085221682376, -0.6738438434566502, 0.950432788311642, 0.2683051509918545, 0.5269430013778346, -0.8311589580073511, -0.08979753977451058, -0.28135666411071003, -0.36891736319069823, -0.6351896533405529, 1.725810775721876, -1.2370318338049597, -0.21501903771022107, 0.2069549912563331, -1.4782321340741926, -2.0347856211560686, 1.1417074936945315, 0.13726081355615155, -1.0568924133839583, 0.6840980919865118, -1.5722044419324286, 0.300415657494318, 1.3111348856256066, 1.7505717975611537, -0.8078893163791052, -0.8247084630691421, 1.5035738332033604, 0.05881221943485587], \"xaxis\": \"x8\", \"y\": [1.8960119593872942, -0.9013887599486713, -1.3179328495735878, 0.5093309293244226, 0.0686381546170349, -2.0476722168076367, -1.2434170473032558, 0.3917194929936394, 0.08754198693204741, 1.8742193519276948, -0.34000427728927657, 0.5808930813656673, -0.9185932288750916, -0.4370652175550562, 0.1615291650092262, -0.5573801868161586, 0.20872127272273155, 1.5038452901928197, 0.3810687629989386, 0.7531014416401095, 0.47515844401649343, -1.3117037828849436, -1.1128339786035324, 1.029572365045059, -0.6998734664959823, 0.38491468084915426, -0.851322628406908, 0.20712468604181208, -1.0443583025142498, -0.5585025465631798, 1.6133603060244144, 0.6650436363899097, 0.43497836743006446, -0.3135901937525547, -1.035819537740092, 0.16500645542112155, -0.9797413668441683, 1.1709202821872366, -0.3720340472186027, 1.2875124895895487, -0.5342416459509143, 0.8652415097498334, 1.5787699931065844, 0.801559529330312, 1.808507607789963, 0.8574514261933185, -2.4147665891905423, 1.7264760801920465, -0.06502278632303127, 0.3525427456543032, 0.012552047667873876, -0.6432254433376144, -0.4677216910558781, 0.3088421925727908, -0.24516716396534866, -1.0028937338811257, -0.11281611748353859, -0.21130491670513085, 1.1809298727624613, -1.3801349160393888, 0.6649025414857689, 0.07020479167028694, 1.740029943416659, 0.11709800890149423, -0.5814226348171162, -1.0019165405279373, -0.21731413282882847, 0.32370671894003944, 0.9948776149290441, 1.4343455034837274, 1.230642479260398, 0.4407683249017293, 1.1008062320678353, -0.5268935998638822, -0.19239595695956105, 0.6351734409776926, 0.694340808578521, -0.5603554691124976, -1.6720568576003965, 2.1469145635682256, 2.114961913817211, 0.6233672076422256, -0.3462142582361224, -2.4139182337762866, -2.126184965333488, 0.6670682066566681, 0.5925052023824063, -0.2640307238259685, 0.98890415493091, 0.31990550123503214, 1.116614817349527, 0.6146447422037827, 0.23811295524611592, -0.7621631571903236, 0.0005562339163062913, 0.3056800154965565, -0.7646734494718713, 0.7956242619405267, 1.1363915737491685, 0.5870292601155663], \"yaxis\": \"y8\"}, {\"line\": {\"color\": \"rgba(128, 128, 128, 1.0)\", \"dash\": \"solid\", \"shape\": \"linear\", \"width\": 1.3}, \"marker\": {\"size\": 2, \"symbol\": \"circle\"}, \"mode\": \"markers\", \"name\": \"C\", \"text\": \"\", \"type\": \"scatter\", \"x\": [1.03550403305365, 1.0884452472323425, -0.8238221561084681, -1.165409106210997, 0.06314234757509121, 0.28403331754428096, 1.3031142849283257, -0.5330006379394974, 0.9239955720458833, -0.3404308950020115, 0.49705351026645744, 0.11995406868417582, 2.8763886700822554, 0.9193262205319692, 0.3949826146380539, 0.1398009361049872, -0.2389551947409717, 1.7631889811772778, 0.9423296126061489, 0.6967921196412008, -0.5414352907350243, -2.036531823296873, -0.24433216283716166, -0.6095837637269612, -0.8657030628068533, -1.3290908432224944, 0.12455980476667877, 1.0184694806034515, -1.183099026560509, -1.9117478241953998, 1.5901480473509917, 0.036261728019634634, -1.4686201375953223, 0.23850038429899692, 0.9850551573259738, 0.2343911390852982, 1.6218946767897775, 0.6092426949738955, 0.4316571530869879, -0.3497700989320226, 0.0630769975004216, -1.7473220089492396, 0.9992032559911043, -0.46947268822447513, -1.5169497942671446, -0.83250174584291, -0.4968973159748692, -0.961293262106367, 1.57489946216533, 0.12352962553924367, 1.1956965136368198, 0.2622356680889761, -1.3592917794393795, -1.3888127276879452, -0.4192232294633762, 0.2162221432499591, 2.3852910763547004, -1.3123647706286883, 0.2612934369110763, 0.8613442539868962, -2.199294295056723, 0.586695375572083, -0.49651894860239854, -0.06531819539664627, -1.8735956634836917, -0.922282193523706, -0.1390551342534496, -2.07229926650626, -0.3136402802450524, 1.2721102467999612, 1.2212916123327877, 0.4263336106747266, -1.3278513626090733, -1.4901785369107048, 0.3370979010819831, 1.1609741420348372, -1.4052615141974583, -1.675537604560082, -0.8470611330808606, 0.846711142348439, 1.6207509512727276, 0.9628774645331151, 0.08415610063834954, 2.0515464720858776, 0.3989174309260779, 0.5284312945429028, 1.316248220757381, 0.07911639704636868, 0.5625901301013624, 0.10809718712260306, 0.05558043354838223, 1.653387809021809, 0.19613717511683407, -1.0636425270979382, -2.3361375217663913, 1.170649467749388, -1.1175819973708243, -0.9877716720625392, 1.1344780752246988, 2.753133920603948], \"xaxis\": \"x9\", \"y\": [-0.31235344268957305, -0.779291184008495, -0.3382378313641103, 1.5421481134590849, -1.3551621221442123, -0.33340180454056784, 1.665296944513379, -0.32763611518520985, 0.2609174602920684, 1.6395212351276283, 0.9912710012311396, -1.4019081191169263, -1.458481412138232, -0.07304151076635769, 0.1221095950313633, -2.2286451162858807, 0.08237034692735798, 1.7750430436973565, -0.7511221498733812, -0.01841886398274809, 0.3509648204240912, -0.4678989936030183, -0.07150780483206723, -1.3762431724055342, 1.5326017377318464, 0.4983811025203121, -0.6795782051592428, -1.2656471093840016, 0.392297234389132, 0.24799131200879226, -1.0526228366086938, 0.5235704896437962, -2.1105760386913204, -0.9241436610842272, 1.7332599843659915, -0.9370479961582932, 0.8263952807279571, -0.9208933905587741, -0.1538715791291248, 0.4013805447984194, -0.8438962555943664, 0.2840391365053848, 0.7233997398011442, 1.2509113718825278, -0.4222341192657711, 0.2547359853722564, 1.1865136808993528, 0.01875822993183538, -0.021890938217392852, 0.3308619824488176, 0.5302273579361191, 0.5715254621147243, 0.9531877249301393, -0.86812801411079, -0.003632374883951981, -1.0424190239275244, -0.06131038034819389, -0.7235001630887572, -0.6740685444674551, -0.15891045604359477, 1.3402898073715057, 0.958617214426853, -0.6958427995651298, -0.5815808665306819, -0.39845785266202827, -0.39936376026592535, 0.04125767678413521, 0.24907653795296583, -0.9311076163727938, 0.5572243135699384, 0.46838393501357034, 0.5760126083194442, -0.5688066170943136, -0.12984686598054374, -1.8368011291388542, -1.8362250489634662, -0.31162448112682783, 0.2351904211051621, -1.2303712522426633, 0.803472556092731, 1.416412724412486, 1.0460389280210196, -1.7284715283664749, -0.9265549820848047, -1.0629618896047572, 0.5134434439148944, -0.8814579803703178, -0.22978633789459266, 2.3553289181892407, -0.07690735215068391, -0.848160029587419, -0.5875614140450401, 0.3113488458077335, -0.31003966124401394, 1.4804871534955693, -1.3732313567546572, 0.902320280180013, 0.7244150084856815, 0.8314704704799247, -0.21398466359923993], \"yaxis\": \"y9\"}, {\"line\": {\"color\": \"rgba(128, 128, 128, 1.0)\", \"dash\": \"solid\", \"shape\": \"linear\", \"width\": 1.3}, \"marker\": {\"size\": 2, \"symbol\": \"circle\"}, \"mode\": \"markers\", \"name\": \"C\", \"text\": \"\", \"type\": \"scatter\", \"x\": [1.8960119593872942, -0.9013887599486713, -1.3179328495735878, 0.5093309293244226, 0.0686381546170349, -2.0476722168076367, -1.2434170473032558, 0.3917194929936394, 0.08754198693204741, 1.8742193519276948, -0.34000427728927657, 0.5808930813656673, -0.9185932288750916, -0.4370652175550562, 0.1615291650092262, -0.5573801868161586, 0.20872127272273155, 1.5038452901928197, 0.3810687629989386, 0.7531014416401095, 0.47515844401649343, -1.3117037828849436, -1.1128339786035324, 1.029572365045059, -0.6998734664959823, 0.38491468084915426, -0.851322628406908, 0.20712468604181208, -1.0443583025142498, -0.5585025465631798, 1.6133603060244144, 0.6650436363899097, 0.43497836743006446, -0.3135901937525547, -1.035819537740092, 0.16500645542112155, -0.9797413668441683, 1.1709202821872366, -0.3720340472186027, 1.2875124895895487, -0.5342416459509143, 0.8652415097498334, 1.5787699931065844, 0.801559529330312, 1.808507607789963, 0.8574514261933185, -2.4147665891905423, 1.7264760801920465, -0.06502278632303127, 0.3525427456543032, 0.012552047667873876, -0.6432254433376144, -0.4677216910558781, 0.3088421925727908, -0.24516716396534866, -1.0028937338811257, -0.11281611748353859, -0.21130491670513085, 1.1809298727624613, -1.3801349160393888, 0.6649025414857689, 0.07020479167028694, 1.740029943416659, 0.11709800890149423, -0.5814226348171162, -1.0019165405279373, -0.21731413282882847, 0.32370671894003944, 0.9948776149290441, 1.4343455034837274, 1.230642479260398, 0.4407683249017293, 1.1008062320678353, -0.5268935998638822, -0.19239595695956105, 0.6351734409776926, 0.694340808578521, -0.5603554691124976, -1.6720568576003965, 2.1469145635682256, 2.114961913817211, 0.6233672076422256, -0.3462142582361224, -2.4139182337762866, -2.126184965333488, 0.6670682066566681, 0.5925052023824063, -0.2640307238259685, 0.98890415493091, 0.31990550123503214, 1.116614817349527, 0.6146447422037827, 0.23811295524611592, -0.7621631571903236, 0.0005562339163062913, 0.3056800154965565, -0.7646734494718713, 0.7956242619405267, 1.1363915737491685, 0.5870292601155663], \"xaxis\": \"x10\", \"y\": [-0.31235344268957305, -0.779291184008495, -0.3382378313641103, 1.5421481134590849, -1.3551621221442123, -0.33340180454056784, 1.665296944513379, -0.32763611518520985, 0.2609174602920684, 1.6395212351276283, 0.9912710012311396, -1.4019081191169263, -1.458481412138232, -0.07304151076635769, 0.1221095950313633, -2.2286451162858807, 0.08237034692735798, 1.7750430436973565, -0.7511221498733812, -0.01841886398274809, 0.3509648204240912, -0.4678989936030183, -0.07150780483206723, -1.3762431724055342, 1.5326017377318464, 0.4983811025203121, -0.6795782051592428, -1.2656471093840016, 0.392297234389132, 0.24799131200879226, -1.0526228366086938, 0.5235704896437962, -2.1105760386913204, -0.9241436610842272, 1.7332599843659915, -0.9370479961582932, 0.8263952807279571, -0.9208933905587741, -0.1538715791291248, 0.4013805447984194, -0.8438962555943664, 0.2840391365053848, 0.7233997398011442, 1.2509113718825278, -0.4222341192657711, 0.2547359853722564, 1.1865136808993528, 0.01875822993183538, -0.021890938217392852, 0.3308619824488176, 0.5302273579361191, 0.5715254621147243, 0.9531877249301393, -0.86812801411079, -0.003632374883951981, -1.0424190239275244, -0.06131038034819389, -0.7235001630887572, -0.6740685444674551, -0.15891045604359477, 1.3402898073715057, 0.958617214426853, -0.6958427995651298, -0.5815808665306819, -0.39845785266202827, -0.39936376026592535, 0.04125767678413521, 0.24907653795296583, -0.9311076163727938, 0.5572243135699384, 0.46838393501357034, 0.5760126083194442, -0.5688066170943136, -0.12984686598054374, -1.8368011291388542, -1.8362250489634662, -0.31162448112682783, 0.2351904211051621, -1.2303712522426633, 0.803472556092731, 1.416412724412486, 1.0460389280210196, -1.7284715283664749, -0.9265549820848047, -1.0629618896047572, 0.5134434439148944, -0.8814579803703178, -0.22978633789459266, 2.3553289181892407, -0.07690735215068391, -0.848160029587419, -0.5875614140450401, 0.3113488458077335, -0.31003966124401394, 1.4804871534955693, -1.3732313567546572, 0.902320280180013, 0.7244150084856815, 0.8314704704799247, -0.21398466359923993], \"yaxis\": \"y10\"}, {\"histfunc\": \"count\", \"histnorm\": \"\", \"marker\": {\"color\": \"rgba(50, 171, 96, 1.0)\", \"line\": {\"color\": \"#4D5663\", \"width\": 1.3}}, \"name\": \"C\", \"nbinsx\": 10, \"opacity\": 0.8, \"orientation\": \"v\", \"type\": \"histogram\", \"x\": [-0.31235344268957305, -0.779291184008495, -0.3382378313641103, 1.5421481134590849, -1.3551621221442123, -0.33340180454056784, 1.665296944513379, -0.32763611518520985, 0.2609174602920684, 1.6395212351276283, 0.9912710012311396, -1.4019081191169263, -1.458481412138232, -0.07304151076635769, 0.1221095950313633, -2.2286451162858807, 0.08237034692735798, 1.7750430436973565, -0.7511221498733812, -0.01841886398274809, 0.3509648204240912, -0.4678989936030183, -0.07150780483206723, -1.3762431724055342, 1.5326017377318464, 0.4983811025203121, -0.6795782051592428, -1.2656471093840016, 0.392297234389132, 0.24799131200879226, -1.0526228366086938, 0.5235704896437962, -2.1105760386913204, -0.9241436610842272, 1.7332599843659915, -0.9370479961582932, 0.8263952807279571, -0.9208933905587741, -0.1538715791291248, 0.4013805447984194, -0.8438962555943664, 0.2840391365053848, 0.7233997398011442, 1.2509113718825278, -0.4222341192657711, 0.2547359853722564, 1.1865136808993528, 0.01875822993183538, -0.021890938217392852, 0.3308619824488176, 0.5302273579361191, 0.5715254621147243, 0.9531877249301393, -0.86812801411079, -0.003632374883951981, -1.0424190239275244, -0.06131038034819389, -0.7235001630887572, -0.6740685444674551, -0.15891045604359477, 1.3402898073715057, 0.958617214426853, -0.6958427995651298, -0.5815808665306819, -0.39845785266202827, -0.39936376026592535, 0.04125767678413521, 0.24907653795296583, -0.9311076163727938, 0.5572243135699384, 0.46838393501357034, 0.5760126083194442, -0.5688066170943136, -0.12984686598054374, -1.8368011291388542, -1.8362250489634662, -0.31162448112682783, 0.2351904211051621, -1.2303712522426633, 0.803472556092731, 1.416412724412486, 1.0460389280210196, -1.7284715283664749, -0.9265549820848047, -1.0629618896047572, 0.5134434439148944, -0.8814579803703178, -0.22978633789459266, 2.3553289181892407, -0.07690735215068391, -0.848160029587419, -0.5875614140450401, 0.3113488458077335, -0.31003966124401394, 1.4804871534955693, -1.3732313567546572, 0.902320280180013, 0.7244150084856815, 0.8314704704799247, -0.21398466359923993], \"xaxis\": \"x11\", \"yaxis\": \"y11\"}, {\"line\": {\"color\": \"rgba(128, 128, 128, 1.0)\", \"dash\": \"solid\", \"shape\": \"linear\", \"width\": 1.3}, \"marker\": {\"size\": 2, \"symbol\": \"circle\"}, \"mode\": \"markers\", \"name\": \"C\", \"text\": \"\", \"type\": \"scatter\", \"x\": [1.0501846747475807, -0.2631622600665042, -1.7403044791255877, -0.49270096000479324, -1.266095965737075, -0.79041828917442, -2.9077287476812814, 0.5162476509677758, -0.7174430378950274, 0.2706549456708596, 1.0573039873448888, -0.5600414520013582, 0.9754910522734861, 0.692212074791335, -0.2668207194598693, -1.1770830167086077, 0.4966582090084445, 0.30526131642048454, 0.9160256136980789, -1.5918295650442957, 0.02977026538641927, -1.7172731979615743, -0.16174746327733458, 1.8427204049825525, -0.7070357286280311, -1.5063320055032123, -0.6975635973077675, 1.2139295569562687, 0.2673960751229431, -0.783315246893848, -0.5072663992950421, 0.5870448767884239, 0.5601074508584243, -0.2637481454065867, -0.7719795045926394, 0.8886942146784562, -0.180650310216546, -0.5381770917545685, -1.4051286558709084, -0.15570765448750165, 0.09307128198913218, -0.18151631488798683, 0.310787850486599, 0.4918763947131808, 0.6905827746980921, 0.16693538146178163, 1.4122462316005135, 1.016677403837887, -0.6854839792266426, -0.5809831911943966, -2.184806133330967, -0.3688091129235744, -0.40548108117032877, 1.339731057473646, -0.9428106033223824, 0.6613579874430183, 0.9202754253501984, 2.4143459436610955, 0.29157535161896586, 1.293398970613332, -1.9738145496888437, 0.19483371940869532, -0.7898763563357196, -1.1159067513199046, 0.8634416674887178, 1.8087502331064784, -0.1873966626930624, -0.02902665910273575, 0.20943796269246906, 1.094678799697476, 0.20675945704454388, -0.9283200224952756, 1.9189085221682376, -0.6738438434566502, 0.950432788311642, 0.2683051509918545, 0.5269430013778346, -0.8311589580073511, -0.08979753977451058, -0.28135666411071003, -0.36891736319069823, -0.6351896533405529, 1.725810775721876, -1.2370318338049597, -0.21501903771022107, 0.2069549912563331, -1.4782321340741926, -2.0347856211560686, 1.1417074936945315, 0.13726081355615155, -1.0568924133839583, 0.6840980919865118, -1.5722044419324286, 0.300415657494318, 1.3111348856256066, 1.7505717975611537, -0.8078893163791052, -0.8247084630691421, 1.5035738332033604, 0.05881221943485587], \"xaxis\": \"x12\", \"y\": [-0.31235344268957305, -0.779291184008495, -0.3382378313641103, 1.5421481134590849, -1.3551621221442123, -0.33340180454056784, 1.665296944513379, -0.32763611518520985, 0.2609174602920684, 1.6395212351276283, 0.9912710012311396, -1.4019081191169263, -1.458481412138232, -0.07304151076635769, 0.1221095950313633, -2.2286451162858807, 0.08237034692735798, 1.7750430436973565, -0.7511221498733812, -0.01841886398274809, 0.3509648204240912, -0.4678989936030183, -0.07150780483206723, -1.3762431724055342, 1.5326017377318464, 0.4983811025203121, -0.6795782051592428, -1.2656471093840016, 0.392297234389132, 0.24799131200879226, -1.0526228366086938, 0.5235704896437962, -2.1105760386913204, -0.9241436610842272, 1.7332599843659915, -0.9370479961582932, 0.8263952807279571, -0.9208933905587741, -0.1538715791291248, 0.4013805447984194, -0.8438962555943664, 0.2840391365053848, 0.7233997398011442, 1.2509113718825278, -0.4222341192657711, 0.2547359853722564, 1.1865136808993528, 0.01875822993183538, -0.021890938217392852, 0.3308619824488176, 0.5302273579361191, 0.5715254621147243, 0.9531877249301393, -0.86812801411079, -0.003632374883951981, -1.0424190239275244, -0.06131038034819389, -0.7235001630887572, -0.6740685444674551, -0.15891045604359477, 1.3402898073715057, 0.958617214426853, -0.6958427995651298, -0.5815808665306819, -0.39845785266202827, -0.39936376026592535, 0.04125767678413521, 0.24907653795296583, -0.9311076163727938, 0.5572243135699384, 0.46838393501357034, 0.5760126083194442, -0.5688066170943136, -0.12984686598054374, -1.8368011291388542, -1.8362250489634662, -0.31162448112682783, 0.2351904211051621, -1.2303712522426633, 0.803472556092731, 1.416412724412486, 1.0460389280210196, -1.7284715283664749, -0.9265549820848047, -1.0629618896047572, 0.5134434439148944, -0.8814579803703178, -0.22978633789459266, 2.3553289181892407, -0.07690735215068391, -0.848160029587419, -0.5875614140450401, 0.3113488458077335, -0.31003966124401394, 1.4804871534955693, -1.3732313567546572, 0.902320280180013, 0.7244150084856815, 0.8314704704799247, -0.21398466359923993], \"yaxis\": \"y12\"}, {\"line\": {\"color\": \"rgba(128, 128, 128, 1.0)\", \"dash\": \"solid\", \"shape\": \"linear\", \"width\": 1.3}, \"marker\": {\"size\": 2, \"symbol\": \"circle\"}, \"mode\": \"markers\", \"name\": \"D\", \"text\": \"\", \"type\": \"scatter\", \"x\": [1.03550403305365, 1.0884452472323425, -0.8238221561084681, -1.165409106210997, 0.06314234757509121, 0.28403331754428096, 1.3031142849283257, -0.5330006379394974, 0.9239955720458833, -0.3404308950020115, 0.49705351026645744, 0.11995406868417582, 2.8763886700822554, 0.9193262205319692, 0.3949826146380539, 0.1398009361049872, -0.2389551947409717, 1.7631889811772778, 0.9423296126061489, 0.6967921196412008, -0.5414352907350243, -2.036531823296873, -0.24433216283716166, -0.6095837637269612, -0.8657030628068533, -1.3290908432224944, 0.12455980476667877, 1.0184694806034515, -1.183099026560509, -1.9117478241953998, 1.5901480473509917, 0.036261728019634634, -1.4686201375953223, 0.23850038429899692, 0.9850551573259738, 0.2343911390852982, 1.6218946767897775, 0.6092426949738955, 0.4316571530869879, -0.3497700989320226, 0.0630769975004216, -1.7473220089492396, 0.9992032559911043, -0.46947268822447513, -1.5169497942671446, -0.83250174584291, -0.4968973159748692, -0.961293262106367, 1.57489946216533, 0.12352962553924367, 1.1956965136368198, 0.2622356680889761, -1.3592917794393795, -1.3888127276879452, -0.4192232294633762, 0.2162221432499591, 2.3852910763547004, -1.3123647706286883, 0.2612934369110763, 0.8613442539868962, -2.199294295056723, 0.586695375572083, -0.49651894860239854, -0.06531819539664627, -1.8735956634836917, -0.922282193523706, -0.1390551342534496, -2.07229926650626, -0.3136402802450524, 1.2721102467999612, 1.2212916123327877, 0.4263336106747266, -1.3278513626090733, -1.4901785369107048, 0.3370979010819831, 1.1609741420348372, -1.4052615141974583, -1.675537604560082, -0.8470611330808606, 0.846711142348439, 1.6207509512727276, 0.9628774645331151, 0.08415610063834954, 2.0515464720858776, 0.3989174309260779, 0.5284312945429028, 1.316248220757381, 0.07911639704636868, 0.5625901301013624, 0.10809718712260306, 0.05558043354838223, 1.653387809021809, 0.19613717511683407, -1.0636425270979382, -2.3361375217663913, 1.170649467749388, -1.1175819973708243, -0.9877716720625392, 1.1344780752246988, 2.753133920603948], \"xaxis\": \"x13\", \"y\": [1.0501846747475807, -0.2631622600665042, -1.7403044791255877, -0.49270096000479324, -1.266095965737075, -0.79041828917442, -2.9077287476812814, 0.5162476509677758, -0.7174430378950274, 0.2706549456708596, 1.0573039873448888, -0.5600414520013582, 0.9754910522734861, 0.692212074791335, -0.2668207194598693, -1.1770830167086077, 0.4966582090084445, 0.30526131642048454, 0.9160256136980789, -1.5918295650442957, 0.02977026538641927, -1.7172731979615743, -0.16174746327733458, 1.8427204049825525, -0.7070357286280311, -1.5063320055032123, -0.6975635973077675, 1.2139295569562687, 0.2673960751229431, -0.783315246893848, -0.5072663992950421, 0.5870448767884239, 0.5601074508584243, -0.2637481454065867, -0.7719795045926394, 0.8886942146784562, -0.180650310216546, -0.5381770917545685, -1.4051286558709084, -0.15570765448750165, 0.09307128198913218, -0.18151631488798683, 0.310787850486599, 0.4918763947131808, 0.6905827746980921, 0.16693538146178163, 1.4122462316005135, 1.016677403837887, -0.6854839792266426, -0.5809831911943966, -2.184806133330967, -0.3688091129235744, -0.40548108117032877, 1.339731057473646, -0.9428106033223824, 0.6613579874430183, 0.9202754253501984, 2.4143459436610955, 0.29157535161896586, 1.293398970613332, -1.9738145496888437, 0.19483371940869532, -0.7898763563357196, -1.1159067513199046, 0.8634416674887178, 1.8087502331064784, -0.1873966626930624, -0.02902665910273575, 0.20943796269246906, 1.094678799697476, 0.20675945704454388, -0.9283200224952756, 1.9189085221682376, -0.6738438434566502, 0.950432788311642, 0.2683051509918545, 0.5269430013778346, -0.8311589580073511, -0.08979753977451058, -0.28135666411071003, -0.36891736319069823, -0.6351896533405529, 1.725810775721876, -1.2370318338049597, -0.21501903771022107, 0.2069549912563331, -1.4782321340741926, -2.0347856211560686, 1.1417074936945315, 0.13726081355615155, -1.0568924133839583, 0.6840980919865118, -1.5722044419324286, 0.300415657494318, 1.3111348856256066, 1.7505717975611537, -0.8078893163791052, -0.8247084630691421, 1.5035738332033604, 0.05881221943485587], \"yaxis\": \"y13\"}, {\"line\": {\"color\": \"rgba(128, 128, 128, 1.0)\", \"dash\": \"solid\", \"shape\": \"linear\", \"width\": 1.3}, \"marker\": {\"size\": 2, \"symbol\": \"circle\"}, \"mode\": \"markers\", \"name\": \"D\", \"text\": \"\", \"type\": \"scatter\", \"x\": [1.8960119593872942, -0.9013887599486713, -1.3179328495735878, 0.5093309293244226, 0.0686381546170349, -2.0476722168076367, -1.2434170473032558, 0.3917194929936394, 0.08754198693204741, 1.8742193519276948, -0.34000427728927657, 0.5808930813656673, -0.9185932288750916, -0.4370652175550562, 0.1615291650092262, -0.5573801868161586, 0.20872127272273155, 1.5038452901928197, 0.3810687629989386, 0.7531014416401095, 0.47515844401649343, -1.3117037828849436, -1.1128339786035324, 1.029572365045059, -0.6998734664959823, 0.38491468084915426, -0.851322628406908, 0.20712468604181208, -1.0443583025142498, -0.5585025465631798, 1.6133603060244144, 0.6650436363899097, 0.43497836743006446, -0.3135901937525547, -1.035819537740092, 0.16500645542112155, -0.9797413668441683, 1.1709202821872366, -0.3720340472186027, 1.2875124895895487, -0.5342416459509143, 0.8652415097498334, 1.5787699931065844, 0.801559529330312, 1.808507607789963, 0.8574514261933185, -2.4147665891905423, 1.7264760801920465, -0.06502278632303127, 0.3525427456543032, 0.012552047667873876, -0.6432254433376144, -0.4677216910558781, 0.3088421925727908, -0.24516716396534866, -1.0028937338811257, -0.11281611748353859, -0.21130491670513085, 1.1809298727624613, -1.3801349160393888, 0.6649025414857689, 0.07020479167028694, 1.740029943416659, 0.11709800890149423, -0.5814226348171162, -1.0019165405279373, -0.21731413282882847, 0.32370671894003944, 0.9948776149290441, 1.4343455034837274, 1.230642479260398, 0.4407683249017293, 1.1008062320678353, -0.5268935998638822, -0.19239595695956105, 0.6351734409776926, 0.694340808578521, -0.5603554691124976, -1.6720568576003965, 2.1469145635682256, 2.114961913817211, 0.6233672076422256, -0.3462142582361224, -2.4139182337762866, -2.126184965333488, 0.6670682066566681, 0.5925052023824063, -0.2640307238259685, 0.98890415493091, 0.31990550123503214, 1.116614817349527, 0.6146447422037827, 0.23811295524611592, -0.7621631571903236, 0.0005562339163062913, 0.3056800154965565, -0.7646734494718713, 0.7956242619405267, 1.1363915737491685, 0.5870292601155663], \"xaxis\": \"x14\", \"y\": [1.0501846747475807, -0.2631622600665042, -1.7403044791255877, -0.49270096000479324, -1.266095965737075, -0.79041828917442, -2.9077287476812814, 0.5162476509677758, -0.7174430378950274, 0.2706549456708596, 1.0573039873448888, -0.5600414520013582, 0.9754910522734861, 0.692212074791335, -0.2668207194598693, -1.1770830167086077, 0.4966582090084445, 0.30526131642048454, 0.9160256136980789, -1.5918295650442957, 0.02977026538641927, -1.7172731979615743, -0.16174746327733458, 1.8427204049825525, -0.7070357286280311, -1.5063320055032123, -0.6975635973077675, 1.2139295569562687, 0.2673960751229431, -0.783315246893848, -0.5072663992950421, 0.5870448767884239, 0.5601074508584243, -0.2637481454065867, -0.7719795045926394, 0.8886942146784562, -0.180650310216546, -0.5381770917545685, -1.4051286558709084, -0.15570765448750165, 0.09307128198913218, -0.18151631488798683, 0.310787850486599, 0.4918763947131808, 0.6905827746980921, 0.16693538146178163, 1.4122462316005135, 1.016677403837887, -0.6854839792266426, -0.5809831911943966, -2.184806133330967, -0.3688091129235744, -0.40548108117032877, 1.339731057473646, -0.9428106033223824, 0.6613579874430183, 0.9202754253501984, 2.4143459436610955, 0.29157535161896586, 1.293398970613332, -1.9738145496888437, 0.19483371940869532, -0.7898763563357196, -1.1159067513199046, 0.8634416674887178, 1.8087502331064784, -0.1873966626930624, -0.02902665910273575, 0.20943796269246906, 1.094678799697476, 0.20675945704454388, -0.9283200224952756, 1.9189085221682376, -0.6738438434566502, 0.950432788311642, 0.2683051509918545, 0.5269430013778346, -0.8311589580073511, -0.08979753977451058, -0.28135666411071003, -0.36891736319069823, -0.6351896533405529, 1.725810775721876, -1.2370318338049597, -0.21501903771022107, 0.2069549912563331, -1.4782321340741926, -2.0347856211560686, 1.1417074936945315, 0.13726081355615155, -1.0568924133839583, 0.6840980919865118, -1.5722044419324286, 0.300415657494318, 1.3111348856256066, 1.7505717975611537, -0.8078893163791052, -0.8247084630691421, 1.5035738332033604, 0.05881221943485587], \"yaxis\": \"y14\"}, {\"line\": {\"color\": \"rgba(128, 128, 128, 1.0)\", \"dash\": \"solid\", \"shape\": \"linear\", \"width\": 1.3}, \"marker\": {\"size\": 2, \"symbol\": \"circle\"}, \"mode\": \"markers\", \"name\": \"D\", \"text\": \"\", \"type\": \"scatter\", \"x\": [-0.31235344268957305, -0.779291184008495, -0.3382378313641103, 1.5421481134590849, -1.3551621221442123, -0.33340180454056784, 1.665296944513379, -0.32763611518520985, 0.2609174602920684, 1.6395212351276283, 0.9912710012311396, -1.4019081191169263, -1.458481412138232, -0.07304151076635769, 0.1221095950313633, -2.2286451162858807, 0.08237034692735798, 1.7750430436973565, -0.7511221498733812, -0.01841886398274809, 0.3509648204240912, -0.4678989936030183, -0.07150780483206723, -1.3762431724055342, 1.5326017377318464, 0.4983811025203121, -0.6795782051592428, -1.2656471093840016, 0.392297234389132, 0.24799131200879226, -1.0526228366086938, 0.5235704896437962, -2.1105760386913204, -0.9241436610842272, 1.7332599843659915, -0.9370479961582932, 0.8263952807279571, -0.9208933905587741, -0.1538715791291248, 0.4013805447984194, -0.8438962555943664, 0.2840391365053848, 0.7233997398011442, 1.2509113718825278, -0.4222341192657711, 0.2547359853722564, 1.1865136808993528, 0.01875822993183538, -0.021890938217392852, 0.3308619824488176, 0.5302273579361191, 0.5715254621147243, 0.9531877249301393, -0.86812801411079, -0.003632374883951981, -1.0424190239275244, -0.06131038034819389, -0.7235001630887572, -0.6740685444674551, -0.15891045604359477, 1.3402898073715057, 0.958617214426853, -0.6958427995651298, -0.5815808665306819, -0.39845785266202827, -0.39936376026592535, 0.04125767678413521, 0.24907653795296583, -0.9311076163727938, 0.5572243135699384, 0.46838393501357034, 0.5760126083194442, -0.5688066170943136, -0.12984686598054374, -1.8368011291388542, -1.8362250489634662, -0.31162448112682783, 0.2351904211051621, -1.2303712522426633, 0.803472556092731, 1.416412724412486, 1.0460389280210196, -1.7284715283664749, -0.9265549820848047, -1.0629618896047572, 0.5134434439148944, -0.8814579803703178, -0.22978633789459266, 2.3553289181892407, -0.07690735215068391, -0.848160029587419, -0.5875614140450401, 0.3113488458077335, -0.31003966124401394, 1.4804871534955693, -1.3732313567546572, 0.902320280180013, 0.7244150084856815, 0.8314704704799247, -0.21398466359923993], \"xaxis\": \"x15\", \"y\": [1.0501846747475807, -0.2631622600665042, -1.7403044791255877, -0.49270096000479324, -1.266095965737075, -0.79041828917442, -2.9077287476812814, 0.5162476509677758, -0.7174430378950274, 0.2706549456708596, 1.0573039873448888, -0.5600414520013582, 0.9754910522734861, 0.692212074791335, -0.2668207194598693, -1.1770830167086077, 0.4966582090084445, 0.30526131642048454, 0.9160256136980789, -1.5918295650442957, 0.02977026538641927, -1.7172731979615743, -0.16174746327733458, 1.8427204049825525, -0.7070357286280311, -1.5063320055032123, -0.6975635973077675, 1.2139295569562687, 0.2673960751229431, -0.783315246893848, -0.5072663992950421, 0.5870448767884239, 0.5601074508584243, -0.2637481454065867, -0.7719795045926394, 0.8886942146784562, -0.180650310216546, -0.5381770917545685, -1.4051286558709084, -0.15570765448750165, 0.09307128198913218, -0.18151631488798683, 0.310787850486599, 0.4918763947131808, 0.6905827746980921, 0.16693538146178163, 1.4122462316005135, 1.016677403837887, -0.6854839792266426, -0.5809831911943966, -2.184806133330967, -0.3688091129235744, -0.40548108117032877, 1.339731057473646, -0.9428106033223824, 0.6613579874430183, 0.9202754253501984, 2.4143459436610955, 0.29157535161896586, 1.293398970613332, -1.9738145496888437, 0.19483371940869532, -0.7898763563357196, -1.1159067513199046, 0.8634416674887178, 1.8087502331064784, -0.1873966626930624, -0.02902665910273575, 0.20943796269246906, 1.094678799697476, 0.20675945704454388, -0.9283200224952756, 1.9189085221682376, -0.6738438434566502, 0.950432788311642, 0.2683051509918545, 0.5269430013778346, -0.8311589580073511, -0.08979753977451058, -0.28135666411071003, -0.36891736319069823, -0.6351896533405529, 1.725810775721876, -1.2370318338049597, -0.21501903771022107, 0.2069549912563331, -1.4782321340741926, -2.0347856211560686, 1.1417074936945315, 0.13726081355615155, -1.0568924133839583, 0.6840980919865118, -1.5722044419324286, 0.300415657494318, 1.3111348856256066, 1.7505717975611537, -0.8078893163791052, -0.8247084630691421, 1.5035738332033604, 0.05881221943485587], \"yaxis\": \"y15\"}, {\"histfunc\": \"count\", \"histnorm\": \"\", \"marker\": {\"color\": \"rgba(128, 0, 128, 1.0)\", \"line\": {\"color\": \"#4D5663\", \"width\": 1.3}}, \"name\": \"D\", \"nbinsx\": 10, \"opacity\": 0.8, \"orientation\": \"v\", \"type\": \"histogram\", \"x\": [1.0501846747475807, -0.2631622600665042, -1.7403044791255877, -0.49270096000479324, -1.266095965737075, -0.79041828917442, -2.9077287476812814, 0.5162476509677758, -0.7174430378950274, 0.2706549456708596, 1.0573039873448888, -0.5600414520013582, 0.9754910522734861, 0.692212074791335, -0.2668207194598693, -1.1770830167086077, 0.4966582090084445, 0.30526131642048454, 0.9160256136980789, -1.5918295650442957, 0.02977026538641927, -1.7172731979615743, -0.16174746327733458, 1.8427204049825525, -0.7070357286280311, -1.5063320055032123, -0.6975635973077675, 1.2139295569562687, 0.2673960751229431, -0.783315246893848, -0.5072663992950421, 0.5870448767884239, 0.5601074508584243, -0.2637481454065867, -0.7719795045926394, 0.8886942146784562, -0.180650310216546, -0.5381770917545685, -1.4051286558709084, -0.15570765448750165, 0.09307128198913218, -0.18151631488798683, 0.310787850486599, 0.4918763947131808, 0.6905827746980921, 0.16693538146178163, 1.4122462316005135, 1.016677403837887, -0.6854839792266426, -0.5809831911943966, -2.184806133330967, -0.3688091129235744, -0.40548108117032877, 1.339731057473646, -0.9428106033223824, 0.6613579874430183, 0.9202754253501984, 2.4143459436610955, 0.29157535161896586, 1.293398970613332, -1.9738145496888437, 0.19483371940869532, -0.7898763563357196, -1.1159067513199046, 0.8634416674887178, 1.8087502331064784, -0.1873966626930624, -0.02902665910273575, 0.20943796269246906, 1.094678799697476, 0.20675945704454388, -0.9283200224952756, 1.9189085221682376, -0.6738438434566502, 0.950432788311642, 0.2683051509918545, 0.5269430013778346, -0.8311589580073511, -0.08979753977451058, -0.28135666411071003, -0.36891736319069823, -0.6351896533405529, 1.725810775721876, -1.2370318338049597, -0.21501903771022107, 0.2069549912563331, -1.4782321340741926, -2.0347856211560686, 1.1417074936945315, 0.13726081355615155, -1.0568924133839583, 0.6840980919865118, -1.5722044419324286, 0.300415657494318, 1.3111348856256066, 1.7505717975611537, -0.8078893163791052, -0.8247084630691421, 1.5035738332033604, 0.05881221943485587], \"xaxis\": \"x16\", \"yaxis\": \"y16\"}],\n",
       "                        {\"bargap\": 0.02, \"legend\": {\"bgcolor\": \"#F5F6F9\", \"font\": {\"color\": \"#4D5663\"}}, \"paper_bgcolor\": \"#F5F6F9\", \"plot_bgcolor\": \"#F5F6F9\", \"showlegend\": false, \"template\": {\"data\": {\"bar\": [{\"error_x\": {\"color\": \"#2a3f5f\"}, \"error_y\": {\"color\": \"#2a3f5f\"}, \"marker\": {\"line\": {\"color\": \"#E5ECF6\", \"width\": 0.5}}, \"type\": \"bar\"}], \"barpolar\": [{\"marker\": {\"line\": {\"color\": \"#E5ECF6\", \"width\": 0.5}}, \"type\": \"barpolar\"}], \"carpet\": [{\"aaxis\": {\"endlinecolor\": \"#2a3f5f\", \"gridcolor\": \"white\", \"linecolor\": \"white\", \"minorgridcolor\": \"white\", \"startlinecolor\": \"#2a3f5f\"}, \"baxis\": {\"endlinecolor\": \"#2a3f5f\", \"gridcolor\": \"white\", \"linecolor\": \"white\", \"minorgridcolor\": \"white\", \"startlinecolor\": \"#2a3f5f\"}, \"type\": \"carpet\"}], \"choropleth\": [{\"colorbar\": {\"outlinewidth\": 0, \"ticks\": \"\"}, \"type\": \"choropleth\"}], \"contour\": [{\"colorbar\": {\"outlinewidth\": 0, \"ticks\": \"\"}, \"colorscale\": [[0.0, \"#0d0887\"], [0.1111111111111111, \"#46039f\"], [0.2222222222222222, \"#7201a8\"], [0.3333333333333333, \"#9c179e\"], [0.4444444444444444, \"#bd3786\"], [0.5555555555555556, \"#d8576b\"], [0.6666666666666666, \"#ed7953\"], [0.7777777777777778, \"#fb9f3a\"], [0.8888888888888888, \"#fdca26\"], [1.0, \"#f0f921\"]], \"type\": \"contour\"}], \"contourcarpet\": [{\"colorbar\": {\"outlinewidth\": 0, \"ticks\": \"\"}, \"type\": \"contourcarpet\"}], \"heatmap\": [{\"colorbar\": {\"outlinewidth\": 0, \"ticks\": \"\"}, \"colorscale\": [[0.0, \"#0d0887\"], [0.1111111111111111, \"#46039f\"], [0.2222222222222222, \"#7201a8\"], [0.3333333333333333, \"#9c179e\"], [0.4444444444444444, \"#bd3786\"], [0.5555555555555556, \"#d8576b\"], [0.6666666666666666, \"#ed7953\"], [0.7777777777777778, \"#fb9f3a\"], [0.8888888888888888, \"#fdca26\"], [1.0, \"#f0f921\"]], \"type\": \"heatmap\"}], \"heatmapgl\": [{\"colorbar\": {\"outlinewidth\": 0, \"ticks\": \"\"}, \"colorscale\": [[0.0, \"#0d0887\"], [0.1111111111111111, \"#46039f\"], [0.2222222222222222, \"#7201a8\"], [0.3333333333333333, \"#9c179e\"], [0.4444444444444444, \"#bd3786\"], [0.5555555555555556, \"#d8576b\"], [0.6666666666666666, \"#ed7953\"], [0.7777777777777778, \"#fb9f3a\"], [0.8888888888888888, \"#fdca26\"], [1.0, \"#f0f921\"]], \"type\": \"heatmapgl\"}], \"histogram\": [{\"marker\": {\"colorbar\": {\"outlinewidth\": 0, \"ticks\": \"\"}}, \"type\": \"histogram\"}], \"histogram2d\": [{\"colorbar\": {\"outlinewidth\": 0, \"ticks\": \"\"}, \"colorscale\": [[0.0, \"#0d0887\"], [0.1111111111111111, \"#46039f\"], [0.2222222222222222, \"#7201a8\"], [0.3333333333333333, \"#9c179e\"], [0.4444444444444444, \"#bd3786\"], [0.5555555555555556, \"#d8576b\"], [0.6666666666666666, \"#ed7953\"], [0.7777777777777778, \"#fb9f3a\"], [0.8888888888888888, \"#fdca26\"], [1.0, \"#f0f921\"]], \"type\": \"histogram2d\"}], \"histogram2dcontour\": [{\"colorbar\": {\"outlinewidth\": 0, \"ticks\": \"\"}, \"colorscale\": [[0.0, \"#0d0887\"], [0.1111111111111111, \"#46039f\"], [0.2222222222222222, \"#7201a8\"], [0.3333333333333333, \"#9c179e\"], [0.4444444444444444, \"#bd3786\"], [0.5555555555555556, \"#d8576b\"], [0.6666666666666666, \"#ed7953\"], [0.7777777777777778, \"#fb9f3a\"], [0.8888888888888888, \"#fdca26\"], [1.0, \"#f0f921\"]], \"type\": \"histogram2dcontour\"}], \"mesh3d\": [{\"colorbar\": {\"outlinewidth\": 0, \"ticks\": \"\"}, \"type\": \"mesh3d\"}], \"parcoords\": [{\"line\": {\"colorbar\": {\"outlinewidth\": 0, \"ticks\": \"\"}}, \"type\": \"parcoords\"}], \"pie\": [{\"automargin\": true, \"type\": \"pie\"}], \"scatter\": [{\"marker\": {\"colorbar\": {\"outlinewidth\": 0, \"ticks\": \"\"}}, \"type\": \"scatter\"}], \"scatter3d\": [{\"line\": {\"colorbar\": {\"outlinewidth\": 0, \"ticks\": \"\"}}, \"marker\": {\"colorbar\": {\"outlinewidth\": 0, \"ticks\": \"\"}}, \"type\": \"scatter3d\"}], \"scattercarpet\": [{\"marker\": {\"colorbar\": {\"outlinewidth\": 0, \"ticks\": \"\"}}, \"type\": \"scattercarpet\"}], \"scattergeo\": [{\"marker\": {\"colorbar\": {\"outlinewidth\": 0, \"ticks\": \"\"}}, \"type\": \"scattergeo\"}], \"scattergl\": [{\"marker\": {\"colorbar\": {\"outlinewidth\": 0, \"ticks\": \"\"}}, \"type\": \"scattergl\"}], \"scattermapbox\": [{\"marker\": {\"colorbar\": {\"outlinewidth\": 0, \"ticks\": \"\"}}, \"type\": \"scattermapbox\"}], \"scatterpolar\": [{\"marker\": {\"colorbar\": {\"outlinewidth\": 0, \"ticks\": \"\"}}, \"type\": \"scatterpolar\"}], \"scatterpolargl\": [{\"marker\": {\"colorbar\": {\"outlinewidth\": 0, \"ticks\": \"\"}}, \"type\": \"scatterpolargl\"}], \"scatterternary\": [{\"marker\": {\"colorbar\": {\"outlinewidth\": 0, \"ticks\": \"\"}}, \"type\": \"scatterternary\"}], \"surface\": [{\"colorbar\": {\"outlinewidth\": 0, \"ticks\": \"\"}, \"colorscale\": [[0.0, \"#0d0887\"], [0.1111111111111111, \"#46039f\"], [0.2222222222222222, \"#7201a8\"], [0.3333333333333333, \"#9c179e\"], [0.4444444444444444, \"#bd3786\"], [0.5555555555555556, \"#d8576b\"], [0.6666666666666666, \"#ed7953\"], [0.7777777777777778, \"#fb9f3a\"], [0.8888888888888888, \"#fdca26\"], [1.0, \"#f0f921\"]], \"type\": \"surface\"}], \"table\": [{\"cells\": {\"fill\": {\"color\": \"#EBF0F8\"}, \"line\": {\"color\": \"white\"}}, \"header\": {\"fill\": {\"color\": \"#C8D4E3\"}, \"line\": {\"color\": \"white\"}}, \"type\": \"table\"}]}, \"layout\": {\"annotationdefaults\": {\"arrowcolor\": \"#2a3f5f\", \"arrowhead\": 0, \"arrowwidth\": 1}, \"coloraxis\": {\"colorbar\": {\"outlinewidth\": 0, \"ticks\": \"\"}}, \"colorscale\": {\"diverging\": [[0, \"#8e0152\"], [0.1, \"#c51b7d\"], [0.2, \"#de77ae\"], [0.3, \"#f1b6da\"], [0.4, \"#fde0ef\"], [0.5, \"#f7f7f7\"], [0.6, \"#e6f5d0\"], [0.7, \"#b8e186\"], [0.8, \"#7fbc41\"], [0.9, \"#4d9221\"], [1, \"#276419\"]], \"sequential\": [[0.0, \"#0d0887\"], [0.1111111111111111, \"#46039f\"], [0.2222222222222222, \"#7201a8\"], [0.3333333333333333, \"#9c179e\"], [0.4444444444444444, \"#bd3786\"], [0.5555555555555556, \"#d8576b\"], [0.6666666666666666, \"#ed7953\"], [0.7777777777777778, \"#fb9f3a\"], [0.8888888888888888, \"#fdca26\"], [1.0, \"#f0f921\"]], \"sequentialminus\": [[0.0, \"#0d0887\"], [0.1111111111111111, \"#46039f\"], [0.2222222222222222, \"#7201a8\"], [0.3333333333333333, \"#9c179e\"], [0.4444444444444444, \"#bd3786\"], [0.5555555555555556, \"#d8576b\"], [0.6666666666666666, \"#ed7953\"], [0.7777777777777778, \"#fb9f3a\"], [0.8888888888888888, \"#fdca26\"], [1.0, \"#f0f921\"]]}, \"colorway\": [\"#636efa\", \"#EF553B\", \"#00cc96\", \"#ab63fa\", \"#FFA15A\", \"#19d3f3\", \"#FF6692\", \"#B6E880\", \"#FF97FF\", \"#FECB52\"], \"font\": {\"color\": \"#2a3f5f\"}, \"geo\": {\"bgcolor\": \"white\", \"lakecolor\": \"white\", \"landcolor\": \"#E5ECF6\", \"showlakes\": true, \"showland\": true, \"subunitcolor\": \"white\"}, \"hoverlabel\": {\"align\": \"left\"}, \"hovermode\": \"closest\", \"mapbox\": {\"style\": \"light\"}, \"paper_bgcolor\": \"white\", \"plot_bgcolor\": \"#E5ECF6\", \"polar\": {\"angularaxis\": {\"gridcolor\": \"white\", \"linecolor\": \"white\", \"ticks\": \"\"}, \"bgcolor\": \"#E5ECF6\", \"radialaxis\": {\"gridcolor\": \"white\", \"linecolor\": \"white\", \"ticks\": \"\"}}, \"scene\": {\"xaxis\": {\"backgroundcolor\": \"#E5ECF6\", \"gridcolor\": \"white\", \"gridwidth\": 2, \"linecolor\": \"white\", \"showbackground\": true, \"ticks\": \"\", \"zerolinecolor\": \"white\"}, \"yaxis\": {\"backgroundcolor\": \"#E5ECF6\", \"gridcolor\": \"white\", \"gridwidth\": 2, \"linecolor\": \"white\", \"showbackground\": true, \"ticks\": \"\", \"zerolinecolor\": \"white\"}, \"zaxis\": {\"backgroundcolor\": \"#E5ECF6\", \"gridcolor\": \"white\", \"gridwidth\": 2, \"linecolor\": \"white\", \"showbackground\": true, \"ticks\": \"\", \"zerolinecolor\": \"white\"}}, \"shapedefaults\": {\"line\": {\"color\": \"#2a3f5f\"}}, \"ternary\": {\"aaxis\": {\"gridcolor\": \"white\", \"linecolor\": \"white\", \"ticks\": \"\"}, \"baxis\": {\"gridcolor\": \"white\", \"linecolor\": \"white\", \"ticks\": \"\"}, \"bgcolor\": \"#E5ECF6\", \"caxis\": {\"gridcolor\": \"white\", \"linecolor\": \"white\", \"ticks\": \"\"}}, \"title\": {\"x\": 0.05}, \"xaxis\": {\"automargin\": true, \"gridcolor\": \"white\", \"linecolor\": \"white\", \"ticks\": \"\", \"title\": {\"standoff\": 15}, \"zerolinecolor\": \"white\", \"zerolinewidth\": 2}, \"yaxis\": {\"automargin\": true, \"gridcolor\": \"white\", \"linecolor\": \"white\", \"ticks\": \"\", \"title\": {\"standoff\": 15}, \"zerolinecolor\": \"white\", \"zerolinewidth\": 2}}}, \"title\": {\"font\": {\"color\": \"#4D5663\"}}, \"xaxis\": {\"anchor\": \"y\", \"domain\": [0.0, 0.2125], \"gridcolor\": \"#E1E5ED\", \"showgrid\": false, \"tickfont\": {\"color\": \"#4D5663\"}, \"title\": {\"font\": {\"color\": \"#4D5663\"}, \"text\": \"\"}, \"zerolinecolor\": \"#E1E5ED\"}, \"xaxis10\": {\"anchor\": \"y10\", \"domain\": [0.2625, 0.475], \"gridcolor\": \"#E1E5ED\", \"showgrid\": false, \"tickfont\": {\"color\": \"#4D5663\"}, \"title\": {\"font\": {\"color\": \"#4D5663\"}, \"text\": \"\"}, \"zerolinecolor\": \"#E1E5ED\"}, \"xaxis11\": {\"anchor\": \"y11\", \"domain\": [0.525, 0.7375], \"gridcolor\": \"#E1E5ED\", \"showgrid\": false, \"tickfont\": {\"color\": \"#4D5663\"}, \"title\": {\"font\": {\"color\": \"#4D5663\"}, \"text\": \"\"}, \"zerolinecolor\": \"#E1E5ED\"}, \"xaxis12\": {\"anchor\": \"y12\", \"domain\": [0.7875, 1.0], \"gridcolor\": \"#E1E5ED\", \"showgrid\": false, \"tickfont\": {\"color\": \"#4D5663\"}, \"title\": {\"font\": {\"color\": \"#4D5663\"}, \"text\": \"\"}, \"zerolinecolor\": \"#E1E5ED\"}, \"xaxis13\": {\"anchor\": \"y13\", \"domain\": [0.0, 0.2125], \"gridcolor\": \"#E1E5ED\", \"showgrid\": false, \"tickfont\": {\"color\": \"#4D5663\"}, \"title\": {\"font\": {\"color\": \"#4D5663\"}, \"text\": \"\"}, \"zerolinecolor\": \"#E1E5ED\"}, \"xaxis14\": {\"anchor\": \"y14\", \"domain\": [0.2625, 0.475], \"gridcolor\": \"#E1E5ED\", \"showgrid\": false, \"tickfont\": {\"color\": \"#4D5663\"}, \"title\": {\"font\": {\"color\": \"#4D5663\"}, \"text\": \"\"}, \"zerolinecolor\": \"#E1E5ED\"}, \"xaxis15\": {\"anchor\": \"y15\", \"domain\": [0.525, 0.7375], \"gridcolor\": \"#E1E5ED\", \"showgrid\": false, \"tickfont\": {\"color\": \"#4D5663\"}, \"title\": {\"font\": {\"color\": \"#4D5663\"}, \"text\": \"\"}, \"zerolinecolor\": \"#E1E5ED\"}, \"xaxis16\": {\"anchor\": \"y16\", \"domain\": [0.7875, 1.0], \"gridcolor\": \"#E1E5ED\", \"showgrid\": false, \"tickfont\": {\"color\": \"#4D5663\"}, \"title\": {\"font\": {\"color\": \"#4D5663\"}, \"text\": \"\"}, \"zerolinecolor\": \"#E1E5ED\"}, \"xaxis2\": {\"anchor\": \"y2\", \"domain\": [0.2625, 0.475], \"gridcolor\": \"#E1E5ED\", \"showgrid\": false, \"tickfont\": {\"color\": \"#4D5663\"}, \"title\": {\"font\": {\"color\": \"#4D5663\"}, \"text\": \"\"}, \"zerolinecolor\": \"#E1E5ED\"}, \"xaxis3\": {\"anchor\": \"y3\", \"domain\": [0.525, 0.7375], \"gridcolor\": \"#E1E5ED\", \"showgrid\": false, \"tickfont\": {\"color\": \"#4D5663\"}, \"title\": {\"font\": {\"color\": \"#4D5663\"}, \"text\": \"\"}, \"zerolinecolor\": \"#E1E5ED\"}, \"xaxis4\": {\"anchor\": \"y4\", \"domain\": [0.7875, 1.0], \"gridcolor\": \"#E1E5ED\", \"showgrid\": false, \"tickfont\": {\"color\": \"#4D5663\"}, \"title\": {\"font\": {\"color\": \"#4D5663\"}, \"text\": \"\"}, \"zerolinecolor\": \"#E1E5ED\"}, \"xaxis5\": {\"anchor\": \"y5\", \"domain\": [0.0, 0.2125], \"gridcolor\": \"#E1E5ED\", \"showgrid\": false, \"tickfont\": {\"color\": \"#4D5663\"}, \"title\": {\"font\": {\"color\": \"#4D5663\"}, \"text\": \"\"}, \"zerolinecolor\": \"#E1E5ED\"}, \"xaxis6\": {\"anchor\": \"y6\", \"domain\": [0.2625, 0.475], \"gridcolor\": \"#E1E5ED\", \"showgrid\": false, \"tickfont\": {\"color\": \"#4D5663\"}, \"title\": {\"font\": {\"color\": \"#4D5663\"}, \"text\": \"\"}, \"zerolinecolor\": \"#E1E5ED\"}, \"xaxis7\": {\"anchor\": \"y7\", \"domain\": [0.525, 0.7375], \"gridcolor\": \"#E1E5ED\", \"showgrid\": false, \"tickfont\": {\"color\": \"#4D5663\"}, \"title\": {\"font\": {\"color\": \"#4D5663\"}, \"text\": \"\"}, \"zerolinecolor\": \"#E1E5ED\"}, \"xaxis8\": {\"anchor\": \"y8\", \"domain\": [0.7875, 1.0], \"gridcolor\": \"#E1E5ED\", \"showgrid\": false, \"tickfont\": {\"color\": \"#4D5663\"}, \"title\": {\"font\": {\"color\": \"#4D5663\"}, \"text\": \"\"}, \"zerolinecolor\": \"#E1E5ED\"}, \"xaxis9\": {\"anchor\": \"y9\", \"domain\": [0.0, 0.2125], \"gridcolor\": \"#E1E5ED\", \"showgrid\": false, \"tickfont\": {\"color\": \"#4D5663\"}, \"title\": {\"font\": {\"color\": \"#4D5663\"}, \"text\": \"\"}, \"zerolinecolor\": \"#E1E5ED\"}, \"yaxis\": {\"anchor\": \"x\", \"domain\": [0.8025, 1.0], \"gridcolor\": \"#E1E5ED\", \"showgrid\": false, \"tickfont\": {\"color\": \"#4D5663\"}, \"title\": {\"font\": {\"color\": \"#4D5663\"}, \"text\": \"\"}, \"zerolinecolor\": \"#E1E5ED\"}, \"yaxis10\": {\"anchor\": \"x10\", \"domain\": [0.2675, 0.465], \"gridcolor\": \"#E1E5ED\", \"showgrid\": false, \"tickfont\": {\"color\": \"#4D5663\"}, \"title\": {\"font\": {\"color\": \"#4D5663\"}, \"text\": \"\"}, \"zerolinecolor\": \"#E1E5ED\"}, \"yaxis11\": {\"anchor\": \"x11\", \"domain\": [0.2675, 0.465], \"gridcolor\": \"#E1E5ED\", \"showgrid\": false, \"tickfont\": {\"color\": \"#4D5663\"}, \"title\": {\"font\": {\"color\": \"#4D5663\"}, \"text\": \"\"}, \"zerolinecolor\": \"#E1E5ED\"}, \"yaxis12\": {\"anchor\": \"x12\", \"domain\": [0.2675, 0.465], \"gridcolor\": \"#E1E5ED\", \"showgrid\": false, \"tickfont\": {\"color\": \"#4D5663\"}, \"title\": {\"font\": {\"color\": \"#4D5663\"}, \"text\": \"\"}, \"zerolinecolor\": \"#E1E5ED\"}, \"yaxis13\": {\"anchor\": \"x13\", \"domain\": [0.0, 0.1975], \"gridcolor\": \"#E1E5ED\", \"showgrid\": false, \"tickfont\": {\"color\": \"#4D5663\"}, \"title\": {\"font\": {\"color\": \"#4D5663\"}, \"text\": \"\"}, \"zerolinecolor\": \"#E1E5ED\"}, \"yaxis14\": {\"anchor\": \"x14\", \"domain\": [0.0, 0.1975], \"gridcolor\": \"#E1E5ED\", \"showgrid\": false, \"tickfont\": {\"color\": \"#4D5663\"}, \"title\": {\"font\": {\"color\": \"#4D5663\"}, \"text\": \"\"}, \"zerolinecolor\": \"#E1E5ED\"}, \"yaxis15\": {\"anchor\": \"x15\", \"domain\": [0.0, 0.1975], \"gridcolor\": \"#E1E5ED\", \"showgrid\": false, \"tickfont\": {\"color\": \"#4D5663\"}, \"title\": {\"font\": {\"color\": \"#4D5663\"}, \"text\": \"\"}, \"zerolinecolor\": \"#E1E5ED\"}, \"yaxis16\": {\"anchor\": \"x16\", \"domain\": [0.0, 0.1975], \"gridcolor\": \"#E1E5ED\", \"showgrid\": false, \"tickfont\": {\"color\": \"#4D5663\"}, \"title\": {\"font\": {\"color\": \"#4D5663\"}, \"text\": \"\"}, \"zerolinecolor\": \"#E1E5ED\"}, \"yaxis2\": {\"anchor\": \"x2\", \"domain\": [0.8025, 1.0], \"gridcolor\": \"#E1E5ED\", \"showgrid\": false, \"tickfont\": {\"color\": \"#4D5663\"}, \"title\": {\"font\": {\"color\": \"#4D5663\"}, \"text\": \"\"}, \"zerolinecolor\": \"#E1E5ED\"}, \"yaxis3\": {\"anchor\": \"x3\", \"domain\": [0.8025, 1.0], \"gridcolor\": \"#E1E5ED\", \"showgrid\": false, \"tickfont\": {\"color\": \"#4D5663\"}, \"title\": {\"font\": {\"color\": \"#4D5663\"}, \"text\": \"\"}, \"zerolinecolor\": \"#E1E5ED\"}, \"yaxis4\": {\"anchor\": \"x4\", \"domain\": [0.8025, 1.0], \"gridcolor\": \"#E1E5ED\", \"showgrid\": false, \"tickfont\": {\"color\": \"#4D5663\"}, \"title\": {\"font\": {\"color\": \"#4D5663\"}, \"text\": \"\"}, \"zerolinecolor\": \"#E1E5ED\"}, \"yaxis5\": {\"anchor\": \"x5\", \"domain\": [0.535, 0.7325], \"gridcolor\": \"#E1E5ED\", \"showgrid\": false, \"tickfont\": {\"color\": \"#4D5663\"}, \"title\": {\"font\": {\"color\": \"#4D5663\"}, \"text\": \"\"}, \"zerolinecolor\": \"#E1E5ED\"}, \"yaxis6\": {\"anchor\": \"x6\", \"domain\": [0.535, 0.7325], \"gridcolor\": \"#E1E5ED\", \"showgrid\": false, \"tickfont\": {\"color\": \"#4D5663\"}, \"title\": {\"font\": {\"color\": \"#4D5663\"}, \"text\": \"\"}, \"zerolinecolor\": \"#E1E5ED\"}, \"yaxis7\": {\"anchor\": \"x7\", \"domain\": [0.535, 0.7325], \"gridcolor\": \"#E1E5ED\", \"showgrid\": false, \"tickfont\": {\"color\": \"#4D5663\"}, \"title\": {\"font\": {\"color\": \"#4D5663\"}, \"text\": \"\"}, \"zerolinecolor\": \"#E1E5ED\"}, \"yaxis8\": {\"anchor\": \"x8\", \"domain\": [0.535, 0.7325], \"gridcolor\": \"#E1E5ED\", \"showgrid\": false, \"tickfont\": {\"color\": \"#4D5663\"}, \"title\": {\"font\": {\"color\": \"#4D5663\"}, \"text\": \"\"}, \"zerolinecolor\": \"#E1E5ED\"}, \"yaxis9\": {\"anchor\": \"x9\", \"domain\": [0.2675, 0.465], \"gridcolor\": \"#E1E5ED\", \"showgrid\": false, \"tickfont\": {\"color\": \"#4D5663\"}, \"title\": {\"font\": {\"color\": \"#4D5663\"}, \"text\": \"\"}, \"zerolinecolor\": \"#E1E5ED\"}},\n",
       "                        {\"showLink\": true, \"linkText\": \"Export to plot.ly\", \"plotlyServerURL\": \"https://plot.ly\", \"responsive\": true}\n",
       "                    ).then(function(){\n",
       "                            \n",
       "var gd = document.getElementById('1d26426d-8c44-4718-b511-dd2e3a5cb15b');\n",
       "var x = new MutationObserver(function (mutations, observer) {{\n",
       "        var display = window.getComputedStyle(gd).display;\n",
       "        if (!display || display === 'none') {{\n",
       "            console.log([gd, 'removed!']);\n",
       "            Plotly.purge(gd);\n",
       "            observer.disconnect();\n",
       "        }}\n",
       "}});\n",
       "\n",
       "// Listen for the removal of the full notebook cells\n",
       "var notebookContainer = gd.closest('#notebook-container');\n",
       "if (notebookContainer) {{\n",
       "    x.observe(notebookContainer, {childList: true});\n",
       "}}\n",
       "\n",
       "// Listen for the clearing of the current output cell\n",
       "var outputEl = gd.closest('.output');\n",
       "if (outputEl) {{\n",
       "    x.observe(outputEl, {childList: true});\n",
       "}}\n",
       "\n",
       "                        })\n",
       "                };\n",
       "                });\n",
       "            </script>\n",
       "        </div>"
      ]
     },
     "metadata": {},
     "output_type": "display_data"
    }
   ],
   "source": [
    "df1.scatter_matrix()"
   ]
  },
  {
   "cell_type": "code",
   "execution_count": null,
   "metadata": {},
   "outputs": [],
   "source": []
  }
 ],
 "metadata": {
  "kernelspec": {
   "display_name": "Python 3",
   "language": "python",
   "name": "python3"
  },
  "language_info": {
   "codemirror_mode": {
    "name": "ipython",
    "version": 3
   },
   "file_extension": ".py",
   "mimetype": "text/x-python",
   "name": "python",
   "nbconvert_exporter": "python",
   "pygments_lexer": "ipython3",
   "version": "3.7.6"
  }
 },
 "nbformat": 4,
 "nbformat_minor": 4
}
